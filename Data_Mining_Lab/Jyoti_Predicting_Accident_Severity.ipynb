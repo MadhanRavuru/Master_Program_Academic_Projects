{
 "cells": [
  {
   "cell_type": "code",
   "execution_count": 22,
   "metadata": {},
   "outputs": [],
   "source": [
    "import pandas as pd\n",
    "import numpy as np\n",
    "from sklearn.ensemble import RandomForestClassifier\n",
    "from sklearn.model_selection import train_test_split\n",
    "from sklearn.preprocessing import LabelEncoder\n",
    "from sklearn.svm import SVC\n",
    "from sklearn.model_selection import cross_val_score\n",
    "import matplotlib.pyplot as plt\n",
    "from sklearn import metrics\n",
    "from collections import Counter\n",
    "from imblearn.under_sampling import RandomUnderSampler\n",
    "from sklearn.feature_selection import SelectFromModel"
   ]
  },
  {
   "cell_type": "code",
   "execution_count": 25,
   "metadata": {},
   "outputs": [
    {
     "name": "stderr",
     "output_type": "stream",
     "text": [
      "/Users/jyoti/anaconda3/lib/python3.7/site-packages/IPython/core/interactiveshell.py:3058: DtypeWarning: Columns (0,31) have mixed types. Specify dtype option on import or set low_memory=False.\n",
      "  interactivity=interactivity, compiler=compiler, result=result)\n",
      "/Users/jyoti/anaconda3/lib/python3.7/site-packages/IPython/core/interactiveshell.py:3058: DtypeWarning: Columns (0) have mixed types. Specify dtype option on import or set low_memory=False.\n",
      "  interactivity=interactivity, compiler=compiler, result=result)\n"
     ]
    }
   ],
   "source": [
    "df_uk_accidents = pd.read_csv('data/uk_accidents.csv', encoding = 'unicode_escape')\n",
    "df_uk_vehicles = pd.read_csv('data/uk_vehicles.csv', encoding = 'unicode_escape')\n",
    "df_uk_casualties = pd.read_csv('data/uk_casualties.csv', encoding = 'unicode_escape')\n",
    "df_uk_makes = pd.read_csv('data/Vehicle_Information.csv', usecols = [0, 10, 11, 19], encoding = 'unicode_escape')\n",
    "df_ratings = pd.read_csv('all_ratings.csv') "
   ]
  },
  {
   "cell_type": "code",
   "execution_count": 26,
   "metadata": {},
   "outputs": [],
   "source": [
    "# Appending makes and models to the UK vehicles DF\n",
    "if 'Vehicle_Make' not in df_uk_vehicles:\n",
    "    df_uk_vehicles = pd.merge(df_uk_vehicles, df_uk_makes, on = ['Accident_Index', 'Vehicle_Reference'], how='left')\n",
    "    \n",
    "# Rename vehicle make, model to follow the same convention\n",
    "df_uk_vehicles.rename(columns={'make': 'Vehicle_Make', 'model': 'Vehicle_Model'}, inplace = True)\n",
    "\n",
    "# Mapping numeric values to corresponding text\n",
    "df_uk_vehicles_map = {\n",
    "    'Sex_of_Driver': {-1: np.nan, 3: np.nan, 2: 'Female', 1: 'Male'},\n",
    "    'Age_Band_of_Driver': {-1: np.nan, 1: '0-5', 2: '6-10', 3: '11-15', 4: '16-20', 5: '21-25', 6: '26-35', 7: '36-45', 8: '46-55', 9: '56-65', 10: '66-75', 11: 'Over 75'}, \n",
    "    'Vehicle_Make': {'MISSING': np.nan},\n",
    "    'Vehicle_Model': {'MISSING': np.nan},\n",
    "    'Age_of_Vehicle': {-1: np.nan},\n",
    "    '1st_Point_of_Impact': {-1: np.nan, 1: 'Front', 2: 'Back', 3: 'Offside', 4: 'Nearside'},\n",
    "    'Vehicle_Manoeuvre': {-1: np.nan, 1: 'Reversing', 2: 'Parked', 3: 'Waiting to go - held up', 4: 'Slowing or stopping', 5: 'Moving off', 6: 'U-turn', 7: 'Turning left', 8: 'Waiting to turn left', 9: 'Turning right', 10: 'Waiting to turn right', 11: 'Changing lane to left', 12: 'Changing lane to right', 13: 'Overtaking moving vehicle – offside', 14: 'Overtaking static vehicle - offside', 15: 'Overtaking - nearside', 16: 'Going ahead left-hand bend', 17: 'Going ahead right-hand bend', 18: 'Going ahead other'},\n",
    "    'Vehicle_Type': {-1: np.nan, 90: np.nan, 1: 'Pedal cycle', 2: 'Motorcycle <=50cc', 3: 'Motorcycle <=125cc', 4: 'Motorcycle 125cc-500cc', 5: 'Motorcycle >500cc', 8: 'Taxi/Private hire car', 9: 'Car', 10: 'Minibus (8-16 seats)', 11: 'Bus (>=17 seats)', 16: 'Ridden horse', 17: 'Agricultural vehicle', 18: 'Tram', 19: 'Van <=3.5 t.', 20: 'Goods 3.5t.-7.5t', 21: 'Goods >=7.5 t.', 22: 'Mobility scooter', 23: 'Electric motorcycle', 97: 'Motorcycle - unknown cc', 98: 'Goods vehicle - unknown weight'},\n",
    "    'Vehicle_Location-Restricted_Lane': {-1: np.nan, 0: 'On main carriageway - not in restricted lane', 1: 'Tram/Light rail track', 2: 'Bus lane', 3:\t'Busway (including guided busway)', 4: 'Cycle lane (on main carriageway)', 5: 'Cycleway or shared use footway (not part of  main carriageway)', 6: 'On lay-by or hard shoulder', 7:\t'Entering lay-by or hard shoulder', 8:\t'Leaving lay-by or hard shoulder', 9: 'Footway (pavement)', 10:\t'Not on carriageway'},\n",
    "    'Junction_Location': {-1: np.nan, 0: 'Not at or within 20 metres of junction', 1:\t'Approaching junction or waiting/parked at junction approach', 2:\t'Cleared junction or waiting/parked at junction exit', 3:\t'Leaving roundabout', 4: 'Entering roundabout', 5: 'Leaving main road', 6: 'Entering main road', 7:\t'Entering from slip road', 8:\t'Mid Junction - on roundabout or on main road'},\n",
    "    'Skidding_and_Overturning': {-1: np.nan, 0: 'None', 1: 'Skidded', 2: 'Skidded and overturned', 3:\t'Jackknifed', 4: 'Jackknifed and overturned', 5: 'Overturned'},\n",
    "    'Hit_Object_in_Carriageway': {-1: np.nan, 11: np.nan, 0: 'None', 1: 'Previous accident', 2: 'Road works', 4: 'Parked vehicle', 5:\t'Bridge (roof)', 6:\t'Bridge (side)', 7:\t'Bollard or refuge', 8:\t'Open door of vehicle', 9: 'Central island of roundabout', 10: 'Kerb', 12: 'Any animal (except ridden horse)'}, \n",
    "    'Vehicle_Leaving_Carriageway': {-1: np.nan, 0: 'Did not leave carriageway', 1: 'Nearside', 2:\t'Nearside and rebounded', 3: 'Straight ahead at junction', 4: 'Offside on to central reservation', 5:\t'Offside on to centrl res + rebounded', 6: 'Offside - crossed central reservation', 7: 'Offside', 8: 'Offside and rebounded'},\n",
    "    'Hit_Object_off_Carriageway': {-1: np.nan, 10: np.nan, 0: 'None', 1: 'Road sign or traffic signal', 2: 'Lamp post', 3: 'Telegraph or electricity pole', 4: 'Tree', 5:\t'Bus stop or bus shelter', 6:\t'Central crash barrier', 7:\t'Near/Offside crash barrier', 8: 'Submerged in water', 9: 'Entered ditch', 11: 'Wall or fence'},\n",
    "    'Journey_Purpose_of_Driver' : {-1: np.nan, 5: np.nan, 6: np.nan, 15: np.nan, 1:\t'Journey as part of work', 2:\t'Commuting to/from work', 3: 'Taking pupil to/from school', 4: 'Pupil riding to/from school'},\n",
    "    'Age_of_Driver': {-1: np.nan},\n",
    "    'Engine_Capacity_(CC)': {-1: np.nan},\n",
    "    'Propulsion_Code': {-1: np.nan, 1: 'Petrol', 2: 'Heavy oil', 3: 'Electric', 4:\t'Steam', 5:\t'Gas', 6:\t'Petrol/Gas (LPG)', 7: 'Gas/Bi-fuel', 8: 'Hybrid electric', 9: 'Gas Diesel', 10: 'New fuel technology', 11:\t'Fuel cells', 12:\t'Electric diesel'},\n",
    "    'Driver_Home_Area_Type': {-1: np.nan, 1: 'Urban area', 2:\t'Small town', 3: 'Rural'}\n",
    "}\n",
    "\n",
    "df_uk_accidents_map = {\n",
    "    'Accident_Severity': {-1: np.nan, 1: 'Fatal', 2: 'Serious', 3: 'Slight'},\n",
    "    'Weather_Conditions': {-1: np.nan, 8: np.nan, 9: np.nan, 1: 'Fine no high winds', 2: 'Raining no high winds', 3: 'Snowing no high winds', 4: 'Fine + high winds', 5: 'Raining + high winds', 6: 'Snowing + high winds', 7: 'Fog or mist'},\n",
    "    'Light_Conditions': {-1: np.nan, 1: 'Daylight', 4: 'Darkness - lights lit', 5: 'Darkness - lights unlit', 6: 'Darkness - no lighting', 7: 'Darkness - lighting unknown'},\n",
    "    'Police_Force': {1:\t'Metropolitan Police', 3: 'Cumbria', 4:\t'Lancashire', 5: 'Merseyside', 6:\t'Greater Manchester', 7: 'Cheshire', 10: 'Northumbria', 11:\t'Durham', 12:\t'North Yorkshire', 13: 'West Yorkshire', 14: 'South Yorkshire', 16:\t'Humberside', 17:\t'Cleveland', 20: 'West Midlands', 21:\t'Staffordshire', 22: 'West Mercia', 23:\t'Warwickshire', 30: 'Derbyshire', 31:\t'Nottinghamshire', 32: 'Lincolnshire', 33:\t'Leicestershire', 34:\t'Northamptonshire', 35:\t'Cambridgeshire', 36:\t'Norfolk', 37: 'Suffolk', 40:\t'Bedfordshire', 41:\t'Hertfordshire', 42: 'Essex', 43:\t'Thames Valley', 44: 'Hampshire', 45:\t'Surrey', 46:\t'Kent', 47:\t'Sussex', 48:\t'City of London', 50:\t'Devon and Cornwall', 52:\t'Avon and Somerset', 53: 'Gloucestershire', 54:\t'Wiltshire', 55: 'Dorset', 60: 'North Wales', 61:\t'Gwent', 62: 'South Wales', 63:\t'Dyfed-Powys', 91: 'Northern', 92: 'Grampian', 93: 'Tayside', 94:\t'Fife', 95:\t'Lothian and Borders', 96: 'Central', 97:\t'Strathclyde', 98: 'Dumfries and Galloway'},\n",
    "    'Day_of_Week': {1: 'Sunday', 2: 'Monday', 3: 'Tuesday', 4: 'Wednesday', 5: 'Thursday', 6: 'Friday', 7: 'Saturday'},\n",
    "    '1st_Road_Class': {6: np.nan, 1: 'Motorway', 2: 'A(M)', 3:\t'A', 4:\t'B', 5: 'C'},\n",
    "    'Road_Type': {-1: np.nan, 9: np.nan, 1: 'Roundabout', 2: 'One way street', 3: 'Dual carriageway', 6: 'Single carriageway', 7: 'Slip road', 12: 'One way street/Slip road'},\n",
    "    'Junction_Detail': {-1: np.nan, 9: np.nan, 0: 'Not at junction or within 20 metres', 1:\t'Roundabout', 2: 'Mini-roundabout', 3: 'T or staggered junction', 5: 'Slip road', 6: 'Crossroads', 7: 'More than 4 arms (not roundabout)', 8:\t'Private drive or entrance'},\n",
    "    'Junction_Control': {-1: np.nan, 0:\t'Not at junction or within 20 metres', 1:\t'Authorised person', 2:\t'Auto traffic signal', 3:\t'Stop sign', 4:\t'Give way or uncontrolled'},\n",
    "    '2nd_Road_Class': {-1: np.nan, 6: np.nan, 0: 'Not at junction or within 20 metres', 1: 'Motorway', 2:\t'A(M)', 3: 'A', 4: 'B',\t5: 'C'},\n",
    "    'Pedestrian_Crossing-Human_Control': {-1: np.nan, 0: 'None within 50 metres', 1: 'Control by school crossing patrol', 2: 'Control by other authorised person'},\n",
    "    'Pedestrian_Crossing-Physical_Facilities': {-1: np.nan, 0: 'No physical crossing facilities within 50 metres', 1: 'Zebra', 4:\t'Pelican, puffin, toucan or similar non-junction pedestrian light crossing', 5:\t'Pedestrian phase at traffic signal junction', 7:\t'Footbridge or subway', 8: 'Central refuge'},\n",
    "    'Road_Surface_Conditions': {-1: np.nan, 1: 'Dry', 2: 'Wet or damp', 3: 'Snow', 4:\t'Frost or ice', 5: 'Flood over 3cm. deep', 6: 'Oil or diesel', 7:\t'Mud'},\n",
    "    'Special_Conditions_at_Site': {-1: np.nan, 0:\t'None', 1: 'Auto traffic signal - out', 2: 'Auto signal part defective', 3:\t'Road sign or marking defective or obscured', 4: 'Roadworks', 5: 'Road surface defective', 6:\t'Oil or diesel', 7: 'Mud'},\n",
    "    'Carriageway_Hazards': {-1: np.nan, 0: 'None', 1: 'Vehicle load on road', 2: 'Other object on road', 3:\t'Previous accident', 4:\t'Dog on road', 5:\t'Other animal on road', 6: 'Pedestrian in carriageway - not injured', 7: 'Any animal in carriageway (except ridden horse)'},\n",
    "    'Urban_or_Rural_Area': {3: np.nan, 1: 'Urban', 2:\t'Rural'},\n",
    "    'Did_Police_Officer_Attend_Scene_of_Accident': {-1: np.nan, 1: 'Yes', 2: 'No', 3: 'No - accident was reported using a self completion  form (self rep only)'}\n",
    "}\n",
    "\n",
    "df_uk_casualties_map = {\n",
    "    'Casualty_Severity': {-1: np.nan, 1: 'Fatal', 2: 'Serious', 3: 'Slight'},\n",
    "    'Sex_of_Casualty': {-1: np.nan, 3: np.nan, 2: 'Female', 1: 'Male'},\n",
    "    'Casualty_Class': {-1: np.nan, 1: 'Driver or rider', 2: 'Passenger', 3: 'Pedestrian'},\n",
    "    'Age_of_Casualty': {-1: np.nan },\n",
    "    'Age_Band_of_Casualty': {-1: np.nan, 1: '0-5', 2: '6-10', 3: '11-15', 4: '16-20', 5: '21-25', 6: '26-35', 7: '36-45', 8: '46-55', 9: '56-65', 10: '66-75', 11: 'Over 75'},\n",
    "    'Pedestrian_Location': {-1: np.nan, 10: np.nan, 0: 'Not a Pedestrian', 1:\t'Crossing on pedestrian crossing facility', 2: 'Crossing in zig-zag approach lines', 3: 'Crossing in zig-zag exit lines', 4: 'Crossing elsewhere within 50m. of pedestrian crossing', 5: 'In carriageway, crossing elsewhere', 6:\t'On footway or verge', 7:\t'On refuge, central island or central reservation', 8: 'In centre of carriageway - not on refuge, island or central reservation', 9: 'In carriageway, not crossing'},\n",
    "    'Pedestrian_Movement': {-1: np.nan, 9: np.nan, 0:\t'Not a Pedestrian', 1: 'Crossing from driver nearside', 2: 'Crossing from nearside - masked by parked or stationary vehicle', 3: 'Crossing from driver offside', 4: 'Crossing from offside - masked by  parked or stationary vehicle', 5: 'In carriageway, stationary - not crossing  (standing or playing)', 6: 'In carriageway, stationary - not crossing  (standing or playing) - masked by parked or stationary vehicle', 7: 'Walking along in carriageway, facing traffic', 8:\t'Walking along in carriageway, back to traffic'},\n",
    "    'Car_Passenger': {-1: np.nan, 0: 'Not car passenger', 1: 'Front seat passenger', 2:\t'Rear seat passenger'},\n",
    "    'Bus_or_Coach_Passenger': {-1: np.nan, 0: 'Not a bus or coach passenger', 1: 'Boarding', 2:\t'Alighting', 3:\t'Standing passenger', 4: 'Seated passenger'},\n",
    "    'Pedestrian_Road_Maintenance_Worker': {-1: np.nan, 2: np.nan, 0: 'No / Not applicable', 1: 'Yes'},\n",
    "    'Casualty_Type': {-1:np.nan, 0:\t'Pedestrian', 1: 'Cyclist', 2: 'Motorcycle 50cc and under rider or passenger', 3: 'Motorcycle 125cc and under rider or passenger', 4:\t'Motorcycle over 125cc and up to 500cc rider or  passenger', 5:\t'Motorcycle over 500cc rider or passenger', 8: 'Taxi/Private hire car occupant', 9:\t'Car occupant', 10:\t'Minibus (8 - 16 passenger seats) occupant', 11: 'Bus or coach occupant (17 or more pass seats)', 16:\t'Horse rider', 17: 'Agricultural vehicle occupant', 18:\t'Tram occupant', 19: 'Van / Goods vehicle (3.5 tonnes mgw or under) occupant', 20: 'Goods vehicle (over 3.5t. and under 7.5t.) occupant', 21:\t'Goods vehicle (7.5 tonnes mgw and over) occupant', 22:\t'Mobility scooter rider', 23:\t'Electric motorcycle rider or passenger', 90:\t'Other vehicle occupant', 97:\t'Motorcycle - unknown cc rider or passenger', 98: 'Goods vehicle (unknown weight) occupant'}\n",
    "}\n",
    "\n",
    "for key in df_uk_vehicles_map:\n",
    "    for old_value in df_uk_vehicles_map[key]:\n",
    "        df_uk_vehicles[key] = df_uk_vehicles[key].replace(old_value, df_uk_vehicles_map[key][old_value])\n",
    "for key in df_uk_accidents_map:\n",
    "    for old_value in df_uk_accidents_map[key]:\n",
    "        df_uk_accidents[key] = df_uk_accidents[key].replace(old_value, df_uk_accidents_map[key][old_value])\n",
    "for key in df_uk_casualties_map:\n",
    "    for old_value in df_uk_casualties_map[key]:\n",
    "        df_uk_casualties[key] = df_uk_casualties[key].replace(old_value, df_uk_casualties_map[key][old_value])\n",
    "\n",
    "# Converting UK Accident_Index to string\n",
    "df_uk_vehicles.Accident_Index = df_uk_vehicles.Accident_Index.astype(str)\n",
    "df_uk_accidents.Accident_Index = df_uk_accidents.Accident_Index.astype(str)\n",
    "df_uk_casualties.Accident_Index = df_uk_casualties.Accident_Index.astype(str)\n",
    "\n",
    "# Converting UK number columns to floats\n",
    "df_uk_vehicles.Age_of_Vehicle = df_uk_vehicles.Age_of_Vehicle.astype(float)\n",
    "\n",
    "# Calculating vehicle year from age_of_vehicle and accident date\n",
    "if 'Vehicle_Year' not in df_uk_vehicles:\n",
    "    df_uk_vehicles = pd.merge(df_uk_vehicles, df_uk_accidents[['Accident_Index','Date']], on = ['Accident_Index'], how='left')\n",
    "    df_uk_vehicles['Vehicle_Year'] = df_uk_vehicles.Date.str.extract(r'([0-9][0-9][0-9][0-9])', expand=True)\n",
    "    df_uk_vehicles['Vehicle_Year'] = df_uk_vehicles['Vehicle_Year'].astype(float)\n",
    "    df_uk_vehicles['Vehicle_Year'] = df_uk_vehicles['Vehicle_Year'] - df_uk_vehicles.Age_of_Vehicle  \n",
    "    \n",
    "# Dropping unneccessary columns\n",
    "df_uk_vehicles.drop(columns = ['Date', 'Towing_and_Articulation', 'Was_Vehicle_Left_Hand_Drive?', 'Driver_IMD_Decile', 'Vehicle_IMD_Decile'], inplace = True, errors = 'ignore')\n",
    "df_uk_accidents.drop(columns = ['Local_Authority_(District)', 'Local_Authority_(Highway)', 'LSOA_of_Accident_Location'], inplace = True, errors = 'ignore')\n",
    "df_uk_casualties.drop(columns = ['Casualty_Home_Area_Type', 'Casualty_IMD_Decile'], inplace = True, errors = 'ignore')"
   ]
  },
  {
   "cell_type": "code",
   "execution_count": 27,
   "metadata": {},
   "outputs": [],
   "source": [
    "cols = ['OVERALL_STARS', 'OVERALL_FRNT_STARS', 'FRNT_DRIV_STARS', 'FRNT_PASS_STARS', 'OVERALL_SIDE_STARS', \n",
    "        'SIDE_DRIV_STARS', 'SIDE_PASS_STARS', 'ROLLOVER_STARS', 'ROLLOVER_STARS_2', 'ROLLOVER_POSSIBILITY',\n",
    "        'ROLLOVER_POSSIBILITY_2', 'SIDE_POLE_STARS', 'MODEL_YR', 'MAKE', 'MODEL']\n",
    "rating_cols = ['OVERALL_STARS', 'OVERALL_FRNT_STARS', 'FRNT_DRIV_STARS', 'FRNT_PASS_STARS', 'OVERALL_SIDE_STARS', \n",
    "                'SIDE_DRIV_STARS', 'SIDE_PASS_STARS', 'ROLLOVER_STARS', 'ROLLOVER_STARS_2', 'SIDE_POLE_STARS']\n",
    "df_rating = df_ratings[cols]\n",
    "df_rating = df_rating.replace({'Not Rated': np.nan})\n",
    "df_rating[rating_cols] = df_rating[rating_cols].astype(float)\n",
    "    \n",
    "df_rating['OVERALL_STARS'].fillna(round(df_rating[rating_cols].mean(axis=1), 0), inplace=True)\n",
    "df_rating['OVERALL_FRNT_STARS'].fillna(round(df_rating[['FRNT_DRIV_STARS', 'FRNT_PASS_STARS']].mean(axis=1), 0), \n",
    "                                       inplace=True)\n",
    "df_rating['OVERALL_SIDE_STARS'].fillna(round(df_rating[['SIDE_DRIV_STARS', 'SIDE_PASS_STARS']].mean(axis=1), 0), \n",
    "                                       inplace=True)"
   ]
  },
  {
   "cell_type": "code",
   "execution_count": 28,
   "metadata": {},
   "outputs": [
    {
     "data": {
      "text/plain": [
       "Index(['Accident_Index', 'Accident_Severity', 'Number_of_Vehicles',\n",
       "       'Number_of_Casualties', 'Date', 'Day_of_Week', 'Time', '1st_Road_Class',\n",
       "       'Road_Type', 'Speed_limit', 'Light_Conditions', 'Weather_Conditions',\n",
       "       'Road_Surface_Conditions', 'Special_Conditions_at_Site',\n",
       "       'Carriageway_Hazards', 'Urban_or_Rural_Area', 'Vehicle_Reference',\n",
       "       'Vehicle_Type', 'Vehicle_Manoeuvre', 'Skidding_and_Overturning',\n",
       "       'Hit_Object_in_Carriageway', 'Hit_Object_off_Carriageway',\n",
       "       '1st_Point_of_Impact', 'Engine_Capacity_(CC)', 'Propulsion_Code',\n",
       "       'Age_of_Vehicle', 'MAKE', 'MODEL', 'MODEL_YR', 'Sex_of_Driver',\n",
       "       'Age_Band_of_Driver', 'Casualty_Reference', 'Casualty_Class',\n",
       "       'Car_Passenger', 'OVERALL_STARS', 'OVERALL_FRNT_STARS',\n",
       "       'OVERALL_SIDE_STARS'],\n",
       "      dtype='object')"
      ]
     },
     "execution_count": 28,
     "metadata": {},
     "output_type": "execute_result"
    }
   ],
   "source": [
    "# Merge data\n",
    "df = df_uk_accidents[['Accident_Index', 'Accident_Severity', 'Number_of_Vehicles', 'Number_of_Casualties', \n",
    "                    'Date', 'Day_of_Week', 'Time', '1st_Road_Class', 'Road_Type', 'Speed_limit', 'Light_Conditions',\n",
    "                    'Weather_Conditions', 'Road_Surface_Conditions', 'Special_Conditions_at_Site', \n",
    "                    'Carriageway_Hazards', 'Urban_or_Rural_Area']]\n",
    "df_veh = df_uk_vehicles[['Accident_Index', 'Vehicle_Reference', 'Vehicle_Type', 'Vehicle_Manoeuvre', \n",
    "                        'Skidding_and_Overturning', 'Hit_Object_in_Carriageway', 'Hit_Object_off_Carriageway',\n",
    "                        '1st_Point_of_Impact', 'Engine_Capacity_(CC)', 'Propulsion_Code', 'Age_of_Vehicle',\n",
    "                        'Vehicle_Make', 'Vehicle_Model', 'Vehicle_Year','Sex_of_Driver', 'Age_Band_of_Driver']]\n",
    "df_cas = df_uk_casualties[['Accident_Index', 'Vehicle_Reference', 'Casualty_Reference', 'Casualty_Class', 'Car_Passenger']]\n",
    "df = pd.merge(df, df_veh, on=['Accident_Index'], how='left')\n",
    "df = pd.merge(df, df_cas, on=['Accident_Index', 'Vehicle_Reference'], how='left')\n",
    "df = df.rename(columns={'Vehicle_Model': 'MODEL', 'Vehicle_Make': 'MAKE', 'Vehicle_Year': 'MODEL_YR'})\n",
    "df_stars = df_rating[['MODEL_YR', 'MAKE', 'MODEL', 'OVERALL_STARS', 'OVERALL_FRNT_STARS', 'OVERALL_SIDE_STARS']]\n",
    "df = pd.merge(df, df_stars, on=['MODEL', 'MAKE', 'MODEL_YR'], how='left')\n",
    "df.keys()"
   ]
  },
  {
   "cell_type": "code",
   "execution_count": 29,
   "metadata": {},
   "outputs": [],
   "source": [
    "df_uk = df[['Accident_Severity', 'Number_of_Vehicles','Number_of_Casualties', \n",
    "            'Day_of_Week','1st_Road_Class', 'Road_Type', 'Speed_limit', 'Light_Conditions', \n",
    "            'Weather_Conditions','Road_Surface_Conditions', 'Special_Conditions_at_Site',\n",
    "            'Carriageway_Hazards', 'Urban_or_Rural_Area',\n",
    "            'Vehicle_Type', 'Vehicle_Manoeuvre', 'Skidding_and_Overturning',\n",
    "            'Hit_Object_in_Carriageway', 'Hit_Object_off_Carriageway',\n",
    "            '1st_Point_of_Impact', 'Engine_Capacity_(CC)', 'Propulsion_Code',\n",
    "            'Age_of_Vehicle', 'Sex_of_Driver', 'Age_Band_of_Driver']]\n",
    "df_uk = df_uk.dropna()"
   ]
  },
  {
   "cell_type": "code",
   "execution_count": 59,
   "metadata": {},
   "outputs": [
    {
     "data": {
      "text/plain": [
       "(1786626, 24)"
      ]
     },
     "execution_count": 59,
     "metadata": {},
     "output_type": "execute_result"
    }
   ],
   "source": [
    "df_uk.shape"
   ]
  },
  {
   "cell_type": "markdown",
   "metadata": {},
   "source": [
    "## Random Forest - all 3 classes - unbalanced"
   ]
  },
  {
   "cell_type": "code",
   "execution_count": 20,
   "metadata": {},
   "outputs": [
    {
     "data": {
      "text/plain": [
       "[('Fatal', 1.8799121920312367),\n",
       " ('Slight', 84.52261413412768),\n",
       " ('Serious', 13.597473673841085)]"
      ]
     },
     "execution_count": 20,
     "metadata": {},
     "output_type": "execute_result"
    }
   ],
   "source": [
    "c = Counter(df_uk['Accident_Severity'])\n",
    "[(i, c[i] / len(df_uk['Accident_Severity']) * 100.0) for i in c]"
   ]
  },
  {
   "cell_type": "code",
   "execution_count": 31,
   "metadata": {},
   "outputs": [],
   "source": [
    "df_rf_3 = df_uk.copy()\n",
    "# some modifications for label encoding\n",
    "df_rf_3['Speed_limit'] = df_rf_3['Speed_limit'].astype(int)\n",
    "df_rf_3['Engine_Capacity_(CC)'] = df_rf_3['Engine_Capacity_(CC)'].astype(int)\n",
    "df_rf_3['Age_of_Vehicle'] = df_rf_3['Age_of_Vehicle'].astype(int)\n",
    "df_rf_3['1st_Point_of_Impact'] = df_rf_3['1st_Point_of_Impact'].replace(0.0, 'No impact')\n",
    "\n",
    "#Labelling categorical features\n",
    "lblE = LabelEncoder()\n",
    "for i in df_rf_3:\n",
    "    if df_rf_3[i].dtype == 'object':\n",
    "        lblE.fit(df_rf_3[i])\n",
    "        df_rf_3[i] = lblE.transform(df_rf_3[i])"
   ]
  },
  {
   "cell_type": "code",
   "execution_count": 56,
   "metadata": {},
   "outputs": [
    {
     "data": {
      "text/plain": [
       "[(0, 1.8799121920312367), (2, 84.52261413412768), (1, 13.597473673841085)]"
      ]
     },
     "execution_count": 56,
     "metadata": {},
     "output_type": "execute_result"
    }
   ],
   "source": [
    "c = Counter(df_rf_3['Accident_Severity'])\n",
    "[(i, c[i] / len(df_rf_3['Accident_Severity']) * 100.0) for i in c]"
   ]
  },
  {
   "cell_type": "code",
   "execution_count": 11,
   "metadata": {},
   "outputs": [
    {
     "data": {
      "text/plain": [
       "((1197039, 23), (589587, 23), (1197039,), (589587,))"
      ]
     },
     "execution_count": 11,
     "metadata": {},
     "output_type": "execute_result"
    }
   ],
   "source": [
    "X_train, X_test, y_train, y_test = train_test_split(df_rf_3.drop('Accident_Severity', axis=1), \n",
    "                                                    df_rf_3.Accident_Severity, test_size=0.33, random_state=42)\n",
    "X_train.shape, X_test.shape, y_train.shape, y_test.shape"
   ]
  },
  {
   "cell_type": "code",
   "execution_count": 12,
   "metadata": {},
   "outputs": [
    {
     "data": {
      "text/plain": [
       "RandomForestClassifier(bootstrap=True, ccp_alpha=0.0, class_weight=None,\n",
       "                       criterion='gini', max_depth=None, max_features='auto',\n",
       "                       max_leaf_nodes=None, max_samples=None,\n",
       "                       min_impurity_decrease=0.0, min_impurity_split=None,\n",
       "                       min_samples_leaf=1, min_samples_split=2,\n",
       "                       min_weight_fraction_leaf=0.0, n_estimators=50,\n",
       "                       n_jobs=None, oob_score=False, random_state=None,\n",
       "                       verbose=0, warm_start=False)"
      ]
     },
     "execution_count": 12,
     "metadata": {},
     "output_type": "execute_result"
    }
   ],
   "source": [
    "rf_3 = RandomForestClassifier(n_estimators=50)\n",
    "rf_3.fit(X_train, y_train)"
   ]
  },
  {
   "cell_type": "code",
   "execution_count": 13,
   "metadata": {},
   "outputs": [
    {
     "name": "stdout",
     "output_type": "stream",
     "text": [
      "Train score 0.99879619628099\n",
      "Test score 0.8784725579091804\n"
     ]
    }
   ],
   "source": [
    "print(\"Train score \"+ str(rf_3.score(X_train, y_train)))\n",
    "print(\"Test score \"+ str(rf_3.score(X_test, y_test)))"
   ]
  },
  {
   "cell_type": "code",
   "execution_count": 14,
   "metadata": {},
   "outputs": [
    {
     "name": "stdout",
     "output_type": "stream",
     "text": [
      "Average number of nodes 444205\n",
      "Average maximum depth 62\n"
     ]
    }
   ],
   "source": [
    "n_nodes = []\n",
    "max_depths = []\n",
    "\n",
    "for ind_tree in rf_3.estimators_:\n",
    "    n_nodes.append(ind_tree.tree_.node_count)\n",
    "    max_depths.append(ind_tree.tree_.max_depth)\n",
    "    \n",
    "print(f'Average number of nodes {int(np.mean(n_nodes))}')\n",
    "print(f'Average maximum depth {int(np.mean(max_depths))}')"
   ]
  },
  {
   "cell_type": "code",
   "execution_count": 15,
   "metadata": {},
   "outputs": [
    {
     "name": "stdout",
     "output_type": "stream",
     "text": [
      "[0.87449459 0.87432751 0.87449459 0.87451547 0.87420167]\n"
     ]
    }
   ],
   "source": [
    "accuracy_rf_3 = cross_val_score(rf_3, X_train, y_train, scoring='accuracy')\n",
    "print(accuracy_rf_3)"
   ]
  },
  {
   "cell_type": "code",
   "execution_count": 16,
   "metadata": {},
   "outputs": [
    {
     "name": "stdout",
     "output_type": "stream",
     "text": [
      "              precision    recall  f1-score   support\n",
      "\n",
      "           0       0.93      0.35      0.50     11127\n",
      "           1       0.76      0.28      0.41     80620\n",
      "           2       0.88      0.99      0.93    497840\n",
      "\n",
      "    accuracy                           0.88    589587\n",
      "   macro avg       0.86      0.54      0.61    589587\n",
      "weighted avg       0.87      0.88      0.85    589587\n",
      "\n"
     ]
    }
   ],
   "source": [
    "y_pred_rf_3 = rf_3.predict(X_test)\n",
    "print(metrics.classification_report(y_test, y_pred_rf_3))"
   ]
  },
  {
   "cell_type": "code",
   "execution_count": 17,
   "metadata": {},
   "outputs": [
    {
     "data": {
      "text/html": [
       "<div>\n",
       "<style scoped>\n",
       "    .dataframe tbody tr th:only-of-type {\n",
       "        vertical-align: middle;\n",
       "    }\n",
       "\n",
       "    .dataframe tbody tr th {\n",
       "        vertical-align: top;\n",
       "    }\n",
       "\n",
       "    .dataframe thead th {\n",
       "        text-align: right;\n",
       "    }\n",
       "</style>\n",
       "<table border=\"1\" class=\"dataframe\">\n",
       "  <thead>\n",
       "    <tr style=\"text-align: right;\">\n",
       "      <th></th>\n",
       "      <th>importance</th>\n",
       "    </tr>\n",
       "    <tr>\n",
       "      <th>features</th>\n",
       "      <th></th>\n",
       "    </tr>\n",
       "  </thead>\n",
       "  <tbody>\n",
       "    <tr>\n",
       "      <td>Engine_Capacity_(CC)</td>\n",
       "      <td>0.186107</td>\n",
       "    </tr>\n",
       "    <tr>\n",
       "      <td>Age_of_Vehicle</td>\n",
       "      <td>0.141839</td>\n",
       "    </tr>\n",
       "    <tr>\n",
       "      <td>Day_of_Week</td>\n",
       "      <td>0.094465</td>\n",
       "    </tr>\n",
       "    <tr>\n",
       "      <td>Age_Band_of_Driver</td>\n",
       "      <td>0.081881</td>\n",
       "    </tr>\n",
       "    <tr>\n",
       "      <td>Vehicle_Manoeuvre</td>\n",
       "      <td>0.061511</td>\n",
       "    </tr>\n",
       "    <tr>\n",
       "      <td>Number_of_Casualties</td>\n",
       "      <td>0.049805</td>\n",
       "    </tr>\n",
       "    <tr>\n",
       "      <td>1st_Point_of_Impact</td>\n",
       "      <td>0.047187</td>\n",
       "    </tr>\n",
       "    <tr>\n",
       "      <td>Number_of_Vehicles</td>\n",
       "      <td>0.043684</td>\n",
       "    </tr>\n",
       "    <tr>\n",
       "      <td>1st_Road_Class</td>\n",
       "      <td>0.038396</td>\n",
       "    </tr>\n",
       "    <tr>\n",
       "      <td>Speed_limit</td>\n",
       "      <td>0.033169</td>\n",
       "    </tr>\n",
       "    <tr>\n",
       "      <td>Vehicle_Type</td>\n",
       "      <td>0.022906</td>\n",
       "    </tr>\n",
       "    <tr>\n",
       "      <td>Road_Surface_Conditions</td>\n",
       "      <td>0.022885</td>\n",
       "    </tr>\n",
       "    <tr>\n",
       "      <td>Hit_Object_off_Carriageway</td>\n",
       "      <td>0.022286</td>\n",
       "    </tr>\n",
       "    <tr>\n",
       "      <td>Light_Conditions</td>\n",
       "      <td>0.021692</td>\n",
       "    </tr>\n",
       "    <tr>\n",
       "      <td>Weather_Conditions</td>\n",
       "      <td>0.021564</td>\n",
       "    </tr>\n",
       "    <tr>\n",
       "      <td>Skidding_and_Overturning</td>\n",
       "      <td>0.021014</td>\n",
       "    </tr>\n",
       "    <tr>\n",
       "      <td>Propulsion_Code</td>\n",
       "      <td>0.020173</td>\n",
       "    </tr>\n",
       "    <tr>\n",
       "      <td>Road_Type</td>\n",
       "      <td>0.018782</td>\n",
       "    </tr>\n",
       "    <tr>\n",
       "      <td>Sex_of_Driver</td>\n",
       "      <td>0.014667</td>\n",
       "    </tr>\n",
       "    <tr>\n",
       "      <td>Urban_or_Rural_Area</td>\n",
       "      <td>0.011938</td>\n",
       "    </tr>\n",
       "    <tr>\n",
       "      <td>Hit_Object_in_Carriageway</td>\n",
       "      <td>0.010474</td>\n",
       "    </tr>\n",
       "    <tr>\n",
       "      <td>Special_Conditions_at_Site</td>\n",
       "      <td>0.007871</td>\n",
       "    </tr>\n",
       "    <tr>\n",
       "      <td>Carriageway_Hazards</td>\n",
       "      <td>0.005705</td>\n",
       "    </tr>\n",
       "  </tbody>\n",
       "</table>\n",
       "</div>"
      ],
      "text/plain": [
       "                            importance\n",
       "features                              \n",
       "Engine_Capacity_(CC)          0.186107\n",
       "Age_of_Vehicle                0.141839\n",
       "Day_of_Week                   0.094465\n",
       "Age_Band_of_Driver            0.081881\n",
       "Vehicle_Manoeuvre             0.061511\n",
       "Number_of_Casualties          0.049805\n",
       "1st_Point_of_Impact           0.047187\n",
       "Number_of_Vehicles            0.043684\n",
       "1st_Road_Class                0.038396\n",
       "Speed_limit                   0.033169\n",
       "Vehicle_Type                  0.022906\n",
       "Road_Surface_Conditions       0.022885\n",
       "Hit_Object_off_Carriageway    0.022286\n",
       "Light_Conditions              0.021692\n",
       "Weather_Conditions            0.021564\n",
       "Skidding_and_Overturning      0.021014\n",
       "Propulsion_Code               0.020173\n",
       "Road_Type                     0.018782\n",
       "Sex_of_Driver                 0.014667\n",
       "Urban_or_Rural_Area           0.011938\n",
       "Hit_Object_in_Carriageway     0.010474\n",
       "Special_Conditions_at_Site    0.007871\n",
       "Carriageway_Hazards           0.005705"
      ]
     },
     "execution_count": 17,
     "metadata": {},
     "output_type": "execute_result"
    }
   ],
   "source": [
    "f_imp_3 = pd.DataFrame(data={'importance':rf_3.feature_importances_,'features':X_train.columns}).set_index('features')\n",
    "f_imp_3 = f_imp_3.sort_values('importance', ascending=False)\n",
    "f_imp_3"
   ]
  },
  {
   "cell_type": "markdown",
   "metadata": {},
   "source": [
    "## Random Forest - 2 classes slight, severe- unbalanced"
   ]
  },
  {
   "cell_type": "code",
   "execution_count": 57,
   "metadata": {},
   "outputs": [
    {
     "data": {
      "image/png": "[encoded data removed]",
      "text/plain": [
       "<Figure size 576x432 with 1 Axes>"
      ]
     },
     "metadata": {
      "needs_background": "light"
     },
     "output_type": "display_data"
    }
   ],
   "source": [
    "df_rf_2 = df_uk.copy()\n",
    "# some modifications for label encoding\n",
    "df_rf_2['Speed_limit'] = df_rf_2['Speed_limit'].astype(int)\n",
    "df_rf_2['Engine_Capacity_(CC)'] = df_rf_2['Engine_Capacity_(CC)'].astype(int)\n",
    "df_rf_2['Age_of_Vehicle'] = df_rf_2['Age_of_Vehicle'].astype(int)\n",
    "df_rf_2['1st_Point_of_Impact'] = df_rf_2['1st_Point_of_Impact'].replace(0.0, 'No impact')\n",
    "df_rf_2['Accident_Severity'] = df_rf_2['Accident_Severity'].replace('Serious', 'Severe')\n",
    "df_rf_2['Accident_Severity'] = df_rf_2['Accident_Severity'].replace('Fatal', 'Severe')"
   ]
  },
  {
   "cell_type": "code",
   "execution_count": 58,
   "metadata": {},
   "outputs": [
    {
     "data": {
      "text/plain": [
       "[('Severe', 15.47738586587232), ('Slight', 84.52261413412768)]"
      ]
     },
     "execution_count": 58,
     "metadata": {},
     "output_type": "execute_result"
    }
   ],
   "source": [
    "c = Counter(df_rf_2['Accident_Severity'])\n",
    "[(i, c[i] / len(df_rf_2['Accident_Severity']) * 100.0) for i in c]"
   ]
  },
  {
   "cell_type": "code",
   "execution_count": 33,
   "metadata": {},
   "outputs": [],
   "source": [
    "#Labelling categorical features\n",
    "lblE = LabelEncoder()\n",
    "for i in df_rf_2:\n",
    "    if df_rf_2[i].dtype == 'object':\n",
    "        lblE.fit(df_rf_2[i])\n",
    "        df_rf_2[i] = lblE.transform(df_rf_2[i])"
   ]
  },
  {
   "cell_type": "code",
   "execution_count": 34,
   "metadata": {},
   "outputs": [
    {
     "data": {
      "text/plain": [
       "((1197039, 23), (589587, 23), (1197039,), (589587,))"
      ]
     },
     "execution_count": 34,
     "metadata": {},
     "output_type": "execute_result"
    }
   ],
   "source": [
    "X_train_2, X_test_2, y_train_2, y_test_2 = train_test_split(df_rf_2.drop('Accident_Severity', axis=1), \n",
    "                                                    df_rf_2.Accident_Severity, test_size=0.33, random_state=42)\n",
    "X_train_2.shape, X_test_2.shape, y_train_2.shape, y_test_2.shape"
   ]
  },
  {
   "cell_type": "code",
   "execution_count": 21,
   "metadata": {},
   "outputs": [
    {
     "data": {
      "text/plain": [
       "RandomForestClassifier(bootstrap=True, ccp_alpha=0.0, class_weight=None,\n",
       "                       criterion='gini', max_depth=None, max_features='auto',\n",
       "                       max_leaf_nodes=None, max_samples=None,\n",
       "                       min_impurity_decrease=0.0, min_impurity_split=None,\n",
       "                       min_samples_leaf=1, min_samples_split=2,\n",
       "                       min_weight_fraction_leaf=0.0, n_estimators=50,\n",
       "                       n_jobs=None, oob_score=False, random_state=None,\n",
       "                       verbose=0, warm_start=False)"
      ]
     },
     "execution_count": 21,
     "metadata": {},
     "output_type": "execute_result"
    }
   ],
   "source": [
    "rf_2 = RandomForestClassifier(n_estimators=50)\n",
    "rf_2.fit(X_train_2, y_train_2)"
   ]
  },
  {
   "cell_type": "code",
   "execution_count": 22,
   "metadata": {},
   "outputs": [
    {
     "name": "stdout",
     "output_type": "stream",
     "text": [
      "Train score 0.9988271058837682\n",
      "Test score 0.8804603900696589\n"
     ]
    }
   ],
   "source": [
    "print(\"Train score \"+ str(rf_2.score(X_train_2, y_train_2)))\n",
    "print(\"Test score \"+ str(rf_2.score(X_test_2, y_test_2)))"
   ]
  },
  {
   "cell_type": "code",
   "execution_count": 23,
   "metadata": {},
   "outputs": [
    {
     "name": "stdout",
     "output_type": "stream",
     "text": [
      "Average number of nodes 431607\n",
      "Average maximum depth 62\n"
     ]
    }
   ],
   "source": [
    "n_nodes = []\n",
    "max_depths = []\n",
    "\n",
    "for ind_tree in rf_2.estimators_:\n",
    "    n_nodes.append(ind_tree.tree_.node_count)\n",
    "    max_depths.append(ind_tree.tree_.max_depth)\n",
    "    \n",
    "print(f'Average number of nodes {int(np.mean(n_nodes))}')\n",
    "print(f'Average maximum depth {int(np.mean(max_depths))}')"
   ]
  },
  {
   "cell_type": "code",
   "execution_count": 24,
   "metadata": {},
   "outputs": [
    {
     "name": "stdout",
     "output_type": "stream",
     "text": [
      "[0.87686293 0.87665826 0.87697571 0.87680445 0.87636535]\n"
     ]
    }
   ],
   "source": [
    "accuracy_rf_2 = cross_val_score(rf_2, X_train_2, y_train_2, scoring='accuracy')\n",
    "print(accuracy_rf_2)"
   ]
  },
  {
   "cell_type": "code",
   "execution_count": 25,
   "metadata": {},
   "outputs": [
    {
     "name": "stdout",
     "output_type": "stream",
     "text": [
      "              precision    recall  f1-score   support\n",
      "\n",
      "           0       0.78      0.32      0.45     91747\n",
      "           1       0.89      0.98      0.93    497840\n",
      "\n",
      "    accuracy                           0.88    589587\n",
      "   macro avg       0.84      0.65      0.69    589587\n",
      "weighted avg       0.87      0.88      0.86    589587\n",
      "\n"
     ]
    }
   ],
   "source": [
    "y_pred_rf_2 = rf_2.predict(X_test_2)\n",
    "print(metrics.classification_report(y_test_2, y_pred_rf_2))"
   ]
  },
  {
   "cell_type": "code",
   "execution_count": 26,
   "metadata": {},
   "outputs": [
    {
     "data": {
      "text/html": [
       "<div>\n",
       "<style scoped>\n",
       "    .dataframe tbody tr th:only-of-type {\n",
       "        vertical-align: middle;\n",
       "    }\n",
       "\n",
       "    .dataframe tbody tr th {\n",
       "        vertical-align: top;\n",
       "    }\n",
       "\n",
       "    .dataframe thead th {\n",
       "        text-align: right;\n",
       "    }\n",
       "</style>\n",
       "<table border=\"1\" class=\"dataframe\">\n",
       "  <thead>\n",
       "    <tr style=\"text-align: right;\">\n",
       "      <th></th>\n",
       "      <th>importance</th>\n",
       "    </tr>\n",
       "    <tr>\n",
       "      <th>features</th>\n",
       "      <th></th>\n",
       "    </tr>\n",
       "  </thead>\n",
       "  <tbody>\n",
       "    <tr>\n",
       "      <td>Engine_Capacity_(CC)</td>\n",
       "      <td>0.184384</td>\n",
       "    </tr>\n",
       "    <tr>\n",
       "      <td>Age_of_Vehicle</td>\n",
       "      <td>0.139076</td>\n",
       "    </tr>\n",
       "    <tr>\n",
       "      <td>Day_of_Week</td>\n",
       "      <td>0.092997</td>\n",
       "    </tr>\n",
       "    <tr>\n",
       "      <td>Age_Band_of_Driver</td>\n",
       "      <td>0.080100</td>\n",
       "    </tr>\n",
       "    <tr>\n",
       "      <td>Vehicle_Manoeuvre</td>\n",
       "      <td>0.061344</td>\n",
       "    </tr>\n",
       "    <tr>\n",
       "      <td>Number_of_Casualties</td>\n",
       "      <td>0.054449</td>\n",
       "    </tr>\n",
       "    <tr>\n",
       "      <td>1st_Point_of_Impact</td>\n",
       "      <td>0.046855</td>\n",
       "    </tr>\n",
       "    <tr>\n",
       "      <td>Number_of_Vehicles</td>\n",
       "      <td>0.041793</td>\n",
       "    </tr>\n",
       "    <tr>\n",
       "      <td>1st_Road_Class</td>\n",
       "      <td>0.038058</td>\n",
       "    </tr>\n",
       "    <tr>\n",
       "      <td>Speed_limit</td>\n",
       "      <td>0.035332</td>\n",
       "    </tr>\n",
       "    <tr>\n",
       "      <td>Vehicle_Type</td>\n",
       "      <td>0.024142</td>\n",
       "    </tr>\n",
       "    <tr>\n",
       "      <td>Hit_Object_off_Carriageway</td>\n",
       "      <td>0.022324</td>\n",
       "    </tr>\n",
       "    <tr>\n",
       "      <td>Road_Surface_Conditions</td>\n",
       "      <td>0.022238</td>\n",
       "    </tr>\n",
       "    <tr>\n",
       "      <td>Light_Conditions</td>\n",
       "      <td>0.022133</td>\n",
       "    </tr>\n",
       "    <tr>\n",
       "      <td>Weather_Conditions</td>\n",
       "      <td>0.021284</td>\n",
       "    </tr>\n",
       "    <tr>\n",
       "      <td>Skidding_and_Overturning</td>\n",
       "      <td>0.021189</td>\n",
       "    </tr>\n",
       "    <tr>\n",
       "      <td>Road_Type</td>\n",
       "      <td>0.020781</td>\n",
       "    </tr>\n",
       "    <tr>\n",
       "      <td>Propulsion_Code</td>\n",
       "      <td>0.019500</td>\n",
       "    </tr>\n",
       "    <tr>\n",
       "      <td>Urban_or_Rural_Area</td>\n",
       "      <td>0.014084</td>\n",
       "    </tr>\n",
       "    <tr>\n",
       "      <td>Sex_of_Driver</td>\n",
       "      <td>0.013899</td>\n",
       "    </tr>\n",
       "    <tr>\n",
       "      <td>Hit_Object_in_Carriageway</td>\n",
       "      <td>0.010679</td>\n",
       "    </tr>\n",
       "    <tr>\n",
       "      <td>Special_Conditions_at_Site</td>\n",
       "      <td>0.007774</td>\n",
       "    </tr>\n",
       "    <tr>\n",
       "      <td>Carriageway_Hazards</td>\n",
       "      <td>0.005586</td>\n",
       "    </tr>\n",
       "  </tbody>\n",
       "</table>\n",
       "</div>"
      ],
      "text/plain": [
       "                            importance\n",
       "features                              \n",
       "Engine_Capacity_(CC)          0.184384\n",
       "Age_of_Vehicle                0.139076\n",
       "Day_of_Week                   0.092997\n",
       "Age_Band_of_Driver            0.080100\n",
       "Vehicle_Manoeuvre             0.061344\n",
       "Number_of_Casualties          0.054449\n",
       "1st_Point_of_Impact           0.046855\n",
       "Number_of_Vehicles            0.041793\n",
       "1st_Road_Class                0.038058\n",
       "Speed_limit                   0.035332\n",
       "Vehicle_Type                  0.024142\n",
       "Hit_Object_off_Carriageway    0.022324\n",
       "Road_Surface_Conditions       0.022238\n",
       "Light_Conditions              0.022133\n",
       "Weather_Conditions            0.021284\n",
       "Skidding_and_Overturning      0.021189\n",
       "Road_Type                     0.020781\n",
       "Propulsion_Code               0.019500\n",
       "Urban_or_Rural_Area           0.014084\n",
       "Sex_of_Driver                 0.013899\n",
       "Hit_Object_in_Carriageway     0.010679\n",
       "Special_Conditions_at_Site    0.007774\n",
       "Carriageway_Hazards           0.005586"
      ]
     },
     "execution_count": 26,
     "metadata": {},
     "output_type": "execute_result"
    }
   ],
   "source": [
    "f_imp_2 = pd.DataFrame(data={'importance':rf_2.feature_importances_,'features':X_train_2.columns}).set_index('features')\n",
    "f_imp_2 = f_imp_2.sort_values('importance', ascending=False)\n",
    "f_imp_2"
   ]
  },
  {
   "cell_type": "markdown",
   "metadata": {},
   "source": [
    "## Random Forest - 2 classes slight, severe- balanced"
   ]
  },
  {
   "cell_type": "code",
   "execution_count": 35,
   "metadata": {},
   "outputs": [
    {
     "name": "stdout",
     "output_type": "stream",
     "text": [
      "Counter({1: 1012263, 0: 184776})\n",
      "Counter({1: 497840, 0: 91747})\n"
     ]
    }
   ],
   "source": [
    "print(Counter(y_train_2))\n",
    "print(Counter(y_test_2))"
   ]
  },
  {
   "cell_type": "code",
   "execution_count": 36,
   "metadata": {},
   "outputs": [],
   "source": [
    "rus = RandomUnderSampler(random_state=42)\n",
    "X_res_train_2, y_res_train_2 = rus.fit_resample(X_train_2, y_train_2)\n",
    "X_res_test_2, y_res_test_2 = rus.fit_resample(X_test_2, y_test_2)"
   ]
  },
  {
   "cell_type": "code",
   "execution_count": 37,
   "metadata": {},
   "outputs": [
    {
     "name": "stdout",
     "output_type": "stream",
     "text": [
      "Counter({0: 184776, 1: 184776})\n",
      "Counter({0: 91747, 1: 91747})\n"
     ]
    }
   ],
   "source": [
    "print(Counter(y_res_train_2))\n",
    "print(Counter(y_res_test_2))\n",
    "# total records = 276523, equally distributed classes"
   ]
  },
  {
   "cell_type": "code",
   "execution_count": 38,
   "metadata": {},
   "outputs": [
    {
     "data": {
      "text/plain": [
       "RandomForestClassifier(bootstrap=True, ccp_alpha=0.0, class_weight=None,\n",
       "                       criterion='gini', max_depth=None, max_features='auto',\n",
       "                       max_leaf_nodes=None, max_samples=None,\n",
       "                       min_impurity_decrease=0.0, min_impurity_split=None,\n",
       "                       min_samples_leaf=1, min_samples_split=2,\n",
       "                       min_weight_fraction_leaf=0.0, n_estimators=50,\n",
       "                       n_jobs=None, oob_score=False, random_state=None,\n",
       "                       verbose=0, warm_start=False)"
      ]
     },
     "execution_count": 38,
     "metadata": {},
     "output_type": "execute_result"
    }
   ],
   "source": [
    "rf_res_2 = RandomForestClassifier(n_estimators=50)\n",
    "rf_res_2.fit(X_res_train_2, y_res_train_2)"
   ]
  },
  {
   "cell_type": "code",
   "execution_count": 39,
   "metadata": {},
   "outputs": [
    {
     "name": "stdout",
     "output_type": "stream",
     "text": [
      "Train score 0.999253149759709\n",
      "Test score 0.7042192115273523\n"
     ]
    }
   ],
   "source": [
    "print(\"Train score \"+ str(rf_res_2.score(X_res_train_2, y_res_train_2)))\n",
    "print(\"Test score \"+ str(rf_res_2.score(X_res_test_2, y_res_test_2)))"
   ]
  },
  {
   "cell_type": "code",
   "execution_count": 40,
   "metadata": {},
   "outputs": [
    {
     "name": "stdout",
     "output_type": "stream",
     "text": [
      "Average number of nodes 212431\n",
      "Average maximum depth 56\n"
     ]
    }
   ],
   "source": [
    "n_nodes = []\n",
    "max_depths = []\n",
    "\n",
    "for ind_tree in rf_res_2.estimators_:\n",
    "    n_nodes.append(ind_tree.tree_.node_count)\n",
    "    max_depths.append(ind_tree.tree_.max_depth)\n",
    "    \n",
    "print(f'Average number of nodes {int(np.mean(n_nodes))}')\n",
    "print(f'Average maximum depth {int(np.mean(max_depths))}')"
   ]
  },
  {
   "cell_type": "code",
   "execution_count": 41,
   "metadata": {},
   "outputs": [
    {
     "name": "stdout",
     "output_type": "stream",
     "text": [
      "[0.69981464 0.69819107 0.69834934 0.69801109 0.69755108]\n"
     ]
    }
   ],
   "source": [
    "accuracy_res_rf_2 = cross_val_score(rf_res_2, X_res_train_2, y_res_train_2, scoring='accuracy')\n",
    "print(accuracy_res_rf_2)"
   ]
  },
  {
   "cell_type": "code",
   "execution_count": 42,
   "metadata": {},
   "outputs": [
    {
     "name": "stdout",
     "output_type": "stream",
     "text": [
      "              precision    recall  f1-score   support\n",
      "\n",
      "           0       0.70      0.71      0.71     91747\n",
      "           1       0.71      0.70      0.70     91747\n",
      "\n",
      "    accuracy                           0.70    183494\n",
      "   macro avg       0.70      0.70      0.70    183494\n",
      "weighted avg       0.70      0.70      0.70    183494\n",
      "\n"
     ]
    }
   ],
   "source": [
    "y_res_pred_rf_2 = rf_res_2.predict(X_res_test_2)\n",
    "print(metrics.classification_report(y_res_test_2, y_res_pred_rf_2))"
   ]
  },
  {
   "cell_type": "code",
   "execution_count": 43,
   "metadata": {},
   "outputs": [
    {
     "data": {
      "text/html": [
       "<div>\n",
       "<style scoped>\n",
       "    .dataframe tbody tr th:only-of-type {\n",
       "        vertical-align: middle;\n",
       "    }\n",
       "\n",
       "    .dataframe tbody tr th {\n",
       "        vertical-align: top;\n",
       "    }\n",
       "\n",
       "    .dataframe thead th {\n",
       "        text-align: right;\n",
       "    }\n",
       "</style>\n",
       "<table border=\"1\" class=\"dataframe\">\n",
       "  <thead>\n",
       "    <tr style=\"text-align: right;\">\n",
       "      <th></th>\n",
       "      <th>importance</th>\n",
       "    </tr>\n",
       "    <tr>\n",
       "      <th>features</th>\n",
       "      <th></th>\n",
       "    </tr>\n",
       "  </thead>\n",
       "  <tbody>\n",
       "    <tr>\n",
       "      <td>Engine_Capacity_(CC)</td>\n",
       "      <td>0.164214</td>\n",
       "    </tr>\n",
       "    <tr>\n",
       "      <td>Age_of_Vehicle</td>\n",
       "      <td>0.125550</td>\n",
       "    </tr>\n",
       "    <tr>\n",
       "      <td>Day_of_Week</td>\n",
       "      <td>0.085836</td>\n",
       "    </tr>\n",
       "    <tr>\n",
       "      <td>Age_Band_of_Driver</td>\n",
       "      <td>0.077059</td>\n",
       "    </tr>\n",
       "    <tr>\n",
       "      <td>Vehicle_Manoeuvre</td>\n",
       "      <td>0.071134</td>\n",
       "    </tr>\n",
       "    <tr>\n",
       "      <td>1st_Point_of_Impact</td>\n",
       "      <td>0.062993</td>\n",
       "    </tr>\n",
       "    <tr>\n",
       "      <td>Number_of_Casualties</td>\n",
       "      <td>0.054869</td>\n",
       "    </tr>\n",
       "    <tr>\n",
       "      <td>Number_of_Vehicles</td>\n",
       "      <td>0.049742</td>\n",
       "    </tr>\n",
       "    <tr>\n",
       "      <td>1st_Road_Class</td>\n",
       "      <td>0.037799</td>\n",
       "    </tr>\n",
       "    <tr>\n",
       "      <td>Speed_limit</td>\n",
       "      <td>0.037605</td>\n",
       "    </tr>\n",
       "    <tr>\n",
       "      <td>Vehicle_Type</td>\n",
       "      <td>0.027733</td>\n",
       "    </tr>\n",
       "    <tr>\n",
       "      <td>Road_Type</td>\n",
       "      <td>0.024220</td>\n",
       "    </tr>\n",
       "    <tr>\n",
       "      <td>Light_Conditions</td>\n",
       "      <td>0.022422</td>\n",
       "    </tr>\n",
       "    <tr>\n",
       "      <td>Road_Surface_Conditions</td>\n",
       "      <td>0.021877</td>\n",
       "    </tr>\n",
       "    <tr>\n",
       "      <td>Weather_Conditions</td>\n",
       "      <td>0.020620</td>\n",
       "    </tr>\n",
       "    <tr>\n",
       "      <td>Hit_Object_off_Carriageway</td>\n",
       "      <td>0.019568</td>\n",
       "    </tr>\n",
       "    <tr>\n",
       "      <td>Propulsion_Code</td>\n",
       "      <td>0.019504</td>\n",
       "    </tr>\n",
       "    <tr>\n",
       "      <td>Skidding_and_Overturning</td>\n",
       "      <td>0.019431</td>\n",
       "    </tr>\n",
       "    <tr>\n",
       "      <td>Urban_or_Rural_Area</td>\n",
       "      <td>0.019336</td>\n",
       "    </tr>\n",
       "    <tr>\n",
       "      <td>Sex_of_Driver</td>\n",
       "      <td>0.015978</td>\n",
       "    </tr>\n",
       "    <tr>\n",
       "      <td>Hit_Object_in_Carriageway</td>\n",
       "      <td>0.009701</td>\n",
       "    </tr>\n",
       "    <tr>\n",
       "      <td>Special_Conditions_at_Site</td>\n",
       "      <td>0.007593</td>\n",
       "    </tr>\n",
       "    <tr>\n",
       "      <td>Carriageway_Hazards</td>\n",
       "      <td>0.005216</td>\n",
       "    </tr>\n",
       "  </tbody>\n",
       "</table>\n",
       "</div>"
      ],
      "text/plain": [
       "                            importance\n",
       "features                              \n",
       "Engine_Capacity_(CC)          0.164214\n",
       "Age_of_Vehicle                0.125550\n",
       "Day_of_Week                   0.085836\n",
       "Age_Band_of_Driver            0.077059\n",
       "Vehicle_Manoeuvre             0.071134\n",
       "1st_Point_of_Impact           0.062993\n",
       "Number_of_Casualties          0.054869\n",
       "Number_of_Vehicles            0.049742\n",
       "1st_Road_Class                0.037799\n",
       "Speed_limit                   0.037605\n",
       "Vehicle_Type                  0.027733\n",
       "Road_Type                     0.024220\n",
       "Light_Conditions              0.022422\n",
       "Road_Surface_Conditions       0.021877\n",
       "Weather_Conditions            0.020620\n",
       "Hit_Object_off_Carriageway    0.019568\n",
       "Propulsion_Code               0.019504\n",
       "Skidding_and_Overturning      0.019431\n",
       "Urban_or_Rural_Area           0.019336\n",
       "Sex_of_Driver                 0.015978\n",
       "Hit_Object_in_Carriageway     0.009701\n",
       "Special_Conditions_at_Site    0.007593\n",
       "Carriageway_Hazards           0.005216"
      ]
     },
     "execution_count": 43,
     "metadata": {},
     "output_type": "execute_result"
    }
   ],
   "source": [
    "f_res_imp_2 = pd.DataFrame(data={'importance':rf_res_2.feature_importances_,'features':X_res_train_2.columns}).set_index('features')\n",
    "f_res_imp_2 = f_res_imp_2.sort_values('importance', ascending=False)\n",
    "f_res_imp_2"
   ]
  },
  {
   "cell_type": "code",
   "execution_count": 36,
   "metadata": {},
   "outputs": [
    {
     "data": {
      "image/png": "[encoded data removed]",
      "text/plain": [
       "<Figure size 432x288 with 1 Axes>"
      ]
     },
     "metadata": {
      "needs_background": "light"
     },
     "output_type": "display_data"
    }
   ],
   "source": [
    "probs = rf_res_2.predict_proba(X_res_test_2)\n",
    "preds = probs[:,1]\n",
    "fpr, tpr, threshold = metrics.roc_curve(y_res_test_2, preds)\n",
    "roc_auc = metrics.auc(fpr, tpr)\n",
    "\n",
    "plt.title('Receiver Operating Characteristic')\n",
    "plt.plot(fpr, tpr, 'b', label = 'AUC = %0.2f' % roc_auc)\n",
    "plt.legend(loc = 'lower right')\n",
    "plt.plot([0, 1], [0, 1],'r--')\n",
    "plt.xlim([0, 1])\n",
    "plt.ylim([0, 1])\n",
    "plt.ylabel('True Positive Rate')\n",
    "plt.xlabel('False Positive Rate')\n",
    "plt.show()"
   ]
  },
  {
   "cell_type": "markdown",
   "metadata": {},
   "source": [
    "### Feature Selection"
   ]
  },
  {
   "cell_type": "code",
   "execution_count": 44,
   "metadata": {},
   "outputs": [
    {
     "data": {
      "text/plain": [
       "SelectFromModel(estimator=RandomForestClassifier(bootstrap=True, ccp_alpha=0.0,\n",
       "                                                 class_weight=None,\n",
       "                                                 criterion='gini',\n",
       "                                                 max_depth=None,\n",
       "                                                 max_features='auto',\n",
       "                                                 max_leaf_nodes=None,\n",
       "                                                 max_samples=None,\n",
       "                                                 min_impurity_decrease=0.0,\n",
       "                                                 min_impurity_split=None,\n",
       "                                                 min_samples_leaf=1,\n",
       "                                                 min_samples_split=2,\n",
       "                                                 min_weight_fraction_leaf=0.0,\n",
       "                                                 n_estimators=50, n_jobs=None,\n",
       "                                                 oob_score=False,\n",
       "                                                 random_state=None, verbose=0,\n",
       "                                                 warm_start=False),\n",
       "                max_features=None, norm_order=1, prefit=False, threshold=None)"
      ]
     },
     "execution_count": 44,
     "metadata": {},
     "output_type": "execute_result"
    }
   ],
   "source": [
    "sel = SelectFromModel(rf_res_2)\n",
    "sel.fit(X_res_train_2, y_res_train_2)"
   ]
  },
  {
   "cell_type": "code",
   "execution_count": 46,
   "metadata": {},
   "outputs": [
    {
     "name": "stdout",
     "output_type": "stream",
     "text": [
      "Index(['Number_of_Vehicles', 'Number_of_Casualties', 'Day_of_Week',\n",
      "       'Vehicle_Manoeuvre', '1st_Point_of_Impact', 'Engine_Capacity_(CC)',\n",
      "       'Age_of_Vehicle', 'Age_Band_of_Driver'],\n",
      "      dtype='object')\n"
     ]
    }
   ],
   "source": [
    "selected_feat= X_res_train_2.columns[(sel.get_support())]\n",
    "print(selected_feat)"
   ]
  },
  {
   "cell_type": "code",
   "execution_count": 51,
   "metadata": {},
   "outputs": [
    {
     "data": {
      "text/plain": [
       "RandomForestClassifier(bootstrap=True, ccp_alpha=0.0, class_weight=None,\n",
       "                       criterion='gini', max_depth=None, max_features='auto',\n",
       "                       max_leaf_nodes=None, max_samples=None,\n",
       "                       min_impurity_decrease=0.0, min_impurity_split=None,\n",
       "                       min_samples_leaf=1, min_samples_split=2,\n",
       "                       min_weight_fraction_leaf=0.0, n_estimators=50,\n",
       "                       n_jobs=None, oob_score=False, random_state=None,\n",
       "                       verbose=0, warm_start=False)"
      ]
     },
     "execution_count": 51,
     "metadata": {},
     "output_type": "execute_result"
    }
   ],
   "source": [
    "X_important_train = sel.transform(X_res_train_2)\n",
    "X_important_test = sel.transform(X_res_test_2)\n",
    "rf_res_2_important = RandomForestClassifier(n_estimators=50)\n",
    "rf_res_2_important.fit(X_important_train, y_res_train_2)"
   ]
  },
  {
   "cell_type": "code",
   "execution_count": 52,
   "metadata": {},
   "outputs": [
    {
     "name": "stdout",
     "output_type": "stream",
     "text": [
      "Train score 0.9744772048317963\n",
      "Test score 0.6522120614298015\n"
     ]
    }
   ],
   "source": [
    "print(\"Train score \"+ str(rf_res_2_important.score(X_important_train, y_res_train_2)))\n",
    "print(\"Test score \"+ str(rf_res_2_important.score(X_important_test, y_res_test_2)))"
   ]
  },
  {
   "cell_type": "code",
   "execution_count": 53,
   "metadata": {},
   "outputs": [
    {
     "name": "stdout",
     "output_type": "stream",
     "text": [
      "              precision    recall  f1-score   support\n",
      "\n",
      "           0       0.65      0.67      0.66     91747\n",
      "           1       0.66      0.63      0.64     91747\n",
      "\n",
      "    accuracy                           0.65    183494\n",
      "   macro avg       0.65      0.65      0.65    183494\n",
      "weighted avg       0.65      0.65      0.65    183494\n",
      "\n"
     ]
    }
   ],
   "source": [
    "y_res_pred_rf_2_important = rf_res_2_important.predict(X_important_test)\n",
    "print(metrics.classification_report(y_res_test_2, y_res_pred_rf_2_important))"
   ]
  },
  {
   "cell_type": "code",
   "execution_count": 54,
   "metadata": {},
   "outputs": [
    {
     "data": {
      "image/png": "[encoded data removed]",
      "text/plain": [
       "<Figure size 432x288 with 1 Axes>"
      ]
     },
     "metadata": {
      "needs_background": "light"
     },
     "output_type": "display_data"
    }
   ],
   "source": [
    "probs = rf_res_2_important.predict_proba(X_important_test)\n",
    "preds = probs[:,1]\n",
    "fpr, tpr, threshold = metrics.roc_curve(y_res_test_2, preds)\n",
    "roc_auc = metrics.auc(fpr, tpr)\n",
    "\n",
    "plt.title('Receiver Operating Characteristic')\n",
    "plt.plot(fpr, tpr, 'b', label = 'AUC = %0.2f' % roc_auc)\n",
    "plt.legend(loc = 'lower right')\n",
    "plt.plot([0, 1], [0, 1],'r--')\n",
    "plt.xlim([0, 1])\n",
    "plt.ylim([0, 1])\n",
    "plt.ylabel('True Positive Rate')\n",
    "plt.xlabel('False Positive Rate')\n",
    "plt.show()"
   ]
  },
  {
   "cell_type": "code",
   "execution_count": null,
   "metadata": {},
   "outputs": [],
   "source": []
  }
 ],
 "metadata": {
  "kernelspec": {
   "display_name": "Python 3",
   "language": "python",
   "name": "python3"
  },
  "language_info": {
   "codemirror_mode": {
    "name": "ipython",
    "version": 3
   },
   "file_extension": ".py",
   "mimetype": "text/x-python",
   "name": "python",
   "nbconvert_exporter": "python",
   "pygments_lexer": "ipython3",
   "version": "3.7.4"
  }
 },
 "nbformat": 4,
 "nbformat_minor": 2
}
