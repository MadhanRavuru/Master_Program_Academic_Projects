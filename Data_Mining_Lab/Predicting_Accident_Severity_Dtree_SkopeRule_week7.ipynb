{
  "nbformat": 4,
  "nbformat_minor": 0,
  "metadata": {
    "kernelspec": {
      "display_name": "Python 3",
      "language": "python",
      "name": "python3"
    },
    "language_info": {
      "codemirror_mode": {
        "name": "ipython",
        "version": 3
      },
      "file_extension": ".py",
      "mimetype": "text/x-python",
      "name": "python",
      "nbconvert_exporter": "python",
      "pygments_lexer": "ipython3",
      "version": "3.7.4"
    },
    "colab": {
      "name": "Predicting_Accident_Severity_Decisiontree_week7.ipynb",
      "provenance": [],
      "collapsed_sections": []
    }
  },
  "cells": [
    {
      "cell_type": "code",
      "metadata": {
        "id": "k89h4wjSpYBT",
        "colab_type": "code",
        "outputId": "84628446-b87c-4346-ee6a-49aa0bb52d6e",
        "colab": {
          "base_uri": "https://localhost:8080/",
          "height": 118
        }
      },
      "source": [
        "from google.colab import drive\n",
        "drive.mount('/content/gdrive')\n",
        "root_path = 'gdrive/My Drive/Imported Powerpoints/car-safety'    #project folder directory\n"
      ],
      "execution_count": 1,
      "outputs": [
        {
          "output_type": "stream",
          "text": [
            "Go to this URL in a browser: https://accounts.google.com/o/oauth2/auth?client_id=947318989803-6bn6qk8qdgf4n4g3pfee6491hc0brc4i.apps.googleusercontent.com&redirect_uri=urn%3aietf%3awg%3aoauth%3a2.0%3aoob&response_type=code&scope=email%20https%3a%2f%2fwww.googleapis.com%2fauth%2fdocs.test%20https%3a%2f%2fwww.googleapis.com%2fauth%2fdrive%20https%3a%2f%2fwww.googleapis.com%2fauth%2fdrive.photos.readonly%20https%3a%2f%2fwww.googleapis.com%2fauth%2fpeopleapi.readonly\n",
            "\n",
            "Enter your authorization code:\n",
            "··········\n",
            "Mounted at /content/gdrive\n"
          ],
          "name": "stdout"
        }
      ]
    },
    {
      "cell_type": "code",
      "metadata": {
        "id": "Flr5wcZmpZGO",
        "colab_type": "code",
        "outputId": "a417b0c3-30d9-4f24-db12-f80f8e3089f6",
        "colab": {
          "base_uri": "https://localhost:8080/",
          "height": 33
        }
      },
      "source": [
        "%cd 'gdrive/My Drive/Imported Powerpoints/car-safety'\n"
      ],
      "execution_count": 2,
      "outputs": [
        {
          "output_type": "stream",
          "text": [
            "/content/gdrive/My Drive/Imported Powerpoints/car-safety\n"
          ],
          "name": "stdout"
        }
      ]
    },
    {
      "cell_type": "code",
      "metadata": {
        "id": "8A21f6R7o1bS",
        "colab_type": "code",
        "outputId": "c78097d5-7359-4a4d-c914-7c85afee3fe0",
        "colab": {
          "base_uri": "https://localhost:8080/",
          "height": 102
        }
      },
      "source": [
        "import pandas as pd\n",
        "import numpy as np\n",
        "from sklearn.tree import DecisionTreeClassifier\n",
        "from sklearn.metrics import confusion_matrix\n",
        "from sklearn.model_selection import train_test_split\n",
        "from sklearn.preprocessing import LabelEncoder\n",
        "from sklearn.svm import SVC\n",
        "from sklearn.model_selection import cross_val_score\n",
        "import matplotlib.pyplot as plt\n",
        "from sklearn import metrics\n",
        "from collections import Counter\n",
        "from imblearn.under_sampling import RandomUnderSampler\n",
        "from sklearn.feature_selection import SelectFromModel"
      ],
      "execution_count": 3,
      "outputs": [
        {
          "output_type": "stream",
          "text": [
            "/usr/local/lib/python3.6/dist-packages/sklearn/externals/six.py:31: FutureWarning: The module is deprecated in version 0.21 and will be removed in version 0.23 since we've dropped support for Python 2.7. Please rely on the official version of six (https://pypi.org/project/six/).\n",
            "  \"(https://pypi.org/project/six/).\", FutureWarning)\n",
            "/usr/local/lib/python3.6/dist-packages/sklearn/utils/deprecation.py:144: FutureWarning: The sklearn.neighbors.base module is  deprecated in version 0.22 and will be removed in version 0.24. The corresponding classes / functions should instead be imported from sklearn.neighbors. Anything that cannot be imported from sklearn.neighbors is now part of the private API.\n",
            "  warnings.warn(message, FutureWarning)\n"
          ],
          "name": "stderr"
        }
      ]
    },
    {
      "cell_type": "code",
      "metadata": {
        "id": "i0gKEwYFo1ba",
        "colab_type": "code",
        "outputId": "d161274a-2f92-42d7-def1-1f3d235b9544",
        "colab": {
          "base_uri": "https://localhost:8080/",
          "height": 102
        }
      },
      "source": [
        "df_uk_accidents = pd.read_csv('data/uk_accidents.csv', encoding = 'unicode_escape')\n",
        "df_uk_vehicles = pd.read_csv('data/uk_vehicles.csv', encoding = 'unicode_escape')\n",
        "df_uk_casualties = pd.read_csv('data/uk_casualties.csv', encoding = 'unicode_escape')\n",
        "df_uk_makes = pd.read_csv('data/Vehicle_Information.csv', usecols = [0, 10, 11, 19], encoding = 'unicode_escape')\n",
        "df_ratings = pd.read_csv('all_ratings.csv') "
      ],
      "execution_count": 4,
      "outputs": [
        {
          "output_type": "stream",
          "text": [
            "/usr/local/lib/python3.6/dist-packages/IPython/core/interactiveshell.py:2718: DtypeWarning: Columns (0,31) have mixed types. Specify dtype option on import or set low_memory=False.\n",
            "  interactivity=interactivity, compiler=compiler, result=result)\n",
            "/usr/local/lib/python3.6/dist-packages/IPython/core/interactiveshell.py:2718: DtypeWarning: Columns (0) have mixed types. Specify dtype option on import or set low_memory=False.\n",
            "  interactivity=interactivity, compiler=compiler, result=result)\n"
          ],
          "name": "stderr"
        }
      ]
    },
    {
      "cell_type": "code",
      "metadata": {
        "id": "6Zr3M_P_o1bg",
        "colab_type": "code",
        "colab": {}
      },
      "source": [
        "# Appending makes and models to the UK vehicles DF\n",
        "if 'Vehicle_Make' not in df_uk_vehicles:\n",
        "    df_uk_vehicles = pd.merge(df_uk_vehicles, df_uk_makes, on = ['Accident_Index', 'Vehicle_Reference'], how='left')\n",
        "    \n",
        "# Rename vehicle make, model to follow the same convention\n",
        "df_uk_vehicles.rename(columns={'make': 'Vehicle_Make', 'model': 'Vehicle_Model'}, inplace = True)\n",
        "\n",
        "# Mapping numeric values to corresponding text\n",
        "df_uk_vehicles_map = {\n",
        "    'Sex_of_Driver': {-1: np.nan, 3: np.nan, 2: 'Female', 1: 'Male'},\n",
        "    'Age_Band_of_Driver': {-1: np.nan, 1: '0-5', 2: '6-10', 3: '11-15', 4: '16-20', 5: '21-25', 6: '26-35', 7: '36-45', 8: '46-55', 9: '56-65', 10: '66-75', 11: 'Over 75'}, \n",
        "    'Vehicle_Make': {'MISSING': np.nan},\n",
        "    'Vehicle_Model': {'MISSING': np.nan},\n",
        "    'Age_of_Vehicle': {-1: np.nan},\n",
        "    '1st_Point_of_Impact': {-1: np.nan, 1: 'Front', 2: 'Back', 3: 'Offside', 4: 'Nearside'},\n",
        "    'Vehicle_Manoeuvre': {-1: np.nan, 1: 'Reversing', 2: 'Parked', 3: 'Waiting to go - held up', 4: 'Slowing or stopping', 5: 'Moving off', 6: 'U-turn', 7: 'Turning left', 8: 'Waiting to turn left', 9: 'Turning right', 10: 'Waiting to turn right', 11: 'Changing lane to left', 12: 'Changing lane to right', 13: 'Overtaking moving vehicle – offside', 14: 'Overtaking static vehicle - offside', 15: 'Overtaking - nearside', 16: 'Going ahead left-hand bend', 17: 'Going ahead right-hand bend', 18: 'Going ahead other'},\n",
        "    'Vehicle_Type': {-1: np.nan, 90: np.nan, 1: 'Pedal cycle', 2: 'Motorcycle <=50cc', 3: 'Motorcycle <=125cc', 4: 'Motorcycle 125cc-500cc', 5: 'Motorcycle >500cc', 8: 'Taxi/Private hire car', 9: 'Car', 10: 'Minibus (8-16 seats)', 11: 'Bus (>=17 seats)', 16: 'Ridden horse', 17: 'Agricultural vehicle', 18: 'Tram', 19: 'Van <=3.5 t.', 20: 'Goods 3.5t.-7.5t', 21: 'Goods >=7.5 t.', 22: 'Mobility scooter', 23: 'Electric motorcycle', 97: 'Motorcycle - unknown cc', 98: 'Goods vehicle - unknown weight'},\n",
        "    'Vehicle_Location-Restricted_Lane': {-1: np.nan, 0: 'On main carriageway - not in restricted lane', 1: 'Tram/Light rail track', 2: 'Bus lane', 3:\t'Busway (including guided busway)', 4: 'Cycle lane (on main carriageway)', 5: 'Cycleway or shared use footway (not part of  main carriageway)', 6: 'On lay-by or hard shoulder', 7:\t'Entering lay-by or hard shoulder', 8:\t'Leaving lay-by or hard shoulder', 9: 'Footway (pavement)', 10:\t'Not on carriageway'},\n",
        "    'Junction_Location': {-1: np.nan, 0: 'Not at or within 20 metres of junction', 1:\t'Approaching junction or waiting/parked at junction approach', 2:\t'Cleared junction or waiting/parked at junction exit', 3:\t'Leaving roundabout', 4: 'Entering roundabout', 5: 'Leaving main road', 6: 'Entering main road', 7:\t'Entering from slip road', 8:\t'Mid Junction - on roundabout or on main road'},\n",
        "    'Skidding_and_Overturning': {-1: np.nan, 0: 'None', 1: 'Skidded', 2: 'Skidded and overturned', 3:\t'Jackknifed', 4: 'Jackknifed and overturned', 5: 'Overturned'},\n",
        "    'Hit_Object_in_Carriageway': {-1: np.nan, 11: np.nan, 0: 'None', 1: 'Previous accident', 2: 'Road works', 4: 'Parked vehicle', 5:\t'Bridge (roof)', 6:\t'Bridge (side)', 7:\t'Bollard or refuge', 8:\t'Open door of vehicle', 9: 'Central island of roundabout', 10: 'Kerb', 12: 'Any animal (except ridden horse)'}, \n",
        "    'Vehicle_Leaving_Carriageway': {-1: np.nan, 0: 'Did not leave carriageway', 1: 'Nearside', 2:\t'Nearside and rebounded', 3: 'Straight ahead at junction', 4: 'Offside on to central reservation', 5:\t'Offside on to centrl res + rebounded', 6: 'Offside - crossed central reservation', 7: 'Offside', 8: 'Offside and rebounded'},\n",
        "    'Hit_Object_off_Carriageway': {-1: np.nan, 10: np.nan, 0: 'None', 1: 'Road sign or traffic signal', 2: 'Lamp post', 3: 'Telegraph or electricity pole', 4: 'Tree', 5:\t'Bus stop or bus shelter', 6:\t'Central crash barrier', 7:\t'Near/Offside crash barrier', 8: 'Submerged in water', 9: 'Entered ditch', 11: 'Wall or fence'},\n",
        "    'Journey_Purpose_of_Driver' : {-1: np.nan, 5: np.nan, 6: np.nan, 15: np.nan, 1:\t'Journey as part of work', 2:\t'Commuting to/from work', 3: 'Taking pupil to/from school', 4: 'Pupil riding to/from school'},\n",
        "    'Age_of_Driver': {-1: np.nan},\n",
        "    'Engine_Capacity_(CC)': {-1: np.nan},\n",
        "    'Propulsion_Code': {-1: np.nan, 1: 'Petrol', 2: 'Heavy oil', 3: 'Electric', 4:\t'Steam', 5:\t'Gas', 6:\t'Petrol/Gas (LPG)', 7: 'Gas/Bi-fuel', 8: 'Hybrid electric', 9: 'Gas Diesel', 10: 'New fuel technology', 11:\t'Fuel cells', 12:\t'Electric diesel'},\n",
        "    'Driver_Home_Area_Type': {-1: np.nan, 1: 'Urban area', 2:\t'Small town', 3: 'Rural'}\n",
        "}\n",
        "\n",
        "df_uk_accidents_map = {\n",
        "    'Accident_Severity': {-1: np.nan, 1: 'Fatal', 2: 'Serious', 3: 'Slight'},\n",
        "    'Weather_Conditions': {-1: np.nan, 8: np.nan, 9: np.nan, 1: 'Fine no high winds', 2: 'Raining no high winds', 3: 'Snowing no high winds', 4: 'Fine + high winds', 5: 'Raining + high winds', 6: 'Snowing + high winds', 7: 'Fog or mist'},\n",
        "    'Light_Conditions': {-1: np.nan, 1: 'Daylight', 4: 'Darkness - lights lit', 5: 'Darkness - lights unlit', 6: 'Darkness - no lighting', 7: 'Darkness - lighting unknown'},\n",
        "    'Police_Force': {1:\t'Metropolitan Police', 3: 'Cumbria', 4:\t'Lancashire', 5: 'Merseyside', 6:\t'Greater Manchester', 7: 'Cheshire', 10: 'Northumbria', 11:\t'Durham', 12:\t'North Yorkshire', 13: 'West Yorkshire', 14: 'South Yorkshire', 16:\t'Humberside', 17:\t'Cleveland', 20: 'West Midlands', 21:\t'Staffordshire', 22: 'West Mercia', 23:\t'Warwickshire', 30: 'Derbyshire', 31:\t'Nottinghamshire', 32: 'Lincolnshire', 33:\t'Leicestershire', 34:\t'Northamptonshire', 35:\t'Cambridgeshire', 36:\t'Norfolk', 37: 'Suffolk', 40:\t'Bedfordshire', 41:\t'Hertfordshire', 42: 'Essex', 43:\t'Thames Valley', 44: 'Hampshire', 45:\t'Surrey', 46:\t'Kent', 47:\t'Sussex', 48:\t'City of London', 50:\t'Devon and Cornwall', 52:\t'Avon and Somerset', 53: 'Gloucestershire', 54:\t'Wiltshire', 55: 'Dorset', 60: 'North Wales', 61:\t'Gwent', 62: 'South Wales', 63:\t'Dyfed-Powys', 91: 'Northern', 92: 'Grampian', 93: 'Tayside', 94:\t'Fife', 95:\t'Lothian and Borders', 96: 'Central', 97:\t'Strathclyde', 98: 'Dumfries and Galloway'},\n",
        "    'Day_of_Week': {1: 'Sunday', 2: 'Monday', 3: 'Tuesday', 4: 'Wednesday', 5: 'Thursday', 6: 'Friday', 7: 'Saturday'},\n",
        "    '1st_Road_Class': {6: np.nan, 1: 'Motorway', 2: 'A(M)', 3:\t'A', 4:\t'B', 5: 'C'},\n",
        "    'Road_Type': {-1: np.nan, 9: np.nan, 1: 'Roundabout', 2: 'One way street', 3: 'Dual carriageway', 6: 'Single carriageway', 7: 'Slip road', 12: 'One way street/Slip road'},\n",
        "    'Junction_Detail': {-1: np.nan, 9: np.nan, 0: 'Not at junction or within 20 metres', 1:\t'Roundabout', 2: 'Mini-roundabout', 3: 'T or staggered junction', 5: 'Slip road', 6: 'Crossroads', 7: 'More than 4 arms (not roundabout)', 8:\t'Private drive or entrance'},\n",
        "    'Junction_Control': {-1: np.nan, 0:\t'Not at junction or within 20 metres', 1:\t'Authorised person', 2:\t'Auto traffic signal', 3:\t'Stop sign', 4:\t'Give way or uncontrolled'},\n",
        "    '2nd_Road_Class': {-1: np.nan, 6: np.nan, 0: 'Not at junction or within 20 metres', 1: 'Motorway', 2:\t'A(M)', 3: 'A', 4: 'B',\t5: 'C'},\n",
        "    'Pedestrian_Crossing-Human_Control': {-1: np.nan, 0: 'None within 50 metres', 1: 'Control by school crossing patrol', 2: 'Control by other authorised person'},\n",
        "    'Pedestrian_Crossing-Physical_Facilities': {-1: np.nan, 0: 'No physical crossing facilities within 50 metres', 1: 'Zebra', 4:\t'Pelican, puffin, toucan or similar non-junction pedestrian light crossing', 5:\t'Pedestrian phase at traffic signal junction', 7:\t'Footbridge or subway', 8: 'Central refuge'},\n",
        "    'Road_Surface_Conditions': {-1: np.nan, 1: 'Dry', 2: 'Wet or damp', 3: 'Snow', 4:\t'Frost or ice', 5: 'Flood over 3cm. deep', 6: 'Oil or diesel', 7:\t'Mud'},\n",
        "    'Special_Conditions_at_Site': {-1: np.nan, 0:\t'None', 1: 'Auto traffic signal - out', 2: 'Auto signal part defective', 3:\t'Road sign or marking defective or obscured', 4: 'Roadworks', 5: 'Road surface defective', 6:\t'Oil or diesel', 7: 'Mud'},\n",
        "    'Carriageway_Hazards': {-1: np.nan, 0: 'None', 1: 'Vehicle load on road', 2: 'Other object on road', 3:\t'Previous accident', 4:\t'Dog on road', 5:\t'Other animal on road', 6: 'Pedestrian in carriageway - not injured', 7: 'Any animal in carriageway (except ridden horse)'},\n",
        "    'Urban_or_Rural_Area': {3: np.nan, 1: 'Urban', 2:\t'Rural'},\n",
        "    'Did_Police_Officer_Attend_Scene_of_Accident': {-1: np.nan, 1: 'Yes', 2: 'No', 3: 'No - accident was reported using a self completion  form (self rep only)'}\n",
        "}\n",
        "\n",
        "df_uk_casualties_map = {\n",
        "    'Casualty_Severity': {-1: np.nan, 1: 'Fatal', 2: 'Serious', 3: 'Slight'},\n",
        "    'Sex_of_Casualty': {-1: np.nan, 3: np.nan, 2: 'Female', 1: 'Male'},\n",
        "    'Casualty_Class': {-1: np.nan, 1: 'Driver or rider', 2: 'Passenger', 3: 'Pedestrian'},\n",
        "    'Age_of_Casualty': {-1: np.nan },\n",
        "    'Age_Band_of_Casualty': {-1: np.nan, 1: '0-5', 2: '6-10', 3: '11-15', 4: '16-20', 5: '21-25', 6: '26-35', 7: '36-45', 8: '46-55', 9: '56-65', 10: '66-75', 11: 'Over 75'},\n",
        "    'Pedestrian_Location': {-1: np.nan, 10: np.nan, 0: 'Not a Pedestrian', 1:\t'Crossing on pedestrian crossing facility', 2: 'Crossing in zig-zag approach lines', 3: 'Crossing in zig-zag exit lines', 4: 'Crossing elsewhere within 50m. of pedestrian crossing', 5: 'In carriageway, crossing elsewhere', 6:\t'On footway or verge', 7:\t'On refuge, central island or central reservation', 8: 'In centre of carriageway - not on refuge, island or central reservation', 9: 'In carriageway, not crossing'},\n",
        "    'Pedestrian_Movement': {-1: np.nan, 9: np.nan, 0:\t'Not a Pedestrian', 1: 'Crossing from driver nearside', 2: 'Crossing from nearside - masked by parked or stationary vehicle', 3: 'Crossing from driver offside', 4: 'Crossing from offside - masked by  parked or stationary vehicle', 5: 'In carriageway, stationary - not crossing  (standing or playing)', 6: 'In carriageway, stationary - not crossing  (standing or playing) - masked by parked or stationary vehicle', 7: 'Walking along in carriageway, facing traffic', 8:\t'Walking along in carriageway, back to traffic'},\n",
        "    'Car_Passenger': {-1: np.nan, 0: 'Not car passenger', 1: 'Front seat passenger', 2:\t'Rear seat passenger'},\n",
        "    'Bus_or_Coach_Passenger': {-1: np.nan, 0: 'Not a bus or coach passenger', 1: 'Boarding', 2:\t'Alighting', 3:\t'Standing passenger', 4: 'Seated passenger'},\n",
        "    'Pedestrian_Road_Maintenance_Worker': {-1: np.nan, 2: np.nan, 0: 'No / Not applicable', 1: 'Yes'},\n",
        "    'Casualty_Type': {-1:np.nan, 0:\t'Pedestrian', 1: 'Cyclist', 2: 'Motorcycle 50cc and under rider or passenger', 3: 'Motorcycle 125cc and under rider or passenger', 4:\t'Motorcycle over 125cc and up to 500cc rider or  passenger', 5:\t'Motorcycle over 500cc rider or passenger', 8: 'Taxi/Private hire car occupant', 9:\t'Car occupant', 10:\t'Minibus (8 - 16 passenger seats) occupant', 11: 'Bus or coach occupant (17 or more pass seats)', 16:\t'Horse rider', 17: 'Agricultural vehicle occupant', 18:\t'Tram occupant', 19: 'Van / Goods vehicle (3.5 tonnes mgw or under) occupant', 20: 'Goods vehicle (over 3.5t. and under 7.5t.) occupant', 21:\t'Goods vehicle (7.5 tonnes mgw and over) occupant', 22:\t'Mobility scooter rider', 23:\t'Electric motorcycle rider or passenger', 90:\t'Other vehicle occupant', 97:\t'Motorcycle - unknown cc rider or passenger', 98: 'Goods vehicle (unknown weight) occupant'}\n",
        "}\n",
        "\n",
        "for key in df_uk_vehicles_map:\n",
        "    for old_value in df_uk_vehicles_map[key]:\n",
        "        df_uk_vehicles[key] = df_uk_vehicles[key].replace(old_value, df_uk_vehicles_map[key][old_value])\n",
        "for key in df_uk_accidents_map:\n",
        "    for old_value in df_uk_accidents_map[key]:\n",
        "        df_uk_accidents[key] = df_uk_accidents[key].replace(old_value, df_uk_accidents_map[key][old_value])\n",
        "for key in df_uk_casualties_map:\n",
        "    for old_value in df_uk_casualties_map[key]:\n",
        "        df_uk_casualties[key] = df_uk_casualties[key].replace(old_value, df_uk_casualties_map[key][old_value])\n",
        "\n",
        "# Converting UK Accident_Index to string\n",
        "df_uk_vehicles.Accident_Index = df_uk_vehicles.Accident_Index.astype(str)\n",
        "df_uk_accidents.Accident_Index = df_uk_accidents.Accident_Index.astype(str)\n",
        "df_uk_casualties.Accident_Index = df_uk_casualties.Accident_Index.astype(str)\n",
        "\n",
        "# Converting UK number columns to floats\n",
        "df_uk_vehicles.Age_of_Vehicle = df_uk_vehicles.Age_of_Vehicle.astype(float)\n",
        "\n",
        "# Calculating vehicle year from age_of_vehicle and accident date\n",
        "if 'Vehicle_Year' not in df_uk_vehicles:\n",
        "    df_uk_vehicles = pd.merge(df_uk_vehicles, df_uk_accidents[['Accident_Index','Date']], on = ['Accident_Index'], how='left')\n",
        "    df_uk_vehicles['Vehicle_Year'] = df_uk_vehicles.Date.str.extract(r'([0-9][0-9][0-9][0-9])', expand=True)\n",
        "    df_uk_vehicles['Vehicle_Year'] = df_uk_vehicles['Vehicle_Year'].astype(float)\n",
        "    df_uk_vehicles['Vehicle_Year'] = df_uk_vehicles['Vehicle_Year'] - df_uk_vehicles.Age_of_Vehicle  \n",
        "    \n",
        "# Dropping unneccessary columns\n",
        "df_uk_vehicles.drop(columns = ['Date', 'Towing_and_Articulation', 'Was_Vehicle_Left_Hand_Drive?', 'Driver_IMD_Decile', 'Vehicle_IMD_Decile'], inplace = True, errors = 'ignore')\n",
        "df_uk_accidents.drop(columns = ['Local_Authority_(District)', 'Local_Authority_(Highway)', 'LSOA_of_Accident_Location'], inplace = True, errors = 'ignore')\n",
        "df_uk_casualties.drop(columns = ['Casualty_Home_Area_Type', 'Casualty_IMD_Decile'], inplace = True, errors = 'ignore')"
      ],
      "execution_count": 0,
      "outputs": []
    },
    {
      "cell_type": "code",
      "metadata": {
        "id": "gXR1jn2MvtVF",
        "colab_type": "code",
        "colab": {}
      },
      "source": [
        "df = df_uk_accidents[['Accident_Index', 'Accident_Severity', 'Number_of_Vehicles', 'Number_of_Casualties', \n",
        "                    'Date', 'Day_of_Week', 'Time', '1st_Road_Class', 'Road_Type', 'Speed_limit', 'Light_Conditions',\n",
        "                    'Weather_Conditions', 'Road_Surface_Conditions', 'Special_Conditions_at_Site', \n",
        "                    'Carriageway_Hazards', 'Urban_or_Rural_Area']]\n",
        "df_veh = df_uk_vehicles[['Accident_Index', 'Vehicle_Reference', 'Vehicle_Type', 'Vehicle_Manoeuvre', \n",
        "                        'Skidding_and_Overturning', 'Hit_Object_in_Carriageway', 'Hit_Object_off_Carriageway',\n",
        "                        '1st_Point_of_Impact', 'Engine_Capacity_(CC)', 'Propulsion_Code', 'Age_of_Vehicle',\n",
        "                        'Vehicle_Make', 'Vehicle_Model', 'Vehicle_Year','Sex_of_Driver', 'Age_Band_of_Driver']]\n",
        "df_cas = df_uk_casualties[['Accident_Index', 'Vehicle_Reference', 'Casualty_Reference', 'Casualty_Class', 'Car_Passenger']]\n",
        "df = pd.merge(df, df_veh, on=['Accident_Index'], how='left')\n"
      ],
      "execution_count": 0,
      "outputs": []
    },
    {
      "cell_type": "code",
      "metadata": {
        "id": "-q3GNptCia-q",
        "colab_type": "code",
        "colab": {}
      },
      "source": [
        "df = pd.merge(df, df_cas, on=['Accident_Index', 'Vehicle_Reference'], how='left')"
      ],
      "execution_count": 0,
      "outputs": []
    },
    {
      "cell_type": "code",
      "metadata": {
        "id": "cZhfU8Vzv2yd",
        "colab_type": "code",
        "colab": {}
      },
      "source": [
        "df_uk = df[['Accident_Severity', 'Number_of_Vehicles','Number_of_Casualties', \n",
        "            'Day_of_Week','1st_Road_Class', 'Road_Type', 'Speed_limit', 'Light_Conditions', \n",
        "            'Weather_Conditions','Road_Surface_Conditions', 'Special_Conditions_at_Site',\n",
        "            'Carriageway_Hazards', 'Urban_or_Rural_Area',\n",
        "            'Vehicle_Type', 'Vehicle_Manoeuvre', 'Skidding_and_Overturning',\n",
        "            'Hit_Object_in_Carriageway', 'Hit_Object_off_Carriageway',\n",
        "            '1st_Point_of_Impact', 'Engine_Capacity_(CC)', 'Propulsion_Code',\n",
        "            'Age_of_Vehicle', 'Sex_of_Driver', 'Age_Band_of_Driver']]\n",
        "df_uk = df_uk.dropna()"
      ],
      "execution_count": 0,
      "outputs": []
    },
    {
      "cell_type": "code",
      "metadata": {
        "id": "b6JEXmG7jRR5",
        "colab_type": "code",
        "outputId": "7aebd5c5-6f3a-4181-b593-a7a3a3f6fdd5",
        "colab": {
          "base_uri": "https://localhost:8080/",
          "height": 573
        }
      },
      "source": [
        "df_uk"
      ],
      "execution_count": 9,
      "outputs": [
        {
          "output_type": "execute_result",
          "data": {
            "text/html": [
              "<div>\n",
              "<style scoped>\n",
              "    .dataframe tbody tr th:only-of-type {\n",
              "        vertical-align: middle;\n",
              "    }\n",
              "\n",
              "    .dataframe tbody tr th {\n",
              "        vertical-align: top;\n",
              "    }\n",
              "\n",
              "    .dataframe thead th {\n",
              "        text-align: right;\n",
              "    }\n",
              "</style>\n",
              "<table border=\"1\" class=\"dataframe\">\n",
              "  <thead>\n",
              "    <tr style=\"text-align: right;\">\n",
              "      <th></th>\n",
              "      <th>Accident_Severity</th>\n",
              "      <th>Number_of_Vehicles</th>\n",
              "      <th>Number_of_Casualties</th>\n",
              "      <th>Day_of_Week</th>\n",
              "      <th>1st_Road_Class</th>\n",
              "      <th>Road_Type</th>\n",
              "      <th>Speed_limit</th>\n",
              "      <th>Light_Conditions</th>\n",
              "      <th>Weather_Conditions</th>\n",
              "      <th>Road_Surface_Conditions</th>\n",
              "      <th>Special_Conditions_at_Site</th>\n",
              "      <th>Carriageway_Hazards</th>\n",
              "      <th>Urban_or_Rural_Area</th>\n",
              "      <th>Vehicle_Type</th>\n",
              "      <th>Vehicle_Manoeuvre</th>\n",
              "      <th>Skidding_and_Overturning</th>\n",
              "      <th>Hit_Object_in_Carriageway</th>\n",
              "      <th>Hit_Object_off_Carriageway</th>\n",
              "      <th>1st_Point_of_Impact</th>\n",
              "      <th>Engine_Capacity_(CC)</th>\n",
              "      <th>Propulsion_Code</th>\n",
              "      <th>Age_of_Vehicle</th>\n",
              "      <th>Sex_of_Driver</th>\n",
              "      <th>Age_Band_of_Driver</th>\n",
              "    </tr>\n",
              "  </thead>\n",
              "  <tbody>\n",
              "    <tr>\n",
              "      <th>0</th>\n",
              "      <td>Fatal</td>\n",
              "      <td>2</td>\n",
              "      <td>3</td>\n",
              "      <td>Saturday</td>\n",
              "      <td>A</td>\n",
              "      <td>Single carriageway</td>\n",
              "      <td>30.0</td>\n",
              "      <td>Darkness - lights lit</td>\n",
              "      <td>Fine no high winds</td>\n",
              "      <td>Dry</td>\n",
              "      <td>None</td>\n",
              "      <td>None</td>\n",
              "      <td>Urban</td>\n",
              "      <td>Car</td>\n",
              "      <td>Going ahead other</td>\n",
              "      <td>None</td>\n",
              "      <td>None</td>\n",
              "      <td>None</td>\n",
              "      <td>Front</td>\n",
              "      <td>1997.0</td>\n",
              "      <td>Heavy oil</td>\n",
              "      <td>1.0</td>\n",
              "      <td>Male</td>\n",
              "      <td>21-25</td>\n",
              "    </tr>\n",
              "    <tr>\n",
              "      <th>3</th>\n",
              "      <td>Slight</td>\n",
              "      <td>2</td>\n",
              "      <td>1</td>\n",
              "      <td>Sunday</td>\n",
              "      <td>A</td>\n",
              "      <td>Single carriageway</td>\n",
              "      <td>30.0</td>\n",
              "      <td>Darkness - lights lit</td>\n",
              "      <td>Fine no high winds</td>\n",
              "      <td>Wet or damp</td>\n",
              "      <td>None</td>\n",
              "      <td>None</td>\n",
              "      <td>Urban</td>\n",
              "      <td>Car</td>\n",
              "      <td>Going ahead other</td>\n",
              "      <td>None</td>\n",
              "      <td>None</td>\n",
              "      <td>None</td>\n",
              "      <td>Back</td>\n",
              "      <td>1797.0</td>\n",
              "      <td>Hybrid electric</td>\n",
              "      <td>8.0</td>\n",
              "      <td>Male</td>\n",
              "      <td>26-35</td>\n",
              "    </tr>\n",
              "    <tr>\n",
              "      <th>4</th>\n",
              "      <td>Slight</td>\n",
              "      <td>2</td>\n",
              "      <td>1</td>\n",
              "      <td>Sunday</td>\n",
              "      <td>A</td>\n",
              "      <td>Single carriageway</td>\n",
              "      <td>30.0</td>\n",
              "      <td>Darkness - lights lit</td>\n",
              "      <td>Fine no high winds</td>\n",
              "      <td>Wet or damp</td>\n",
              "      <td>None</td>\n",
              "      <td>None</td>\n",
              "      <td>Urban</td>\n",
              "      <td>Car</td>\n",
              "      <td>Going ahead other</td>\n",
              "      <td>Skidded</td>\n",
              "      <td>None</td>\n",
              "      <td>None</td>\n",
              "      <td>Front</td>\n",
              "      <td>2204.0</td>\n",
              "      <td>Heavy oil</td>\n",
              "      <td>12.0</td>\n",
              "      <td>Male</td>\n",
              "      <td>36-45</td>\n",
              "    </tr>\n",
              "    <tr>\n",
              "      <th>6</th>\n",
              "      <td>Slight</td>\n",
              "      <td>3</td>\n",
              "      <td>1</td>\n",
              "      <td>Sunday</td>\n",
              "      <td>A</td>\n",
              "      <td>Single carriageway</td>\n",
              "      <td>30.0</td>\n",
              "      <td>Darkness - lights lit</td>\n",
              "      <td>Fine no high winds</td>\n",
              "      <td>Dry</td>\n",
              "      <td>None</td>\n",
              "      <td>None</td>\n",
              "      <td>Urban</td>\n",
              "      <td>Car</td>\n",
              "      <td>Going ahead other</td>\n",
              "      <td>None</td>\n",
              "      <td>None</td>\n",
              "      <td>None</td>\n",
              "      <td>Front</td>\n",
              "      <td>1896.0</td>\n",
              "      <td>Heavy oil</td>\n",
              "      <td>9.0</td>\n",
              "      <td>Male</td>\n",
              "      <td>26-35</td>\n",
              "    </tr>\n",
              "    <tr>\n",
              "      <th>7</th>\n",
              "      <td>Slight</td>\n",
              "      <td>3</td>\n",
              "      <td>1</td>\n",
              "      <td>Sunday</td>\n",
              "      <td>A</td>\n",
              "      <td>Single carriageway</td>\n",
              "      <td>30.0</td>\n",
              "      <td>Darkness - lights lit</td>\n",
              "      <td>Fine no high winds</td>\n",
              "      <td>Dry</td>\n",
              "      <td>None</td>\n",
              "      <td>None</td>\n",
              "      <td>Urban</td>\n",
              "      <td>Car</td>\n",
              "      <td>Going ahead other</td>\n",
              "      <td>None</td>\n",
              "      <td>None</td>\n",
              "      <td>None</td>\n",
              "      <td>Front</td>\n",
              "      <td>1299.0</td>\n",
              "      <td>Petrol</td>\n",
              "      <td>14.0</td>\n",
              "      <td>Female</td>\n",
              "      <td>26-35</td>\n",
              "    </tr>\n",
              "    <tr>\n",
              "      <th>...</th>\n",
              "      <td>...</td>\n",
              "      <td>...</td>\n",
              "      <td>...</td>\n",
              "      <td>...</td>\n",
              "      <td>...</td>\n",
              "      <td>...</td>\n",
              "      <td>...</td>\n",
              "      <td>...</td>\n",
              "      <td>...</td>\n",
              "      <td>...</td>\n",
              "      <td>...</td>\n",
              "      <td>...</td>\n",
              "      <td>...</td>\n",
              "      <td>...</td>\n",
              "      <td>...</td>\n",
              "      <td>...</td>\n",
              "      <td>...</td>\n",
              "      <td>...</td>\n",
              "      <td>...</td>\n",
              "      <td>...</td>\n",
              "      <td>...</td>\n",
              "      <td>...</td>\n",
              "      <td>...</td>\n",
              "      <td>...</td>\n",
              "    </tr>\n",
              "    <tr>\n",
              "      <th>3904706</th>\n",
              "      <td>Slight</td>\n",
              "      <td>1</td>\n",
              "      <td>1</td>\n",
              "      <td>Tuesday</td>\n",
              "      <td>B</td>\n",
              "      <td>Single carriageway</td>\n",
              "      <td>40.0</td>\n",
              "      <td>Darkness - lights lit</td>\n",
              "      <td>Fine no high winds</td>\n",
              "      <td>Frost or ice</td>\n",
              "      <td>None</td>\n",
              "      <td>None</td>\n",
              "      <td>Rural</td>\n",
              "      <td>Car</td>\n",
              "      <td>Slowing or stopping</td>\n",
              "      <td>Skidded</td>\n",
              "      <td>Kerb</td>\n",
              "      <td>Wall or fence</td>\n",
              "      <td>Front</td>\n",
              "      <td>1391.0</td>\n",
              "      <td>Petrol</td>\n",
              "      <td>15.0</td>\n",
              "      <td>Male</td>\n",
              "      <td>21-25</td>\n",
              "    </tr>\n",
              "    <tr>\n",
              "      <th>3904707</th>\n",
              "      <td>Serious</td>\n",
              "      <td>3</td>\n",
              "      <td>2</td>\n",
              "      <td>Wednesday</td>\n",
              "      <td>A</td>\n",
              "      <td>Single carriageway</td>\n",
              "      <td>60.0</td>\n",
              "      <td>Darkness - no lighting</td>\n",
              "      <td>Raining no high winds</td>\n",
              "      <td>Wet or damp</td>\n",
              "      <td>None</td>\n",
              "      <td>None</td>\n",
              "      <td>Rural</td>\n",
              "      <td>Car</td>\n",
              "      <td>Moving off</td>\n",
              "      <td>None</td>\n",
              "      <td>None</td>\n",
              "      <td>None</td>\n",
              "      <td>Offside</td>\n",
              "      <td>1781.0</td>\n",
              "      <td>Petrol</td>\n",
              "      <td>12.0</td>\n",
              "      <td>Male</td>\n",
              "      <td>26-35</td>\n",
              "    </tr>\n",
              "    <tr>\n",
              "      <th>3904708</th>\n",
              "      <td>Serious</td>\n",
              "      <td>3</td>\n",
              "      <td>2</td>\n",
              "      <td>Wednesday</td>\n",
              "      <td>A</td>\n",
              "      <td>Single carriageway</td>\n",
              "      <td>60.0</td>\n",
              "      <td>Darkness - no lighting</td>\n",
              "      <td>Raining no high winds</td>\n",
              "      <td>Wet or damp</td>\n",
              "      <td>None</td>\n",
              "      <td>None</td>\n",
              "      <td>Rural</td>\n",
              "      <td>Van &lt;=3.5 t.</td>\n",
              "      <td>Going ahead other</td>\n",
              "      <td>Skidded</td>\n",
              "      <td>Parked vehicle</td>\n",
              "      <td>Wall or fence</td>\n",
              "      <td>Front</td>\n",
              "      <td>1686.0</td>\n",
              "      <td>Heavy oil</td>\n",
              "      <td>4.0</td>\n",
              "      <td>Male</td>\n",
              "      <td>36-45</td>\n",
              "    </tr>\n",
              "    <tr>\n",
              "      <th>3904710</th>\n",
              "      <td>Slight</td>\n",
              "      <td>2</td>\n",
              "      <td>2</td>\n",
              "      <td>Wednesday</td>\n",
              "      <td>B</td>\n",
              "      <td>Single carriageway</td>\n",
              "      <td>60.0</td>\n",
              "      <td>Daylight</td>\n",
              "      <td>Fine no high winds</td>\n",
              "      <td>Wet or damp</td>\n",
              "      <td>None</td>\n",
              "      <td>None</td>\n",
              "      <td>Rural</td>\n",
              "      <td>Bus (&gt;=17 seats)</td>\n",
              "      <td>Turning right</td>\n",
              "      <td>None</td>\n",
              "      <td>None</td>\n",
              "      <td>None</td>\n",
              "      <td>Offside</td>\n",
              "      <td>4500.0</td>\n",
              "      <td>Heavy oil</td>\n",
              "      <td>4.0</td>\n",
              "      <td>Male</td>\n",
              "      <td>36-45</td>\n",
              "    </tr>\n",
              "    <tr>\n",
              "      <th>3904711</th>\n",
              "      <td>Slight</td>\n",
              "      <td>2</td>\n",
              "      <td>2</td>\n",
              "      <td>Wednesday</td>\n",
              "      <td>B</td>\n",
              "      <td>Single carriageway</td>\n",
              "      <td>60.0</td>\n",
              "      <td>Daylight</td>\n",
              "      <td>Fine no high winds</td>\n",
              "      <td>Wet or damp</td>\n",
              "      <td>None</td>\n",
              "      <td>None</td>\n",
              "      <td>Rural</td>\n",
              "      <td>Car</td>\n",
              "      <td>Going ahead other</td>\n",
              "      <td>None</td>\n",
              "      <td>None</td>\n",
              "      <td>None</td>\n",
              "      <td>Front</td>\n",
              "      <td>1398.0</td>\n",
              "      <td>Heavy oil</td>\n",
              "      <td>11.0</td>\n",
              "      <td>Male</td>\n",
              "      <td>Over 75</td>\n",
              "    </tr>\n",
              "  </tbody>\n",
              "</table>\n",
              "<p>1785955 rows × 24 columns</p>\n",
              "</div>"
            ],
            "text/plain": [
              "        Accident_Severity  Number_of_Vehicles  ...  Sex_of_Driver Age_Band_of_Driver\n",
              "0                   Fatal                   2  ...           Male              21-25\n",
              "3                  Slight                   2  ...           Male              26-35\n",
              "4                  Slight                   2  ...           Male              36-45\n",
              "6                  Slight                   3  ...           Male              26-35\n",
              "7                  Slight                   3  ...         Female              26-35\n",
              "...                   ...                 ...  ...            ...                ...\n",
              "3904706            Slight                   1  ...           Male              21-25\n",
              "3904707           Serious                   3  ...           Male              26-35\n",
              "3904708           Serious                   3  ...           Male              36-45\n",
              "3904710            Slight                   2  ...           Male              36-45\n",
              "3904711            Slight                   2  ...           Male            Over 75\n",
              "\n",
              "[1785955 rows x 24 columns]"
            ]
          },
          "metadata": {
            "tags": []
          },
          "execution_count": 9
        }
      ]
    },
    {
      "cell_type": "markdown",
      "metadata": {
        "id": "EOHOh7T-o1b4",
        "colab_type": "text"
      },
      "source": [
        "## Decision tree - all 3 classes - unbalanced"
      ]
    },
    {
      "cell_type": "code",
      "metadata": {
        "id": "FU_2NKyEo1b6",
        "colab_type": "code",
        "outputId": "39b8c587-c4a0-48ee-e68f-0bb936d7d28b",
        "colab": {
          "base_uri": "https://localhost:8080/",
          "height": 66
        }
      },
      "source": [
        "c = Counter(df_uk['Accident_Severity'])\n",
        "[(i, c[i] / len(df_uk['Accident_Severity']) * 100.0) for i in c]"
      ],
      "execution_count": 0,
      "outputs": [
        {
          "output_type": "execute_result",
          "data": {
            "text/plain": [
              "[('Fatal', 1.8799465832005844),\n",
              " ('Slight', 84.52239838069828),\n",
              " ('Serious', 13.597655036101134)]"
            ]
          },
          "metadata": {
            "tags": []
          },
          "execution_count": 10
        }
      ]
    },
    {
      "cell_type": "code",
      "metadata": {
        "id": "bBEkWuCBo1cA",
        "colab_type": "code",
        "colab": {}
      },
      "source": [
        "df_rf_3 = df_uk.copy()\n",
        "# some modifications for label encoding\n",
        "df_rf_3['Speed_limit'] = df_rf_3['Speed_limit'].astype(int)\n",
        "df_rf_3['Engine_Capacity_(CC)'] = df_rf_3['Engine_Capacity_(CC)'].astype(int)\n",
        "df_rf_3['Age_of_Vehicle'] = df_rf_3['Age_of_Vehicle'].astype(int)\n",
        "df_rf_3['1st_Point_of_Impact'] = df_rf_3['1st_Point_of_Impact'].replace(0.0, 'No impact')\n",
        "#Labelling categorical features\n",
        "\n",
        "#Labelling categorical features\n",
        "lblE = LabelEncoder()\n",
        "for i in df_rf_3:\n",
        "    if df_rf_3[i].dtype == 'object':\n",
        "        lblE.fit(df_rf_3[i])\n",
        "        df_rf_3[i] = lblE.transform(df_rf_3[i])"
      ],
      "execution_count": 0,
      "outputs": []
    },
    {
      "cell_type": "code",
      "metadata": {
        "id": "VrV2iAVLsK4I",
        "colab_type": "code",
        "outputId": "574588b1-bc8b-4f2a-98cb-83d8d0522cad",
        "colab": {
          "base_uri": "https://localhost:8080/",
          "height": 461
        }
      },
      "source": [
        "df_rf_3.dtypes"
      ],
      "execution_count": 0,
      "outputs": [
        {
          "output_type": "execute_result",
          "data": {
            "text/plain": [
              "Accident_Severity             int64\n",
              "Number_of_Vehicles            int64\n",
              "Number_of_Casualties          int64\n",
              "Day_of_Week                   int64\n",
              "1st_Road_Class                int64\n",
              "Road_Type                     int64\n",
              "Speed_limit                   int64\n",
              "Light_Conditions              int64\n",
              "Weather_Conditions            int64\n",
              "Road_Surface_Conditions       int64\n",
              "Special_Conditions_at_Site    int64\n",
              "Carriageway_Hazards           int64\n",
              "Urban_or_Rural_Area           int64\n",
              "Vehicle_Type                  int64\n",
              "Vehicle_Manoeuvre             int64\n",
              "Skidding_and_Overturning      int64\n",
              "Hit_Object_in_Carriageway     int64\n",
              "Hit_Object_off_Carriageway    int64\n",
              "1st_Point_of_Impact           int64\n",
              "Engine_Capacity_(CC)          int64\n",
              "Propulsion_Code               int64\n",
              "Age_of_Vehicle                int64\n",
              "Sex_of_Driver                 int64\n",
              "Age_Band_of_Driver            int64\n",
              "dtype: object"
            ]
          },
          "metadata": {
            "tags": []
          },
          "execution_count": 31
        }
      ]
    },
    {
      "cell_type": "code",
      "metadata": {
        "id": "gz7b0gkDo1cE",
        "colab_type": "code",
        "outputId": "81e20b57-3d45-44e4-f72e-71c7d0e5524d",
        "colab": {
          "base_uri": "https://localhost:8080/",
          "height": 33
        }
      },
      "source": [
        "c = Counter(df_rf_3['Accident_Severity'])\n",
        "[(i, c[i] / len(df_rf_3['Accident_Severity']) * 100.0) for i in c]"
      ],
      "execution_count": 0,
      "outputs": [
        {
          "output_type": "execute_result",
          "data": {
            "text/plain": [
              "[(0, 1.8799465832005844), (2, 84.52239838069828), (1, 13.597655036101134)]"
            ]
          },
          "metadata": {
            "tags": []
          },
          "execution_count": 12
        }
      ]
    },
    {
      "cell_type": "code",
      "metadata": {
        "id": "jox-es1AtRVQ",
        "colab_type": "code",
        "outputId": "b50bfdab-188a-4537-f9e5-04e9ce012188",
        "colab": {
          "base_uri": "https://localhost:8080/",
          "height": 391
        }
      },
      "source": [
        "y = df_rf_3.Accident_Severity \n",
        "label = pd.get_dummies(y)\n",
        "label"
      ],
      "execution_count": 0,
      "outputs": [
        {
          "output_type": "execute_result",
          "data": {
            "text/html": [
              "<div>\n",
              "<style scoped>\n",
              "    .dataframe tbody tr th:only-of-type {\n",
              "        vertical-align: middle;\n",
              "    }\n",
              "\n",
              "    .dataframe tbody tr th {\n",
              "        vertical-align: top;\n",
              "    }\n",
              "\n",
              "    .dataframe thead th {\n",
              "        text-align: right;\n",
              "    }\n",
              "</style>\n",
              "<table border=\"1\" class=\"dataframe\">\n",
              "  <thead>\n",
              "    <tr style=\"text-align: right;\">\n",
              "      <th></th>\n",
              "      <th>0</th>\n",
              "      <th>1</th>\n",
              "      <th>2</th>\n",
              "    </tr>\n",
              "  </thead>\n",
              "  <tbody>\n",
              "    <tr>\n",
              "      <th>0</th>\n",
              "      <td>1</td>\n",
              "      <td>0</td>\n",
              "      <td>0</td>\n",
              "    </tr>\n",
              "    <tr>\n",
              "      <th>3</th>\n",
              "      <td>0</td>\n",
              "      <td>0</td>\n",
              "      <td>1</td>\n",
              "    </tr>\n",
              "    <tr>\n",
              "      <th>4</th>\n",
              "      <td>0</td>\n",
              "      <td>0</td>\n",
              "      <td>1</td>\n",
              "    </tr>\n",
              "    <tr>\n",
              "      <th>6</th>\n",
              "      <td>0</td>\n",
              "      <td>0</td>\n",
              "      <td>1</td>\n",
              "    </tr>\n",
              "    <tr>\n",
              "      <th>7</th>\n",
              "      <td>0</td>\n",
              "      <td>0</td>\n",
              "      <td>1</td>\n",
              "    </tr>\n",
              "    <tr>\n",
              "      <th>...</th>\n",
              "      <td>...</td>\n",
              "      <td>...</td>\n",
              "      <td>...</td>\n",
              "    </tr>\n",
              "    <tr>\n",
              "      <th>3904706</th>\n",
              "      <td>0</td>\n",
              "      <td>0</td>\n",
              "      <td>1</td>\n",
              "    </tr>\n",
              "    <tr>\n",
              "      <th>3904707</th>\n",
              "      <td>0</td>\n",
              "      <td>1</td>\n",
              "      <td>0</td>\n",
              "    </tr>\n",
              "    <tr>\n",
              "      <th>3904708</th>\n",
              "      <td>0</td>\n",
              "      <td>1</td>\n",
              "      <td>0</td>\n",
              "    </tr>\n",
              "    <tr>\n",
              "      <th>3904710</th>\n",
              "      <td>0</td>\n",
              "      <td>0</td>\n",
              "      <td>1</td>\n",
              "    </tr>\n",
              "    <tr>\n",
              "      <th>3904711</th>\n",
              "      <td>0</td>\n",
              "      <td>0</td>\n",
              "      <td>1</td>\n",
              "    </tr>\n",
              "  </tbody>\n",
              "</table>\n",
              "<p>1785955 rows × 3 columns</p>\n",
              "</div>"
            ],
            "text/plain": [
              "         0  1  2\n",
              "0        1  0  0\n",
              "3        0  0  1\n",
              "4        0  0  1\n",
              "6        0  0  1\n",
              "7        0  0  1\n",
              "...     .. .. ..\n",
              "3904706  0  0  1\n",
              "3904707  0  1  0\n",
              "3904708  0  1  0\n",
              "3904710  0  0  1\n",
              "3904711  0  0  1\n",
              "\n",
              "[1785955 rows x 3 columns]"
            ]
          },
          "metadata": {
            "tags": []
          },
          "execution_count": 13
        }
      ]
    },
    {
      "cell_type": "code",
      "metadata": {
        "id": "DlCIP8Ujo1cJ",
        "colab_type": "code",
        "outputId": "bb1589f0-0cb9-4b9c-cb96-49b2f4fd1ebd",
        "colab": {
          "base_uri": "https://localhost:8080/",
          "height": 33
        }
      },
      "source": [
        "X_train, X_test, y_train, y_test = train_test_split(df_rf_3.drop('Accident_Severity', axis=1), \n",
        "                                                    label, test_size=0.33, random_state=42)\n",
        "X_train.shape, X_test.shape, y_train.shape, y_test.shape"
      ],
      "execution_count": 0,
      "outputs": [
        {
          "output_type": "execute_result",
          "data": {
            "text/plain": [
              "((1196589, 23), (589366, 23), (1196589, 3), (589366, 3))"
            ]
          },
          "metadata": {
            "tags": []
          },
          "execution_count": 14
        }
      ]
    },
    {
      "cell_type": "code",
      "metadata": {
        "id": "AtGgzy0is1T3",
        "colab_type": "code",
        "outputId": "130b6896-6ae4-44c1-a13c-fcee98e62ed8",
        "colab": {
          "base_uri": "https://localhost:8080/",
          "height": 115
        }
      },
      "source": [
        "dt = DecisionTreeClassifier()\n",
        "dt.fit(X_train, y_train)"
      ],
      "execution_count": 0,
      "outputs": [
        {
          "output_type": "execute_result",
          "data": {
            "text/plain": [
              "DecisionTreeClassifier(class_weight=None, criterion='gini', max_depth=None,\n",
              "                       max_features=None, max_leaf_nodes=None,\n",
              "                       min_impurity_decrease=0.0, min_impurity_split=None,\n",
              "                       min_samples_leaf=1, min_samples_split=2,\n",
              "                       min_weight_fraction_leaf=0.0, presort=False,\n",
              "                       random_state=None, splitter='best')"
            ]
          },
          "metadata": {
            "tags": []
          },
          "execution_count": 15
        }
      ]
    },
    {
      "cell_type": "code",
      "metadata": {
        "id": "oi_5D5LEuO_y",
        "colab_type": "code",
        "outputId": "5878b783-6b99-4c8c-d956-659c6e5fd468",
        "colab": {
          "base_uri": "https://localhost:8080/",
          "height": 66
        }
      },
      "source": [
        "y_pred = dt.predict(X_test)\n",
        "test = np.array(y_test).argmax(axis=1)\n",
        "predictions = np.array(y_pred).argmax(axis=1)\n",
        "confusion_matrix(test, predictions)"
      ],
      "execution_count": 0,
      "outputs": [
        {
          "output_type": "execute_result",
          "data": {
            "text/plain": [
              "array([[  4352,   2122,   4645],\n",
              "       [  2256,  31894,  46115],\n",
              "       [  6227,  56086, 435669]])"
            ]
          },
          "metadata": {
            "tags": []
          },
          "execution_count": 16
        }
      ]
    },
    {
      "cell_type": "code",
      "metadata": {
        "id": "VOr_y-6eygzU",
        "colab_type": "code",
        "outputId": "e35b77ba-10f5-4c14-9500-72c2ff772793",
        "colab": {
          "base_uri": "https://localhost:8080/",
          "height": 180
        }
      },
      "source": [
        "print(metrics.classification_report(test, predictions))"
      ],
      "execution_count": 0,
      "outputs": [
        {
          "output_type": "stream",
          "text": [
            "              precision    recall  f1-score   support\n",
            "\n",
            "           0       0.34      0.39      0.36     11119\n",
            "           1       0.35      0.40      0.37     80265\n",
            "           2       0.90      0.87      0.89    497982\n",
            "\n",
            "    accuracy                           0.80    589366\n",
            "   macro avg       0.53      0.55      0.54    589366\n",
            "weighted avg       0.81      0.80      0.81    589366\n",
            "\n"
          ],
          "name": "stdout"
        }
      ]
    },
    {
      "cell_type": "markdown",
      "metadata": {
        "id": "uWmLt2nto1co",
        "colab_type": "text"
      },
      "source": [
        "## Decision tree - 2 classes slight, severe- unbalanced"
      ]
    },
    {
      "cell_type": "code",
      "metadata": {
        "id": "0ZZLUEhio1cp",
        "colab_type": "code",
        "colab": {}
      },
      "source": [
        "df_rf_2 = df_uk.copy()\n",
        "# some modifications for label encoding\n",
        "df_rf_2['Speed_limit'] = df_rf_2['Speed_limit'].astype(int)\n",
        "df_rf_2['Engine_Capacity_(CC)'] = df_rf_2['Engine_Capacity_(CC)'].astype(int)\n",
        "df_rf_2['Age_of_Vehicle'] = df_rf_2['Age_of_Vehicle'].astype(int)\n",
        "df_rf_2['1st_Point_of_Impact'] = df_rf_2['1st_Point_of_Impact'].replace(0.0, 'No impact')\n",
        "df_rf_2['Accident_Severity'] = df_rf_2['Accident_Severity'].replace('Serious', 'Severe')\n",
        "df_rf_2['Accident_Severity'] = df_rf_2['Accident_Severity'].replace('Fatal', 'Severe')\n",
        "df_rf_2.rename(columns={'1st_Road_Class': 'First_Road_Class', '1st_Point_of_Impact': 'First_Point_of_Impact'}, inplace = True)"
      ],
      "execution_count": 0,
      "outputs": []
    },
    {
      "cell_type": "code",
      "metadata": {
        "id": "ItnZPJWNo1ct",
        "colab_type": "code",
        "outputId": "e7204434-b92c-44cc-b60e-a353150df701",
        "colab": {
          "base_uri": "https://localhost:8080/",
          "height": 33
        }
      },
      "source": [
        "c = Counter(df_rf_2['Accident_Severity'])\n",
        "[(i, c[i] / len(df_rf_2['Accident_Severity']) * 100.0) for i in c]"
      ],
      "execution_count": 11,
      "outputs": [
        {
          "output_type": "execute_result",
          "data": {
            "text/plain": [
              "[('Severe', 15.477601619301717), ('Slight', 84.52239838069828)]"
            ]
          },
          "metadata": {
            "tags": []
          },
          "execution_count": 11
        }
      ]
    },
    {
      "cell_type": "code",
      "metadata": {
        "id": "dA-tOLnXDfNK",
        "colab_type": "code",
        "outputId": "6dfa7030-4cbb-42f6-bd2e-43445bf3ab5d",
        "colab": {
          "base_uri": "https://localhost:8080/",
          "height": 115
        }
      },
      "source": [
        "df_uk['Vehicle_Type'].unique()"
      ],
      "execution_count": 12,
      "outputs": [
        {
          "output_type": "execute_result",
          "data": {
            "text/plain": [
              "array(['Car', 'Taxi/Private hire car', 'Bus (>=17 seats)', 'Van <=3.5 t.',\n",
              "       'Motorcycle <=125cc', 'Motorcycle <=50cc',\n",
              "       'Motorcycle 125cc-500cc', 'Goods >=7.5 t.', 'Motorcycle >500cc',\n",
              "       'Goods 3.5t.-7.5t', 'Minibus (8-16 seats)', 'Agricultural vehicle',\n",
              "       'Electric motorcycle', 'Motorcycle - unknown cc',\n",
              "       'Goods vehicle - unknown weight'], dtype=object)"
            ]
          },
          "metadata": {
            "tags": []
          },
          "execution_count": 12
        }
      ]
    },
    {
      "cell_type": "code",
      "metadata": {
        "id": "P3DiEcCXo1cy",
        "colab_type": "code",
        "colab": {}
      },
      "source": [
        "#Labelling categorical features\n",
        "lblE = LabelEncoder()\n",
        "for i in df_rf_2:\n",
        "    if df_rf_2[i].dtype == 'object':\n",
        "        lblE.fit(df_rf_2[i])\n",
        "        df_rf_2[i] = lblE.transform(df_rf_2[i])"
      ],
      "execution_count": 0,
      "outputs": []
    },
    {
      "cell_type": "code",
      "metadata": {
        "id": "rcjwqla1Dok_",
        "colab_type": "code",
        "outputId": "0879705d-638b-45fd-a809-45581a81b126",
        "colab": {
          "base_uri": "https://localhost:8080/",
          "height": 33
        }
      },
      "source": [
        "df_rf_2['Vehicle_Type'].unique()"
      ],
      "execution_count": 15,
      "outputs": [
        {
          "output_type": "execute_result",
          "data": {
            "text/plain": [
              "array([ 2, 13,  1, 14, 10, 11,  9,  5, 12,  4,  7,  0,  3,  8,  6])"
            ]
          },
          "metadata": {
            "tags": []
          },
          "execution_count": 15
        }
      ]
    },
    {
      "cell_type": "code",
      "metadata": {
        "id": "mNK4rcvDo1c5",
        "colab_type": "code",
        "outputId": "7a473b92-ec83-4c4b-ed6b-52edd533ec4a",
        "colab": {
          "base_uri": "https://localhost:8080/",
          "height": 33
        }
      },
      "source": [
        "X_train_2, X_test_2, y_train_2, y_test_2 = train_test_split(df_rf_2.drop('Accident_Severity', axis=1), \n",
        "                                                    df_rf_2.Accident_Severity, test_size=0.33, random_state=42)\n",
        "X_train_2.shape, X_test_2.shape, y_train_2.shape, y_test_2.shape"
      ],
      "execution_count": 16,
      "outputs": [
        {
          "output_type": "execute_result",
          "data": {
            "text/plain": [
              "((1196589, 23), (589366, 23), (1196589,), (589366,))"
            ]
          },
          "metadata": {
            "tags": []
          },
          "execution_count": 16
        }
      ]
    },
    {
      "cell_type": "code",
      "metadata": {
        "id": "CWOcFxr4o1c_",
        "colab_type": "code",
        "outputId": "c01dfd96-7d2a-48f4-dc39-0b3512ee2f6f",
        "colab": {
          "base_uri": "https://localhost:8080/",
          "height": 115
        }
      },
      "source": [
        "dt_2 = DecisionTreeClassifier()\n",
        "dt_2.fit(X_train_2, y_train_2)"
      ],
      "execution_count": 0,
      "outputs": [
        {
          "output_type": "execute_result",
          "data": {
            "text/plain": [
              "DecisionTreeClassifier(class_weight=None, criterion='gini', max_depth=None,\n",
              "                       max_features=None, max_leaf_nodes=None,\n",
              "                       min_impurity_decrease=0.0, min_impurity_split=None,\n",
              "                       min_samples_leaf=1, min_samples_split=2,\n",
              "                       min_weight_fraction_leaf=0.0, presort=False,\n",
              "                       random_state=None, splitter='best')"
            ]
          },
          "metadata": {
            "tags": []
          },
          "execution_count": 13
        }
      ]
    },
    {
      "cell_type": "code",
      "metadata": {
        "id": "o19eMeAVzmd6",
        "colab_type": "code",
        "outputId": "cab3af42-d4f5-43f3-cbbe-351e31b12dd9",
        "colab": {
          "base_uri": "https://localhost:8080/",
          "height": 50
        }
      },
      "source": [
        "y_pred_2 = dt_2.predict(X_test_2)\n",
        "test = np.array(y_test_2)\n",
        "predictions = np.array(y_pred_2)\n",
        "confusion_matrix(test, predictions)"
      ],
      "execution_count": 0,
      "outputs": [
        {
          "output_type": "execute_result",
          "data": {
            "text/plain": [
              "array([[ 40148,  51236],\n",
              "       [ 61712, 436270]])"
            ]
          },
          "metadata": {
            "tags": []
          },
          "execution_count": 14
        }
      ]
    },
    {
      "cell_type": "code",
      "metadata": {
        "id": "0AQSuF0yo1dD",
        "colab_type": "code",
        "outputId": "e108ebe9-78e2-4f7f-be24-e360da31f7ed",
        "colab": {
          "base_uri": "https://localhost:8080/",
          "height": 163
        }
      },
      "source": [
        "print(metrics.classification_report(test, predictions))"
      ],
      "execution_count": 0,
      "outputs": [
        {
          "output_type": "stream",
          "text": [
            "              precision    recall  f1-score   support\n",
            "\n",
            "           0       0.40      0.44      0.42     91384\n",
            "           1       0.90      0.88      0.89    497982\n",
            "\n",
            "    accuracy                           0.81    589366\n",
            "   macro avg       0.65      0.66      0.65    589366\n",
            "weighted avg       0.82      0.81      0.81    589366\n",
            "\n"
          ],
          "name": "stdout"
        }
      ]
    },
    {
      "cell_type": "markdown",
      "metadata": {
        "id": "Hy-vOZM7o1dW",
        "colab_type": "text"
      },
      "source": [
        "## Decision tree - 2 classes slight, severe- balanced"
      ]
    },
    {
      "cell_type": "code",
      "metadata": {
        "id": "MX-k8qQqo1dX",
        "colab_type": "code",
        "outputId": "b993022b-02f6-446e-f24e-8debf0665784",
        "colab": {
          "base_uri": "https://localhost:8080/",
          "height": 50
        }
      },
      "source": [
        "print(Counter(y_train_2))\n",
        "print(Counter(y_test_2))"
      ],
      "execution_count": 17,
      "outputs": [
        {
          "output_type": "stream",
          "text": [
            "Counter({1: 1011550, 0: 185039})\n",
            "Counter({1: 497982, 0: 91384})\n"
          ],
          "name": "stdout"
        }
      ]
    },
    {
      "cell_type": "code",
      "metadata": {
        "id": "WO0tCM7do1db",
        "colab_type": "code",
        "colab": {}
      },
      "source": [
        "rus = RandomUnderSampler(random_state=42)\n",
        "X_res_train_2, y_res_train_2 = rus.fit_resample(X_train_2, y_train_2)\n",
        "X_res_test_2, y_res_test_2 = rus.fit_resample(X_test_2, y_test_2)"
      ],
      "execution_count": 0,
      "outputs": []
    },
    {
      "cell_type": "code",
      "metadata": {
        "id": "p6uIwVMco1de",
        "colab_type": "code",
        "outputId": "c055dcbc-95af-4826-8d9f-c9311201f43e",
        "colab": {
          "base_uri": "https://localhost:8080/",
          "height": 50
        }
      },
      "source": [
        "print(Counter(y_res_train_2))\n",
        "print(Counter(y_res_test_2))\n",
        "# total records = 276523, equally distributed classes"
      ],
      "execution_count": 0,
      "outputs": [
        {
          "output_type": "stream",
          "text": [
            "Counter({0: 185039, 1: 185039})\n",
            "Counter({0: 91384, 1: 91384})\n"
          ],
          "name": "stdout"
        }
      ]
    },
    {
      "cell_type": "code",
      "metadata": {
        "id": "0h28Nlnvo1dj",
        "colab_type": "code",
        "outputId": "2627edc9-d302-4bab-c7cd-d6ddf2486ac4",
        "colab": {
          "base_uri": "https://localhost:8080/",
          "height": 115
        }
      },
      "source": [
        "dt_3 = DecisionTreeClassifier()\n",
        "dt_3.fit(X_res_train_2, y_res_train_2)"
      ],
      "execution_count": 0,
      "outputs": [
        {
          "output_type": "execute_result",
          "data": {
            "text/plain": [
              "DecisionTreeClassifier(class_weight=None, criterion='gini', max_depth=None,\n",
              "                       max_features=None, max_leaf_nodes=None,\n",
              "                       min_impurity_decrease=0.0, min_impurity_split=None,\n",
              "                       min_samples_leaf=1, min_samples_split=2,\n",
              "                       min_weight_fraction_leaf=0.0, presort=False,\n",
              "                       random_state=None, splitter='best')"
            ]
          },
          "metadata": {
            "tags": []
          },
          "execution_count": 18
        }
      ]
    },
    {
      "cell_type": "code",
      "metadata": {
        "id": "36BnO2Yl06cG",
        "colab_type": "code",
        "outputId": "ae5fdd96-0697-48a2-ff9a-2ad8cb98472a",
        "colab": {
          "base_uri": "https://localhost:8080/",
          "height": 50
        }
      },
      "source": [
        "y_pred_3 = dt_3.predict(X_res_test_2)\n",
        "test = np.array(y_res_test_2)\n",
        "predictions = np.array(y_pred_3)\n",
        "confusion_matrix(test, predictions)"
      ],
      "execution_count": 0,
      "outputs": [
        {
          "output_type": "execute_result",
          "data": {
            "text/plain": [
              "array([[59947, 31437],\n",
              "       [34405, 56979]])"
            ]
          },
          "metadata": {
            "tags": []
          },
          "execution_count": 19
        }
      ]
    },
    {
      "cell_type": "code",
      "metadata": {
        "id": "8wmAlKpI1QqO",
        "colab_type": "code",
        "outputId": "d21b72af-7e4c-46b6-ab0b-c9d4ccc17915",
        "colab": {
          "base_uri": "https://localhost:8080/",
          "height": 163
        }
      },
      "source": [
        "print(metrics.classification_report(test, predictions))"
      ],
      "execution_count": 0,
      "outputs": [
        {
          "output_type": "stream",
          "text": [
            "              precision    recall  f1-score   support\n",
            "\n",
            "           0       0.64      0.66      0.65     91384\n",
            "           1       0.64      0.62      0.63     91384\n",
            "\n",
            "    accuracy                           0.64    182768\n",
            "   macro avg       0.64      0.64      0.64    182768\n",
            "weighted avg       0.64      0.64      0.64    182768\n",
            "\n"
          ],
          "name": "stdout"
        }
      ]
    },
    {
      "cell_type": "code",
      "metadata": {
        "id": "gv3PVppmo1eB",
        "colab_type": "code",
        "outputId": "7d5caa66-c3a2-48cd-c868-4347904980bc",
        "colab": {
          "base_uri": "https://localhost:8080/",
          "height": 307
        }
      },
      "source": [
        "\n",
        "fpr, tpr, threshold = metrics.roc_curve(y_res_test_2, y_pred_3)\n",
        "roc_auc = metrics.auc(fpr, tpr)\n",
        "\n",
        "plt.title('Receiver Operating Characteristic',fontsize = 18)\n",
        "plt.plot(fpr, tpr, 'b', label = 'AUC = %0.2f' % roc_auc)\n",
        "plt.legend(loc = 'lower right',fontsize=18)\n",
        "plt.plot([0, 1], [0, 1],'r--')\n",
        "plt.xlim([0, 1])\n",
        "plt.ylim([0, 1])\n",
        "plt.ylabel('True Positive Rate',fontsize = 18)\n",
        "plt.xlabel('False Positive Rate', fontsize = 18)\n",
        "plt.show()"
      ],
      "execution_count": 0,
      "outputs": [
        {
          "output_type": "display_data",
          "data": {
            "image/png": "[encoded data removed]",
            "text/plain": [
              "<Figure size 432x288 with 1 Axes>"
            ]
          },
          "metadata": {
            "tags": []
          }
        }
      ]
    },
    {
      "cell_type": "code",
      "metadata": {
        "id": "EPF1XUK02wCP",
        "colab_type": "code",
        "outputId": "f4c72e39-3182-4741-be74-9441d09f89c6",
        "colab": {
          "base_uri": "https://localhost:8080/",
          "height": 362
        }
      },
      "source": [
        "precision_RF, recall_RF, threshold = metrics.precision_recall_curve(y_res_test_2, y_pred_3)\n",
        "fig = plt.figure(figsize = (5,5))\n",
        "ax = fig.add_subplot(1,1,1) \n",
        "ax.step(recall_RF, precision_RF, linestyle='-.', c='g', lw=1, where='post',\n",
        "label=\"Decision tree \")\n",
        "\n",
        "ax.set_title(\"Precision-Recall\", fontsize=20)\n",
        "ax.set_xlabel('Recall', fontsize=18)\n",
        "ax.set_ylabel('Precision', fontsize=18)\n",
        "plt.show()"
      ],
      "execution_count": 0,
      "outputs": [
        {
          "output_type": "display_data",
          "data": {
            "image/png": "[encoded data removed]",
            "text/plain": [
              "<Figure size 360x360 with 1 Axes>"
            ]
          },
          "metadata": {
            "tags": []
          }
        }
      ]
    },
    {
      "cell_type": "markdown",
      "metadata": {
        "id": "M7rYAQJjArrJ",
        "colab_type": "text"
      },
      "source": [
        "Analysis using Skope rules"
      ]
    },
    {
      "cell_type": "code",
      "metadata": {
        "id": "RVNMapvD3nhg",
        "colab_type": "code",
        "outputId": "172da26b-06d2-436b-fd93-c60f17a1a3fb",
        "colab": {
          "base_uri": "https://localhost:8080/",
          "height": 310
        }
      },
      "source": [
        "pip install skope-rules"
      ],
      "execution_count": 0,
      "outputs": [
        {
          "output_type": "stream",
          "text": [
            "Collecting skope-rules\n",
            "\u001b[?25l  Downloading https://files.pythonhosted.org/packages/56/b0/b56fb8d186f35089a469dc788c32ac99cf0276eae567736325b179b71db0/skope-rules-1.0.0.tar.gz (2.0MB)\n",
            "\u001b[K     |████████████████████████████████| 2.0MB 3.4MB/s \n",
            "\u001b[?25hRequirement already satisfied: numpy>=1.10.4 in /usr/local/lib/python3.6/dist-packages (from skope-rules) (1.17.4)\n",
            "Requirement already satisfied: scikit-learn>=0.17.1 in /usr/local/lib/python3.6/dist-packages (from skope-rules) (0.21.3)\n",
            "Requirement already satisfied: scipy>=0.17.0 in /usr/local/lib/python3.6/dist-packages (from skope-rules) (1.3.3)\n",
            "Requirement already satisfied: pandas>=0.18.1 in /usr/local/lib/python3.6/dist-packages (from skope-rules) (0.25.3)\n",
            "Requirement already satisfied: joblib>=0.11 in /usr/local/lib/python3.6/dist-packages (from scikit-learn>=0.17.1->skope-rules) (0.14.1)\n",
            "Requirement already satisfied: pytz>=2017.2 in /usr/local/lib/python3.6/dist-packages (from pandas>=0.18.1->skope-rules) (2018.9)\n",
            "Requirement already satisfied: python-dateutil>=2.6.1 in /usr/local/lib/python3.6/dist-packages (from pandas>=0.18.1->skope-rules) (2.6.1)\n",
            "Requirement already satisfied: six>=1.5 in /usr/local/lib/python3.6/dist-packages (from python-dateutil>=2.6.1->pandas>=0.18.1->skope-rules) (1.12.0)\n",
            "Building wheels for collected packages: skope-rules\n",
            "  Building wheel for skope-rules (setup.py) ... \u001b[?25l\u001b[?25hdone\n",
            "  Created wheel for skope-rules: filename=skope_rules-1.0.0-cp36-none-any.whl size=14591 sha256=95977d5c4121c389d9a5b5d4afde75545be5b577532093eb4824816d8e8bb5d6\n",
            "  Stored in directory: /root/.cache/pip/wheels/3e/8d/56/464f328ff3200c785626967ee39a6b2efc455469dab615f03e\n",
            "Successfully built skope-rules\n",
            "Installing collected packages: skope-rules\n",
            "Successfully installed skope-rules-1.0.0\n"
          ],
          "name": "stdout"
        }
      ]
    },
    {
      "cell_type": "code",
      "metadata": {
        "id": "yRIIfzX4ubgZ",
        "colab_type": "code",
        "outputId": "d13ac18d-a313-4ecf-b34b-d4f04c56e520",
        "colab": {
          "base_uri": "https://localhost:8080/",
          "height": 277
        }
      },
      "source": [
        "from skrules import SkopeRules\n",
        "from sklearn.metrics import roc_curve, precision_recall_curve\n",
        "features =  ['Number_of_Vehicles','Number_of_Casualties', \n",
        "            'Day_of_Week','First_Road_Class', 'Road_Type', 'Speed_limit', 'Light_Conditions', \n",
        "            'Weather_Conditions','Road_Surface_Conditions', 'Special_Conditions_at_Site',\n",
        "            'Carriageway_Hazards', 'Urban_or_Rural_Area',\n",
        "            'Vehicle_Type', 'Vehicle_Manoeuvre', 'Skidding_and_Overturning',\n",
        "            'Hit_Object_in_Carriageway', 'Hit_Object_off_Carriageway',\n",
        "            'First_Point_of_Impact', 'Engine_Capacity_(CC)', 'Propulsion_Code',\n",
        "            'Age_of_Vehicle', 'Sex_of_Driver', 'Age_Band_of_Driver']\n",
        "clf = SkopeRules( random_state= 42, n_estimators=5,\n",
        "feature_names=features, recall_min=0.01, precision_min=0.5)\n",
        "\n",
        "clf.fit(X_res_train_2, y_res_train_2)"
      ],
      "execution_count": 0,
      "outputs": [
        {
          "output_type": "execute_result",
          "data": {
            "text/plain": [
              "SkopeRules(bootstrap=False, bootstrap_features=False,\n",
              "           feature_names=['Number_of_Vehicles', 'Number_of_Casualties',\n",
              "                          'Day_of_Week', 'First_Road_Class', 'Road_Type',\n",
              "                          'Speed_limit', 'Light_Conditions',\n",
              "                          'Weather_Conditions', 'Road_Surface_Conditions',\n",
              "                          'Special_Conditions_at_Site', 'Carriageway_Hazards',\n",
              "                          'Urban_or_Rural_Area', 'Vehicle_Type',\n",
              "                          'Vehicle_Manoeuvre', 'Skidd...\n",
              "                          'Hit_Object_off_Carriageway', 'First_Point_of_Impact',\n",
              "                          'Engine_Capacity_(CC)', 'Propulsion_Code',\n",
              "                          'Age_of_Vehicle', 'Sex_of_Driver',\n",
              "                          'Age_Band_of_Driver'],\n",
              "           max_depth=3, max_depth_duplication=None, max_features=1.0,\n",
              "           max_samples=0.8, max_samples_features=1.0, min_samples_split=2,\n",
              "           n_estimators=5, n_jobs=1, precision_min=0.5, random_state=42,\n",
              "           recall_min=0.01, verbose=0)"
            ]
          },
          "metadata": {
            "tags": []
          },
          "execution_count": 31
        }
      ]
    },
    {
      "cell_type": "code",
      "metadata": {
        "id": "C5IVt2SFuf_h",
        "colab_type": "code",
        "outputId": "00b30fa2-6aad-4b3a-9d39-476fcb3bf812",
        "colab": {
          "base_uri": "https://localhost:8080/",
          "height": 115
        }
      },
      "source": [
        "y_score = clf.score_top_rules(X_res_test_2)\n",
        "print(str(len(clf.rules_)) + ' rules have been built.')\n",
        "for rule in clf.rules_[:6]:\n",
        "  print(rule[0])"
      ],
      "execution_count": 0,
      "outputs": [
        {
          "output_type": "stream",
          "text": [
            "5 rules have been built.\n",
            "First_Point_of_Impact > 0.5 and Number_of_Casualties <= 2.5 and Number_of_Vehicles > 1.5\n",
            "First_Point_of_Impact > 0.5 and Number_of_Casualties <= 2.5 and Vehicle_Type <= 4.5\n",
            "First_Point_of_Impact <= 0.5 and Number_of_Vehicles > 1.5 and Speed_limit <= 55.0\n",
            "First_Point_of_Impact <= 0.5 and Number_of_Casualties <= 4.5 and Speed_limit > 55.0\n",
            "First_Point_of_Impact <= 0.5 and Number_of_Casualties <= 3.5 and Speed_limit > 55.0\n"
          ],
          "name": "stdout"
        }
      ]
    },
    {
      "cell_type": "code",
      "metadata": {
        "id": "eUGfXUa29W-I",
        "colab_type": "code",
        "outputId": "bc9b4b10-5252-4c5f-fddd-cb3b73dc6294",
        "colab": {
          "base_uri": "https://localhost:8080/",
          "height": 53
        }
      },
      "source": [
        "print(clf.rules_)"
      ],
      "execution_count": 0,
      "outputs": [
        {
          "output_type": "stream",
          "text": [
            "[('First_Point_of_Impact > 0.5 and Number_of_Casualties <= 2.5 and Number_of_Vehicles > 1.5', (0.5400665755370426, 0.5259775478973596, 8)), ('First_Point_of_Impact > 0.5 and Number_of_Casualties <= 2.5 and Vehicle_Type <= 4.5', (0.5421927143710261, 0.5208022620983797, 2)), ('First_Point_of_Impact <= 0.5 and Number_of_Vehicles > 1.5 and Speed_limit <= 55.0', (0.796202763984627, 0.1662382920023737, 10)), ('First_Point_of_Impact <= 0.5 and Number_of_Casualties <= 4.5 and Speed_limit > 55.0', (0.640351338769317, 0.07431437473982294, 8)), ('First_Point_of_Impact <= 0.5 and Number_of_Casualties <= 3.5 and Speed_limit > 55.0', (0.654196157735086, 0.06990815775256617, 2))]\n"
          ],
          "name": "stdout"
        }
      ]
    },
    {
      "cell_type": "code",
      "metadata": {
        "id": "gou8bPBE7BFM",
        "colab_type": "code",
        "outputId": "4ad3f662-f2d1-4405-edd5-00090516ae9c",
        "colab": {
          "base_uri": "https://localhost:8080/",
          "height": 411
        }
      },
      "source": [
        "feat_cols = ['feature'+str(i) for i in range(X_res_test_2.shape[1])]\n",
        "normalised_df = pd.DataFrame(X_res_test_2,columns=feat_cols)\n",
        "normalised_df"
      ],
      "execution_count": 0,
      "outputs": [
        {
          "output_type": "execute_result",
          "data": {
            "text/html": [
              "<div>\n",
              "<style scoped>\n",
              "    .dataframe tbody tr th:only-of-type {\n",
              "        vertical-align: middle;\n",
              "    }\n",
              "\n",
              "    .dataframe tbody tr th {\n",
              "        vertical-align: top;\n",
              "    }\n",
              "\n",
              "    .dataframe thead th {\n",
              "        text-align: right;\n",
              "    }\n",
              "</style>\n",
              "<table border=\"1\" class=\"dataframe\">\n",
              "  <thead>\n",
              "    <tr style=\"text-align: right;\">\n",
              "      <th></th>\n",
              "      <th>feature0</th>\n",
              "      <th>feature1</th>\n",
              "      <th>feature2</th>\n",
              "      <th>feature3</th>\n",
              "      <th>feature4</th>\n",
              "      <th>feature5</th>\n",
              "      <th>feature6</th>\n",
              "      <th>feature7</th>\n",
              "      <th>feature8</th>\n",
              "      <th>feature9</th>\n",
              "      <th>feature10</th>\n",
              "      <th>feature11</th>\n",
              "      <th>feature12</th>\n",
              "      <th>feature13</th>\n",
              "      <th>feature14</th>\n",
              "      <th>feature15</th>\n",
              "      <th>feature16</th>\n",
              "      <th>feature17</th>\n",
              "      <th>feature18</th>\n",
              "      <th>feature19</th>\n",
              "      <th>feature20</th>\n",
              "      <th>feature21</th>\n",
              "      <th>feature22</th>\n",
              "    </tr>\n",
              "  </thead>\n",
              "  <tbody>\n",
              "    <tr>\n",
              "      <th>0</th>\n",
              "      <td>4</td>\n",
              "      <td>3</td>\n",
              "      <td>0</td>\n",
              "      <td>0</td>\n",
              "      <td>3</td>\n",
              "      <td>60</td>\n",
              "      <td>4</td>\n",
              "      <td>1</td>\n",
              "      <td>0</td>\n",
              "      <td>3</td>\n",
              "      <td>1</td>\n",
              "      <td>0</td>\n",
              "      <td>14</td>\n",
              "      <td>3</td>\n",
              "      <td>2</td>\n",
              "      <td>6</td>\n",
              "      <td>5</td>\n",
              "      <td>0</td>\n",
              "      <td>1997</td>\n",
              "      <td>5</td>\n",
              "      <td>1</td>\n",
              "      <td>1</td>\n",
              "      <td>6</td>\n",
              "    </tr>\n",
              "    <tr>\n",
              "      <th>1</th>\n",
              "      <td>2</td>\n",
              "      <td>1</td>\n",
              "      <td>4</td>\n",
              "      <td>2</td>\n",
              "      <td>3</td>\n",
              "      <td>30</td>\n",
              "      <td>4</td>\n",
              "      <td>1</td>\n",
              "      <td>0</td>\n",
              "      <td>3</td>\n",
              "      <td>1</td>\n",
              "      <td>1</td>\n",
              "      <td>11</td>\n",
              "      <td>11</td>\n",
              "      <td>4</td>\n",
              "      <td>6</td>\n",
              "      <td>5</td>\n",
              "      <td>1</td>\n",
              "      <td>124</td>\n",
              "      <td>8</td>\n",
              "      <td>10</td>\n",
              "      <td>1</td>\n",
              "      <td>2</td>\n",
              "    </tr>\n",
              "    <tr>\n",
              "      <th>2</th>\n",
              "      <td>1</td>\n",
              "      <td>1</td>\n",
              "      <td>1</td>\n",
              "      <td>0</td>\n",
              "      <td>1</td>\n",
              "      <td>30</td>\n",
              "      <td>4</td>\n",
              "      <td>1</td>\n",
              "      <td>4</td>\n",
              "      <td>3</td>\n",
              "      <td>1</td>\n",
              "      <td>1</td>\n",
              "      <td>14</td>\n",
              "      <td>4</td>\n",
              "      <td>2</td>\n",
              "      <td>6</td>\n",
              "      <td>5</td>\n",
              "      <td>2</td>\n",
              "      <td>2295</td>\n",
              "      <td>8</td>\n",
              "      <td>2</td>\n",
              "      <td>1</td>\n",
              "      <td>6</td>\n",
              "    </tr>\n",
              "    <tr>\n",
              "      <th>3</th>\n",
              "      <td>3</td>\n",
              "      <td>7</td>\n",
              "      <td>3</td>\n",
              "      <td>2</td>\n",
              "      <td>3</td>\n",
              "      <td>60</td>\n",
              "      <td>4</td>\n",
              "      <td>1</td>\n",
              "      <td>4</td>\n",
              "      <td>3</td>\n",
              "      <td>1</td>\n",
              "      <td>0</td>\n",
              "      <td>2</td>\n",
              "      <td>11</td>\n",
              "      <td>2</td>\n",
              "      <td>6</td>\n",
              "      <td>5</td>\n",
              "      <td>1</td>\n",
              "      <td>1997</td>\n",
              "      <td>5</td>\n",
              "      <td>7</td>\n",
              "      <td>1</td>\n",
              "      <td>7</td>\n",
              "    </tr>\n",
              "    <tr>\n",
              "      <th>4</th>\n",
              "      <td>4</td>\n",
              "      <td>4</td>\n",
              "      <td>3</td>\n",
              "      <td>0</td>\n",
              "      <td>3</td>\n",
              "      <td>30</td>\n",
              "      <td>4</td>\n",
              "      <td>1</td>\n",
              "      <td>0</td>\n",
              "      <td>3</td>\n",
              "      <td>1</td>\n",
              "      <td>0</td>\n",
              "      <td>2</td>\n",
              "      <td>3</td>\n",
              "      <td>2</td>\n",
              "      <td>6</td>\n",
              "      <td>5</td>\n",
              "      <td>4</td>\n",
              "      <td>1398</td>\n",
              "      <td>5</td>\n",
              "      <td>13</td>\n",
              "      <td>1</td>\n",
              "      <td>4</td>\n",
              "    </tr>\n",
              "    <tr>\n",
              "      <th>...</th>\n",
              "      <td>...</td>\n",
              "      <td>...</td>\n",
              "      <td>...</td>\n",
              "      <td>...</td>\n",
              "      <td>...</td>\n",
              "      <td>...</td>\n",
              "      <td>...</td>\n",
              "      <td>...</td>\n",
              "      <td>...</td>\n",
              "      <td>...</td>\n",
              "      <td>...</td>\n",
              "      <td>...</td>\n",
              "      <td>...</td>\n",
              "      <td>...</td>\n",
              "      <td>...</td>\n",
              "      <td>...</td>\n",
              "      <td>...</td>\n",
              "      <td>...</td>\n",
              "      <td>...</td>\n",
              "      <td>...</td>\n",
              "      <td>...</td>\n",
              "      <td>...</td>\n",
              "      <td>...</td>\n",
              "    </tr>\n",
              "    <tr>\n",
              "      <th>182763</th>\n",
              "      <td>2</td>\n",
              "      <td>2</td>\n",
              "      <td>1</td>\n",
              "      <td>2</td>\n",
              "      <td>3</td>\n",
              "      <td>60</td>\n",
              "      <td>4</td>\n",
              "      <td>1</td>\n",
              "      <td>0</td>\n",
              "      <td>3</td>\n",
              "      <td>1</td>\n",
              "      <td>0</td>\n",
              "      <td>2</td>\n",
              "      <td>3</td>\n",
              "      <td>2</td>\n",
              "      <td>6</td>\n",
              "      <td>5</td>\n",
              "      <td>0</td>\n",
              "      <td>2188</td>\n",
              "      <td>5</td>\n",
              "      <td>4</td>\n",
              "      <td>0</td>\n",
              "      <td>5</td>\n",
              "    </tr>\n",
              "    <tr>\n",
              "      <th>182764</th>\n",
              "      <td>2</td>\n",
              "      <td>1</td>\n",
              "      <td>6</td>\n",
              "      <td>2</td>\n",
              "      <td>2</td>\n",
              "      <td>30</td>\n",
              "      <td>4</td>\n",
              "      <td>1</td>\n",
              "      <td>0</td>\n",
              "      <td>3</td>\n",
              "      <td>1</td>\n",
              "      <td>1</td>\n",
              "      <td>10</td>\n",
              "      <td>3</td>\n",
              "      <td>2</td>\n",
              "      <td>6</td>\n",
              "      <td>5</td>\n",
              "      <td>1</td>\n",
              "      <td>125</td>\n",
              "      <td>8</td>\n",
              "      <td>1</td>\n",
              "      <td>1</td>\n",
              "      <td>4</td>\n",
              "    </tr>\n",
              "    <tr>\n",
              "      <th>182765</th>\n",
              "      <td>2</td>\n",
              "      <td>2</td>\n",
              "      <td>0</td>\n",
              "      <td>4</td>\n",
              "      <td>0</td>\n",
              "      <td>70</td>\n",
              "      <td>4</td>\n",
              "      <td>1</td>\n",
              "      <td>0</td>\n",
              "      <td>3</td>\n",
              "      <td>1</td>\n",
              "      <td>1</td>\n",
              "      <td>12</td>\n",
              "      <td>7</td>\n",
              "      <td>2</td>\n",
              "      <td>6</td>\n",
              "      <td>5</td>\n",
              "      <td>1</td>\n",
              "      <td>599</td>\n",
              "      <td>8</td>\n",
              "      <td>4</td>\n",
              "      <td>1</td>\n",
              "      <td>3</td>\n",
              "    </tr>\n",
              "    <tr>\n",
              "      <th>182766</th>\n",
              "      <td>3</td>\n",
              "      <td>2</td>\n",
              "      <td>3</td>\n",
              "      <td>4</td>\n",
              "      <td>0</td>\n",
              "      <td>70</td>\n",
              "      <td>1</td>\n",
              "      <td>1</td>\n",
              "      <td>4</td>\n",
              "      <td>3</td>\n",
              "      <td>1</td>\n",
              "      <td>0</td>\n",
              "      <td>2</td>\n",
              "      <td>3</td>\n",
              "      <td>4</td>\n",
              "      <td>6</td>\n",
              "      <td>5</td>\n",
              "      <td>2</td>\n",
              "      <td>1229</td>\n",
              "      <td>8</td>\n",
              "      <td>2</td>\n",
              "      <td>1</td>\n",
              "      <td>3</td>\n",
              "    </tr>\n",
              "    <tr>\n",
              "      <th>182767</th>\n",
              "      <td>2</td>\n",
              "      <td>1</td>\n",
              "      <td>1</td>\n",
              "      <td>0</td>\n",
              "      <td>0</td>\n",
              "      <td>30</td>\n",
              "      <td>4</td>\n",
              "      <td>1</td>\n",
              "      <td>0</td>\n",
              "      <td>3</td>\n",
              "      <td>1</td>\n",
              "      <td>0</td>\n",
              "      <td>2</td>\n",
              "      <td>15</td>\n",
              "      <td>2</td>\n",
              "      <td>6</td>\n",
              "      <td>5</td>\n",
              "      <td>0</td>\n",
              "      <td>1995</td>\n",
              "      <td>5</td>\n",
              "      <td>1</td>\n",
              "      <td>0</td>\n",
              "      <td>4</td>\n",
              "    </tr>\n",
              "  </tbody>\n",
              "</table>\n",
              "<p>182768 rows × 23 columns</p>\n",
              "</div>"
            ],
            "text/plain": [
              "        feature0  feature1  feature2  ...  feature20  feature21  feature22\n",
              "0              4         3         0  ...          1          1          6\n",
              "1              2         1         4  ...         10          1          2\n",
              "2              1         1         1  ...          2          1          6\n",
              "3              3         7         3  ...          7          1          7\n",
              "4              4         4         3  ...         13          1          4\n",
              "...          ...       ...       ...  ...        ...        ...        ...\n",
              "182763         2         2         1  ...          4          0          5\n",
              "182764         2         1         6  ...          1          1          4\n",
              "182765         2         2         0  ...          4          1          3\n",
              "182766         3         2         3  ...          2          1          3\n",
              "182767         2         1         1  ...          1          0          4\n",
              "\n",
              "[182768 rows x 23 columns]"
            ]
          },
          "metadata": {
            "tags": []
          },
          "execution_count": 53
        }
      ]
    },
    {
      "cell_type": "code",
      "metadata": {
        "id": "V8MxlLrA8ilw",
        "colab_type": "code",
        "colab": {}
      },
      "source": [
        "normalised_df['accident_class_severity'] = y_res_test_2"
      ],
      "execution_count": 0,
      "outputs": []
    },
    {
      "cell_type": "markdown",
      "metadata": {
        "id": "FKajr7WzBQAt",
        "colab_type": "text"
      },
      "source": [
        "Testing Rule 1"
      ]
    },
    {
      "cell_type": "code",
      "metadata": {
        "id": "rtmirR1K0R90",
        "colab_type": "code",
        "colab": {}
      },
      "source": [
        "y = normalised_df[(normalised_df['feature17'] > 0)&(normalised_df['feature1'] <= 2)&(normalised_df['feature0'] > 1) ].accident_class_severity"
      ],
      "execution_count": 0,
      "outputs": []
    },
    {
      "cell_type": "code",
      "metadata": {
        "id": "vGBqfL0066gg",
        "colab_type": "code",
        "outputId": "c6637370-e153-489d-e867-87eaea26c5a7",
        "colab": {
          "base_uri": "https://localhost:8080/",
          "height": 33
        }
      },
      "source": [
        "print(Counter(y))"
      ],
      "execution_count": 0,
      "outputs": [
        {
          "output_type": "stream",
          "text": [
            "Counter({1: 48040, 0: 40980})\n"
          ],
          "name": "stdout"
        }
      ]
    },
    {
      "cell_type": "code",
      "metadata": {
        "id": "vWTRhQPL4Bho",
        "colab_type": "code",
        "outputId": "a6fcf84e-3733-43eb-9862-5fdc8f55f993",
        "colab": {
          "base_uri": "https://localhost:8080/",
          "height": 33
        }
      },
      "source": [
        "df_uk['1st_Point_of_Impact'].unique()"
      ],
      "execution_count": 0,
      "outputs": [
        {
          "output_type": "execute_result",
          "data": {
            "text/plain": [
              "array(['Front', 'Back', 'Offside', 'Nearside', 0.0], dtype=object)"
            ]
          },
          "metadata": {
            "tags": []
          },
          "execution_count": 39
        }
      ]
    },
    {
      "cell_type": "code",
      "metadata": {
        "id": "cCNHCiXy1toy",
        "colab_type": "code",
        "outputId": "7816a54f-7e8b-4e03-d9c6-7d157d456481",
        "colab": {
          "base_uri": "https://localhost:8080/",
          "height": 635
        }
      },
      "source": [
        "precision, recall, _ = precision_recall_curve(y_res_test_2, y_score)\n",
        "fig = plt.figure(figsize = (10,10))\n",
        "ax = fig.add_subplot(1,1,1) \n",
        "ax.scatter(recall[1:-1], precision[1:-1], c='b', s=10,\n",
        "label=\"rules of SkopeRules\")\n",
        "ax.set_title(\"Precision-Recall\", fontsize=20)\n",
        "ax.set_xlabel('Recall (True Positive Rate)', fontsize=18)\n",
        "ax.set_ylabel('Precision', fontsize=18)\n",
        "plt.show()"
      ],
      "execution_count": 0,
      "outputs": [
        {
          "output_type": "display_data",
          "data": {
            "image/png": "[encoded data removed]",
            "text/plain": [
              "<Figure size 720x720 with 1 Axes>"
            ]
          },
          "metadata": {
            "tags": []
          }
        }
      ]
    }
  ]
}