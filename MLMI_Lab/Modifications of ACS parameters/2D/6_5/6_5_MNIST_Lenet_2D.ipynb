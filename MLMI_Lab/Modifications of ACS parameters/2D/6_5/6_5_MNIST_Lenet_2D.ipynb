{
  "nbformat": 4,
  "nbformat_minor": 0,
  "metadata": {
    "kernelspec": {
      "display_name": "Python 3",
      "language": "python",
      "name": "python3"
    },
    "language_info": {
      "codemirror_mode": {
        "name": "ipython",
        "version": 3
      },
      "file_extension": ".py",
      "mimetype": "text/x-python",
      "name": "python",
      "nbconvert_exporter": "python",
      "pygments_lexer": "ipython3",
      "version": "3.7.4"
    },
    "colab": {
      "name": "6_5_MNIST_Lenet_2D.ipynb",
      "provenance": [],
      "collapsed_sections": []
    },
    "accelerator": "GPU",
    "widgets": {
      "application/vnd.jupyter.widget-state+json": {
        "ca463fd6951845c9939a461a0746c5ca": {
          "model_module": "@jupyter-widgets/controls",
          "model_name": "HBoxModel",
          "state": {
            "_view_name": "HBoxView",
            "_dom_classes": [],
            "_model_name": "HBoxModel",
            "_view_module": "@jupyter-widgets/controls",
            "_model_module_version": "1.5.0",
            "_view_count": null,
            "_view_module_version": "1.5.0",
            "box_style": "",
            "layout": "IPY_MODEL_497c57c098484367bf6ac369bc5a8884",
            "_model_module": "@jupyter-widgets/controls",
            "children": [
              "IPY_MODEL_b06b3000e3aa4254a0dd385fe31f06f2",
              "IPY_MODEL_6b164958b03940f9aef32aab5b53353d"
            ]
          }
        },
        "497c57c098484367bf6ac369bc5a8884": {
          "model_module": "@jupyter-widgets/base",
          "model_name": "LayoutModel",
          "state": {
            "_view_name": "LayoutView",
            "grid_template_rows": null,
            "right": null,
            "justify_content": null,
            "_view_module": "@jupyter-widgets/base",
            "overflow": null,
            "_model_module_version": "1.2.0",
            "_view_count": null,
            "flex_flow": null,
            "width": null,
            "min_width": null,
            "border": null,
            "align_items": null,
            "bottom": null,
            "_model_module": "@jupyter-widgets/base",
            "top": null,
            "grid_column": null,
            "overflow_y": null,
            "overflow_x": null,
            "grid_auto_flow": null,
            "grid_area": null,
            "grid_template_columns": null,
            "flex": null,
            "_model_name": "LayoutModel",
            "justify_items": null,
            "grid_row": null,
            "max_height": null,
            "align_content": null,
            "visibility": null,
            "align_self": null,
            "height": null,
            "min_height": null,
            "padding": null,
            "grid_auto_rows": null,
            "grid_gap": null,
            "max_width": null,
            "order": null,
            "_view_module_version": "1.2.0",
            "grid_template_areas": null,
            "object_position": null,
            "object_fit": null,
            "grid_auto_columns": null,
            "margin": null,
            "display": null,
            "left": null
          }
        },
        "b06b3000e3aa4254a0dd385fe31f06f2": {
          "model_module": "@jupyter-widgets/controls",
          "model_name": "FloatProgressModel",
          "state": {
            "_view_name": "ProgressView",
            "style": "IPY_MODEL_a9cb939b2804473487fd4ee34dfd3c4b",
            "_dom_classes": [],
            "description": "",
            "_model_name": "FloatProgressModel",
            "bar_style": "success",
            "max": 1,
            "_view_module": "@jupyter-widgets/controls",
            "_model_module_version": "1.5.0",
            "value": 1,
            "_view_count": null,
            "_view_module_version": "1.5.0",
            "orientation": "horizontal",
            "min": 0,
            "description_tooltip": null,
            "_model_module": "@jupyter-widgets/controls",
            "layout": "IPY_MODEL_c2046eac9d4641bf85355005f745fdf0"
          }
        },
        "6b164958b03940f9aef32aab5b53353d": {
          "model_module": "@jupyter-widgets/controls",
          "model_name": "HTMLModel",
          "state": {
            "_view_name": "HTMLView",
            "style": "IPY_MODEL_1709a31afe494a1481c7d96193f8a19f",
            "_dom_classes": [],
            "description": "",
            "_model_name": "HTMLModel",
            "placeholder": "​",
            "_view_module": "@jupyter-widgets/controls",
            "_model_module_version": "1.5.0",
            "value": " 9920512/? [00:00&lt;00:00, 19590799.34it/s]",
            "_view_count": null,
            "_view_module_version": "1.5.0",
            "description_tooltip": null,
            "_model_module": "@jupyter-widgets/controls",
            "layout": "IPY_MODEL_858a72fb121444b99ee4f2c66eeff247"
          }
        },
        "a9cb939b2804473487fd4ee34dfd3c4b": {
          "model_module": "@jupyter-widgets/controls",
          "model_name": "ProgressStyleModel",
          "state": {
            "_view_name": "StyleView",
            "_model_name": "ProgressStyleModel",
            "description_width": "initial",
            "_view_module": "@jupyter-widgets/base",
            "_model_module_version": "1.5.0",
            "_view_count": null,
            "_view_module_version": "1.2.0",
            "bar_color": null,
            "_model_module": "@jupyter-widgets/controls"
          }
        },
        "c2046eac9d4641bf85355005f745fdf0": {
          "model_module": "@jupyter-widgets/base",
          "model_name": "LayoutModel",
          "state": {
            "_view_name": "LayoutView",
            "grid_template_rows": null,
            "right": null,
            "justify_content": null,
            "_view_module": "@jupyter-widgets/base",
            "overflow": null,
            "_model_module_version": "1.2.0",
            "_view_count": null,
            "flex_flow": null,
            "width": null,
            "min_width": null,
            "border": null,
            "align_items": null,
            "bottom": null,
            "_model_module": "@jupyter-widgets/base",
            "top": null,
            "grid_column": null,
            "overflow_y": null,
            "overflow_x": null,
            "grid_auto_flow": null,
            "grid_area": null,
            "grid_template_columns": null,
            "flex": null,
            "_model_name": "LayoutModel",
            "justify_items": null,
            "grid_row": null,
            "max_height": null,
            "align_content": null,
            "visibility": null,
            "align_self": null,
            "height": null,
            "min_height": null,
            "padding": null,
            "grid_auto_rows": null,
            "grid_gap": null,
            "max_width": null,
            "order": null,
            "_view_module_version": "1.2.0",
            "grid_template_areas": null,
            "object_position": null,
            "object_fit": null,
            "grid_auto_columns": null,
            "margin": null,
            "display": null,
            "left": null
          }
        },
        "1709a31afe494a1481c7d96193f8a19f": {
          "model_module": "@jupyter-widgets/controls",
          "model_name": "DescriptionStyleModel",
          "state": {
            "_view_name": "StyleView",
            "_model_name": "DescriptionStyleModel",
            "description_width": "",
            "_view_module": "@jupyter-widgets/base",
            "_model_module_version": "1.5.0",
            "_view_count": null,
            "_view_module_version": "1.2.0",
            "_model_module": "@jupyter-widgets/controls"
          }
        },
        "858a72fb121444b99ee4f2c66eeff247": {
          "model_module": "@jupyter-widgets/base",
          "model_name": "LayoutModel",
          "state": {
            "_view_name": "LayoutView",
            "grid_template_rows": null,
            "right": null,
            "justify_content": null,
            "_view_module": "@jupyter-widgets/base",
            "overflow": null,
            "_model_module_version": "1.2.0",
            "_view_count": null,
            "flex_flow": null,
            "width": null,
            "min_width": null,
            "border": null,
            "align_items": null,
            "bottom": null,
            "_model_module": "@jupyter-widgets/base",
            "top": null,
            "grid_column": null,
            "overflow_y": null,
            "overflow_x": null,
            "grid_auto_flow": null,
            "grid_area": null,
            "grid_template_columns": null,
            "flex": null,
            "_model_name": "LayoutModel",
            "justify_items": null,
            "grid_row": null,
            "max_height": null,
            "align_content": null,
            "visibility": null,
            "align_self": null,
            "height": null,
            "min_height": null,
            "padding": null,
            "grid_auto_rows": null,
            "grid_gap": null,
            "max_width": null,
            "order": null,
            "_view_module_version": "1.2.0",
            "grid_template_areas": null,
            "object_position": null,
            "object_fit": null,
            "grid_auto_columns": null,
            "margin": null,
            "display": null,
            "left": null
          }
        },
        "0fdf3a8e70c049dcba04815b76ad0817": {
          "model_module": "@jupyter-widgets/controls",
          "model_name": "HBoxModel",
          "state": {
            "_view_name": "HBoxView",
            "_dom_classes": [],
            "_model_name": "HBoxModel",
            "_view_module": "@jupyter-widgets/controls",
            "_model_module_version": "1.5.0",
            "_view_count": null,
            "_view_module_version": "1.5.0",
            "box_style": "",
            "layout": "IPY_MODEL_4482cd8b6c934b9399e462f175e41f8b",
            "_model_module": "@jupyter-widgets/controls",
            "children": [
              "IPY_MODEL_1b4dab73d90e4bc8bc27a3f14765c519",
              "IPY_MODEL_5f2f0d59d5534a2b9d6bc6a4f5da9698"
            ]
          }
        },
        "4482cd8b6c934b9399e462f175e41f8b": {
          "model_module": "@jupyter-widgets/base",
          "model_name": "LayoutModel",
          "state": {
            "_view_name": "LayoutView",
            "grid_template_rows": null,
            "right": null,
            "justify_content": null,
            "_view_module": "@jupyter-widgets/base",
            "overflow": null,
            "_model_module_version": "1.2.0",
            "_view_count": null,
            "flex_flow": null,
            "width": null,
            "min_width": null,
            "border": null,
            "align_items": null,
            "bottom": null,
            "_model_module": "@jupyter-widgets/base",
            "top": null,
            "grid_column": null,
            "overflow_y": null,
            "overflow_x": null,
            "grid_auto_flow": null,
            "grid_area": null,
            "grid_template_columns": null,
            "flex": null,
            "_model_name": "LayoutModel",
            "justify_items": null,
            "grid_row": null,
            "max_height": null,
            "align_content": null,
            "visibility": null,
            "align_self": null,
            "height": null,
            "min_height": null,
            "padding": null,
            "grid_auto_rows": null,
            "grid_gap": null,
            "max_width": null,
            "order": null,
            "_view_module_version": "1.2.0",
            "grid_template_areas": null,
            "object_position": null,
            "object_fit": null,
            "grid_auto_columns": null,
            "margin": null,
            "display": null,
            "left": null
          }
        },
        "1b4dab73d90e4bc8bc27a3f14765c519": {
          "model_module": "@jupyter-widgets/controls",
          "model_name": "FloatProgressModel",
          "state": {
            "_view_name": "ProgressView",
            "style": "IPY_MODEL_1ff60835646f45c7a8d0a59f200e76e0",
            "_dom_classes": [],
            "description": "",
            "_model_name": "FloatProgressModel",
            "bar_style": "success",
            "max": 1,
            "_view_module": "@jupyter-widgets/controls",
            "_model_module_version": "1.5.0",
            "value": 1,
            "_view_count": null,
            "_view_module_version": "1.5.0",
            "orientation": "horizontal",
            "min": 0,
            "description_tooltip": null,
            "_model_module": "@jupyter-widgets/controls",
            "layout": "IPY_MODEL_66e37c75dde846c2a62c4b938d2d0e5c"
          }
        },
        "5f2f0d59d5534a2b9d6bc6a4f5da9698": {
          "model_module": "@jupyter-widgets/controls",
          "model_name": "HTMLModel",
          "state": {
            "_view_name": "HTMLView",
            "style": "IPY_MODEL_e77021dfa03b459fb7387fe6baf3672f",
            "_dom_classes": [],
            "description": "",
            "_model_name": "HTMLModel",
            "placeholder": "​",
            "_view_module": "@jupyter-widgets/controls",
            "_model_module_version": "1.5.0",
            "value": " 32768/? [00:00&lt;00:00, 40287.96it/s]",
            "_view_count": null,
            "_view_module_version": "1.5.0",
            "description_tooltip": null,
            "_model_module": "@jupyter-widgets/controls",
            "layout": "IPY_MODEL_8227fafd87f0400193c949c1aeaba767"
          }
        },
        "1ff60835646f45c7a8d0a59f200e76e0": {
          "model_module": "@jupyter-widgets/controls",
          "model_name": "ProgressStyleModel",
          "state": {
            "_view_name": "StyleView",
            "_model_name": "ProgressStyleModel",
            "description_width": "initial",
            "_view_module": "@jupyter-widgets/base",
            "_model_module_version": "1.5.0",
            "_view_count": null,
            "_view_module_version": "1.2.0",
            "bar_color": null,
            "_model_module": "@jupyter-widgets/controls"
          }
        },
        "66e37c75dde846c2a62c4b938d2d0e5c": {
          "model_module": "@jupyter-widgets/base",
          "model_name": "LayoutModel",
          "state": {
            "_view_name": "LayoutView",
            "grid_template_rows": null,
            "right": null,
            "justify_content": null,
            "_view_module": "@jupyter-widgets/base",
            "overflow": null,
            "_model_module_version": "1.2.0",
            "_view_count": null,
            "flex_flow": null,
            "width": null,
            "min_width": null,
            "border": null,
            "align_items": null,
            "bottom": null,
            "_model_module": "@jupyter-widgets/base",
            "top": null,
            "grid_column": null,
            "overflow_y": null,
            "overflow_x": null,
            "grid_auto_flow": null,
            "grid_area": null,
            "grid_template_columns": null,
            "flex": null,
            "_model_name": "LayoutModel",
            "justify_items": null,
            "grid_row": null,
            "max_height": null,
            "align_content": null,
            "visibility": null,
            "align_self": null,
            "height": null,
            "min_height": null,
            "padding": null,
            "grid_auto_rows": null,
            "grid_gap": null,
            "max_width": null,
            "order": null,
            "_view_module_version": "1.2.0",
            "grid_template_areas": null,
            "object_position": null,
            "object_fit": null,
            "grid_auto_columns": null,
            "margin": null,
            "display": null,
            "left": null
          }
        },
        "e77021dfa03b459fb7387fe6baf3672f": {
          "model_module": "@jupyter-widgets/controls",
          "model_name": "DescriptionStyleModel",
          "state": {
            "_view_name": "StyleView",
            "_model_name": "DescriptionStyleModel",
            "description_width": "",
            "_view_module": "@jupyter-widgets/base",
            "_model_module_version": "1.5.0",
            "_view_count": null,
            "_view_module_version": "1.2.0",
            "_model_module": "@jupyter-widgets/controls"
          }
        },
        "8227fafd87f0400193c949c1aeaba767": {
          "model_module": "@jupyter-widgets/base",
          "model_name": "LayoutModel",
          "state": {
            "_view_name": "LayoutView",
            "grid_template_rows": null,
            "right": null,
            "justify_content": null,
            "_view_module": "@jupyter-widgets/base",
            "overflow": null,
            "_model_module_version": "1.2.0",
            "_view_count": null,
            "flex_flow": null,
            "width": null,
            "min_width": null,
            "border": null,
            "align_items": null,
            "bottom": null,
            "_model_module": "@jupyter-widgets/base",
            "top": null,
            "grid_column": null,
            "overflow_y": null,
            "overflow_x": null,
            "grid_auto_flow": null,
            "grid_area": null,
            "grid_template_columns": null,
            "flex": null,
            "_model_name": "LayoutModel",
            "justify_items": null,
            "grid_row": null,
            "max_height": null,
            "align_content": null,
            "visibility": null,
            "align_self": null,
            "height": null,
            "min_height": null,
            "padding": null,
            "grid_auto_rows": null,
            "grid_gap": null,
            "max_width": null,
            "order": null,
            "_view_module_version": "1.2.0",
            "grid_template_areas": null,
            "object_position": null,
            "object_fit": null,
            "grid_auto_columns": null,
            "margin": null,
            "display": null,
            "left": null
          }
        },
        "e1e7db7a163d4132824f23bb8c0dff84": {
          "model_module": "@jupyter-widgets/controls",
          "model_name": "HBoxModel",
          "state": {
            "_view_name": "HBoxView",
            "_dom_classes": [],
            "_model_name": "HBoxModel",
            "_view_module": "@jupyter-widgets/controls",
            "_model_module_version": "1.5.0",
            "_view_count": null,
            "_view_module_version": "1.5.0",
            "box_style": "",
            "layout": "IPY_MODEL_5d38ab4659e74371b70c7c6dcc242e51",
            "_model_module": "@jupyter-widgets/controls",
            "children": [
              "IPY_MODEL_e633014648ca4babb9fab868ed4c3e02",
              "IPY_MODEL_4faa3595dbb04be8b92bb9ace8defe11"
            ]
          }
        },
        "5d38ab4659e74371b70c7c6dcc242e51": {
          "model_module": "@jupyter-widgets/base",
          "model_name": "LayoutModel",
          "state": {
            "_view_name": "LayoutView",
            "grid_template_rows": null,
            "right": null,
            "justify_content": null,
            "_view_module": "@jupyter-widgets/base",
            "overflow": null,
            "_model_module_version": "1.2.0",
            "_view_count": null,
            "flex_flow": null,
            "width": null,
            "min_width": null,
            "border": null,
            "align_items": null,
            "bottom": null,
            "_model_module": "@jupyter-widgets/base",
            "top": null,
            "grid_column": null,
            "overflow_y": null,
            "overflow_x": null,
            "grid_auto_flow": null,
            "grid_area": null,
            "grid_template_columns": null,
            "flex": null,
            "_model_name": "LayoutModel",
            "justify_items": null,
            "grid_row": null,
            "max_height": null,
            "align_content": null,
            "visibility": null,
            "align_self": null,
            "height": null,
            "min_height": null,
            "padding": null,
            "grid_auto_rows": null,
            "grid_gap": null,
            "max_width": null,
            "order": null,
            "_view_module_version": "1.2.0",
            "grid_template_areas": null,
            "object_position": null,
            "object_fit": null,
            "grid_auto_columns": null,
            "margin": null,
            "display": null,
            "left": null
          }
        },
        "e633014648ca4babb9fab868ed4c3e02": {
          "model_module": "@jupyter-widgets/controls",
          "model_name": "FloatProgressModel",
          "state": {
            "_view_name": "ProgressView",
            "style": "IPY_MODEL_035f959e223547cea9145fba6c6c742f",
            "_dom_classes": [],
            "description": "",
            "_model_name": "FloatProgressModel",
            "bar_style": "success",
            "max": 1,
            "_view_module": "@jupyter-widgets/controls",
            "_model_module_version": "1.5.0",
            "value": 1,
            "_view_count": null,
            "_view_module_version": "1.5.0",
            "orientation": "horizontal",
            "min": 0,
            "description_tooltip": null,
            "_model_module": "@jupyter-widgets/controls",
            "layout": "IPY_MODEL_29f1661988f947a3a3ac70c4846e4a32"
          }
        },
        "4faa3595dbb04be8b92bb9ace8defe11": {
          "model_module": "@jupyter-widgets/controls",
          "model_name": "HTMLModel",
          "state": {
            "_view_name": "HTMLView",
            "style": "IPY_MODEL_330cfac026b44115be8ef5fbb2e9ad26",
            "_dom_classes": [],
            "description": "",
            "_model_name": "HTMLModel",
            "placeholder": "​",
            "_view_module": "@jupyter-widgets/controls",
            "_model_module_version": "1.5.0",
            "value": " 1654784/? [00:00&lt;00:00, 2528372.11it/s]",
            "_view_count": null,
            "_view_module_version": "1.5.0",
            "description_tooltip": null,
            "_model_module": "@jupyter-widgets/controls",
            "layout": "IPY_MODEL_225c0f019f764be3bd6d010cb916a962"
          }
        },
        "035f959e223547cea9145fba6c6c742f": {
          "model_module": "@jupyter-widgets/controls",
          "model_name": "ProgressStyleModel",
          "state": {
            "_view_name": "StyleView",
            "_model_name": "ProgressStyleModel",
            "description_width": "initial",
            "_view_module": "@jupyter-widgets/base",
            "_model_module_version": "1.5.0",
            "_view_count": null,
            "_view_module_version": "1.2.0",
            "bar_color": null,
            "_model_module": "@jupyter-widgets/controls"
          }
        },
        "29f1661988f947a3a3ac70c4846e4a32": {
          "model_module": "@jupyter-widgets/base",
          "model_name": "LayoutModel",
          "state": {
            "_view_name": "LayoutView",
            "grid_template_rows": null,
            "right": null,
            "justify_content": null,
            "_view_module": "@jupyter-widgets/base",
            "overflow": null,
            "_model_module_version": "1.2.0",
            "_view_count": null,
            "flex_flow": null,
            "width": null,
            "min_width": null,
            "border": null,
            "align_items": null,
            "bottom": null,
            "_model_module": "@jupyter-widgets/base",
            "top": null,
            "grid_column": null,
            "overflow_y": null,
            "overflow_x": null,
            "grid_auto_flow": null,
            "grid_area": null,
            "grid_template_columns": null,
            "flex": null,
            "_model_name": "LayoutModel",
            "justify_items": null,
            "grid_row": null,
            "max_height": null,
            "align_content": null,
            "visibility": null,
            "align_self": null,
            "height": null,
            "min_height": null,
            "padding": null,
            "grid_auto_rows": null,
            "grid_gap": null,
            "max_width": null,
            "order": null,
            "_view_module_version": "1.2.0",
            "grid_template_areas": null,
            "object_position": null,
            "object_fit": null,
            "grid_auto_columns": null,
            "margin": null,
            "display": null,
            "left": null
          }
        },
        "330cfac026b44115be8ef5fbb2e9ad26": {
          "model_module": "@jupyter-widgets/controls",
          "model_name": "DescriptionStyleModel",
          "state": {
            "_view_name": "StyleView",
            "_model_name": "DescriptionStyleModel",
            "description_width": "",
            "_view_module": "@jupyter-widgets/base",
            "_model_module_version": "1.5.0",
            "_view_count": null,
            "_view_module_version": "1.2.0",
            "_model_module": "@jupyter-widgets/controls"
          }
        },
        "225c0f019f764be3bd6d010cb916a962": {
          "model_module": "@jupyter-widgets/base",
          "model_name": "LayoutModel",
          "state": {
            "_view_name": "LayoutView",
            "grid_template_rows": null,
            "right": null,
            "justify_content": null,
            "_view_module": "@jupyter-widgets/base",
            "overflow": null,
            "_model_module_version": "1.2.0",
            "_view_count": null,
            "flex_flow": null,
            "width": null,
            "min_width": null,
            "border": null,
            "align_items": null,
            "bottom": null,
            "_model_module": "@jupyter-widgets/base",
            "top": null,
            "grid_column": null,
            "overflow_y": null,
            "overflow_x": null,
            "grid_auto_flow": null,
            "grid_area": null,
            "grid_template_columns": null,
            "flex": null,
            "_model_name": "LayoutModel",
            "justify_items": null,
            "grid_row": null,
            "max_height": null,
            "align_content": null,
            "visibility": null,
            "align_self": null,
            "height": null,
            "min_height": null,
            "padding": null,
            "grid_auto_rows": null,
            "grid_gap": null,
            "max_width": null,
            "order": null,
            "_view_module_version": "1.2.0",
            "grid_template_areas": null,
            "object_position": null,
            "object_fit": null,
            "grid_auto_columns": null,
            "margin": null,
            "display": null,
            "left": null
          }
        },
        "1f790b9723ae431791d7f46047f7c5c7": {
          "model_module": "@jupyter-widgets/controls",
          "model_name": "HBoxModel",
          "state": {
            "_view_name": "HBoxView",
            "_dom_classes": [],
            "_model_name": "HBoxModel",
            "_view_module": "@jupyter-widgets/controls",
            "_model_module_version": "1.5.0",
            "_view_count": null,
            "_view_module_version": "1.5.0",
            "box_style": "",
            "layout": "IPY_MODEL_86dbc6bd925f460fa2da825d5c886710",
            "_model_module": "@jupyter-widgets/controls",
            "children": [
              "IPY_MODEL_0e948146aa724c3daa2b52f307752d4d",
              "IPY_MODEL_42e2857cd4484135ba0b4800ccb927ca"
            ]
          }
        },
        "86dbc6bd925f460fa2da825d5c886710": {
          "model_module": "@jupyter-widgets/base",
          "model_name": "LayoutModel",
          "state": {
            "_view_name": "LayoutView",
            "grid_template_rows": null,
            "right": null,
            "justify_content": null,
            "_view_module": "@jupyter-widgets/base",
            "overflow": null,
            "_model_module_version": "1.2.0",
            "_view_count": null,
            "flex_flow": null,
            "width": null,
            "min_width": null,
            "border": null,
            "align_items": null,
            "bottom": null,
            "_model_module": "@jupyter-widgets/base",
            "top": null,
            "grid_column": null,
            "overflow_y": null,
            "overflow_x": null,
            "grid_auto_flow": null,
            "grid_area": null,
            "grid_template_columns": null,
            "flex": null,
            "_model_name": "LayoutModel",
            "justify_items": null,
            "grid_row": null,
            "max_height": null,
            "align_content": null,
            "visibility": null,
            "align_self": null,
            "height": null,
            "min_height": null,
            "padding": null,
            "grid_auto_rows": null,
            "grid_gap": null,
            "max_width": null,
            "order": null,
            "_view_module_version": "1.2.0",
            "grid_template_areas": null,
            "object_position": null,
            "object_fit": null,
            "grid_auto_columns": null,
            "margin": null,
            "display": null,
            "left": null
          }
        },
        "0e948146aa724c3daa2b52f307752d4d": {
          "model_module": "@jupyter-widgets/controls",
          "model_name": "FloatProgressModel",
          "state": {
            "_view_name": "ProgressView",
            "style": "IPY_MODEL_e3ebd244daed4921b2da5b1e6b1a1cc6",
            "_dom_classes": [],
            "description": "",
            "_model_name": "FloatProgressModel",
            "bar_style": "success",
            "max": 1,
            "_view_module": "@jupyter-widgets/controls",
            "_model_module_version": "1.5.0",
            "value": 1,
            "_view_count": null,
            "_view_module_version": "1.5.0",
            "orientation": "horizontal",
            "min": 0,
            "description_tooltip": null,
            "_model_module": "@jupyter-widgets/controls",
            "layout": "IPY_MODEL_a74cc645b4ac47b393a25bd7df9d013e"
          }
        },
        "42e2857cd4484135ba0b4800ccb927ca": {
          "model_module": "@jupyter-widgets/controls",
          "model_name": "HTMLModel",
          "state": {
            "_view_name": "HTMLView",
            "style": "IPY_MODEL_eac12a964b9f4eb9b12c1cc0e8642ded",
            "_dom_classes": [],
            "description": "",
            "_model_name": "HTMLModel",
            "placeholder": "​",
            "_view_module": "@jupyter-widgets/controls",
            "_model_module_version": "1.5.0",
            "value": " 8192/? [00:00&lt;00:00, 28939.49it/s]",
            "_view_count": null,
            "_view_module_version": "1.5.0",
            "description_tooltip": null,
            "_model_module": "@jupyter-widgets/controls",
            "layout": "IPY_MODEL_e7aebe768d4542818d686197d00a02e3"
          }
        },
        "e3ebd244daed4921b2da5b1e6b1a1cc6": {
          "model_module": "@jupyter-widgets/controls",
          "model_name": "ProgressStyleModel",
          "state": {
            "_view_name": "StyleView",
            "_model_name": "ProgressStyleModel",
            "description_width": "initial",
            "_view_module": "@jupyter-widgets/base",
            "_model_module_version": "1.5.0",
            "_view_count": null,
            "_view_module_version": "1.2.0",
            "bar_color": null,
            "_model_module": "@jupyter-widgets/controls"
          }
        },
        "a74cc645b4ac47b393a25bd7df9d013e": {
          "model_module": "@jupyter-widgets/base",
          "model_name": "LayoutModel",
          "state": {
            "_view_name": "LayoutView",
            "grid_template_rows": null,
            "right": null,
            "justify_content": null,
            "_view_module": "@jupyter-widgets/base",
            "overflow": null,
            "_model_module_version": "1.2.0",
            "_view_count": null,
            "flex_flow": null,
            "width": null,
            "min_width": null,
            "border": null,
            "align_items": null,
            "bottom": null,
            "_model_module": "@jupyter-widgets/base",
            "top": null,
            "grid_column": null,
            "overflow_y": null,
            "overflow_x": null,
            "grid_auto_flow": null,
            "grid_area": null,
            "grid_template_columns": null,
            "flex": null,
            "_model_name": "LayoutModel",
            "justify_items": null,
            "grid_row": null,
            "max_height": null,
            "align_content": null,
            "visibility": null,
            "align_self": null,
            "height": null,
            "min_height": null,
            "padding": null,
            "grid_auto_rows": null,
            "grid_gap": null,
            "max_width": null,
            "order": null,
            "_view_module_version": "1.2.0",
            "grid_template_areas": null,
            "object_position": null,
            "object_fit": null,
            "grid_auto_columns": null,
            "margin": null,
            "display": null,
            "left": null
          }
        },
        "eac12a964b9f4eb9b12c1cc0e8642ded": {
          "model_module": "@jupyter-widgets/controls",
          "model_name": "DescriptionStyleModel",
          "state": {
            "_view_name": "StyleView",
            "_model_name": "DescriptionStyleModel",
            "description_width": "",
            "_view_module": "@jupyter-widgets/base",
            "_model_module_version": "1.5.0",
            "_view_count": null,
            "_view_module_version": "1.2.0",
            "_model_module": "@jupyter-widgets/controls"
          }
        },
        "e7aebe768d4542818d686197d00a02e3": {
          "model_module": "@jupyter-widgets/base",
          "model_name": "LayoutModel",
          "state": {
            "_view_name": "LayoutView",
            "grid_template_rows": null,
            "right": null,
            "justify_content": null,
            "_view_module": "@jupyter-widgets/base",
            "overflow": null,
            "_model_module_version": "1.2.0",
            "_view_count": null,
            "flex_flow": null,
            "width": null,
            "min_width": null,
            "border": null,
            "align_items": null,
            "bottom": null,
            "_model_module": "@jupyter-widgets/base",
            "top": null,
            "grid_column": null,
            "overflow_y": null,
            "overflow_x": null,
            "grid_auto_flow": null,
            "grid_area": null,
            "grid_template_columns": null,
            "flex": null,
            "_model_name": "LayoutModel",
            "justify_items": null,
            "grid_row": null,
            "max_height": null,
            "align_content": null,
            "visibility": null,
            "align_self": null,
            "height": null,
            "min_height": null,
            "padding": null,
            "grid_auto_rows": null,
            "grid_gap": null,
            "max_width": null,
            "order": null,
            "_view_module_version": "1.2.0",
            "grid_template_areas": null,
            "object_position": null,
            "object_fit": null,
            "grid_auto_columns": null,
            "margin": null,
            "display": null,
            "left": null
          }
        }
      }
    }
  },
  "cells": [
    {
      "cell_type": "code",
      "metadata": {
        "id": "Zwc2OBpHJFGI",
        "colab_type": "code",
        "colab": {}
      },
      "source": [
        "import torch\n",
        "import torch.utils.data\n",
        "import torch.nn as nn\n",
        "import torch.nn.functional as F\n",
        "import torchvision\n",
        "import torchvision.transforms as transforms\n",
        "\n",
        "import networkx as nx\n",
        "import numpy as np\n",
        "import math\n",
        "import random\n",
        "from scipy.stats import loguniform"
      ],
      "execution_count": 1,
      "outputs": []
    },
    {
      "cell_type": "code",
      "metadata": {
        "id": "ab60GHWNJb4c",
        "colab_type": "code",
        "colab": {
          "base_uri": "https://localhost:8080/",
          "height": 578
        },
        "outputId": "a06c833d-d7b0-4f1e-9d2c-292c4d0749d9"
      },
      "source": [
        "pip install hpbandster"
      ],
      "execution_count": 2,
      "outputs": [
        {
          "output_type": "stream",
          "text": [
            "Collecting hpbandster\n",
            "\u001b[?25l  Downloading https://files.pythonhosted.org/packages/13/3e/62192b0bb527d9353d222b4b6df14400b3c4f36a92a2b138f11a5eafe000/hpbandster-0.7.4.tar.gz (51kB)\n",
            "\u001b[K     |████████████████████████████████| 61kB 2.2MB/s \n",
            "\u001b[?25hCollecting Pyro4\n",
            "\u001b[?25l  Downloading https://files.pythonhosted.org/packages/c3/3c/422f6f761076c5679215178a00eca9a68aacfbbc88152c85b15928b60e25/Pyro4-4.80-py2.py3-none-any.whl (89kB)\n",
            "\u001b[K     |████████████████████████████████| 92kB 3.5MB/s \n",
            "\u001b[?25hCollecting serpent\n",
            "  Downloading https://files.pythonhosted.org/packages/b4/a1/24871492bfc34ea18aee3bf38e0cee22d8c11d8d5e765ccc921103140747/serpent-1.30.2-py3-none-any.whl\n",
            "Collecting ConfigSpace\n",
            "\u001b[?25l  Downloading https://files.pythonhosted.org/packages/73/66/c9de12ba36e7ea396684101fdba05fc22fec8c312693f0398aef96b06298/ConfigSpace-0.4.13.tar.gz (964kB)\n",
            "\u001b[K     |████████████████████████████████| 972kB 5.3MB/s \n",
            "\u001b[?25hRequirement already satisfied: numpy in /usr/local/lib/python3.6/dist-packages (from hpbandster) (1.18.5)\n",
            "Requirement already satisfied: statsmodels in /usr/local/lib/python3.6/dist-packages (from hpbandster) (0.10.2)\n",
            "Requirement already satisfied: scipy in /usr/local/lib/python3.6/dist-packages (from hpbandster) (1.4.1)\n",
            "Collecting netifaces\n",
            "  Downloading https://files.pythonhosted.org/packages/0c/9b/c4c7eb09189548d45939a3d3a6b3d53979c67d124459b27a094c365c347f/netifaces-0.10.9-cp36-cp36m-manylinux1_x86_64.whl\n",
            "Requirement already satisfied: cython in /usr/local/lib/python3.6/dist-packages (from ConfigSpace->hpbandster) (0.29.21)\n",
            "Requirement already satisfied: pyparsing in /usr/local/lib/python3.6/dist-packages (from ConfigSpace->hpbandster) (2.4.7)\n",
            "Requirement already satisfied: pandas>=0.19 in /usr/local/lib/python3.6/dist-packages (from statsmodels->hpbandster) (1.0.5)\n",
            "Requirement already satisfied: patsy>=0.4.0 in /usr/local/lib/python3.6/dist-packages (from statsmodels->hpbandster) (0.5.1)\n",
            "Requirement already satisfied: python-dateutil>=2.6.1 in /usr/local/lib/python3.6/dist-packages (from pandas>=0.19->statsmodels->hpbandster) (2.8.1)\n",
            "Requirement already satisfied: pytz>=2017.2 in /usr/local/lib/python3.6/dist-packages (from pandas>=0.19->statsmodels->hpbandster) (2018.9)\n",
            "Requirement already satisfied: six in /usr/local/lib/python3.6/dist-packages (from patsy>=0.4.0->statsmodels->hpbandster) (1.15.0)\n",
            "Building wheels for collected packages: hpbandster, ConfigSpace\n",
            "  Building wheel for hpbandster (setup.py) ... \u001b[?25l\u001b[?25hdone\n",
            "  Created wheel for hpbandster: filename=hpbandster-0.7.4-cp36-none-any.whl size=80007 sha256=6778438662aee00a6ed717e0c1969d92133d5d6a7805861075e1ff91ddd03fe8\n",
            "  Stored in directory: /root/.cache/pip/wheels/9d/57/62/6b00c8011bac96e0c404adc5be4e16964ba4544614240b4e23\n",
            "  Building wheel for ConfigSpace (setup.py) ... \u001b[?25l\u001b[?25hdone\n",
            "  Created wheel for ConfigSpace: filename=ConfigSpace-0.4.13-cp36-cp36m-linux_x86_64.whl size=2913442 sha256=509afe513600294202b0a21f948a8bacc2e8ab4c1b6bd38ea4fa2cbe7f8e0d9d\n",
            "  Stored in directory: /root/.cache/pip/wheels/9e/13/67/89f852e4a5cf173e6c7da5e9d449b8e98483bc8168cf7b6e6d\n",
            "Successfully built hpbandster ConfigSpace\n",
            "Installing collected packages: serpent, Pyro4, ConfigSpace, netifaces, hpbandster\n",
            "Successfully installed ConfigSpace-0.4.13 Pyro4-4.80 hpbandster-0.7.4 netifaces-0.10.9 serpent-1.30.2\n"
          ],
          "name": "stdout"
        }
      ]
    },
    {
      "cell_type": "code",
      "metadata": {
        "id": "e_wvNbWhJFGQ",
        "colab_type": "code",
        "colab": {}
      },
      "source": [
        "import ConfigSpace as CS\n",
        "import ConfigSpace.hyperparameters as CSH\n",
        "\n",
        "from hpbandster.core.worker import Worker\n",
        "\n",
        "import logging\n",
        "logging.basicConfig(level=logging.DEBUG)# Device configuration\n",
        "device = torch.device('cuda' if torch.cuda.is_available() else 'cpu')\n",
        "\n",
        "# Device configuration\n",
        "device = torch.device('cuda' if torch.cuda.is_available() else 'cpu')"
      ],
      "execution_count": 3,
      "outputs": []
    },
    {
      "cell_type": "code",
      "metadata": {
        "id": "YJKA_NpDlQng",
        "colab_type": "code",
        "colab": {}
      },
      "source": [
        "def set_seed(seed): \n",
        " torch.backends.cudnn.deterministic = True \n",
        " torch.backends.cudnn.benchmark = False \n",
        " torch.manual_seed(seed)\n",
        " torch.cuda.manual_seed_all(seed)\n",
        " np.random.seed(seed) \n",
        " random.seed(seed)\n",
        "\n",
        "def unset_seed():  \n",
        " np.random.seed() \n",
        " random.seed() "
      ],
      "execution_count": 4,
      "outputs": []
    },
    {
      "cell_type": "code",
      "metadata": {
        "id": "YuMKbdCZJFGW",
        "colab_type": "code",
        "colab": {}
      },
      "source": [
        "class PyTorchWorker(Worker):\n",
        "    def __init__(self, N_train = 8192, N_valid = 1024, **kwargs):\n",
        "            super().__init__(**kwargs)\n",
        "\n",
        "            batch_size = 64\n",
        "\n",
        "            # Load the MNIST Data here\n",
        "            train_dataset = torchvision.datasets.MNIST(root='../../data', train=True, transform=transforms.ToTensor(), download=True)\n",
        "            test_dataset = torchvision.datasets.MNIST(root='../../data', train=False, transform=transforms.ToTensor())\n",
        "            \n",
        "            \n",
        "            indices = list(range(N_train+N_valid))\n",
        "            set_seed(10)                       #Random generation is made deterministic, we get same performance for specific lr always\n",
        "            np.random.shuffle(indices)             \n",
        "\n",
        "            train_idx, valid_idx = indices[N_valid:], indices[:N_valid]\n",
        "            train_sampler = torch.utils.data.sampler.SubsetRandomSampler(train_idx)\n",
        "            validation_sampler = torch.utils.data.sampler.SubsetRandomSampler(valid_idx)\n",
        "\n",
        "            self.train_loader = torch.utils.data.DataLoader(dataset=train_dataset, batch_size=batch_size, sampler=train_sampler)\n",
        "            self.validation_loader = torch.utils.data.DataLoader(dataset=train_dataset, batch_size=1024, sampler=validation_sampler)\n",
        "\n",
        "            self.test_loader = torch.utils.data.DataLoader(dataset=test_dataset, batch_size=1024, shuffle=False)\n",
        "\n",
        "\n",
        "    def compute(self, config, budget, working_directory, *args, **kwargs):\n",
        "            \"\"\"\n",
        "            Simple example for a compute function using a feed forward network.\n",
        "            It is trained on the MNIST dataset.\n",
        "            The input parameter \"config\" (dictionary) contains the sampled configurations passed by the bohb optimizer\n",
        "            \"\"\"\n",
        "\n",
        "            # device = torch.device('cpu')\n",
        "            model = LeNet().to(device)\n",
        "            criterion = torch.nn.CrossEntropyLoss()\n",
        "            \n",
        "            optimizer = torch.optim.Adam(model.parameters(), lr=config['lr'], weight_decay=config['wd'] )\n",
        "\n",
        "            for epoch in range(int(budget)):\n",
        "                    loss = 0\n",
        "                    model.train()\n",
        "                    for i, (x, y) in enumerate(self.train_loader):\n",
        "                            x = x.to(device)\n",
        "                            y = y.to(device)\n",
        "                            output = model(x)\n",
        "                            \n",
        "                            loss = criterion(output, y) \n",
        "                            \n",
        "                            optimizer.zero_grad()\n",
        "                            loss.backward()\n",
        "                            optimizer.step()\n",
        "\n",
        "            train_accuracy = self.evaluate_accuracy(model, self.train_loader)\n",
        "            validation_accuracy = self.evaluate_accuracy(model, self.validation_loader)\n",
        "            test_accuracy = self.evaluate_accuracy(model, self.test_loader)\n",
        "            num_params = model.number_of_parameters()\n",
        "\n",
        "            return ({\n",
        "                    'loss': 1-validation_accuracy, # remember: HpBandSter always minimizes!\n",
        "                    'info': {       'test accuracy': test_accuracy,\n",
        "                                            'train accuracy': train_accuracy,\n",
        "                                            'validation accuracy': validation_accuracy,\n",
        "                                            'number of parameters': num_params,\n",
        "                                    }\n",
        "\n",
        "            })\n",
        "\n",
        "    def evaluate_accuracy(self, model, data_loader):\n",
        "            model.eval()\n",
        "            correct=0\n",
        "            with torch.no_grad():\n",
        "                    for x, y in data_loader:\n",
        "                            x = x.to(device)\n",
        "                            y = y.to(device)\n",
        "                            output = model(x)\n",
        "                            pred = output.max(1, keepdim=True)[1] # get the index of the max log-probability\n",
        "                            correct += pred.eq(y.view_as(pred)).sum().item()\n",
        "           \n",
        "            accuracy = correct/len(data_loader.sampler)\n",
        "            return(accuracy)\n"
      ],
      "execution_count": 5,
      "outputs": []
    },
    {
      "cell_type": "code",
      "metadata": {
        "id": "miD-HnFQotGF",
        "colab_type": "code",
        "colab": {}
      },
      "source": [
        "class LeNet(nn.Module):\n",
        "  def __init__(self):\n",
        "    super(LeNet, self).__init__()\n",
        "    self.conv1 = nn.Conv2d(1, 6, (5,5), padding=2)\n",
        "    self.conv2 = nn.Conv2d(6, 16, (5,5))\n",
        "    self.fc1   = nn.Linear(16*5*5, 120)\n",
        "    self.fc2   = nn.Linear(120, 84)\n",
        "    self.fc3   = nn.Linear(84, 10)\n",
        "  \n",
        "  def forward(self, x):\n",
        "    x = F.max_pool2d(F.relu(self.conv1(x)), (2,2))\n",
        "    x = F.max_pool2d(F.relu(self.conv2(x)), (2,2))\n",
        "    x = x.view(-1, self.num_flat_features(x))\n",
        "    x = F.relu(self.fc1(x))\n",
        "    x = F.relu(self.fc2(x))\n",
        "    x = self.fc3(x)\n",
        "    return F.log_softmax(x, dim=1)\n",
        "\n",
        "  def num_flat_features(self, x):\n",
        "    size = x.size()[1:]\n",
        "    num_features = 1\n",
        "    for s in size:\n",
        "      num_features *= s\n",
        "    return num_features\n",
        "\n",
        "  def number_of_parameters(self):\n",
        "    return(sum(p.numel() for p in self.parameters() if p.requires_grad))  \n"
      ],
      "execution_count": 6,
      "outputs": []
    },
    {
      "cell_type": "markdown",
      "metadata": {
        "id": "XNWLTQkPsaD7",
        "colab_type": "text"
      },
      "source": [
        "Setting up Graph for ACO"
      ]
    },
    {
      "cell_type": "code",
      "metadata": {
        "id": "Yh9zjxiVWiFX",
        "colab_type": "code",
        "colab": {}
      },
      "source": [
        "class Graph:\n",
        "\n",
        "    def __init__(self,num_lr,num_wd):\n",
        "      self.num_lr = num_lr\n",
        "      self.num_wd = num_wd\n",
        "    \n",
        "    def generate_graph(self):\n",
        "      G = nx.DiGraph()        #Directional graph\n",
        "      edges=[]\n",
        "      G.add_node('inp')\n",
        "      G.add_node('out')\n",
        "      \n",
        "      set_seed(10)\n",
        "\n",
        "      rvs_lr = loguniform.rvs(1e-7, 1e-1, size=self.num_lr)\n",
        "      for lr in range(self.num_lr):\n",
        "        #learning_rate = random.uniform(1e-5, 1e-2)\n",
        "        G.add_node(lr, lr=rvs_lr[lr])\n",
        "        edge = ['inp',lr,1]                     #initial weight is 1 (pheromone value)\n",
        "        edges.append(edge)\n",
        "        \n",
        "      rvs_wd = loguniform.rvs(1e-5, 1e-3, size=self.num_wd)\n",
        "      for wd in range(self.num_wd):\n",
        "       #weight_decay = random.uniform(1e-5, 1e-3)\n",
        "       G.add_node(wd+self.num_lr, wd = rvs_wd[wd])\n",
        "       edge = [wd+self.num_lr,'out',1]\n",
        "       edges.append(edge)\n",
        "       for lr in range(self.num_lr):\n",
        "         edge = [lr,wd+self.num_lr,1]\n",
        "         edges.append(edge)  \n",
        "\n",
        "     # for dr in range(self.num_dr):\n",
        "     #  dropout_rate = random.uniform(0.0, 0.9)\n",
        "     #  G.add_node(dr+self.num_lr, dr=dropout_rate)\n",
        "     #  for lr in range(self.num_lr):\n",
        "     #    edge = [lr,dr+self.num_lr,1]\n",
        "     #    edges.append(edge)\n",
        "\n",
        "     # for nfu in range(self.num_num_fc_units): \n",
        "     #  num_fc_units = random.randint(8, 256)\n",
        "     #  G.add_node(nfu+self.num_lr+self.num_dr, nfu=num_fc_units)\n",
        "     #  edge = [nfu+self.num_lr+self.num_dr,'out',1]\n",
        "     #  edges.append(edge)\n",
        "     #  for dr in range(self.num_dr):\n",
        "     #    edge = [dr+self.num_lr,(nfu+self.num_lr+self.num_dr),1]\n",
        "     #    edges.append(edge)\n",
        "\n",
        "      G.add_weighted_edges_from(edges)\n",
        "    \n",
        "      return G\n"
      ],
      "execution_count": 7,
      "outputs": []
    },
    {
      "cell_type": "code",
      "metadata": {
        "id": "avGvf4j49W-e",
        "colab_type": "code",
        "colab": {
          "base_uri": "https://localhost:8080/",
          "height": 1000
        },
        "outputId": "ce4c4f61-0992-4353-fe1a-5ee40e9444db"
      },
      "source": [
        "Graphed = Graph(10,5)\n",
        "G = Graphed.generate_graph()\n",
        "nx.draw(G,with_labels=True,font_weight='bold')"
      ],
      "execution_count": 8,
      "outputs": [
        {
          "output_type": "stream",
          "text": [
            "DEBUG:matplotlib.font_manager:findfont: Matching sans\\-serif:style=normal:variant=normal:weight=bold:stretch=normal:size=12.0.\n",
            "DEBUG:matplotlib.font_manager:findfont: score(<Font 'cmr10' (cmr10.ttf) normal normal 400 normal>) = 10.335\n",
            "DEBUG:matplotlib.font_manager:findfont: score(<Font 'DejaVu Serif' (DejaVuSerif.ttf) normal normal 400 normal>) = 10.335\n",
            "DEBUG:matplotlib.font_manager:findfont: score(<Font 'STIXSizeFourSym' (STIXSizFourSymReg.ttf) normal normal regular normal>) = 10.335\n",
            "DEBUG:matplotlib.font_manager:findfont: score(<Font 'DejaVu Sans Mono' (DejaVuSansMono-Oblique.ttf) oblique normal 400 normal>) = 11.335\n",
            "DEBUG:matplotlib.font_manager:findfont: score(<Font 'DejaVu Sans Display' (DejaVuSansDisplay.ttf) normal normal 400 normal>) = 10.335\n",
            "DEBUG:matplotlib.font_manager:findfont: score(<Font 'DejaVu Sans Mono' (DejaVuSansMono.ttf) normal normal 400 normal>) = 10.335\n",
            "DEBUG:matplotlib.font_manager:findfont: score(<Font 'STIXNonUnicode' (STIXNonUni.ttf) normal normal regular normal>) = 10.335\n",
            "DEBUG:matplotlib.font_manager:findfont: score(<Font 'DejaVu Sans Mono' (DejaVuSansMono-BoldOblique.ttf) oblique normal 700 normal>) = 11.05\n",
            "DEBUG:matplotlib.font_manager:findfont: score(<Font 'STIXSizeFourSym' (STIXSizFourSymBol.ttf) normal normal 700 normal>) = 10.05\n",
            "DEBUG:matplotlib.font_manager:findfont: score(<Font 'DejaVu Sans' (DejaVuSans.ttf) normal normal 400 normal>) = 0.33499999999999996\n",
            "DEBUG:matplotlib.font_manager:findfont: score(<Font 'STIXSizeOneSym' (STIXSizOneSymBol.ttf) normal normal 700 normal>) = 10.05\n",
            "DEBUG:matplotlib.font_manager:findfont: score(<Font 'DejaVu Serif Display' (DejaVuSerifDisplay.ttf) normal normal 400 normal>) = 10.335\n",
            "DEBUG:matplotlib.font_manager:findfont: score(<Font 'cmmi10' (cmmi10.ttf) normal normal 400 normal>) = 10.335\n",
            "DEBUG:matplotlib.font_manager:findfont: score(<Font 'STIXGeneral' (STIXGeneralItalic.ttf) italic normal 400 normal>) = 11.335\n",
            "DEBUG:matplotlib.font_manager:findfont: score(<Font 'STIXSizeThreeSym' (STIXSizThreeSymReg.ttf) normal normal regular normal>) = 10.335\n",
            "DEBUG:matplotlib.font_manager:findfont: score(<Font 'STIXSizeTwoSym' (STIXSizTwoSymBol.ttf) normal normal 700 normal>) = 10.05\n",
            "DEBUG:matplotlib.font_manager:findfont: score(<Font 'STIXSizeThreeSym' (STIXSizThreeSymBol.ttf) normal normal 700 normal>) = 10.05\n",
            "DEBUG:matplotlib.font_manager:findfont: score(<Font 'DejaVu Sans' (DejaVuSans-BoldOblique.ttf) oblique normal 700 normal>) = 1.05\n",
            "DEBUG:matplotlib.font_manager:findfont: score(<Font 'STIXSizeOneSym' (STIXSizOneSymReg.ttf) normal normal regular normal>) = 10.335\n",
            "DEBUG:matplotlib.font_manager:findfont: score(<Font 'DejaVu Sans Mono' (DejaVuSansMono-Bold.ttf) normal normal 700 normal>) = 10.05\n",
            "DEBUG:matplotlib.font_manager:findfont: score(<Font 'STIXNonUnicode' (STIXNonUniBol.ttf) normal normal 700 normal>) = 10.05\n",
            "DEBUG:matplotlib.font_manager:findfont: score(<Font 'cmss10' (cmss10.ttf) normal normal 400 normal>) = 10.335\n",
            "DEBUG:matplotlib.font_manager:findfont: score(<Font 'cmsy10' (cmsy10.ttf) normal normal 400 normal>) = 10.335\n",
            "DEBUG:matplotlib.font_manager:findfont: score(<Font 'cmex10' (cmex10.ttf) normal normal 400 normal>) = 10.335\n",
            "DEBUG:matplotlib.font_manager:findfont: score(<Font 'DejaVu Sans' (DejaVuSans-Bold.ttf) normal normal 700 normal>) = 0.05\n",
            "DEBUG:matplotlib.font_manager:findfont: score(<Font 'DejaVu Serif' (DejaVuSerif-Italic.ttf) italic normal 400 normal>) = 11.335\n",
            "DEBUG:matplotlib.font_manager:findfont: score(<Font 'DejaVu Serif' (DejaVuSerif-Bold.ttf) normal normal 700 normal>) = 10.05\n",
            "DEBUG:matplotlib.font_manager:findfont: score(<Font 'DejaVu Sans' (DejaVuSans-Oblique.ttf) oblique normal 400 normal>) = 1.335\n",
            "DEBUG:matplotlib.font_manager:findfont: score(<Font 'STIXGeneral' (STIXGeneralBol.ttf) normal normal 700 normal>) = 10.05\n",
            "DEBUG:matplotlib.font_manager:findfont: score(<Font 'STIXNonUnicode' (STIXNonUniBolIta.ttf) italic normal 700 normal>) = 11.05\n",
            "DEBUG:matplotlib.font_manager:findfont: score(<Font 'cmb10' (cmb10.ttf) normal normal 400 normal>) = 10.335\n",
            "DEBUG:matplotlib.font_manager:findfont: score(<Font 'STIXSizeFiveSym' (STIXSizFiveSymReg.ttf) normal normal regular normal>) = 10.335\n",
            "DEBUG:matplotlib.font_manager:findfont: score(<Font 'STIXNonUnicode' (STIXNonUniIta.ttf) italic normal 400 normal>) = 11.335\n",
            "DEBUG:matplotlib.font_manager:findfont: score(<Font 'STIXGeneral' (STIXGeneral.ttf) normal normal regular normal>) = 10.335\n",
            "DEBUG:matplotlib.font_manager:findfont: score(<Font 'STIXGeneral' (STIXGeneralBolIta.ttf) italic normal 700 normal>) = 11.05\n",
            "DEBUG:matplotlib.font_manager:findfont: score(<Font 'DejaVu Serif' (DejaVuSerif-BoldItalic.ttf) italic normal 700 normal>) = 11.05\n",
            "DEBUG:matplotlib.font_manager:findfont: score(<Font 'cmtt10' (cmtt10.ttf) normal normal 400 normal>) = 10.335\n",
            "DEBUG:matplotlib.font_manager:findfont: score(<Font 'STIXSizeTwoSym' (STIXSizTwoSymReg.ttf) normal normal regular normal>) = 10.335\n",
            "DEBUG:matplotlib.font_manager:findfont: score(<Font 'Liberation Sans' (LiberationSans-Regular.ttf) normal normal 400 normal>) = 10.335\n",
            "DEBUG:matplotlib.font_manager:findfont: score(<Font 'Liberation Serif' (LiberationSerif-BoldItalic.ttf) italic normal 700 normal>) = 11.05\n",
            "DEBUG:matplotlib.font_manager:findfont: score(<Font 'Liberation Sans Narrow' (LiberationSansNarrow-Regular.ttf) normal normal 400 condensed>) = 10.535\n",
            "DEBUG:matplotlib.font_manager:findfont: score(<Font 'Liberation Serif' (LiberationSerif-Bold.ttf) normal normal 700 normal>) = 10.05\n",
            "DEBUG:matplotlib.font_manager:findfont: score(<Font 'Liberation Mono' (LiberationMono-Italic.ttf) italic normal 400 normal>) = 11.335\n",
            "DEBUG:matplotlib.font_manager:findfont: score(<Font 'Liberation Mono' (LiberationMono-BoldItalic.ttf) italic normal 700 normal>) = 11.05\n",
            "DEBUG:matplotlib.font_manager:findfont: score(<Font 'Liberation Sans Narrow' (LiberationSansNarrow-BoldItalic.ttf) italic normal 700 condensed>) = 11.25\n",
            "DEBUG:matplotlib.font_manager:findfont: score(<Font 'Liberation Sans Narrow' (LiberationSansNarrow-Italic.ttf) italic normal 400 condensed>) = 11.535\n",
            "DEBUG:matplotlib.font_manager:findfont: score(<Font 'Liberation Sans' (LiberationSans-Italic.ttf) italic normal 400 normal>) = 11.335\n",
            "DEBUG:matplotlib.font_manager:findfont: score(<Font 'Liberation Mono' (LiberationMono-Bold.ttf) normal normal 700 normal>) = 10.05\n",
            "DEBUG:matplotlib.font_manager:findfont: score(<Font 'Liberation Sans Narrow' (LiberationSansNarrow-Bold.ttf) normal normal 700 condensed>) = 10.25\n",
            "DEBUG:matplotlib.font_manager:findfont: score(<Font 'Humor Sans' (Humor-Sans.ttf) normal normal 400 normal>) = 10.335\n",
            "DEBUG:matplotlib.font_manager:findfont: score(<Font 'Liberation Sans' (LiberationSans-BoldItalic.ttf) italic normal 700 normal>) = 11.05\n",
            "DEBUG:matplotlib.font_manager:findfont: score(<Font 'Liberation Sans' (LiberationSans-Bold.ttf) normal normal 700 normal>) = 10.05\n",
            "DEBUG:matplotlib.font_manager:findfont: score(<Font 'Liberation Mono' (LiberationMono-Regular.ttf) normal normal 400 normal>) = 10.335\n",
            "DEBUG:matplotlib.font_manager:findfont: score(<Font 'Liberation Serif' (LiberationSerif-Italic.ttf) italic normal 400 normal>) = 11.335\n",
            "DEBUG:matplotlib.font_manager:findfont: score(<Font 'Liberation Serif' (LiberationSerif-Regular.ttf) normal normal 400 normal>) = 10.335\n",
            "DEBUG:matplotlib.font_manager:findfont: Matching sans\\-serif:style=normal:variant=normal:weight=bold:stretch=normal:size=12.0 to DejaVu Sans ('/usr/local/lib/python3.6/dist-packages/matplotlib/mpl-data/fonts/ttf/DejaVuSans-Bold.ttf') with score of 0.050000.\n"
          ],
          "name": "stderr"
        },
        {
          "output_type": "display_data",
          "data": {
            "image/png": "[encoded data removed]",
            "text/plain": [
              "<Figure size 432x288 with 1 Axes>"
            ]
          },
          "metadata": {
            "tags": []
          }
        }
      ]
    },
    {
      "cell_type": "code",
      "metadata": {
        "id": "4Y7p2b_i0Ucx",
        "colab_type": "code",
        "colab": {
          "base_uri": "https://localhost:8080/",
          "height": 306
        },
        "outputId": "c982ceea-9319-4eb9-812c-8abeeda8bdb0"
      },
      "source": [
        "list(G.nodes.data())"
      ],
      "execution_count": 9,
      "outputs": [
        {
          "output_type": "execute_result",
          "data": {
            "text/plain": [
              "[('inp', {}),\n",
              " ('out', {}),\n",
              " (0, {'lr': 0.004245451262763633}),\n",
              " (1, {'lr': 1.332022915065906e-07}),\n",
              " (2, {'lr': 0.0006337083207484665}),\n",
              " (3, {'lr': 0.0031104505064528075}),\n",
              " (4, {'lr': 9.795848815655202e-05}),\n",
              " (5, {'lr': 2.2324403996622977e-06}),\n",
              " (6, {'lr': 1.5430400149097398e-06}),\n",
              " (7, {'lr': 0.0036574994811927257}),\n",
              " (8, {'lr': 1.034344047224182e-06}),\n",
              " (9, {'lr': 3.38874496289425e-07}),\n",
              " (10, {'wd': 0.00023481164807395875}),\n",
              " (11, {'wd': 0.0008068386469121058}),\n",
              " (12, {'wd': 1.018348745338606e-05}),\n",
              " (13, {'wd': 0.00010577536357318944}),\n",
              " (14, {'wd': 0.0004219314744806921})]"
            ]
          },
          "metadata": {
            "tags": []
          },
          "execution_count": 9
        }
      ]
    },
    {
      "cell_type": "code",
      "metadata": {
        "id": "rFivMaf3SHt9",
        "colab_type": "code",
        "colab": {
          "base_uri": "https://localhost:8080/",
          "height": 1000
        },
        "outputId": "11e4a184-5675-45c3-e169-5a237c0cb29a"
      },
      "source": [
        "list(G.edges.data())"
      ],
      "execution_count": 10,
      "outputs": [
        {
          "output_type": "execute_result",
          "data": {
            "text/plain": [
              "[('inp', 0, {'weight': 1}),\n",
              " ('inp', 1, {'weight': 1}),\n",
              " ('inp', 2, {'weight': 1}),\n",
              " ('inp', 3, {'weight': 1}),\n",
              " ('inp', 4, {'weight': 1}),\n",
              " ('inp', 5, {'weight': 1}),\n",
              " ('inp', 6, {'weight': 1}),\n",
              " ('inp', 7, {'weight': 1}),\n",
              " ('inp', 8, {'weight': 1}),\n",
              " ('inp', 9, {'weight': 1}),\n",
              " (0, 10, {'weight': 1}),\n",
              " (0, 11, {'weight': 1}),\n",
              " (0, 12, {'weight': 1}),\n",
              " (0, 13, {'weight': 1}),\n",
              " (0, 14, {'weight': 1}),\n",
              " (1, 10, {'weight': 1}),\n",
              " (1, 11, {'weight': 1}),\n",
              " (1, 12, {'weight': 1}),\n",
              " (1, 13, {'weight': 1}),\n",
              " (1, 14, {'weight': 1}),\n",
              " (2, 10, {'weight': 1}),\n",
              " (2, 11, {'weight': 1}),\n",
              " (2, 12, {'weight': 1}),\n",
              " (2, 13, {'weight': 1}),\n",
              " (2, 14, {'weight': 1}),\n",
              " (3, 10, {'weight': 1}),\n",
              " (3, 11, {'weight': 1}),\n",
              " (3, 12, {'weight': 1}),\n",
              " (3, 13, {'weight': 1}),\n",
              " (3, 14, {'weight': 1}),\n",
              " (4, 10, {'weight': 1}),\n",
              " (4, 11, {'weight': 1}),\n",
              " (4, 12, {'weight': 1}),\n",
              " (4, 13, {'weight': 1}),\n",
              " (4, 14, {'weight': 1}),\n",
              " (5, 10, {'weight': 1}),\n",
              " (5, 11, {'weight': 1}),\n",
              " (5, 12, {'weight': 1}),\n",
              " (5, 13, {'weight': 1}),\n",
              " (5, 14, {'weight': 1}),\n",
              " (6, 10, {'weight': 1}),\n",
              " (6, 11, {'weight': 1}),\n",
              " (6, 12, {'weight': 1}),\n",
              " (6, 13, {'weight': 1}),\n",
              " (6, 14, {'weight': 1}),\n",
              " (7, 10, {'weight': 1}),\n",
              " (7, 11, {'weight': 1}),\n",
              " (7, 12, {'weight': 1}),\n",
              " (7, 13, {'weight': 1}),\n",
              " (7, 14, {'weight': 1}),\n",
              " (8, 10, {'weight': 1}),\n",
              " (8, 11, {'weight': 1}),\n",
              " (8, 12, {'weight': 1}),\n",
              " (8, 13, {'weight': 1}),\n",
              " (8, 14, {'weight': 1}),\n",
              " (9, 10, {'weight': 1}),\n",
              " (9, 11, {'weight': 1}),\n",
              " (9, 12, {'weight': 1}),\n",
              " (9, 13, {'weight': 1}),\n",
              " (9, 14, {'weight': 1}),\n",
              " (10, 'out', {'weight': 1}),\n",
              " (11, 'out', {'weight': 1}),\n",
              " (12, 'out', {'weight': 1}),\n",
              " (13, 'out', {'weight': 1}),\n",
              " (14, 'out', {'weight': 1})]"
            ]
          },
          "metadata": {
            "tags": []
          },
          "execution_count": 10
        }
      ]
    },
    {
      "cell_type": "code",
      "metadata": {
        "id": "d7MzHbSbs6XZ",
        "colab_type": "code",
        "colab": {}
      },
      "source": [
        "class ACO:\n",
        "\n",
        "    def __init__(self, num_ants, Graph):\n",
        "         self.num_ants = num_ants\n",
        "         self.G = Graph\n",
        "\n",
        "    def generate_ants(self): \n",
        "         best_path = []\n",
        "         best_loss = math.inf\n",
        "\n",
        "         paths = []\n",
        "         for i in range(self.num_ants):\n",
        "             unset_seed()         #remove seed, while finding aco path\n",
        "             path = self.select_aco_path()\n",
        "             self.local_pheromone_update(path)\n",
        "             print(path)\n",
        "             paths.append(path)\n",
        "             result = self.evaluation(path) \n",
        "             if (result['loss'] < best_loss):\n",
        "              best_path = path\n",
        "              best_loss = result['loss']\n",
        "\n",
        "         print(\"Group of ants have traversed\")\n",
        "         print(paths)\n",
        "         self.global_pheromone_update(paths,best_path,best_loss)\n",
        "\n",
        "         result = {\n",
        "             \"best_path\": best_path,\n",
        "             \"best_loss\": best_loss\n",
        "         }\n",
        "         return result\n",
        "\n",
        "\n",
        "    def select_aco_path(self):\n",
        "        \"\"\"Selects ant path from source to destination based on ACO select rule\"\"\"\n",
        "        ant_path = []\n",
        "        current_node = 'inp' \n",
        "        ant_path.append(current_node)\n",
        "        next_node = 'inp'\n",
        "\n",
        "        while(next_node!='out'):\n",
        "         next_node = self.aco_select_rule(current_node)\n",
        "         current_node = next_node\n",
        "         ant_path.append(next_node)\n",
        "        \n",
        "        return ant_path    \n",
        "\n",
        "    def aco_select_rule(self, current_node):\n",
        "        \"\"\"Selects neigbour using ACO transition rule\"\"\"\n",
        "        \n",
        "\n",
        "        probabilities = []\n",
        "        denominator = 0.0\n",
        "        greediness = 0.5\n",
        "        neighbours = list(G.successors(current_node))\n",
        "        # Calculate probability for each neighbour    (heuristics are not considered)\n",
        "        for i in range(len(neighbours)):\n",
        "            probability = self.G[current_node][neighbours[i]]['weight']    #pheromone value\n",
        "            probabilities.append(probability)\n",
        "            denominator += probability\n",
        "\n",
        "        # Try to perform greedy select: exploitation\n",
        "        random_variable = random.uniform(0, 1)\n",
        "        if random_variable <= greediness:\n",
        "            # Find max probability\n",
        "            max_probability = max(probabilities)\n",
        "            # Gather the indices of probabilities that are equal to the max probability\n",
        "            max_indices = [i for i, j in enumerate(probabilities) if j == max_probability]\n",
        "            # From those max indices select random index\n",
        "            neighbour_index = random.choice(max_indices)\n",
        "            return neighbours[neighbour_index]\n",
        "\n",
        "        # Otherwise perform select using roulette wheel: exploration\n",
        "        probabilities = [x / denominator for x in probabilities]\n",
        "        probability_sum = sum(probabilities)\n",
        "        random_threshold = random.uniform(0, probability_sum)\n",
        "        current_value = 0\n",
        "        for neighbour_index, probability in enumerate(probabilities):\n",
        "            current_value += probability\n",
        "            if current_value > random_threshold:\n",
        "                return neighbours[neighbour_index]\n",
        "\n",
        "    def local_pheromone_update(self,path):      \n",
        "        pheromone_0 = 0.1\n",
        "        decay = 0.1\n",
        "        for i in range(len(path)-1):\n",
        "          self.G[path[i]][path[i+1]]['weight'] = (1 - decay) * self.G[path[i]][path[i+1]]['weight'] + (decay * pheromone_0)\n",
        "    \n",
        "    def global_pheromone_update(self, paths, best_path, best_loss):\n",
        "        evaporation = 0.1\n",
        "        added_pheromone = 1 - best_loss    #best_accuracy\n",
        "        for i in range(self.num_ants):\n",
        "          if(best_path != paths[i]):\n",
        "             for k in range(len(paths[i])-1):\n",
        "               self.G[paths[i][k]][paths[i][k+1]]['weight'] = (1 - evaporation) * self.G[paths[i][k]][paths[i][k+1]]['weight']\n",
        "\n",
        "        for i in range(len(best_path)-1):     #deposit pheromone for the best path only\n",
        "          self.G[best_path[i]][best_path[i+1]]['weight'] = (1 - evaporation) * self.G[best_path[i]][best_path[i+1]]['weight'] + (evaporation * added_pheromone)\n",
        "\n",
        "    def evaluation(self,path):\n",
        "       lr = G.nodes[path[1]]['lr']\n",
        "       wd = G.nodes[path[2]]['wd']\n",
        "       config = {\n",
        "           'lr': lr,\n",
        "           'wd': wd\n",
        "       }\n",
        "       print(config)\n",
        "       worker = PyTorchWorker(run_id='0')\n",
        "       res = worker.compute(config=config, budget=10, working_directory='.')\n",
        "       print(res)\n",
        "       return res"
      ],
      "execution_count": 11,
      "outputs": []
    },
    {
      "cell_type": "code",
      "metadata": {
        "id": "C9bemEB2v0LG",
        "colab_type": "code",
        "colab": {
          "base_uri": "https://localhost:8080/",
          "height": 777,
          "referenced_widgets": [
            "ca463fd6951845c9939a461a0746c5ca",
            "497c57c098484367bf6ac369bc5a8884",
            "b06b3000e3aa4254a0dd385fe31f06f2",
            "6b164958b03940f9aef32aab5b53353d",
            "a9cb939b2804473487fd4ee34dfd3c4b",
            "c2046eac9d4641bf85355005f745fdf0",
            "1709a31afe494a1481c7d96193f8a19f",
            "858a72fb121444b99ee4f2c66eeff247",
            "0fdf3a8e70c049dcba04815b76ad0817",
            "4482cd8b6c934b9399e462f175e41f8b",
            "1b4dab73d90e4bc8bc27a3f14765c519",
            "5f2f0d59d5534a2b9d6bc6a4f5da9698",
            "1ff60835646f45c7a8d0a59f200e76e0",
            "66e37c75dde846c2a62c4b938d2d0e5c",
            "e77021dfa03b459fb7387fe6baf3672f",
            "8227fafd87f0400193c949c1aeaba767",
            "e1e7db7a163d4132824f23bb8c0dff84",
            "5d38ab4659e74371b70c7c6dcc242e51",
            "e633014648ca4babb9fab868ed4c3e02",
            "4faa3595dbb04be8b92bb9ace8defe11",
            "035f959e223547cea9145fba6c6c742f",
            "29f1661988f947a3a3ac70c4846e4a32",
            "330cfac026b44115be8ef5fbb2e9ad26",
            "225c0f019f764be3bd6d010cb916a962",
            "1f790b9723ae431791d7f46047f7c5c7",
            "86dbc6bd925f460fa2da825d5c886710",
            "0e948146aa724c3daa2b52f307752d4d",
            "42e2857cd4484135ba0b4800ccb927ca",
            "e3ebd244daed4921b2da5b1e6b1a1cc6",
            "a74cc645b4ac47b393a25bd7df9d013e",
            "eac12a964b9f4eb9b12c1cc0e8642ded",
            "e7aebe768d4542818d686197d00a02e3"
          ]
        },
        "outputId": "d2964e24-5fed-4bb8-f1d3-601a79731232"
      },
      "source": [
        "num_of_ants = 6\n",
        "acs=ACO(num_of_ants,G)\n",
        "\n",
        "result_first_group = acs.generate_ants()\n",
        "print(result_first_group)"
      ],
      "execution_count": 12,
      "outputs": [
        {
          "output_type": "stream",
          "text": [
            "['inp', 0, 13, 'out']\n",
            "{'lr': 0.004245451262763633, 'wd': 0.00010577536357318944}\n",
            "Downloading http://yann.lecun.com/exdb/mnist/train-images-idx3-ubyte.gz to ../../data/MNIST/raw/train-images-idx3-ubyte.gz\n"
          ],
          "name": "stdout"
        },
        {
          "output_type": "display_data",
          "data": {
            "application/vnd.jupyter.widget-view+json": {
              "model_id": "ca463fd6951845c9939a461a0746c5ca",
              "version_minor": 0,
              "version_major": 2
            },
            "text/plain": [
              "HBox(children=(FloatProgress(value=1.0, bar_style='info', max=1.0), HTML(value='')))"
            ]
          },
          "metadata": {
            "tags": []
          }
        },
        {
          "output_type": "stream",
          "text": [
            "Extracting ../../data/MNIST/raw/train-images-idx3-ubyte.gz to ../../data/MNIST/raw\n",
            "\n",
            "Downloading http://yann.lecun.com/exdb/mnist/train-labels-idx1-ubyte.gz to ../../data/MNIST/raw/train-labels-idx1-ubyte.gz\n"
          ],
          "name": "stdout"
        },
        {
          "output_type": "display_data",
          "data": {
            "application/vnd.jupyter.widget-view+json": {
              "model_id": "0fdf3a8e70c049dcba04815b76ad0817",
              "version_minor": 0,
              "version_major": 2
            },
            "text/plain": [
              "HBox(children=(FloatProgress(value=1.0, bar_style='info', max=1.0), HTML(value='')))"
            ]
          },
          "metadata": {
            "tags": []
          }
        },
        {
          "output_type": "stream",
          "text": [
            "Extracting ../../data/MNIST/raw/train-labels-idx1-ubyte.gz to ../../data/MNIST/raw\n",
            "Downloading http://yann.lecun.com/exdb/mnist/t10k-images-idx3-ubyte.gz to ../../data/MNIST/raw/t10k-images-idx3-ubyte.gz\n"
          ],
          "name": "stdout"
        },
        {
          "output_type": "display_data",
          "data": {
            "application/vnd.jupyter.widget-view+json": {
              "model_id": "e1e7db7a163d4132824f23bb8c0dff84",
              "version_minor": 0,
              "version_major": 2
            },
            "text/plain": [
              "HBox(children=(FloatProgress(value=1.0, bar_style='info', max=1.0), HTML(value='')))"
            ]
          },
          "metadata": {
            "tags": []
          }
        },
        {
          "output_type": "stream",
          "text": [
            "Extracting ../../data/MNIST/raw/t10k-images-idx3-ubyte.gz to ../../data/MNIST/raw\n",
            "Downloading http://yann.lecun.com/exdb/mnist/t10k-labels-idx1-ubyte.gz to ../../data/MNIST/raw/t10k-labels-idx1-ubyte.gz\n"
          ],
          "name": "stdout"
        },
        {
          "output_type": "display_data",
          "data": {
            "application/vnd.jupyter.widget-view+json": {
              "model_id": "1f790b9723ae431791d7f46047f7c5c7",
              "version_minor": 0,
              "version_major": 2
            },
            "text/plain": [
              "HBox(children=(FloatProgress(value=1.0, bar_style='info', max=1.0), HTML(value='')))"
            ]
          },
          "metadata": {
            "tags": []
          }
        },
        {
          "output_type": "stream",
          "text": [
            "Extracting ../../data/MNIST/raw/t10k-labels-idx1-ubyte.gz to ../../data/MNIST/raw\n",
            "Processing...\n",
            "Done!\n",
            "\n",
            "\n",
            "\n"
          ],
          "name": "stdout"
        },
        {
          "output_type": "stream",
          "text": [
            "/pytorch/torch/csrc/utils/tensor_numpy.cpp:141: UserWarning: The given NumPy array is not writeable, and PyTorch does not support non-writeable tensors. This means you can write to the underlying (supposedly non-writeable) NumPy array using the tensor. You may want to copy the array to protect its data or make it writeable before converting it to a tensor. This type of warning will be suppressed for the rest of this program.\n"
          ],
          "name": "stderr"
        },
        {
          "output_type": "stream",
          "text": [
            "{'loss': 0.0244140625, 'info': {'test accuracy': 0.9712, 'train accuracy': 0.994140625, 'validation accuracy': 0.9755859375, 'number of parameters': 61706}}\n",
            "['inp', 6, 11, 'out']\n",
            "{'lr': 1.5430400149097398e-06, 'wd': 0.0008068386469121058}\n",
            "{'loss': 0.7861328125, 'info': {'test accuracy': 0.186, 'train accuracy': 0.1951904296875, 'validation accuracy': 0.2138671875, 'number of parameters': 61706}}\n",
            "['inp', 8, 11, 'out']\n",
            "{'lr': 1.034344047224182e-06, 'wd': 0.0008068386469121058}\n",
            "{'loss': 0.806640625, 'info': {'test accuracy': 0.1611, 'train accuracy': 0.1749267578125, 'validation accuracy': 0.193359375, 'number of parameters': 61706}}\n",
            "['inp', 1, 14, 'out']\n",
            "{'lr': 1.332022915065906e-07, 'wd': 0.0004219314744806921}\n",
            "{'loss': 0.8955078125, 'info': {'test accuracy': 0.0871, 'train accuracy': 0.0982666015625, 'validation accuracy': 0.1044921875, 'number of parameters': 61706}}\n",
            "['inp', 9, 14, 'out']\n",
            "{'lr': 3.38874496289425e-07, 'wd': 0.0004219314744806921}\n",
            "{'loss': 0.8740234375, 'info': {'test accuracy': 0.1078, 'train accuracy': 0.120361328125, 'validation accuracy': 0.1259765625, 'number of parameters': 61706}}\n",
            "['inp', 4, 12, 'out']\n",
            "{'lr': 9.795848815655202e-05, 'wd': 1.018348745338606e-05}\n",
            "{'loss': 0.08203125, 'info': {'test accuracy': 0.9189, 'train accuracy': 0.920166015625, 'validation accuracy': 0.91796875, 'number of parameters': 61706}}\n",
            "Group of ants have traversed\n",
            "[['inp', 0, 13, 'out'], ['inp', 6, 11, 'out'], ['inp', 8, 11, 'out'], ['inp', 1, 14, 'out'], ['inp', 9, 14, 'out'], ['inp', 4, 12, 'out']]\n",
            "{'best_path': ['inp', 0, 13, 'out'], 'best_loss': 0.0244140625}\n"
          ],
          "name": "stdout"
        }
      ]
    },
    {
      "cell_type": "code",
      "metadata": {
        "id": "F5dY41vPINTx",
        "colab_type": "code",
        "colab": {
          "base_uri": "https://localhost:8080/",
          "height": 1000
        },
        "outputId": "cf8bc4bc-926d-4c49-c00d-8eaa2824ddcc"
      },
      "source": [
        "list(G.edges.data())"
      ],
      "execution_count": 13,
      "outputs": [
        {
          "output_type": "execute_result",
          "data": {
            "text/plain": [
              "[('inp', 0, {'weight': 0.91655859375}),\n",
              " ('inp', 1, {'weight': 0.8190000000000001}),\n",
              " ('inp', 2, {'weight': 1}),\n",
              " ('inp', 3, {'weight': 1}),\n",
              " ('inp', 4, {'weight': 0.8190000000000001}),\n",
              " ('inp', 5, {'weight': 1}),\n",
              " ('inp', 6, {'weight': 0.8190000000000001}),\n",
              " ('inp', 7, {'weight': 1}),\n",
              " ('inp', 8, {'weight': 0.8190000000000001}),\n",
              " ('inp', 9, {'weight': 0.8190000000000001}),\n",
              " (0, 10, {'weight': 1}),\n",
              " (0, 11, {'weight': 1}),\n",
              " (0, 12, {'weight': 1}),\n",
              " (0, 13, {'weight': 0.91655859375}),\n",
              " (0, 14, {'weight': 1}),\n",
              " (1, 10, {'weight': 1}),\n",
              " (1, 11, {'weight': 1}),\n",
              " (1, 12, {'weight': 1}),\n",
              " (1, 13, {'weight': 1}),\n",
              " (1, 14, {'weight': 0.8190000000000001}),\n",
              " (2, 10, {'weight': 1}),\n",
              " (2, 11, {'weight': 1}),\n",
              " (2, 12, {'weight': 1}),\n",
              " (2, 13, {'weight': 1}),\n",
              " (2, 14, {'weight': 1}),\n",
              " (3, 10, {'weight': 1}),\n",
              " (3, 11, {'weight': 1}),\n",
              " (3, 12, {'weight': 1}),\n",
              " (3, 13, {'weight': 1}),\n",
              " (3, 14, {'weight': 1}),\n",
              " (4, 10, {'weight': 1}),\n",
              " (4, 11, {'weight': 1}),\n",
              " (4, 12, {'weight': 0.8190000000000001}),\n",
              " (4, 13, {'weight': 1}),\n",
              " (4, 14, {'weight': 1}),\n",
              " (5, 10, {'weight': 1}),\n",
              " (5, 11, {'weight': 1}),\n",
              " (5, 12, {'weight': 1}),\n",
              " (5, 13, {'weight': 1}),\n",
              " (5, 14, {'weight': 1}),\n",
              " (6, 10, {'weight': 1}),\n",
              " (6, 11, {'weight': 0.8190000000000001}),\n",
              " (6, 12, {'weight': 1}),\n",
              " (6, 13, {'weight': 1}),\n",
              " (6, 14, {'weight': 1}),\n",
              " (7, 10, {'weight': 1}),\n",
              " (7, 11, {'weight': 1}),\n",
              " (7, 12, {'weight': 1}),\n",
              " (7, 13, {'weight': 1}),\n",
              " (7, 14, {'weight': 1}),\n",
              " (8, 10, {'weight': 1}),\n",
              " (8, 11, {'weight': 0.8190000000000001}),\n",
              " (8, 12, {'weight': 1}),\n",
              " (8, 13, {'weight': 1}),\n",
              " (8, 14, {'weight': 1}),\n",
              " (9, 10, {'weight': 1}),\n",
              " (9, 11, {'weight': 1}),\n",
              " (9, 12, {'weight': 1}),\n",
              " (9, 13, {'weight': 1}),\n",
              " (9, 14, {'weight': 0.8190000000000001}),\n",
              " (10, 'out', {'weight': 1}),\n",
              " (11, 'out', {'weight': 0.6714900000000001}),\n",
              " (12, 'out', {'weight': 0.8190000000000001}),\n",
              " (13, 'out', {'weight': 0.91655859375}),\n",
              " (14, 'out', {'weight': 0.6714900000000001})]"
            ]
          },
          "metadata": {
            "tags": []
          },
          "execution_count": 13
        }
      ]
    },
    {
      "cell_type": "code",
      "metadata": {
        "id": "6MjUIWmq2unF",
        "colab_type": "code",
        "colab": {
          "base_uri": "https://localhost:8080/",
          "height": 374
        },
        "outputId": "912633eb-3fee-4631-b422-032f578eea11"
      },
      "source": [
        "result_second_group = acs.generate_ants()\n",
        "print(result_second_group)"
      ],
      "execution_count": 14,
      "outputs": [
        {
          "output_type": "stream",
          "text": [
            "['inp', 5, 12, 'out']\n",
            "{'lr': 2.2324403996622977e-06, 'wd': 1.018348745338606e-05}\n",
            "{'loss': 0.7314453125, 'info': {'test accuracy': 0.2444, 'train accuracy': 0.25048828125, 'validation accuracy': 0.2685546875, 'number of parameters': 61706}}\n",
            "['inp', 2, 11, 'out']\n",
            "{'lr': 0.0006337083207484665, 'wd': 0.0008068386469121058}\n",
            "{'loss': 0.033203125, 'info': {'test accuracy': 0.9673, 'train accuracy': 0.9755859375, 'validation accuracy': 0.966796875, 'number of parameters': 61706}}\n",
            "['inp', 9, 13, 'out']\n",
            "{'lr': 3.38874496289425e-07, 'wd': 0.00010577536357318944}\n",
            "{'loss': 0.8740234375, 'info': {'test accuracy': 0.1078, 'train accuracy': 0.1202392578125, 'validation accuracy': 0.1259765625, 'number of parameters': 61706}}\n",
            "['inp', 9, 13, 'out']\n",
            "{'lr': 3.38874496289425e-07, 'wd': 0.00010577536357318944}\n",
            "{'loss': 0.8740234375, 'info': {'test accuracy': 0.1078, 'train accuracy': 0.1202392578125, 'validation accuracy': 0.1259765625, 'number of parameters': 61706}}\n",
            "['inp', 7, 12, 'out']\n",
            "{'lr': 0.0036574994811927257, 'wd': 1.018348745338606e-05}\n",
            "{'loss': 0.029296875, 'info': {'test accuracy': 0.9698, 'train accuracy': 0.990478515625, 'validation accuracy': 0.970703125, 'number of parameters': 61706}}\n",
            "['inp', 3, 13, 'out']\n",
            "{'lr': 0.0031104505064528075, 'wd': 0.00010577536357318944}\n",
            "{'loss': 0.029296875, 'info': {'test accuracy': 0.9685, 'train accuracy': 0.9896240234375, 'validation accuracy': 0.970703125, 'number of parameters': 61706}}\n",
            "Group of ants have traversed\n",
            "[['inp', 5, 12, 'out'], ['inp', 2, 11, 'out'], ['inp', 9, 13, 'out'], ['inp', 9, 13, 'out'], ['inp', 7, 12, 'out'], ['inp', 3, 13, 'out']]\n",
            "{'best_path': ['inp', 7, 12, 'out'], 'best_loss': 0.029296875}\n"
          ],
          "name": "stdout"
        }
      ]
    },
    {
      "cell_type": "code",
      "metadata": {
        "id": "yrD7N3enxbNR",
        "colab_type": "code",
        "colab": {
          "base_uri": "https://localhost:8080/",
          "height": 1000
        },
        "outputId": "05c43da7-8bb9-49e1-90b2-dd10583043fc"
      },
      "source": [
        "list(G.edges.data())"
      ],
      "execution_count": 15,
      "outputs": [
        {
          "output_type": "execute_result",
          "data": {
            "text/plain": [
              "[('inp', 0, {'weight': 0.91655859375}),\n",
              " ('inp', 1, {'weight': 0.8190000000000001}),\n",
              " ('inp', 2, {'weight': 0.8190000000000001}),\n",
              " ('inp', 3, {'weight': 0.8190000000000001}),\n",
              " ('inp', 4, {'weight': 0.8190000000000001}),\n",
              " ('inp', 5, {'weight': 0.8190000000000001}),\n",
              " ('inp', 6, {'weight': 0.8190000000000001}),\n",
              " ('inp', 7, {'weight': 0.9160703125}),\n",
              " ('inp', 8, {'weight': 0.8190000000000001}),\n",
              " ('inp', 9, {'weight': 0.5527359000000002}),\n",
              " (0, 10, {'weight': 1}),\n",
              " (0, 11, {'weight': 1}),\n",
              " (0, 12, {'weight': 1}),\n",
              " (0, 13, {'weight': 0.91655859375}),\n",
              " (0, 14, {'weight': 1}),\n",
              " (1, 10, {'weight': 1}),\n",
              " (1, 11, {'weight': 1}),\n",
              " (1, 12, {'weight': 1}),\n",
              " (1, 13, {'weight': 1}),\n",
              " (1, 14, {'weight': 0.8190000000000001}),\n",
              " (2, 10, {'weight': 1}),\n",
              " (2, 11, {'weight': 0.8190000000000001}),\n",
              " (2, 12, {'weight': 1}),\n",
              " (2, 13, {'weight': 1}),\n",
              " (2, 14, {'weight': 1}),\n",
              " (3, 10, {'weight': 1}),\n",
              " (3, 11, {'weight': 1}),\n",
              " (3, 12, {'weight': 1}),\n",
              " (3, 13, {'weight': 0.8190000000000001}),\n",
              " (3, 14, {'weight': 1}),\n",
              " (4, 10, {'weight': 1}),\n",
              " (4, 11, {'weight': 1}),\n",
              " (4, 12, {'weight': 0.8190000000000001}),\n",
              " (4, 13, {'weight': 1}),\n",
              " (4, 14, {'weight': 1}),\n",
              " (5, 10, {'weight': 1}),\n",
              " (5, 11, {'weight': 1}),\n",
              " (5, 12, {'weight': 0.8190000000000001}),\n",
              " (5, 13, {'weight': 1}),\n",
              " (5, 14, {'weight': 1}),\n",
              " (6, 10, {'weight': 1}),\n",
              " (6, 11, {'weight': 0.8190000000000001}),\n",
              " (6, 12, {'weight': 1}),\n",
              " (6, 13, {'weight': 1}),\n",
              " (6, 14, {'weight': 1}),\n",
              " (7, 10, {'weight': 1}),\n",
              " (7, 11, {'weight': 1}),\n",
              " (7, 12, {'weight': 0.9160703125}),\n",
              " (7, 13, {'weight': 1}),\n",
              " (7, 14, {'weight': 1}),\n",
              " (8, 10, {'weight': 1}),\n",
              " (8, 11, {'weight': 0.8190000000000001}),\n",
              " (8, 12, {'weight': 1}),\n",
              " (8, 13, {'weight': 1}),\n",
              " (8, 14, {'weight': 1}),\n",
              " (9, 10, {'weight': 1}),\n",
              " (9, 11, {'weight': 1}),\n",
              " (9, 12, {'weight': 1}),\n",
              " (9, 13, {'weight': 0.6714900000000001}),\n",
              " (9, 14, {'weight': 0.8190000000000001}),\n",
              " (10, 'out', {'weight': 1}),\n",
              " (11, 'out', {'weight': 0.5529069000000001}),\n",
              " (12, 'out', {'weight': 0.6498062125000001}),\n",
              " (13, 'out', {'weight': 0.5068527156210938}),\n",
              " (14, 'out', {'weight': 0.6714900000000001})]"
            ]
          },
          "metadata": {
            "tags": []
          },
          "execution_count": 15
        }
      ]
    },
    {
      "cell_type": "code",
      "metadata": {
        "id": "fWUKVZ-c3FYh",
        "colab_type": "code",
        "colab": {
          "base_uri": "https://localhost:8080/",
          "height": 374
        },
        "outputId": "e52edd1c-a95c-4fc6-d3cf-5e8012796cd1"
      },
      "source": [
        "result_third_group = acs.generate_ants()\n",
        "print(result_third_group)"
      ],
      "execution_count": 16,
      "outputs": [
        {
          "output_type": "stream",
          "text": [
            "['inp', 5, 14, 'out']\n",
            "{'lr': 2.2324403996622977e-06, 'wd': 0.0004219314744806921}\n",
            "{'loss': 0.7392578125, 'info': {'test accuracy': 0.24, 'train accuracy': 0.246337890625, 'validation accuracy': 0.2607421875, 'number of parameters': 61706}}\n",
            "['inp', 0, 13, 'out']\n",
            "{'lr': 0.004245451262763633, 'wd': 0.00010577536357318944}\n",
            "{'loss': 0.0244140625, 'info': {'test accuracy': 0.9712, 'train accuracy': 0.994140625, 'validation accuracy': 0.9755859375, 'number of parameters': 61706}}\n",
            "['inp', 3, 14, 'out']\n",
            "{'lr': 0.0031104505064528075, 'wd': 0.0004219314744806921}\n",
            "{'loss': 0.02734375, 'info': {'test accuracy': 0.971, 'train accuracy': 0.9913330078125, 'validation accuracy': 0.97265625, 'number of parameters': 61706}}\n",
            "['inp', 7, 14, 'out']\n",
            "{'lr': 0.0036574994811927257, 'wd': 0.0004219314744806921}\n",
            "{'loss': 0.0234375, 'info': {'test accuracy': 0.9743, 'train accuracy': 0.9920654296875, 'validation accuracy': 0.9765625, 'number of parameters': 61706}}\n",
            "['inp', 0, 14, 'out']\n",
            "{'lr': 0.004245451262763633, 'wd': 0.0004219314744806921}\n",
            "{'loss': 0.01953125, 'info': {'test accuracy': 0.9738, 'train accuracy': 0.9949951171875, 'validation accuracy': 0.98046875, 'number of parameters': 61706}}\n",
            "['inp', 5, 12, 'out']\n",
            "{'lr': 2.2324403996622977e-06, 'wd': 1.018348745338606e-05}\n",
            "{'loss': 0.7314453125, 'info': {'test accuracy': 0.2444, 'train accuracy': 0.25048828125, 'validation accuracy': 0.2685546875, 'number of parameters': 61706}}\n",
            "Group of ants have traversed\n",
            "[['inp', 5, 14, 'out'], ['inp', 0, 13, 'out'], ['inp', 3, 14, 'out'], ['inp', 7, 14, 'out'], ['inp', 0, 14, 'out'], ['inp', 5, 12, 'out']]\n",
            "{'best_path': ['inp', 0, 14, 'out'], 'best_loss': 0.01953125}\n"
          ],
          "name": "stdout"
        }
      ]
    },
    {
      "cell_type": "code",
      "metadata": {
        "id": "XfV7JZt-3Rn-",
        "colab_type": "code",
        "colab": {
          "base_uri": "https://localhost:8080/",
          "height": 1000
        },
        "outputId": "541dbb42-3731-407b-e82c-dfff48e112ec"
      },
      "source": [
        "list(G.edges.data())"
      ],
      "execution_count": 17,
      "outputs": [
        {
          "output_type": "execute_result",
          "data": {
            "text/plain": [
              "[('inp', 0, {'weight': 0.7147909683593751}),\n",
              " ('inp', 1, {'weight': 0.8190000000000001}),\n",
              " ('inp', 2, {'weight': 0.8190000000000001}),\n",
              " ('inp', 3, {'weight': 0.6723900000000002}),\n",
              " ('inp', 4, {'weight': 0.8190000000000001}),\n",
              " ('inp', 5, {'weight': 0.5527359000000002}),\n",
              " ('inp', 6, {'weight': 0.8190000000000001}),\n",
              " ('inp', 7, {'weight': 0.751016953125}),\n",
              " ('inp', 8, {'weight': 0.8190000000000001}),\n",
              " ('inp', 9, {'weight': 0.5527359000000002}),\n",
              " (0, 10, {'weight': 1}),\n",
              " (0, 11, {'weight': 1}),\n",
              " (0, 12, {'weight': 1}),\n",
              " (0, 13, {'weight': 0.7514124609375}),\n",
              " (0, 14, {'weight': 0.917046875}),\n",
              " (1, 10, {'weight': 1}),\n",
              " (1, 11, {'weight': 1}),\n",
              " (1, 12, {'weight': 1}),\n",
              " (1, 13, {'weight': 1}),\n",
              " (1, 14, {'weight': 0.8190000000000001}),\n",
              " (2, 10, {'weight': 1}),\n",
              " (2, 11, {'weight': 0.8190000000000001}),\n",
              " (2, 12, {'weight': 1}),\n",
              " (2, 13, {'weight': 1}),\n",
              " (2, 14, {'weight': 1}),\n",
              " (3, 10, {'weight': 1}),\n",
              " (3, 11, {'weight': 1}),\n",
              " (3, 12, {'weight': 1}),\n",
              " (3, 13, {'weight': 0.8190000000000001}),\n",
              " (3, 14, {'weight': 0.8190000000000001}),\n",
              " (4, 10, {'weight': 1}),\n",
              " (4, 11, {'weight': 1}),\n",
              " (4, 12, {'weight': 0.8190000000000001}),\n",
              " (4, 13, {'weight': 1}),\n",
              " (4, 14, {'weight': 1}),\n",
              " (5, 10, {'weight': 1}),\n",
              " (5, 11, {'weight': 1}),\n",
              " (5, 12, {'weight': 0.6723900000000002}),\n",
              " (5, 13, {'weight': 1}),\n",
              " (5, 14, {'weight': 0.8190000000000001}),\n",
              " (6, 10, {'weight': 1}),\n",
              " (6, 11, {'weight': 0.8190000000000001}),\n",
              " (6, 12, {'weight': 1}),\n",
              " (6, 13, {'weight': 1}),\n",
              " (6, 14, {'weight': 1}),\n",
              " (7, 10, {'weight': 1}),\n",
              " (7, 11, {'weight': 1}),\n",
              " (7, 12, {'weight': 0.9160703125}),\n",
              " (7, 13, {'weight': 1}),\n",
              " (7, 14, {'weight': 0.8190000000000001}),\n",
              " (8, 10, {'weight': 1}),\n",
              " (8, 11, {'weight': 0.8190000000000001}),\n",
              " (8, 12, {'weight': 1}),\n",
              " (8, 13, {'weight': 1}),\n",
              " (8, 14, {'weight': 1}),\n",
              " (9, 10, {'weight': 1}),\n",
              " (9, 11, {'weight': 1}),\n",
              " (9, 12, {'weight': 1}),\n",
              " (9, 13, {'weight': 0.6714900000000001}),\n",
              " (9, 14, {'weight': 0.8190000000000001}),\n",
              " (10, 'out', {'weight': 1}),\n",
              " (11, 'out', {'weight': 0.5529069000000001}),\n",
              " (12, 'out', {'weight': 0.5353430321250001}),\n",
              " (13, 'out', {'weight': 0.419550699653086}),\n",
              " (14, 'out', {'weight': 0.40966458084290014})]"
            ]
          },
          "metadata": {
            "tags": []
          },
          "execution_count": 17
        }
      ]
    },
    {
      "cell_type": "code",
      "metadata": {
        "id": "tIBKAqLn4mwK",
        "colab_type": "code",
        "colab": {
          "base_uri": "https://localhost:8080/",
          "height": 374
        },
        "outputId": "c4c5d791-076a-467a-eace-62799d6106cf"
      },
      "source": [
        "result_fourth_group = acs.generate_ants()\n",
        "print(result_fourth_group)"
      ],
      "execution_count": 18,
      "outputs": [
        {
          "output_type": "stream",
          "text": [
            "['inp', 3, 12, 'out']\n",
            "{'lr': 0.0031104505064528075, 'wd': 1.018348745338606e-05}\n",
            "{'loss': 0.029296875, 'info': {'test accuracy': 0.9709, 'train accuracy': 0.9925537109375, 'validation accuracy': 0.970703125, 'number of parameters': 61706}}\n",
            "['inp', 6, 14, 'out']\n",
            "{'lr': 1.5430400149097398e-06, 'wd': 0.0004219314744806921}\n",
            "{'loss': 0.783203125, 'info': {'test accuracy': 0.1887, 'train accuracy': 0.196533203125, 'validation accuracy': 0.216796875, 'number of parameters': 61706}}\n",
            "['inp', 7, 13, 'out']\n",
            "{'lr': 0.0036574994811927257, 'wd': 0.00010577536357318944}\n",
            "{'loss': 0.02734375, 'info': {'test accuracy': 0.9753, 'train accuracy': 0.9942626953125, 'validation accuracy': 0.97265625, 'number of parameters': 61706}}\n",
            "['inp', 4, 13, 'out']\n",
            "{'lr': 9.795848815655202e-05, 'wd': 0.00010577536357318944}\n",
            "{'loss': 0.0810546875, 'info': {'test accuracy': 0.918, 'train accuracy': 0.9193115234375, 'validation accuracy': 0.9189453125, 'number of parameters': 61706}}\n",
            "['inp', 1, 13, 'out']\n",
            "{'lr': 1.332022915065906e-07, 'wd': 0.00010577536357318944}\n",
            "{'loss': 0.8955078125, 'info': {'test accuracy': 0.0871, 'train accuracy': 0.0982666015625, 'validation accuracy': 0.1044921875, 'number of parameters': 61706}}\n",
            "['inp', 2, 12, 'out']\n",
            "{'lr': 0.0006337083207484665, 'wd': 1.018348745338606e-05}\n",
            "{'loss': 0.0341796875, 'info': {'test accuracy': 0.9664, 'train accuracy': 0.97509765625, 'validation accuracy': 0.9658203125, 'number of parameters': 61706}}\n",
            "Group of ants have traversed\n",
            "[['inp', 3, 12, 'out'], ['inp', 6, 14, 'out'], ['inp', 7, 13, 'out'], ['inp', 4, 13, 'out'], ['inp', 1, 13, 'out'], ['inp', 2, 12, 'out']]\n",
            "{'best_path': ['inp', 7, 13, 'out'], 'best_loss': 0.02734375}\n"
          ],
          "name": "stdout"
        }
      ]
    },
    {
      "cell_type": "code",
      "metadata": {
        "id": "MGJAA5Dq4tDj",
        "colab_type": "code",
        "colab": {
          "base_uri": "https://localhost:8080/",
          "height": 1000
        },
        "outputId": "e4c845be-b50a-462a-f8ef-b5a0fd1e8fdf"
      },
      "source": [
        "list(G.edges.data())"
      ],
      "execution_count": 19,
      "outputs": [
        {
          "output_type": "execute_result",
          "data": {
            "text/plain": [
              "[('inp', 0, {'weight': 0.7147909683593751}),\n",
              " ('inp', 1, {'weight': 0.6723900000000002}),\n",
              " ('inp', 2, {'weight': 0.6723900000000002}),\n",
              " ('inp', 3, {'weight': 0.5536359000000001}),\n",
              " ('inp', 4, {'weight': 0.6723900000000002}),\n",
              " ('inp', 5, {'weight': 0.5527359000000002}),\n",
              " ('inp', 6, {'weight': 0.6723900000000002}),\n",
              " ('inp', 7, {'weight': 0.7145893570312501}),\n",
              " ('inp', 8, {'weight': 0.8190000000000001}),\n",
              " ('inp', 9, {'weight': 0.5527359000000002}),\n",
              " (0, 10, {'weight': 1}),\n",
              " (0, 11, {'weight': 1}),\n",
              " (0, 12, {'weight': 1}),\n",
              " (0, 13, {'weight': 0.7514124609375}),\n",
              " (0, 14, {'weight': 0.917046875}),\n",
              " (1, 10, {'weight': 1}),\n",
              " (1, 11, {'weight': 1}),\n",
              " (1, 12, {'weight': 1}),\n",
              " (1, 13, {'weight': 0.8190000000000001}),\n",
              " (1, 14, {'weight': 0.8190000000000001}),\n",
              " (2, 10, {'weight': 1}),\n",
              " (2, 11, {'weight': 0.8190000000000001}),\n",
              " (2, 12, {'weight': 0.8190000000000001}),\n",
              " (2, 13, {'weight': 1}),\n",
              " (2, 14, {'weight': 1}),\n",
              " (3, 10, {'weight': 1}),\n",
              " (3, 11, {'weight': 1}),\n",
              " (3, 12, {'weight': 0.8190000000000001}),\n",
              " (3, 13, {'weight': 0.8190000000000001}),\n",
              " (3, 14, {'weight': 0.8190000000000001}),\n",
              " (4, 10, {'weight': 1}),\n",
              " (4, 11, {'weight': 1}),\n",
              " (4, 12, {'weight': 0.8190000000000001}),\n",
              " (4, 13, {'weight': 0.8190000000000001}),\n",
              " (4, 14, {'weight': 1}),\n",
              " (5, 10, {'weight': 1}),\n",
              " (5, 11, {'weight': 1}),\n",
              " (5, 12, {'weight': 0.6723900000000002}),\n",
              " (5, 13, {'weight': 1}),\n",
              " (5, 14, {'weight': 0.8190000000000001}),\n",
              " (6, 10, {'weight': 1}),\n",
              " (6, 11, {'weight': 0.8190000000000001}),\n",
              " (6, 12, {'weight': 1}),\n",
              " (6, 13, {'weight': 1}),\n",
              " (6, 14, {'weight': 0.8190000000000001}),\n",
              " (7, 10, {'weight': 1}),\n",
              " (7, 11, {'weight': 1}),\n",
              " (7, 12, {'weight': 0.9160703125}),\n",
              " (7, 13, {'weight': 0.9162656250000001}),\n",
              " (7, 14, {'weight': 0.8190000000000001}),\n",
              " (8, 10, {'weight': 1}),\n",
              " (8, 11, {'weight': 0.8190000000000001}),\n",
              " (8, 12, {'weight': 1}),\n",
              " (8, 13, {'weight': 1}),\n",
              " (8, 14, {'weight': 1}),\n",
              " (9, 10, {'weight': 1}),\n",
              " (9, 11, {'weight': 1}),\n",
              " (9, 12, {'weight': 1}),\n",
              " (9, 13, {'weight': 0.6714900000000001}),\n",
              " (9, 14, {'weight': 0.8190000000000001}),\n",
              " (10, 'out', {'weight': 1}),\n",
              " (11, 'out', {'weight': 0.5529069000000001}),\n",
              " (12, 'out', {'weight': 0.3666285633772126}),\n",
              " (13, 'out', {'weight': 0.33998796837433576}),\n",
              " (14, 'out', {'weight': 0.34082831048274914})]"
            ]
          },
          "metadata": {
            "tags": []
          },
          "execution_count": 19
        }
      ]
    },
    {
      "cell_type": "code",
      "metadata": {
        "id": "iuyqj6rI4x7s",
        "colab_type": "code",
        "colab": {
          "base_uri": "https://localhost:8080/",
          "height": 374
        },
        "outputId": "3ddb71de-370d-4ab6-ee4d-decd04c124ba"
      },
      "source": [
        "result_fifth_group = acs.generate_ants()\n",
        "print(result_fifth_group)"
      ],
      "execution_count": 20,
      "outputs": [
        {
          "output_type": "stream",
          "text": [
            "['inp', 9, 11, 'out']\n",
            "{'lr': 3.38874496289425e-07, 'wd': 0.0008068386469121058}\n",
            "{'loss': 0.8740234375, 'info': {'test accuracy': 0.1078, 'train accuracy': 0.1199951171875, 'validation accuracy': 0.1259765625, 'number of parameters': 61706}}\n",
            "['inp', 8, 12, 'out']\n",
            "{'lr': 1.034344047224182e-06, 'wd': 1.018348745338606e-05}\n",
            "{'loss': 0.806640625, 'info': {'test accuracy': 0.1622, 'train accuracy': 0.1768798828125, 'validation accuracy': 0.193359375, 'number of parameters': 61706}}\n",
            "['inp', 8, 14, 'out']\n",
            "{'lr': 1.034344047224182e-06, 'wd': 0.0004219314744806921}\n",
            "{'loss': 0.8076171875, 'info': {'test accuracy': 0.1616, 'train accuracy': 0.1756591796875, 'validation accuracy': 0.1923828125, 'number of parameters': 61706}}\n",
            "['inp', 8, 13, 'out']\n",
            "{'lr': 1.034344047224182e-06, 'wd': 0.00010577536357318944}\n",
            "{'loss': 0.806640625, 'info': {'test accuracy': 0.1621, 'train accuracy': 0.1768798828125, 'validation accuracy': 0.193359375, 'number of parameters': 61706}}\n",
            "['inp', 0, 12, 'out']\n",
            "{'lr': 0.004245451262763633, 'wd': 1.018348745338606e-05}\n",
            "{'loss': 0.0244140625, 'info': {'test accuracy': 0.9697, 'train accuracy': 0.9927978515625, 'validation accuracy': 0.9755859375, 'number of parameters': 61706}}\n",
            "['inp', 7, 10, 'out']\n",
            "{'lr': 0.0036574994811927257, 'wd': 0.00023481164807395875}\n",
            "{'loss': 0.0361328125, 'info': {'test accuracy': 0.9645, 'train accuracy': 0.98583984375, 'validation accuracy': 0.9638671875, 'number of parameters': 61706}}\n",
            "Group of ants have traversed\n",
            "[['inp', 9, 11, 'out'], ['inp', 8, 12, 'out'], ['inp', 8, 14, 'out'], ['inp', 8, 13, 'out'], ['inp', 0, 12, 'out'], ['inp', 7, 10, 'out']]\n",
            "{'best_path': ['inp', 0, 12, 'out'], 'best_loss': 0.0244140625}\n"
          ],
          "name": "stdout"
        }
      ]
    },
    {
      "cell_type": "code",
      "metadata": {
        "id": "fhXxhLEU4zfj",
        "colab_type": "code",
        "colab": {
          "base_uri": "https://localhost:8080/",
          "height": 1000
        },
        "outputId": "bb4feb14-d7e1-40c5-80db-f9b9820a8b08"
      },
      "source": [
        "list(G.edges.data())"
      ],
      "execution_count": 21,
      "outputs": [
        {
          "output_type": "execute_result",
          "data": {
            "text/plain": [
              "[('inp', 0, {'weight': 0.6855392781210938}),\n",
              " ('inp', 1, {'weight': 0.6723900000000002}),\n",
              " ('inp', 2, {'weight': 0.6723900000000002}),\n",
              " ('inp', 3, {'weight': 0.5536359000000001}),\n",
              " ('inp', 4, {'weight': 0.6723900000000002}),\n",
              " ('inp', 5, {'weight': 0.5527359000000002}),\n",
              " ('inp', 6, {'weight': 0.6723900000000002}),\n",
              " ('inp', 7, {'weight': 0.5878173791953126}),\n",
              " ('inp', 8, {'weight': 0.4550060790000002}),\n",
              " ('inp', 9, {'weight': 0.45671607900000016}),\n",
              " (0, 10, {'weight': 1}),\n",
              " (0, 11, {'weight': 1}),\n",
              " (0, 12, {'weight': 0.91655859375}),\n",
              " (0, 13, {'weight': 0.7514124609375}),\n",
              " (0, 14, {'weight': 0.917046875}),\n",
              " (1, 10, {'weight': 1}),\n",
              " (1, 11, {'weight': 1}),\n",
              " (1, 12, {'weight': 1}),\n",
              " (1, 13, {'weight': 0.8190000000000001}),\n",
              " (1, 14, {'weight': 0.8190000000000001}),\n",
              " (2, 10, {'weight': 1}),\n",
              " (2, 11, {'weight': 0.8190000000000001}),\n",
              " (2, 12, {'weight': 0.8190000000000001}),\n",
              " (2, 13, {'weight': 1}),\n",
              " (2, 14, {'weight': 1}),\n",
              " (3, 10, {'weight': 1}),\n",
              " (3, 11, {'weight': 1}),\n",
              " (3, 12, {'weight': 0.8190000000000001}),\n",
              " (3, 13, {'weight': 0.8190000000000001}),\n",
              " (3, 14, {'weight': 0.8190000000000001}),\n",
              " (4, 10, {'weight': 1}),\n",
              " (4, 11, {'weight': 1}),\n",
              " (4, 12, {'weight': 0.8190000000000001}),\n",
              " (4, 13, {'weight': 0.8190000000000001}),\n",
              " (4, 14, {'weight': 1}),\n",
              " (5, 10, {'weight': 1}),\n",
              " (5, 11, {'weight': 1}),\n",
              " (5, 12, {'weight': 0.6723900000000002}),\n",
              " (5, 13, {'weight': 1}),\n",
              " (5, 14, {'weight': 0.8190000000000001}),\n",
              " (6, 10, {'weight': 1}),\n",
              " (6, 11, {'weight': 0.8190000000000001}),\n",
              " (6, 12, {'weight': 1}),\n",
              " (6, 13, {'weight': 1}),\n",
              " (6, 14, {'weight': 0.8190000000000001}),\n",
              " (7, 10, {'weight': 0.8190000000000001}),\n",
              " (7, 11, {'weight': 1}),\n",
              " (7, 12, {'weight': 0.9160703125}),\n",
              " (7, 13, {'weight': 0.9162656250000001}),\n",
              " (7, 14, {'weight': 0.8190000000000001}),\n",
              " (8, 10, {'weight': 1}),\n",
              " (8, 11, {'weight': 0.8190000000000001}),\n",
              " (8, 12, {'weight': 0.8190000000000001}),\n",
              " (8, 13, {'weight': 0.8190000000000001}),\n",
              " (8, 14, {'weight': 0.8190000000000001}),\n",
              " (9, 10, {'weight': 1}),\n",
              " (9, 11, {'weight': 0.8190000000000001}),\n",
              " (9, 12, {'weight': 1}),\n",
              " (9, 13, {'weight': 0.6714900000000001}),\n",
              " (9, 14, {'weight': 0.8190000000000001}),\n",
              " (10, 'out', {'weight': 0.8190000000000001}),\n",
              " (11, 'out', {'weight': 0.45685458900000014}),\n",
              " (12, 'out', {'weight': 0.3534935941817893}),\n",
              " (13, 'out', {'weight': 0.28439025438321197}),\n",
              " (14, 'out', {'weight': 0.2850709314910268})]"
            ]
          },
          "metadata": {
            "tags": []
          },
          "execution_count": 21
        }
      ]
    },
    {
      "cell_type": "code",
      "metadata": {
        "id": "x4XZbpKV4sUb",
        "colab_type": "code",
        "colab": {
          "base_uri": "https://localhost:8080/",
          "height": 102
        },
        "outputId": "d56c89dc-483d-4eba-9385-ba09027b5aad"
      },
      "source": [
        "print(result_first_group)\n",
        "print(result_second_group)\n",
        "print(result_third_group)\n",
        "print(result_fourth_group)\n",
        "print(result_fifth_group)\n"
      ],
      "execution_count": 22,
      "outputs": [
        {
          "output_type": "stream",
          "text": [
            "{'best_path': ['inp', 0, 13, 'out'], 'best_loss': 0.0244140625}\n",
            "{'best_path': ['inp', 7, 12, 'out'], 'best_loss': 0.029296875}\n",
            "{'best_path': ['inp', 0, 14, 'out'], 'best_loss': 0.01953125}\n",
            "{'best_path': ['inp', 7, 13, 'out'], 'best_loss': 0.02734375}\n",
            "{'best_path': ['inp', 0, 12, 'out'], 'best_loss': 0.0244140625}\n"
          ],
          "name": "stdout"
        }
      ]
    },
    {
      "cell_type": "code",
      "metadata": {
        "id": "artcKEhwnOra",
        "colab_type": "code",
        "colab": {
          "base_uri": "https://localhost:8080/",
          "height": 153
        },
        "outputId": "b50361fd-f238-410a-880f-636b58af8f4b"
      },
      "source": [
        "for key, value in result_first_group.items():\n",
        " if key == 'best_loss':\n",
        "   min_best_loss = min(value,result_second_group[key],result_third_group[key], result_fourth_group[key], result_fifth_group[key])\n",
        "\n",
        "if(result_first_group['best_loss']==min_best_loss):\n",
        "   overall_best_path = result_first_group['best_path']\n",
        "\n",
        "elif(result_second_group['best_loss']==min_best_loss):\n",
        "   overall_best_path = result_second_group['best_path']   \n",
        "\n",
        "elif(result_third_group['best_loss']==min_best_loss):\n",
        "   overall_best_path = result_third_group['best_path']   \n",
        "   \n",
        "elif(result_fourth_group['best_loss']==min_best_loss):\n",
        "   overall_best_path = result_fourth_group['best_path']\n",
        "\n",
        "elif(result_fifth_group['best_loss']==min_best_loss):\n",
        "   overall_best_path = result_fifth_group['best_path']\n",
        "\n",
        "   \n",
        "print(\"Best path among the groups\")\n",
        "print(overall_best_path)\n",
        "print(\"Best Learning rate\")\n",
        "print(G.nodes[overall_best_path[1]]['lr'])\n",
        "print(\"Best weight decay\")\n",
        "print(G.nodes[overall_best_path[2]]['wd'])\n",
        "print(\"Best validation Accuracy\")\n",
        "print(1-min_best_loss)"
      ],
      "execution_count": 24,
      "outputs": [
        {
          "output_type": "stream",
          "text": [
            "Best path among the groups\n",
            "['inp', 0, 14, 'out']\n",
            "Best Learning rate\n",
            "0.004245451262763633\n",
            "Best weight decay\n",
            "0.0004219314744806921\n",
            "Best validation Accuracy\n",
            "0.98046875\n"
          ],
          "name": "stdout"
        }
      ]
    },
    {
      "cell_type": "code",
      "metadata": {
        "id": "eZEEdg36bZ9D",
        "colab_type": "code",
        "colab": {}
      },
      "source": [
        ""
      ],
      "execution_count": null,
      "outputs": []
    }
  ]
}