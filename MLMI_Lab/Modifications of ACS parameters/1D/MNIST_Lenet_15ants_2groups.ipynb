{
  "nbformat": 4,
  "nbformat_minor": 0,
  "metadata": {
    "kernelspec": {
      "display_name": "Python 3",
      "language": "python",
      "name": "python3"
    },
    "language_info": {
      "codemirror_mode": {
        "name": "ipython",
        "version": 3
      },
      "file_extension": ".py",
      "mimetype": "text/x-python",
      "name": "python",
      "nbconvert_exporter": "python",
      "pygments_lexer": "ipython3",
      "version": "3.7.4"
    },
    "colab": {
      "name": "MNIST_Lenet1D.ipynb",
      "provenance": [],
      "collapsed_sections": []
    },
    "accelerator": "GPU"
  },
  "cells": [
    {
      "cell_type": "code",
      "metadata": {
        "id": "Zwc2OBpHJFGI",
        "colab_type": "code",
        "colab": {}
      },
      "source": [
        "import torch\n",
        "import torch.utils.data\n",
        "import torch.nn as nn\n",
        "import torch.nn.functional as F\n",
        "import torchvision\n",
        "import torchvision.transforms as transforms\n",
        "\n",
        "import networkx as nx\n",
        "import numpy as np\n",
        "import math\n",
        "import random\n",
        "from scipy.stats import loguniform"
      ],
      "execution_count": 40,
      "outputs": []
    },
    {
      "cell_type": "code",
      "metadata": {
        "id": "ab60GHWNJb4c",
        "colab_type": "code",
        "colab": {
          "base_uri": "https://localhost:8080/",
          "height": 283
        },
        "outputId": "3a5b3d6f-f988-45ce-ec81-d402bccdafad"
      },
      "source": [
        "pip install hpbandster"
      ],
      "execution_count": 41,
      "outputs": [
        {
          "output_type": "stream",
          "text": [
            "Requirement already satisfied: hpbandster in /usr/local/lib/python3.6/dist-packages (0.7.4)\n",
            "Requirement already satisfied: scipy in /usr/local/lib/python3.6/dist-packages (from hpbandster) (1.4.1)\n",
            "Requirement already satisfied: serpent in /usr/local/lib/python3.6/dist-packages (from hpbandster) (1.30.2)\n",
            "Requirement already satisfied: netifaces in /usr/local/lib/python3.6/dist-packages (from hpbandster) (0.10.9)\n",
            "Requirement already satisfied: Pyro4 in /usr/local/lib/python3.6/dist-packages (from hpbandster) (4.80)\n",
            "Requirement already satisfied: ConfigSpace in /usr/local/lib/python3.6/dist-packages (from hpbandster) (0.4.13)\n",
            "Requirement already satisfied: statsmodels in /usr/local/lib/python3.6/dist-packages (from hpbandster) (0.10.2)\n",
            "Requirement already satisfied: numpy in /usr/local/lib/python3.6/dist-packages (from hpbandster) (1.18.5)\n",
            "Requirement already satisfied: pyparsing in /usr/local/lib/python3.6/dist-packages (from ConfigSpace->hpbandster) (2.4.7)\n",
            "Requirement already satisfied: cython in /usr/local/lib/python3.6/dist-packages (from ConfigSpace->hpbandster) (0.29.21)\n",
            "Requirement already satisfied: patsy>=0.4.0 in /usr/local/lib/python3.6/dist-packages (from statsmodels->hpbandster) (0.5.1)\n",
            "Requirement already satisfied: pandas>=0.19 in /usr/local/lib/python3.6/dist-packages (from statsmodels->hpbandster) (1.0.5)\n",
            "Requirement already satisfied: six in /usr/local/lib/python3.6/dist-packages (from patsy>=0.4.0->statsmodels->hpbandster) (1.12.0)\n",
            "Requirement already satisfied: pytz>=2017.2 in /usr/local/lib/python3.6/dist-packages (from pandas>=0.19->statsmodels->hpbandster) (2018.9)\n",
            "Requirement already satisfied: python-dateutil>=2.6.1 in /usr/local/lib/python3.6/dist-packages (from pandas>=0.19->statsmodels->hpbandster) (2.8.1)\n"
          ],
          "name": "stdout"
        }
      ]
    },
    {
      "cell_type": "code",
      "metadata": {
        "id": "e_wvNbWhJFGQ",
        "colab_type": "code",
        "colab": {}
      },
      "source": [
        "import ConfigSpace as CS\n",
        "import ConfigSpace.hyperparameters as CSH\n",
        "\n",
        "from hpbandster.core.worker import Worker\n",
        "\n",
        "import logging\n",
        "logging.basicConfig(level=logging.DEBUG)# Device configuration\n",
        "device = torch.device('cuda' if torch.cuda.is_available() else 'cpu')\n",
        "\n",
        "# Device configuration\n",
        "device = torch.device('cuda' if torch.cuda.is_available() else 'cpu')"
      ],
      "execution_count": 42,
      "outputs": []
    },
    {
      "cell_type": "code",
      "metadata": {
        "id": "YJKA_NpDlQng",
        "colab_type": "code",
        "colab": {}
      },
      "source": [
        "def set_seed(seed): \n",
        " torch.backends.cudnn.deterministic = True \n",
        " torch.backends.cudnn.benchmark = False \n",
        " torch.manual_seed(seed)\n",
        " torch.cuda.manual_seed_all(seed)\n",
        " np.random.seed(seed) \n",
        " random.seed(seed)\n",
        "\n",
        "def unset_seed():  \n",
        " np.random.seed() \n",
        " random.seed() "
      ],
      "execution_count": 43,
      "outputs": []
    },
    {
      "cell_type": "code",
      "metadata": {
        "id": "YuMKbdCZJFGW",
        "colab_type": "code",
        "colab": {}
      },
      "source": [
        "class PyTorchWorker(Worker):\n",
        "    def __init__(self, N_train = 8192, N_valid = 1024, **kwargs):\n",
        "            super().__init__(**kwargs)\n",
        "\n",
        "            batch_size = 64\n",
        "\n",
        "            # Load the MNIST Data here\n",
        "            train_dataset = torchvision.datasets.MNIST(root='../../data', train=True, transform=transforms.ToTensor(), download=True)\n",
        "            test_dataset = torchvision.datasets.MNIST(root='../../data', train=False, transform=transforms.ToTensor())\n",
        "            \n",
        "            \n",
        "            indices = list(range(N_train+N_valid))\n",
        "            set_seed(10)                       #Random generation is made deterministic, we get same performance for specific lr always\n",
        "            np.random.shuffle(indices)             \n",
        "\n",
        "            train_idx, valid_idx = indices[N_valid:], indices[:N_valid]\n",
        "            train_sampler = torch.utils.data.sampler.SubsetRandomSampler(train_idx)\n",
        "            validation_sampler = torch.utils.data.sampler.SubsetRandomSampler(valid_idx)\n",
        "\n",
        "            self.train_loader = torch.utils.data.DataLoader(dataset=train_dataset, batch_size=batch_size, sampler=train_sampler)\n",
        "            self.validation_loader = torch.utils.data.DataLoader(dataset=train_dataset, batch_size=1024, sampler=validation_sampler)\n",
        "\n",
        "            self.test_loader = torch.utils.data.DataLoader(dataset=test_dataset, batch_size=1024, shuffle=False)\n",
        "\n",
        "\n",
        "    def compute(self, config, budget, working_directory, *args, **kwargs):\n",
        "            \"\"\"\n",
        "            Simple example for a compute function using a feed forward network.\n",
        "            It is trained on the MNIST dataset.\n",
        "            The input parameter \"config\" (dictionary) contains the sampled configurations passed by the bohb optimizer\n",
        "            \"\"\"\n",
        "\n",
        "            # device = torch.device('cpu')\n",
        "            model = LeNet().to(device)\n",
        "            criterion = torch.nn.CrossEntropyLoss()\n",
        "            if config['optimizer'] == 'Adam':\n",
        "                    optimizer = torch.optim.Adam(model.parameters(), lr=config['lr'])\n",
        "            else:\n",
        "                    optimizer = torch.optim.SGD(model.parameters(), lr=config['lr'], momentum=config['sgd_momentum'])\n",
        "\n",
        "             \n",
        "            \n",
        "            for epoch in range(int(budget)):\n",
        "                    loss = 0\n",
        "                    model.train()\n",
        "                    for i, (x, y) in enumerate(self.train_loader):\n",
        "                            x = x.to(device)\n",
        "                            y = y.to(device)\n",
        "                            output = model(x)\n",
        "                            \n",
        "                            loss = criterion(output, y) \n",
        "                            \n",
        "                            optimizer.zero_grad()\n",
        "                            loss.backward()\n",
        "                            optimizer.step()\n",
        "\n",
        "            train_accuracy = self.evaluate_accuracy(model, self.train_loader)\n",
        "            validation_accuracy = self.evaluate_accuracy(model, self.validation_loader)\n",
        "            test_accuracy = self.evaluate_accuracy(model, self.test_loader)\n",
        "            num_params = model.number_of_parameters()\n",
        "\n",
        "            return ({\n",
        "                    'loss': 1-validation_accuracy, # remember: HpBandSter always minimizes!\n",
        "                    'info': {       'test accuracy': test_accuracy,\n",
        "                                            'train accuracy': train_accuracy,\n",
        "                                            'validation accuracy': validation_accuracy,\n",
        "                                            'number of parameters': num_params,\n",
        "                                    }\n",
        "\n",
        "            })\n",
        "\n",
        "    def evaluate_accuracy(self, model, data_loader):\n",
        "            model.eval()\n",
        "            correct=0\n",
        "            with torch.no_grad():\n",
        "                    for x, y in data_loader:\n",
        "                            x = x.to(device)\n",
        "                            y = y.to(device)\n",
        "                            output = model(x)\n",
        "                            pred = output.max(1, keepdim=True)[1] # get the index of the max log-probability\n",
        "                            correct += pred.eq(y.view_as(pred)).sum().item()\n",
        "           \n",
        "            accuracy = correct/len(data_loader.sampler)\n",
        "            return(accuracy)\n"
      ],
      "execution_count": 44,
      "outputs": []
    },
    {
      "cell_type": "code",
      "metadata": {
        "id": "miD-HnFQotGF",
        "colab_type": "code",
        "colab": {}
      },
      "source": [
        "class LeNet(nn.Module):\n",
        "  def __init__(self):\n",
        "    super(LeNet, self).__init__()\n",
        "    self.conv1 = nn.Conv2d(1, 6, (5,5), padding=2)\n",
        "    self.conv2 = nn.Conv2d(6, 16, (5,5))\n",
        "    self.fc1   = nn.Linear(16*5*5, 120)\n",
        "    self.fc2   = nn.Linear(120, 84)\n",
        "    self.fc3   = nn.Linear(84, 10)\n",
        "  \n",
        "  def forward(self, x):\n",
        "    x = F.max_pool2d(F.relu(self.conv1(x)), (2,2))\n",
        "    x = F.max_pool2d(F.relu(self.conv2(x)), (2,2))\n",
        "    x = x.view(-1, self.num_flat_features(x))\n",
        "    x = F.relu(self.fc1(x))\n",
        "    x = F.relu(self.fc2(x))\n",
        "    x = self.fc3(x)\n",
        "    return F.log_softmax(x, dim=1)\n",
        "\n",
        "  def num_flat_features(self, x):\n",
        "    size = x.size()[1:]\n",
        "    num_features = 1\n",
        "    for s in size:\n",
        "      num_features *= s\n",
        "    return num_features\n",
        "\n",
        "  def number_of_parameters(self):\n",
        "    return(sum(p.numel() for p in self.parameters() if p.requires_grad))  \n"
      ],
      "execution_count": 45,
      "outputs": []
    },
    {
      "cell_type": "markdown",
      "metadata": {
        "id": "XNWLTQkPsaD7",
        "colab_type": "text"
      },
      "source": [
        "Setting up Graph for ACO"
      ]
    },
    {
      "cell_type": "code",
      "metadata": {
        "id": "6Ak4XxhlJnjf",
        "colab_type": "code",
        "colab": {}
      },
      "source": [
        "class Graph:\n",
        "\n",
        "    def __init__(self,num_lr):\n",
        "      self.num_lr = num_lr\n",
        "      \n",
        "    \n",
        "    def generate_graph(self):\n",
        "      G = nx.DiGraph()        #Directional graph\n",
        "      edges=[]\n",
        "      G.add_node('inp')\n",
        "      G.add_node('out')\n",
        "\n",
        "      set_seed(10)\n",
        "\n",
        "      rvs_lr = loguniform.rvs(1e-7, 1e-1, size=self.num_lr)\n",
        "\n",
        "      for lr in range(self.num_lr):\n",
        "        #learning_rate = random.uniform(1e-6, 1e-1)\n",
        "        G.add_node(lr, lr=rvs_lr[lr])\n",
        "        edge = ['inp',lr,1]                     #initial weight is 1 (pheromone value)\n",
        "        edges.append(edge)\n",
        "        edge = [lr,'out',1]\n",
        "        edges.append(edge)\n",
        "     # for dr in range(self.num_dr):\n",
        "     #  dropout_rate = random.uniform(0.0, 0.9)\n",
        "     #  G.add_node(dr+self.num_lr, dr=dropout_rate)\n",
        "     #  for lr in range(self.num_lr):\n",
        "     #    edge = [lr,dr+self.num_lr,1]\n",
        "     #    edges.append(edge)\n",
        "\n",
        "     # for nfu in range(self.num_num_fc_units): \n",
        "     #  num_fc_units = random.randint(8, 256)\n",
        "     #  G.add_node(nfu+self.num_lr+self.num_dr, nfu=num_fc_units)\n",
        "     #  edge = [nfu+self.num_lr+self.num_dr,'out',1]\n",
        "     #  edges.append(edge)\n",
        "     #  for dr in range(self.num_dr):\n",
        "     #    edge = [dr+self.num_lr,(nfu+self.num_lr+self.num_dr),1]\n",
        "     #    edges.append(edge)\n",
        "\n",
        "      G.add_weighted_edges_from(edges)\n",
        "    \n",
        "      return G\n"
      ],
      "execution_count": 46,
      "outputs": []
    },
    {
      "cell_type": "code",
      "metadata": {
        "id": "avGvf4j49W-e",
        "colab_type": "code",
        "colab": {
          "base_uri": "https://localhost:8080/",
          "height": 318
        },
        "outputId": "89f37446-dd02-404f-c2fa-5a09860ec5e2"
      },
      "source": [
        "Graphed = Graph(30)\n",
        "G = Graphed.generate_graph()\n",
        "nx.draw(G,with_labels=True,font_weight='bold')"
      ],
      "execution_count": 47,
      "outputs": [
        {
          "output_type": "display_data",
          "data": {
            "image/png": "[encoded data removed]",
            "text/plain": [
              "<Figure size 432x288 with 1 Axes>"
            ]
          },
          "metadata": {
            "tags": []
          }
        }
      ]
    },
    {
      "cell_type": "code",
      "metadata": {
        "id": "4Y7p2b_i0Ucx",
        "colab_type": "code",
        "colab": {
          "base_uri": "https://localhost:8080/",
          "height": 585
        },
        "outputId": "963ac4f2-6ccb-47d2-c7a1-f7b04a55d457"
      },
      "source": [
        "list(G.nodes.data())"
      ],
      "execution_count": 48,
      "outputs": [
        {
          "output_type": "execute_result",
          "data": {
            "text/plain": [
              "[('inp', {}),\n",
              " ('out', {}),\n",
              " (0, {'lr': 0.004245451262763633}),\n",
              " (1, {'lr': 1.332022915065906e-07}),\n",
              " (2, {'lr': 0.0006337083207484665}),\n",
              " (3, {'lr': 0.0031104505064528075}),\n",
              " (4, {'lr': 9.795848815655202e-05}),\n",
              " (5, {'lr': 2.2324403996622977e-06}),\n",
              " (6, {'lr': 1.5430400149097398e-06}),\n",
              " (7, {'lr': 0.0036574994811927257}),\n",
              " (8, {'lr': 1.034344047224182e-06}),\n",
              " (9, {'lr': 3.38874496289425e-07}),\n",
              " (10, {'lr': 0.0012946694798866931}),\n",
              " (11, {'lr': 0.05252427629146818}),\n",
              " (12, {'lr': 1.0560624429728646e-07}),\n",
              " (13, {'lr': 0.00011834599907542845}),\n",
              " (14, {'lr': 0.007511484404875237}),\n",
              " (15, {'lr': 0.0004733216839805786}),\n",
              " (16, {'lr': 0.002140582174659182}),\n",
              " (17, {'lr': 5.6397052777947345e-06}),\n",
              " (18, {'lr': 0.03211032750203963}),\n",
              " (19, {'lr': 0.001938450432978115}),\n",
              " (20, {'lr': 0.00017999739011600915}),\n",
              " (21, {'lr': 7.128863277996207e-07}),\n",
              " (22, {'lr': 1.737979143044439e-05}),\n",
              " (23, {'lr': 0.0011086684542255972}),\n",
              " (24, {'lr': 4.477123212553673e-05}),\n",
              " (25, {'lr': 4.018684945839338e-05}),\n",
              " (26, {'lr': 0.000508864167992051}),\n",
              " (27, {'lr': 0.00011990283598962014}),\n",
              " (28, {'lr': 0.0007986989097169449}),\n",
              " (29, {'lr': 0.0004038626777071175})]"
            ]
          },
          "metadata": {
            "tags": []
          },
          "execution_count": 48
        }
      ]
    },
    {
      "cell_type": "code",
      "metadata": {
        "id": "rFivMaf3SHt9",
        "colab_type": "code",
        "colab": {
          "base_uri": "https://localhost:8080/",
          "height": 1000
        },
        "outputId": "2083e993-a81c-4d70-f3bf-bd5d2651bee1"
      },
      "source": [
        "list(G.edges.data())"
      ],
      "execution_count": 49,
      "outputs": [
        {
          "output_type": "execute_result",
          "data": {
            "text/plain": [
              "[('inp', 0, {'weight': 1}),\n",
              " ('inp', 1, {'weight': 1}),\n",
              " ('inp', 2, {'weight': 1}),\n",
              " ('inp', 3, {'weight': 1}),\n",
              " ('inp', 4, {'weight': 1}),\n",
              " ('inp', 5, {'weight': 1}),\n",
              " ('inp', 6, {'weight': 1}),\n",
              " ('inp', 7, {'weight': 1}),\n",
              " ('inp', 8, {'weight': 1}),\n",
              " ('inp', 9, {'weight': 1}),\n",
              " ('inp', 10, {'weight': 1}),\n",
              " ('inp', 11, {'weight': 1}),\n",
              " ('inp', 12, {'weight': 1}),\n",
              " ('inp', 13, {'weight': 1}),\n",
              " ('inp', 14, {'weight': 1}),\n",
              " ('inp', 15, {'weight': 1}),\n",
              " ('inp', 16, {'weight': 1}),\n",
              " ('inp', 17, {'weight': 1}),\n",
              " ('inp', 18, {'weight': 1}),\n",
              " ('inp', 19, {'weight': 1}),\n",
              " ('inp', 20, {'weight': 1}),\n",
              " ('inp', 21, {'weight': 1}),\n",
              " ('inp', 22, {'weight': 1}),\n",
              " ('inp', 23, {'weight': 1}),\n",
              " ('inp', 24, {'weight': 1}),\n",
              " ('inp', 25, {'weight': 1}),\n",
              " ('inp', 26, {'weight': 1}),\n",
              " ('inp', 27, {'weight': 1}),\n",
              " ('inp', 28, {'weight': 1}),\n",
              " ('inp', 29, {'weight': 1}),\n",
              " (0, 'out', {'weight': 1}),\n",
              " (1, 'out', {'weight': 1}),\n",
              " (2, 'out', {'weight': 1}),\n",
              " (3, 'out', {'weight': 1}),\n",
              " (4, 'out', {'weight': 1}),\n",
              " (5, 'out', {'weight': 1}),\n",
              " (6, 'out', {'weight': 1}),\n",
              " (7, 'out', {'weight': 1}),\n",
              " (8, 'out', {'weight': 1}),\n",
              " (9, 'out', {'weight': 1}),\n",
              " (10, 'out', {'weight': 1}),\n",
              " (11, 'out', {'weight': 1}),\n",
              " (12, 'out', {'weight': 1}),\n",
              " (13, 'out', {'weight': 1}),\n",
              " (14, 'out', {'weight': 1}),\n",
              " (15, 'out', {'weight': 1}),\n",
              " (16, 'out', {'weight': 1}),\n",
              " (17, 'out', {'weight': 1}),\n",
              " (18, 'out', {'weight': 1}),\n",
              " (19, 'out', {'weight': 1}),\n",
              " (20, 'out', {'weight': 1}),\n",
              " (21, 'out', {'weight': 1}),\n",
              " (22, 'out', {'weight': 1}),\n",
              " (23, 'out', {'weight': 1}),\n",
              " (24, 'out', {'weight': 1}),\n",
              " (25, 'out', {'weight': 1}),\n",
              " (26, 'out', {'weight': 1}),\n",
              " (27, 'out', {'weight': 1}),\n",
              " (28, 'out', {'weight': 1}),\n",
              " (29, 'out', {'weight': 1})]"
            ]
          },
          "metadata": {
            "tags": []
          },
          "execution_count": 49
        }
      ]
    },
    {
      "cell_type": "code",
      "metadata": {
        "id": "d7MzHbSbs6XZ",
        "colab_type": "code",
        "colab": {}
      },
      "source": [
        "class ACO:\n",
        "\n",
        "    def __init__(self, num_ants, Graph):\n",
        "         self.num_ants = num_ants\n",
        "         self.G = Graph\n",
        "\n",
        "    def generate_ants(self): \n",
        "         best_path = []\n",
        "         best_loss = math.inf\n",
        "\n",
        "         paths = []\n",
        "         for i in range(self.num_ants):\n",
        "             unset_seed()         #remove seed, while finding aco path\n",
        "             path = self.select_aco_path()\n",
        "             self.local_pheromone_update(path)\n",
        "             print(path)\n",
        "             paths.append(path)\n",
        "             result = self.evaluation(path) \n",
        "             if (result['loss'] < best_loss):\n",
        "              best_path = path\n",
        "              best_loss = result['loss']\n",
        "\n",
        "         print(\"Group of ants have traversed\")\n",
        "         print(paths)\n",
        "         self.global_pheromone_update(paths,best_path,best_loss)\n",
        "\n",
        "         result = {\n",
        "             \"best_path\": best_path,\n",
        "             \"best_loss\": best_loss\n",
        "         }\n",
        "         return result\n",
        "\n",
        "\n",
        "    def select_aco_path(self):\n",
        "        \"\"\"Selects ant path from source to destination based on ACO select rule\"\"\"\n",
        "        ant_path = []\n",
        "        current_node = 'inp' \n",
        "        ant_path.append(current_node)\n",
        "        next_node = 'inp'\n",
        "\n",
        "        while(next_node!='out'):\n",
        "         next_node = self.aco_select_rule(current_node)\n",
        "         current_node = next_node\n",
        "         ant_path.append(next_node)\n",
        "        \n",
        "        return ant_path    \n",
        "\n",
        "    def aco_select_rule(self, current_node):\n",
        "        \"\"\"Selects neigbour using ACO transition rule\"\"\"\n",
        "        \n",
        "\n",
        "        probabilities = []\n",
        "        denominator = 0.0\n",
        "        greediness = 0.5\n",
        "        neighbours = list(G.successors(current_node))\n",
        "        # Calculate probability for each neighbour    (heuristics are not considered)\n",
        "        for i in range(len(neighbours)):\n",
        "            probability = self.G[current_node][neighbours[i]]['weight']    #pheromone value\n",
        "            probabilities.append(probability)\n",
        "            denominator += probability\n",
        "\n",
        "        # Try to perform greedy select: exploitation\n",
        "        random_variable = random.uniform(0, 1)\n",
        "        if random_variable <= greediness:\n",
        "            # Find max probability\n",
        "            max_probability = max(probabilities)\n",
        "            # Gather the indices of probabilities that are equal to the max probability\n",
        "            max_indices = [i for i, j in enumerate(probabilities) if j == max_probability]\n",
        "            # From those max indices select random index\n",
        "            neighbour_index = random.choice(max_indices)\n",
        "            return neighbours[neighbour_index]\n",
        "\n",
        "        # Otherwise perform select using roulette wheel: exploration\n",
        "        probabilities = [x / denominator for x in probabilities]\n",
        "        probability_sum = sum(probabilities)\n",
        "        random_threshold = random.uniform(0, probability_sum)\n",
        "        current_value = 0\n",
        "        for neighbour_index, probability in enumerate(probabilities):\n",
        "            current_value += probability\n",
        "            if current_value > random_threshold:\n",
        "                return neighbours[neighbour_index]\n",
        "\n",
        "    def local_pheromone_update(self,path):      \n",
        "        pheromone_0 = 0.1\n",
        "        decay = 0.1\n",
        "        for i in range(len(path)-1):\n",
        "          self.G[path[i]][path[i+1]]['weight'] = (1 - decay) * self.G[path[i]][path[i+1]]['weight'] + (decay * pheromone_0)\n",
        "    \n",
        "    def global_pheromone_update(self, paths, best_path, best_loss):\n",
        "        evaporation = 0.1\n",
        "        added_pheromone = 1 - best_loss    #best_accuracy\n",
        "        for i in range(self.num_ants):\n",
        "          if(best_path != paths[i]):\n",
        "             for k in range(len(paths[i])-1):\n",
        "               self.G[paths[i][k]][paths[i][k+1]]['weight'] = (1 - evaporation) * self.G[paths[i][k]][paths[i][k+1]]['weight']\n",
        "\n",
        "        for i in range(len(best_path)-1):     #deposit pheromone for the best path only\n",
        "          self.G[best_path[i]][best_path[i+1]]['weight'] = (1 - evaporation) * self.G[best_path[i]][best_path[i+1]]['weight'] + (evaporation * added_pheromone)\n",
        "\n",
        "    def evaluation(self,path):\n",
        "       lr = G.nodes[path[1]]['lr']\n",
        "       config = {\n",
        "           'lr': lr,\n",
        "           'optimizer': 'Adam'\n",
        "       }\n",
        "       print(config)\n",
        "       worker = PyTorchWorker(run_id='0')\n",
        "       res = worker.compute(config=config, budget=10, working_directory='.')\n",
        "       print(res)\n",
        "       return res"
      ],
      "execution_count": 50,
      "outputs": []
    },
    {
      "cell_type": "code",
      "metadata": {
        "id": "C9bemEB2v0LG",
        "colab_type": "code",
        "colab": {
          "base_uri": "https://localhost:8080/",
          "height": 890
        },
        "outputId": "07e293a7-6cda-4f5a-ac57-27f9ac6e341b"
      },
      "source": [
        "num_of_ants = 15\n",
        "acs=ACO(num_of_ants,G)\n",
        "\n",
        "result_first_group = acs.generate_ants()\n",
        "print(result_first_group)"
      ],
      "execution_count": 51,
      "outputs": [
        {
          "output_type": "stream",
          "text": [
            "['inp', 1, 'out']\n",
            "{'lr': 1.332022915065906e-07, 'optimizer': 'Adam'}\n",
            "{'loss': 0.8955078125, 'info': {'test accuracy': 0.087, 'train accuracy': 0.098388671875, 'validation accuracy': 0.1044921875, 'number of parameters': 61706}}\n",
            "['inp', 23, 'out']\n",
            "{'lr': 0.0011086684542255972, 'optimizer': 'Adam'}\n",
            "{'loss': 0.033203125, 'info': {'test accuracy': 0.9672, 'train accuracy': 0.97998046875, 'validation accuracy': 0.966796875, 'number of parameters': 61706}}\n",
            "['inp', 27, 'out']\n",
            "{'lr': 0.00011990283598962014, 'optimizer': 'Adam'}\n",
            "{'loss': 0.072265625, 'info': {'test accuracy': 0.927, 'train accuracy': 0.92822265625, 'validation accuracy': 0.927734375, 'number of parameters': 61706}}\n",
            "['inp', 21, 'out']\n",
            "{'lr': 7.128863277996207e-07, 'optimizer': 'Adam'}\n",
            "{'loss': 0.8271484375, 'info': {'test accuracy': 0.1399, 'train accuracy': 0.1539306640625, 'validation accuracy': 0.1728515625, 'number of parameters': 61706}}\n",
            "['inp', 0, 'out']\n",
            "{'lr': 0.004245451262763633, 'optimizer': 'Adam'}\n",
            "{'loss': 0.03125, 'info': {'test accuracy': 0.9676, 'train accuracy': 0.9920654296875, 'validation accuracy': 0.96875, 'number of parameters': 61706}}\n",
            "['inp', 16, 'out']\n",
            "{'lr': 0.002140582174659182, 'optimizer': 'Adam'}\n",
            "{'loss': 0.03515625, 'info': {'test accuracy': 0.9644, 'train accuracy': 0.9805908203125, 'validation accuracy': 0.96484375, 'number of parameters': 61706}}\n",
            "['inp', 22, 'out']\n",
            "{'lr': 1.737979143044439e-05, 'optimizer': 'Adam'}\n",
            "{'loss': 0.23046875, 'info': {'test accuracy': 0.7766, 'train accuracy': 0.77099609375, 'validation accuracy': 0.76953125, 'number of parameters': 61706}}\n",
            "['inp', 17, 'out']\n",
            "{'lr': 5.6397052777947345e-06, 'optimizer': 'Adam'}\n",
            "{'loss': 0.5283203125, 'info': {'test accuracy': 0.464, 'train accuracy': 0.45654296875, 'validation accuracy': 0.4716796875, 'number of parameters': 61706}}\n",
            "['inp', 14, 'out']\n",
            "{'lr': 0.007511484404875237, 'optimizer': 'Adam'}\n",
            "{'loss': 0.03125, 'info': {'test accuracy': 0.9713, 'train accuracy': 0.9930419921875, 'validation accuracy': 0.96875, 'number of parameters': 61706}}\n",
            "['inp', 26, 'out']\n",
            "{'lr': 0.000508864167992051, 'optimizer': 'Adam'}\n",
            "{'loss': 0.037109375, 'info': {'test accuracy': 0.966, 'train accuracy': 0.97509765625, 'validation accuracy': 0.962890625, 'number of parameters': 61706}}\n",
            "['inp', 10, 'out']\n",
            "{'lr': 0.0012946694798866931, 'optimizer': 'Adam'}\n",
            "{'loss': 0.029296875, 'info': {'test accuracy': 0.9696, 'train accuracy': 0.985595703125, 'validation accuracy': 0.970703125, 'number of parameters': 61706}}\n",
            "['inp', 2, 'out']\n",
            "{'lr': 0.0006337083207484665, 'optimizer': 'Adam'}\n",
            "{'loss': 0.03125, 'info': {'test accuracy': 0.9665, 'train accuracy': 0.9761962890625, 'validation accuracy': 0.96875, 'number of parameters': 61706}}\n",
            "['inp', 9, 'out']\n",
            "{'lr': 3.38874496289425e-07, 'optimizer': 'Adam'}\n",
            "{'loss': 0.8740234375, 'info': {'test accuracy': 0.1079, 'train accuracy': 0.1202392578125, 'validation accuracy': 0.1259765625, 'number of parameters': 61706}}\n",
            "['inp', 11, 'out']\n",
            "{'lr': 0.05252427629146818, 'optimizer': 'Adam'}\n",
            "{'loss': 0.8916015625, 'info': {'test accuracy': 0.0958, 'train accuracy': 0.1005859375, 'validation accuracy': 0.1083984375, 'number of parameters': 61706}}\n",
            "['inp', 3, 'out']\n",
            "{'lr': 0.0031104505064528075, 'optimizer': 'Adam'}\n",
            "{'loss': 0.0224609375, 'info': {'test accuracy': 0.9774, 'train accuracy': 0.9981689453125, 'validation accuracy': 0.9775390625, 'number of parameters': 61706}}\n",
            "Group of ants have traversed\n",
            "[['inp', 1, 'out'], ['inp', 23, 'out'], ['inp', 27, 'out'], ['inp', 21, 'out'], ['inp', 0, 'out'], ['inp', 16, 'out'], ['inp', 22, 'out'], ['inp', 17, 'out'], ['inp', 14, 'out'], ['inp', 26, 'out'], ['inp', 10, 'out'], ['inp', 2, 'out'], ['inp', 9, 'out'], ['inp', 11, 'out'], ['inp', 3, 'out']]\n",
            "{'best_path': ['inp', 3, 'out'], 'best_loss': 0.0224609375}\n"
          ],
          "name": "stdout"
        }
      ]
    },
    {
      "cell_type": "code",
      "metadata": {
        "id": "F5dY41vPINTx",
        "colab_type": "code",
        "colab": {
          "base_uri": "https://localhost:8080/",
          "height": 1000
        },
        "outputId": "3b0480f7-1161-42a0-acf9-c8da8e140dab"
      },
      "source": [
        "list(G.edges.data())"
      ],
      "execution_count": 52,
      "outputs": [
        {
          "output_type": "execute_result",
          "data": {
            "text/plain": [
              "[('inp', 0, {'weight': 0.8190000000000001}),\n",
              " ('inp', 1, {'weight': 0.8190000000000001}),\n",
              " ('inp', 2, {'weight': 0.8190000000000001}),\n",
              " ('inp', 3, {'weight': 0.9167539062500001}),\n",
              " ('inp', 4, {'weight': 1}),\n",
              " ('inp', 5, {'weight': 1}),\n",
              " ('inp', 6, {'weight': 1}),\n",
              " ('inp', 7, {'weight': 1}),\n",
              " ('inp', 8, {'weight': 1}),\n",
              " ('inp', 9, {'weight': 0.8190000000000001}),\n",
              " ('inp', 10, {'weight': 0.8190000000000001}),\n",
              " ('inp', 11, {'weight': 0.8190000000000001}),\n",
              " ('inp', 12, {'weight': 1}),\n",
              " ('inp', 13, {'weight': 1}),\n",
              " ('inp', 14, {'weight': 0.8190000000000001}),\n",
              " ('inp', 15, {'weight': 1}),\n",
              " ('inp', 16, {'weight': 0.8190000000000001}),\n",
              " ('inp', 17, {'weight': 0.8190000000000001}),\n",
              " ('inp', 18, {'weight': 1}),\n",
              " ('inp', 19, {'weight': 1}),\n",
              " ('inp', 20, {'weight': 1}),\n",
              " ('inp', 21, {'weight': 0.8190000000000001}),\n",
              " ('inp', 22, {'weight': 0.8190000000000001}),\n",
              " ('inp', 23, {'weight': 0.8190000000000001}),\n",
              " ('inp', 24, {'weight': 1}),\n",
              " ('inp', 25, {'weight': 1}),\n",
              " ('inp', 26, {'weight': 0.8190000000000001}),\n",
              " ('inp', 27, {'weight': 0.8190000000000001}),\n",
              " ('inp', 28, {'weight': 1}),\n",
              " ('inp', 29, {'weight': 1}),\n",
              " (0, 'out', {'weight': 0.8190000000000001}),\n",
              " (1, 'out', {'weight': 0.8190000000000001}),\n",
              " (2, 'out', {'weight': 0.8190000000000001}),\n",
              " (3, 'out', {'weight': 0.9167539062500001}),\n",
              " (4, 'out', {'weight': 1}),\n",
              " (5, 'out', {'weight': 1}),\n",
              " (6, 'out', {'weight': 1}),\n",
              " (7, 'out', {'weight': 1}),\n",
              " (8, 'out', {'weight': 1}),\n",
              " (9, 'out', {'weight': 0.8190000000000001}),\n",
              " (10, 'out', {'weight': 0.8190000000000001}),\n",
              " (11, 'out', {'weight': 0.8190000000000001}),\n",
              " (12, 'out', {'weight': 1}),\n",
              " (13, 'out', {'weight': 1}),\n",
              " (14, 'out', {'weight': 0.8190000000000001}),\n",
              " (15, 'out', {'weight': 1}),\n",
              " (16, 'out', {'weight': 0.8190000000000001}),\n",
              " (17, 'out', {'weight': 0.8190000000000001}),\n",
              " (18, 'out', {'weight': 1}),\n",
              " (19, 'out', {'weight': 1}),\n",
              " (20, 'out', {'weight': 1}),\n",
              " (21, 'out', {'weight': 0.8190000000000001}),\n",
              " (22, 'out', {'weight': 0.8190000000000001}),\n",
              " (23, 'out', {'weight': 0.8190000000000001}),\n",
              " (24, 'out', {'weight': 1}),\n",
              " (25, 'out', {'weight': 1}),\n",
              " (26, 'out', {'weight': 0.8190000000000001}),\n",
              " (27, 'out', {'weight': 0.8190000000000001}),\n",
              " (28, 'out', {'weight': 1}),\n",
              " (29, 'out', {'weight': 1})]"
            ]
          },
          "metadata": {
            "tags": []
          },
          "execution_count": 52
        }
      ]
    },
    {
      "cell_type": "code",
      "metadata": {
        "id": "6MjUIWmq2unF",
        "colab_type": "code",
        "colab": {
          "base_uri": "https://localhost:8080/",
          "height": 890
        },
        "outputId": "d3820a1a-c718-465a-dac9-82015c6d0e3d"
      },
      "source": [
        "result_second_group = acs.generate_ants()\n",
        "print(result_second_group)"
      ],
      "execution_count": 53,
      "outputs": [
        {
          "output_type": "stream",
          "text": [
            "['inp', 25, 'out']\n",
            "{'lr': 4.018684945839338e-05, 'optimizer': 'Adam'}\n",
            "{'loss': 0.13671875, 'info': {'test accuracy': 0.8708, 'train accuracy': 0.8704833984375, 'validation accuracy': 0.86328125, 'number of parameters': 61706}}\n",
            "['inp', 29, 'out']\n",
            "{'lr': 0.0004038626777071175, 'optimizer': 'Adam'}\n",
            "{'loss': 0.0361328125, 'info': {'test accuracy': 0.964, 'train accuracy': 0.9698486328125, 'validation accuracy': 0.9638671875, 'number of parameters': 61706}}\n",
            "['inp', 0, 'out']\n",
            "{'lr': 0.004245451262763633, 'optimizer': 'Adam'}\n",
            "{'loss': 0.03125, 'info': {'test accuracy': 0.9676, 'train accuracy': 0.9920654296875, 'validation accuracy': 0.96875, 'number of parameters': 61706}}\n",
            "['inp', 17, 'out']\n",
            "{'lr': 5.6397052777947345e-06, 'optimizer': 'Adam'}\n",
            "{'loss': 0.5283203125, 'info': {'test accuracy': 0.464, 'train accuracy': 0.45654296875, 'validation accuracy': 0.4716796875, 'number of parameters': 61706}}\n",
            "['inp', 18, 'out']\n",
            "{'lr': 0.03211032750203963, 'optimizer': 'Adam'}\n",
            "{'loss': 0.8916015625, 'info': {'test accuracy': 0.0958, 'train accuracy': 0.1005859375, 'validation accuracy': 0.1083984375, 'number of parameters': 61706}}\n",
            "['inp', 7, 'out']\n",
            "{'lr': 0.0036574994811927257, 'optimizer': 'Adam'}\n",
            "{'loss': 0.0380859375, 'info': {'test accuracy': 0.9644, 'train accuracy': 0.98681640625, 'validation accuracy': 0.9619140625, 'number of parameters': 61706}}\n",
            "['inp', 23, 'out']\n",
            "{'lr': 0.0011086684542255972, 'optimizer': 'Adam'}\n",
            "{'loss': 0.033203125, 'info': {'test accuracy': 0.9672, 'train accuracy': 0.97998046875, 'validation accuracy': 0.966796875, 'number of parameters': 61706}}\n",
            "['inp', 28, 'out']\n",
            "{'lr': 0.0007986989097169449, 'optimizer': 'Adam'}\n",
            "{'loss': 0.03125, 'info': {'test accuracy': 0.9694, 'train accuracy': 0.9786376953125, 'validation accuracy': 0.96875, 'number of parameters': 61706}}\n",
            "['inp', 5, 'out']\n",
            "{'lr': 2.2324403996622977e-06, 'optimizer': 'Adam'}\n",
            "{'loss': 0.7314453125, 'info': {'test accuracy': 0.2446, 'train accuracy': 0.25048828125, 'validation accuracy': 0.2685546875, 'number of parameters': 61706}}\n",
            "['inp', 24, 'out']\n",
            "{'lr': 4.477123212553673e-05, 'optimizer': 'Adam'}\n",
            "{'loss': 0.12890625, 'info': {'test accuracy': 0.8791, 'train accuracy': 0.8782958984375, 'validation accuracy': 0.87109375, 'number of parameters': 61706}}\n",
            "['inp', 13, 'out']\n",
            "{'lr': 0.00011834599907542845, 'optimizer': 'Adam'}\n",
            "{'loss': 0.072265625, 'info': {'test accuracy': 0.9261, 'train accuracy': 0.9278564453125, 'validation accuracy': 0.927734375, 'number of parameters': 61706}}\n",
            "['inp', 19, 'out']\n",
            "{'lr': 0.001938450432978115, 'optimizer': 'Adam'}\n",
            "{'loss': 0.025390625, 'info': {'test accuracy': 0.9711, 'train accuracy': 0.992919921875, 'validation accuracy': 0.974609375, 'number of parameters': 61706}}\n",
            "['inp', 16, 'out']\n",
            "{'lr': 0.002140582174659182, 'optimizer': 'Adam'}\n",
            "{'loss': 0.03515625, 'info': {'test accuracy': 0.9644, 'train accuracy': 0.9805908203125, 'validation accuracy': 0.96484375, 'number of parameters': 61706}}\n",
            "['inp', 12, 'out']\n",
            "{'lr': 1.0560624429728646e-07, 'optimizer': 'Adam'}\n",
            "{'loss': 0.900390625, 'info': {'test accuracy': 0.0849, 'train accuracy': 0.0947265625, 'validation accuracy': 0.099609375, 'number of parameters': 61706}}\n",
            "['inp', 7, 'out']\n",
            "{'lr': 0.0036574994811927257, 'optimizer': 'Adam'}\n",
            "{'loss': 0.0380859375, 'info': {'test accuracy': 0.9644, 'train accuracy': 0.98681640625, 'validation accuracy': 0.9619140625, 'number of parameters': 61706}}\n",
            "Group of ants have traversed\n",
            "[['inp', 25, 'out'], ['inp', 29, 'out'], ['inp', 0, 'out'], ['inp', 17, 'out'], ['inp', 18, 'out'], ['inp', 7, 'out'], ['inp', 23, 'out'], ['inp', 28, 'out'], ['inp', 5, 'out'], ['inp', 24, 'out'], ['inp', 13, 'out'], ['inp', 19, 'out'], ['inp', 16, 'out'], ['inp', 12, 'out'], ['inp', 7, 'out']]\n",
            "{'best_path': ['inp', 19, 'out'], 'best_loss': 0.025390625}\n"
          ],
          "name": "stdout"
        }
      ]
    },
    {
      "cell_type": "code",
      "metadata": {
        "id": "yrD7N3enxbNR",
        "colab_type": "code",
        "colab": {
          "base_uri": "https://localhost:8080/",
          "height": 1000
        },
        "outputId": "400c1d42-f017-4f65-ff3e-67106253a30e"
      },
      "source": [
        "list(G.edges.data())"
      ],
      "execution_count": 54,
      "outputs": [
        {
          "output_type": "execute_result",
          "data": {
            "text/plain": [
              "[('inp', 0, {'weight': 0.6723900000000002}),\n",
              " ('inp', 1, {'weight': 0.8190000000000001}),\n",
              " ('inp', 2, {'weight': 0.8190000000000001}),\n",
              " ('inp', 3, {'weight': 0.9167539062500001}),\n",
              " ('inp', 4, {'weight': 1}),\n",
              " ('inp', 5, {'weight': 0.8190000000000001}),\n",
              " ('inp', 6, {'weight': 1}),\n",
              " ('inp', 7, {'weight': 0.6714900000000001}),\n",
              " ('inp', 8, {'weight': 1}),\n",
              " ('inp', 9, {'weight': 0.8190000000000001}),\n",
              " ('inp', 10, {'weight': 0.8190000000000001}),\n",
              " ('inp', 11, {'weight': 0.8190000000000001}),\n",
              " ('inp', 12, {'weight': 0.8190000000000001}),\n",
              " ('inp', 13, {'weight': 0.8190000000000001}),\n",
              " ('inp', 14, {'weight': 0.8190000000000001}),\n",
              " ('inp', 15, {'weight': 1}),\n",
              " ('inp', 16, {'weight': 0.6723900000000002}),\n",
              " ('inp', 17, {'weight': 0.6723900000000002}),\n",
              " ('inp', 18, {'weight': 0.8190000000000001}),\n",
              " ('inp', 19, {'weight': 0.9164609375000001}),\n",
              " ('inp', 20, {'weight': 1}),\n",
              " ('inp', 21, {'weight': 0.8190000000000001}),\n",
              " ('inp', 22, {'weight': 0.8190000000000001}),\n",
              " ('inp', 23, {'weight': 0.6723900000000002}),\n",
              " ('inp', 24, {'weight': 0.8190000000000001}),\n",
              " ('inp', 25, {'weight': 0.8190000000000001}),\n",
              " ('inp', 26, {'weight': 0.8190000000000001}),\n",
              " ('inp', 27, {'weight': 0.8190000000000001}),\n",
              " ('inp', 28, {'weight': 0.8190000000000001}),\n",
              " ('inp', 29, {'weight': 0.8190000000000001}),\n",
              " (0, 'out', {'weight': 0.6723900000000002}),\n",
              " (1, 'out', {'weight': 0.8190000000000001}),\n",
              " (2, 'out', {'weight': 0.8190000000000001}),\n",
              " (3, 'out', {'weight': 0.9167539062500001}),\n",
              " (4, 'out', {'weight': 1}),\n",
              " (5, 'out', {'weight': 0.8190000000000001}),\n",
              " (6, 'out', {'weight': 1}),\n",
              " (7, 'out', {'weight': 0.6714900000000001}),\n",
              " (8, 'out', {'weight': 1}),\n",
              " (9, 'out', {'weight': 0.8190000000000001}),\n",
              " (10, 'out', {'weight': 0.8190000000000001}),\n",
              " (11, 'out', {'weight': 0.8190000000000001}),\n",
              " (12, 'out', {'weight': 0.8190000000000001}),\n",
              " (13, 'out', {'weight': 0.8190000000000001}),\n",
              " (14, 'out', {'weight': 0.8190000000000001}),\n",
              " (15, 'out', {'weight': 1}),\n",
              " (16, 'out', {'weight': 0.6723900000000002}),\n",
              " (17, 'out', {'weight': 0.6723900000000002}),\n",
              " (18, 'out', {'weight': 0.8190000000000001}),\n",
              " (19, 'out', {'weight': 0.9164609375000001}),\n",
              " (20, 'out', {'weight': 1}),\n",
              " (21, 'out', {'weight': 0.8190000000000001}),\n",
              " (22, 'out', {'weight': 0.8190000000000001}),\n",
              " (23, 'out', {'weight': 0.6723900000000002}),\n",
              " (24, 'out', {'weight': 0.8190000000000001}),\n",
              " (25, 'out', {'weight': 0.8190000000000001}),\n",
              " (26, 'out', {'weight': 0.8190000000000001}),\n",
              " (27, 'out', {'weight': 0.8190000000000001}),\n",
              " (28, 'out', {'weight': 0.8190000000000001}),\n",
              " (29, 'out', {'weight': 0.8190000000000001})]"
            ]
          },
          "metadata": {
            "tags": []
          },
          "execution_count": 54
        }
      ]
    },
    {
      "cell_type": "code",
      "metadata": {
        "id": "x4XZbpKV4sUb",
        "colab_type": "code",
        "colab": {
          "base_uri": "https://localhost:8080/",
          "height": 52
        },
        "outputId": "17867e79-0eb3-4173-a074-1c775554b781"
      },
      "source": [
        "print(result_first_group)\n",
        "print(result_second_group)\n"
      ],
      "execution_count": 55,
      "outputs": [
        {
          "output_type": "stream",
          "text": [
            "{'best_path': ['inp', 3, 'out'], 'best_loss': 0.0224609375}\n",
            "{'best_path': ['inp', 19, 'out'], 'best_loss': 0.025390625}\n"
          ],
          "name": "stdout"
        }
      ]
    },
    {
      "cell_type": "code",
      "metadata": {
        "id": "artcKEhwnOra",
        "colab_type": "code",
        "colab": {
          "base_uri": "https://localhost:8080/",
          "height": 123
        },
        "outputId": "e79eca45-6f5d-454a-a3c5-5922f18d3efc"
      },
      "source": [
        "for key, value in result_first_group.items():\n",
        " if key == 'best_loss':\n",
        "   min_best_loss = min(value,result_second_group[key])\n",
        "\n",
        "if(result_first_group['best_loss']==min_best_loss):\n",
        "   overall_best_path = result_first_group['best_path']\n",
        "\n",
        "elif(result_second_group['best_loss']==min_best_loss):\n",
        "   overall_best_path = result_second_group['best_path']   \n",
        " \n",
        "\n",
        "print(\"Best path among the groups\")\n",
        "print(overall_best_path)\n",
        "print(\"Best Learning rate\")\n",
        "print(G.nodes[overall_best_path[1]]['lr'])\n",
        "print(\"Best validation Accuracy\")\n",
        "print(1-min_best_loss)"
      ],
      "execution_count": 56,
      "outputs": [
        {
          "output_type": "stream",
          "text": [
            "Best path among the groups\n",
            "['inp', 3, 'out']\n",
            "Best Learning rate\n",
            "0.0031104505064528075\n",
            "Best validation Accuracy\n",
            "0.9775390625\n"
          ],
          "name": "stdout"
        }
      ]
    }
  ]
}