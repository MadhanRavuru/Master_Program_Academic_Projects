{
  "nbformat": 4,
  "nbformat_minor": 0,
  "metadata": {
    "kernelspec": {
      "display_name": "Python 3",
      "language": "python",
      "name": "python3"
    },
    "language_info": {
      "codemirror_mode": {
        "name": "ipython",
        "version": 3
      },
      "file_extension": ".py",
      "mimetype": "text/x-python",
      "name": "python",
      "nbconvert_exporter": "python",
      "pygments_lexer": "ipython3",
      "version": "3.7.4"
    },
    "colab": {
      "name": "HpBandSter_Pytorch.ipynb",
      "provenance": [],
      "collapsed_sections": []
    },
    "widgets": {
      "application/vnd.jupyter.widget-state+json": {
        "d112e77252d34ecfbdaa909fd1bfc4d6": {
          "model_module": "@jupyter-widgets/controls",
          "model_name": "HBoxModel",
          "state": {
            "_view_name": "HBoxView",
            "_dom_classes": [],
            "_model_name": "HBoxModel",
            "_view_module": "@jupyter-widgets/controls",
            "_model_module_version": "1.5.0",
            "_view_count": null,
            "_view_module_version": "1.5.0",
            "box_style": "",
            "layout": "IPY_MODEL_813cd41781194e98aad14f5da2d1b67b",
            "_model_module": "@jupyter-widgets/controls",
            "children": [
              "IPY_MODEL_e1043360e71e4d29b3c40777228b66c7",
              "IPY_MODEL_1b695aaeca4a4cd7b692198eb8ccad4a"
            ]
          }
        },
        "813cd41781194e98aad14f5da2d1b67b": {
          "model_module": "@jupyter-widgets/base",
          "model_name": "LayoutModel",
          "state": {
            "_view_name": "LayoutView",
            "grid_template_rows": null,
            "right": null,
            "justify_content": null,
            "_view_module": "@jupyter-widgets/base",
            "overflow": null,
            "_model_module_version": "1.2.0",
            "_view_count": null,
            "flex_flow": null,
            "width": null,
            "min_width": null,
            "border": null,
            "align_items": null,
            "bottom": null,
            "_model_module": "@jupyter-widgets/base",
            "top": null,
            "grid_column": null,
            "overflow_y": null,
            "overflow_x": null,
            "grid_auto_flow": null,
            "grid_area": null,
            "grid_template_columns": null,
            "flex": null,
            "_model_name": "LayoutModel",
            "justify_items": null,
            "grid_row": null,
            "max_height": null,
            "align_content": null,
            "visibility": null,
            "align_self": null,
            "height": null,
            "min_height": null,
            "padding": null,
            "grid_auto_rows": null,
            "grid_gap": null,
            "max_width": null,
            "order": null,
            "_view_module_version": "1.2.0",
            "grid_template_areas": null,
            "object_position": null,
            "object_fit": null,
            "grid_auto_columns": null,
            "margin": null,
            "display": null,
            "left": null
          }
        },
        "e1043360e71e4d29b3c40777228b66c7": {
          "model_module": "@jupyter-widgets/controls",
          "model_name": "FloatProgressModel",
          "state": {
            "_view_name": "ProgressView",
            "style": "IPY_MODEL_46a61c6d02fd405194d9689346569edd",
            "_dom_classes": [],
            "description": "",
            "_model_name": "FloatProgressModel",
            "bar_style": "success",
            "max": 1,
            "_view_module": "@jupyter-widgets/controls",
            "_model_module_version": "1.5.0",
            "value": 1,
            "_view_count": null,
            "_view_module_version": "1.5.0",
            "orientation": "horizontal",
            "min": 0,
            "description_tooltip": null,
            "_model_module": "@jupyter-widgets/controls",
            "layout": "IPY_MODEL_ff69c58908ce422ebc145a15559effd2"
          }
        },
        "1b695aaeca4a4cd7b692198eb8ccad4a": {
          "model_module": "@jupyter-widgets/controls",
          "model_name": "HTMLModel",
          "state": {
            "_view_name": "HTMLView",
            "style": "IPY_MODEL_0fef8e5a44134852bea977120a8874bd",
            "_dom_classes": [],
            "description": "",
            "_model_name": "HTMLModel",
            "placeholder": "​",
            "_view_module": "@jupyter-widgets/controls",
            "_model_module_version": "1.5.0",
            "value": " 9920512/? [00:04&lt;00:00, 2391254.22it/s]",
            "_view_count": null,
            "_view_module_version": "1.5.0",
            "description_tooltip": null,
            "_model_module": "@jupyter-widgets/controls",
            "layout": "IPY_MODEL_f9abaf880e9b4cd796c61558fad4083b"
          }
        },
        "46a61c6d02fd405194d9689346569edd": {
          "model_module": "@jupyter-widgets/controls",
          "model_name": "ProgressStyleModel",
          "state": {
            "_view_name": "StyleView",
            "_model_name": "ProgressStyleModel",
            "description_width": "initial",
            "_view_module": "@jupyter-widgets/base",
            "_model_module_version": "1.5.0",
            "_view_count": null,
            "_view_module_version": "1.2.0",
            "bar_color": null,
            "_model_module": "@jupyter-widgets/controls"
          }
        },
        "ff69c58908ce422ebc145a15559effd2": {
          "model_module": "@jupyter-widgets/base",
          "model_name": "LayoutModel",
          "state": {
            "_view_name": "LayoutView",
            "grid_template_rows": null,
            "right": null,
            "justify_content": null,
            "_view_module": "@jupyter-widgets/base",
            "overflow": null,
            "_model_module_version": "1.2.0",
            "_view_count": null,
            "flex_flow": null,
            "width": null,
            "min_width": null,
            "border": null,
            "align_items": null,
            "bottom": null,
            "_model_module": "@jupyter-widgets/base",
            "top": null,
            "grid_column": null,
            "overflow_y": null,
            "overflow_x": null,
            "grid_auto_flow": null,
            "grid_area": null,
            "grid_template_columns": null,
            "flex": null,
            "_model_name": "LayoutModel",
            "justify_items": null,
            "grid_row": null,
            "max_height": null,
            "align_content": null,
            "visibility": null,
            "align_self": null,
            "height": null,
            "min_height": null,
            "padding": null,
            "grid_auto_rows": null,
            "grid_gap": null,
            "max_width": null,
            "order": null,
            "_view_module_version": "1.2.0",
            "grid_template_areas": null,
            "object_position": null,
            "object_fit": null,
            "grid_auto_columns": null,
            "margin": null,
            "display": null,
            "left": null
          }
        },
        "0fef8e5a44134852bea977120a8874bd": {
          "model_module": "@jupyter-widgets/controls",
          "model_name": "DescriptionStyleModel",
          "state": {
            "_view_name": "StyleView",
            "_model_name": "DescriptionStyleModel",
            "description_width": "",
            "_view_module": "@jupyter-widgets/base",
            "_model_module_version": "1.5.0",
            "_view_count": null,
            "_view_module_version": "1.2.0",
            "_model_module": "@jupyter-widgets/controls"
          }
        },
        "f9abaf880e9b4cd796c61558fad4083b": {
          "model_module": "@jupyter-widgets/base",
          "model_name": "LayoutModel",
          "state": {
            "_view_name": "LayoutView",
            "grid_template_rows": null,
            "right": null,
            "justify_content": null,
            "_view_module": "@jupyter-widgets/base",
            "overflow": null,
            "_model_module_version": "1.2.0",
            "_view_count": null,
            "flex_flow": null,
            "width": null,
            "min_width": null,
            "border": null,
            "align_items": null,
            "bottom": null,
            "_model_module": "@jupyter-widgets/base",
            "top": null,
            "grid_column": null,
            "overflow_y": null,
            "overflow_x": null,
            "grid_auto_flow": null,
            "grid_area": null,
            "grid_template_columns": null,
            "flex": null,
            "_model_name": "LayoutModel",
            "justify_items": null,
            "grid_row": null,
            "max_height": null,
            "align_content": null,
            "visibility": null,
            "align_self": null,
            "height": null,
            "min_height": null,
            "padding": null,
            "grid_auto_rows": null,
            "grid_gap": null,
            "max_width": null,
            "order": null,
            "_view_module_version": "1.2.0",
            "grid_template_areas": null,
            "object_position": null,
            "object_fit": null,
            "grid_auto_columns": null,
            "margin": null,
            "display": null,
            "left": null
          }
        },
        "555d3672fb294e9bb1cb90c27a18af92": {
          "model_module": "@jupyter-widgets/controls",
          "model_name": "HBoxModel",
          "state": {
            "_view_name": "HBoxView",
            "_dom_classes": [],
            "_model_name": "HBoxModel",
            "_view_module": "@jupyter-widgets/controls",
            "_model_module_version": "1.5.0",
            "_view_count": null,
            "_view_module_version": "1.5.0",
            "box_style": "",
            "layout": "IPY_MODEL_3a321cc9c93d4a179bc251b7e37e8bc2",
            "_model_module": "@jupyter-widgets/controls",
            "children": [
              "IPY_MODEL_2ec498f070d14b79bff5618e4f11da3e",
              "IPY_MODEL_7410526ff608461ca608f10b25a38505"
            ]
          }
        },
        "3a321cc9c93d4a179bc251b7e37e8bc2": {
          "model_module": "@jupyter-widgets/base",
          "model_name": "LayoutModel",
          "state": {
            "_view_name": "LayoutView",
            "grid_template_rows": null,
            "right": null,
            "justify_content": null,
            "_view_module": "@jupyter-widgets/base",
            "overflow": null,
            "_model_module_version": "1.2.0",
            "_view_count": null,
            "flex_flow": null,
            "width": null,
            "min_width": null,
            "border": null,
            "align_items": null,
            "bottom": null,
            "_model_module": "@jupyter-widgets/base",
            "top": null,
            "grid_column": null,
            "overflow_y": null,
            "overflow_x": null,
            "grid_auto_flow": null,
            "grid_area": null,
            "grid_template_columns": null,
            "flex": null,
            "_model_name": "LayoutModel",
            "justify_items": null,
            "grid_row": null,
            "max_height": null,
            "align_content": null,
            "visibility": null,
            "align_self": null,
            "height": null,
            "min_height": null,
            "padding": null,
            "grid_auto_rows": null,
            "grid_gap": null,
            "max_width": null,
            "order": null,
            "_view_module_version": "1.2.0",
            "grid_template_areas": null,
            "object_position": null,
            "object_fit": null,
            "grid_auto_columns": null,
            "margin": null,
            "display": null,
            "left": null
          }
        },
        "2ec498f070d14b79bff5618e4f11da3e": {
          "model_module": "@jupyter-widgets/controls",
          "model_name": "FloatProgressModel",
          "state": {
            "_view_name": "ProgressView",
            "style": "IPY_MODEL_c21458e4582c41b9bf5cff32e5e21bf5",
            "_dom_classes": [],
            "description": "",
            "_model_name": "FloatProgressModel",
            "bar_style": "info",
            "max": 1,
            "_view_module": "@jupyter-widgets/controls",
            "_model_module_version": "1.5.0",
            "value": 1,
            "_view_count": null,
            "_view_module_version": "1.5.0",
            "orientation": "horizontal",
            "min": 0,
            "description_tooltip": null,
            "_model_module": "@jupyter-widgets/controls",
            "layout": "IPY_MODEL_7df6b056bf23456a9a39345767a63a8c"
          }
        },
        "7410526ff608461ca608f10b25a38505": {
          "model_module": "@jupyter-widgets/controls",
          "model_name": "HTMLModel",
          "state": {
            "_view_name": "HTMLView",
            "style": "IPY_MODEL_e8264498637447b9bad1b8d546fb9974",
            "_dom_classes": [],
            "description": "",
            "_model_name": "HTMLModel",
            "placeholder": "​",
            "_view_module": "@jupyter-widgets/controls",
            "_model_module_version": "1.5.0",
            "value": " 32768/? [00:15&lt;00:00, 68150.89it/s]",
            "_view_count": null,
            "_view_module_version": "1.5.0",
            "description_tooltip": null,
            "_model_module": "@jupyter-widgets/controls",
            "layout": "IPY_MODEL_eb35237b733e4566b37c7234a74ba47d"
          }
        },
        "c21458e4582c41b9bf5cff32e5e21bf5": {
          "model_module": "@jupyter-widgets/controls",
          "model_name": "ProgressStyleModel",
          "state": {
            "_view_name": "StyleView",
            "_model_name": "ProgressStyleModel",
            "description_width": "initial",
            "_view_module": "@jupyter-widgets/base",
            "_model_module_version": "1.5.0",
            "_view_count": null,
            "_view_module_version": "1.2.0",
            "bar_color": null,
            "_model_module": "@jupyter-widgets/controls"
          }
        },
        "7df6b056bf23456a9a39345767a63a8c": {
          "model_module": "@jupyter-widgets/base",
          "model_name": "LayoutModel",
          "state": {
            "_view_name": "LayoutView",
            "grid_template_rows": null,
            "right": null,
            "justify_content": null,
            "_view_module": "@jupyter-widgets/base",
            "overflow": null,
            "_model_module_version": "1.2.0",
            "_view_count": null,
            "flex_flow": null,
            "width": null,
            "min_width": null,
            "border": null,
            "align_items": null,
            "bottom": null,
            "_model_module": "@jupyter-widgets/base",
            "top": null,
            "grid_column": null,
            "overflow_y": null,
            "overflow_x": null,
            "grid_auto_flow": null,
            "grid_area": null,
            "grid_template_columns": null,
            "flex": null,
            "_model_name": "LayoutModel",
            "justify_items": null,
            "grid_row": null,
            "max_height": null,
            "align_content": null,
            "visibility": null,
            "align_self": null,
            "height": null,
            "min_height": null,
            "padding": null,
            "grid_auto_rows": null,
            "grid_gap": null,
            "max_width": null,
            "order": null,
            "_view_module_version": "1.2.0",
            "grid_template_areas": null,
            "object_position": null,
            "object_fit": null,
            "grid_auto_columns": null,
            "margin": null,
            "display": null,
            "left": null
          }
        },
        "e8264498637447b9bad1b8d546fb9974": {
          "model_module": "@jupyter-widgets/controls",
          "model_name": "DescriptionStyleModel",
          "state": {
            "_view_name": "StyleView",
            "_model_name": "DescriptionStyleModel",
            "description_width": "",
            "_view_module": "@jupyter-widgets/base",
            "_model_module_version": "1.5.0",
            "_view_count": null,
            "_view_module_version": "1.2.0",
            "_model_module": "@jupyter-widgets/controls"
          }
        },
        "eb35237b733e4566b37c7234a74ba47d": {
          "model_module": "@jupyter-widgets/base",
          "model_name": "LayoutModel",
          "state": {
            "_view_name": "LayoutView",
            "grid_template_rows": null,
            "right": null,
            "justify_content": null,
            "_view_module": "@jupyter-widgets/base",
            "overflow": null,
            "_model_module_version": "1.2.0",
            "_view_count": null,
            "flex_flow": null,
            "width": null,
            "min_width": null,
            "border": null,
            "align_items": null,
            "bottom": null,
            "_model_module": "@jupyter-widgets/base",
            "top": null,
            "grid_column": null,
            "overflow_y": null,
            "overflow_x": null,
            "grid_auto_flow": null,
            "grid_area": null,
            "grid_template_columns": null,
            "flex": null,
            "_model_name": "LayoutModel",
            "justify_items": null,
            "grid_row": null,
            "max_height": null,
            "align_content": null,
            "visibility": null,
            "align_self": null,
            "height": null,
            "min_height": null,
            "padding": null,
            "grid_auto_rows": null,
            "grid_gap": null,
            "max_width": null,
            "order": null,
            "_view_module_version": "1.2.0",
            "grid_template_areas": null,
            "object_position": null,
            "object_fit": null,
            "grid_auto_columns": null,
            "margin": null,
            "display": null,
            "left": null
          }
        },
        "c86b0a388b384f6eb83b687184292daf": {
          "model_module": "@jupyter-widgets/controls",
          "model_name": "HBoxModel",
          "state": {
            "_view_name": "HBoxView",
            "_dom_classes": [],
            "_model_name": "HBoxModel",
            "_view_module": "@jupyter-widgets/controls",
            "_model_module_version": "1.5.0",
            "_view_count": null,
            "_view_module_version": "1.5.0",
            "box_style": "",
            "layout": "IPY_MODEL_c0a74def27984f66b81671321f216e09",
            "_model_module": "@jupyter-widgets/controls",
            "children": [
              "IPY_MODEL_8552616dfe6e493fa5c43fb17f8d804b",
              "IPY_MODEL_b73a601f38874a2685f0b8842c76070b"
            ]
          }
        },
        "c0a74def27984f66b81671321f216e09": {
          "model_module": "@jupyter-widgets/base",
          "model_name": "LayoutModel",
          "state": {
            "_view_name": "LayoutView",
            "grid_template_rows": null,
            "right": null,
            "justify_content": null,
            "_view_module": "@jupyter-widgets/base",
            "overflow": null,
            "_model_module_version": "1.2.0",
            "_view_count": null,
            "flex_flow": null,
            "width": null,
            "min_width": null,
            "border": null,
            "align_items": null,
            "bottom": null,
            "_model_module": "@jupyter-widgets/base",
            "top": null,
            "grid_column": null,
            "overflow_y": null,
            "overflow_x": null,
            "grid_auto_flow": null,
            "grid_area": null,
            "grid_template_columns": null,
            "flex": null,
            "_model_name": "LayoutModel",
            "justify_items": null,
            "grid_row": null,
            "max_height": null,
            "align_content": null,
            "visibility": null,
            "align_self": null,
            "height": null,
            "min_height": null,
            "padding": null,
            "grid_auto_rows": null,
            "grid_gap": null,
            "max_width": null,
            "order": null,
            "_view_module_version": "1.2.0",
            "grid_template_areas": null,
            "object_position": null,
            "object_fit": null,
            "grid_auto_columns": null,
            "margin": null,
            "display": null,
            "left": null
          }
        },
        "8552616dfe6e493fa5c43fb17f8d804b": {
          "model_module": "@jupyter-widgets/controls",
          "model_name": "FloatProgressModel",
          "state": {
            "_view_name": "ProgressView",
            "style": "IPY_MODEL_cf7e5743400e4d7badc70a16c04d08a9",
            "_dom_classes": [],
            "description": "",
            "_model_name": "FloatProgressModel",
            "bar_style": "success",
            "max": 1,
            "_view_module": "@jupyter-widgets/controls",
            "_model_module_version": "1.5.0",
            "value": 1,
            "_view_count": null,
            "_view_module_version": "1.5.0",
            "orientation": "horizontal",
            "min": 0,
            "description_tooltip": null,
            "_model_module": "@jupyter-widgets/controls",
            "layout": "IPY_MODEL_97175c2968164b489f5507cf23baf1c7"
          }
        },
        "b73a601f38874a2685f0b8842c76070b": {
          "model_module": "@jupyter-widgets/controls",
          "model_name": "HTMLModel",
          "state": {
            "_view_name": "HTMLView",
            "style": "IPY_MODEL_8a4dfcc457f24cfc8ade55d5f704c60a",
            "_dom_classes": [],
            "description": "",
            "_model_name": "HTMLModel",
            "placeholder": "​",
            "_view_module": "@jupyter-widgets/controls",
            "_model_module_version": "1.5.0",
            "value": " 1654784/? [00:02&lt;00:00, 580351.05it/s]",
            "_view_count": null,
            "_view_module_version": "1.5.0",
            "description_tooltip": null,
            "_model_module": "@jupyter-widgets/controls",
            "layout": "IPY_MODEL_8c215784127b4d41a48e19456bdf8658"
          }
        },
        "cf7e5743400e4d7badc70a16c04d08a9": {
          "model_module": "@jupyter-widgets/controls",
          "model_name": "ProgressStyleModel",
          "state": {
            "_view_name": "StyleView",
            "_model_name": "ProgressStyleModel",
            "description_width": "initial",
            "_view_module": "@jupyter-widgets/base",
            "_model_module_version": "1.5.0",
            "_view_count": null,
            "_view_module_version": "1.2.0",
            "bar_color": null,
            "_model_module": "@jupyter-widgets/controls"
          }
        },
        "97175c2968164b489f5507cf23baf1c7": {
          "model_module": "@jupyter-widgets/base",
          "model_name": "LayoutModel",
          "state": {
            "_view_name": "LayoutView",
            "grid_template_rows": null,
            "right": null,
            "justify_content": null,
            "_view_module": "@jupyter-widgets/base",
            "overflow": null,
            "_model_module_version": "1.2.0",
            "_view_count": null,
            "flex_flow": null,
            "width": null,
            "min_width": null,
            "border": null,
            "align_items": null,
            "bottom": null,
            "_model_module": "@jupyter-widgets/base",
            "top": null,
            "grid_column": null,
            "overflow_y": null,
            "overflow_x": null,
            "grid_auto_flow": null,
            "grid_area": null,
            "grid_template_columns": null,
            "flex": null,
            "_model_name": "LayoutModel",
            "justify_items": null,
            "grid_row": null,
            "max_height": null,
            "align_content": null,
            "visibility": null,
            "align_self": null,
            "height": null,
            "min_height": null,
            "padding": null,
            "grid_auto_rows": null,
            "grid_gap": null,
            "max_width": null,
            "order": null,
            "_view_module_version": "1.2.0",
            "grid_template_areas": null,
            "object_position": null,
            "object_fit": null,
            "grid_auto_columns": null,
            "margin": null,
            "display": null,
            "left": null
          }
        },
        "8a4dfcc457f24cfc8ade55d5f704c60a": {
          "model_module": "@jupyter-widgets/controls",
          "model_name": "DescriptionStyleModel",
          "state": {
            "_view_name": "StyleView",
            "_model_name": "DescriptionStyleModel",
            "description_width": "",
            "_view_module": "@jupyter-widgets/base",
            "_model_module_version": "1.5.0",
            "_view_count": null,
            "_view_module_version": "1.2.0",
            "_model_module": "@jupyter-widgets/controls"
          }
        },
        "8c215784127b4d41a48e19456bdf8658": {
          "model_module": "@jupyter-widgets/base",
          "model_name": "LayoutModel",
          "state": {
            "_view_name": "LayoutView",
            "grid_template_rows": null,
            "right": null,
            "justify_content": null,
            "_view_module": "@jupyter-widgets/base",
            "overflow": null,
            "_model_module_version": "1.2.0",
            "_view_count": null,
            "flex_flow": null,
            "width": null,
            "min_width": null,
            "border": null,
            "align_items": null,
            "bottom": null,
            "_model_module": "@jupyter-widgets/base",
            "top": null,
            "grid_column": null,
            "overflow_y": null,
            "overflow_x": null,
            "grid_auto_flow": null,
            "grid_area": null,
            "grid_template_columns": null,
            "flex": null,
            "_model_name": "LayoutModel",
            "justify_items": null,
            "grid_row": null,
            "max_height": null,
            "align_content": null,
            "visibility": null,
            "align_self": null,
            "height": null,
            "min_height": null,
            "padding": null,
            "grid_auto_rows": null,
            "grid_gap": null,
            "max_width": null,
            "order": null,
            "_view_module_version": "1.2.0",
            "grid_template_areas": null,
            "object_position": null,
            "object_fit": null,
            "grid_auto_columns": null,
            "margin": null,
            "display": null,
            "left": null
          }
        },
        "0d5b1347f28744ba8152bf9b88de22bd": {
          "model_module": "@jupyter-widgets/controls",
          "model_name": "HBoxModel",
          "state": {
            "_view_name": "HBoxView",
            "_dom_classes": [],
            "_model_name": "HBoxModel",
            "_view_module": "@jupyter-widgets/controls",
            "_model_module_version": "1.5.0",
            "_view_count": null,
            "_view_module_version": "1.5.0",
            "box_style": "",
            "layout": "IPY_MODEL_354d4a0dd533463ea55a795c757f7f4f",
            "_model_module": "@jupyter-widgets/controls",
            "children": [
              "IPY_MODEL_c15ae9f98afe4b889e51f32814597034",
              "IPY_MODEL_b270b40855754e57bef0403a8b7e9fbc"
            ]
          }
        },
        "354d4a0dd533463ea55a795c757f7f4f": {
          "model_module": "@jupyter-widgets/base",
          "model_name": "LayoutModel",
          "state": {
            "_view_name": "LayoutView",
            "grid_template_rows": null,
            "right": null,
            "justify_content": null,
            "_view_module": "@jupyter-widgets/base",
            "overflow": null,
            "_model_module_version": "1.2.0",
            "_view_count": null,
            "flex_flow": null,
            "width": null,
            "min_width": null,
            "border": null,
            "align_items": null,
            "bottom": null,
            "_model_module": "@jupyter-widgets/base",
            "top": null,
            "grid_column": null,
            "overflow_y": null,
            "overflow_x": null,
            "grid_auto_flow": null,
            "grid_area": null,
            "grid_template_columns": null,
            "flex": null,
            "_model_name": "LayoutModel",
            "justify_items": null,
            "grid_row": null,
            "max_height": null,
            "align_content": null,
            "visibility": null,
            "align_self": null,
            "height": null,
            "min_height": null,
            "padding": null,
            "grid_auto_rows": null,
            "grid_gap": null,
            "max_width": null,
            "order": null,
            "_view_module_version": "1.2.0",
            "grid_template_areas": null,
            "object_position": null,
            "object_fit": null,
            "grid_auto_columns": null,
            "margin": null,
            "display": null,
            "left": null
          }
        },
        "c15ae9f98afe4b889e51f32814597034": {
          "model_module": "@jupyter-widgets/controls",
          "model_name": "FloatProgressModel",
          "state": {
            "_view_name": "ProgressView",
            "style": "IPY_MODEL_398b8dda47d44504af28969d1e35e73f",
            "_dom_classes": [],
            "description": "",
            "_model_name": "FloatProgressModel",
            "bar_style": "success",
            "max": 1,
            "_view_module": "@jupyter-widgets/controls",
            "_model_module_version": "1.5.0",
            "value": 1,
            "_view_count": null,
            "_view_module_version": "1.5.0",
            "orientation": "horizontal",
            "min": 0,
            "description_tooltip": null,
            "_model_module": "@jupyter-widgets/controls",
            "layout": "IPY_MODEL_50e4fd01b8ea4353a4e0d1581f7fe061"
          }
        },
        "b270b40855754e57bef0403a8b7e9fbc": {
          "model_module": "@jupyter-widgets/controls",
          "model_name": "HTMLModel",
          "state": {
            "_view_name": "HTMLView",
            "style": "IPY_MODEL_14dc2a71999c4a819ca7a57397b4c094",
            "_dom_classes": [],
            "description": "",
            "_model_name": "HTMLModel",
            "placeholder": "​",
            "_view_module": "@jupyter-widgets/controls",
            "_model_module_version": "1.5.0",
            "value": " 8192/? [00:00&lt;00:00, 11792.33it/s]",
            "_view_count": null,
            "_view_module_version": "1.5.0",
            "description_tooltip": null,
            "_model_module": "@jupyter-widgets/controls",
            "layout": "IPY_MODEL_4bfed7da4ac74a2c9ec00e4467c75f2a"
          }
        },
        "398b8dda47d44504af28969d1e35e73f": {
          "model_module": "@jupyter-widgets/controls",
          "model_name": "ProgressStyleModel",
          "state": {
            "_view_name": "StyleView",
            "_model_name": "ProgressStyleModel",
            "description_width": "initial",
            "_view_module": "@jupyter-widgets/base",
            "_model_module_version": "1.5.0",
            "_view_count": null,
            "_view_module_version": "1.2.0",
            "bar_color": null,
            "_model_module": "@jupyter-widgets/controls"
          }
        },
        "50e4fd01b8ea4353a4e0d1581f7fe061": {
          "model_module": "@jupyter-widgets/base",
          "model_name": "LayoutModel",
          "state": {
            "_view_name": "LayoutView",
            "grid_template_rows": null,
            "right": null,
            "justify_content": null,
            "_view_module": "@jupyter-widgets/base",
            "overflow": null,
            "_model_module_version": "1.2.0",
            "_view_count": null,
            "flex_flow": null,
            "width": null,
            "min_width": null,
            "border": null,
            "align_items": null,
            "bottom": null,
            "_model_module": "@jupyter-widgets/base",
            "top": null,
            "grid_column": null,
            "overflow_y": null,
            "overflow_x": null,
            "grid_auto_flow": null,
            "grid_area": null,
            "grid_template_columns": null,
            "flex": null,
            "_model_name": "LayoutModel",
            "justify_items": null,
            "grid_row": null,
            "max_height": null,
            "align_content": null,
            "visibility": null,
            "align_self": null,
            "height": null,
            "min_height": null,
            "padding": null,
            "grid_auto_rows": null,
            "grid_gap": null,
            "max_width": null,
            "order": null,
            "_view_module_version": "1.2.0",
            "grid_template_areas": null,
            "object_position": null,
            "object_fit": null,
            "grid_auto_columns": null,
            "margin": null,
            "display": null,
            "left": null
          }
        },
        "14dc2a71999c4a819ca7a57397b4c094": {
          "model_module": "@jupyter-widgets/controls",
          "model_name": "DescriptionStyleModel",
          "state": {
            "_view_name": "StyleView",
            "_model_name": "DescriptionStyleModel",
            "description_width": "",
            "_view_module": "@jupyter-widgets/base",
            "_model_module_version": "1.5.0",
            "_view_count": null,
            "_view_module_version": "1.2.0",
            "_model_module": "@jupyter-widgets/controls"
          }
        },
        "4bfed7da4ac74a2c9ec00e4467c75f2a": {
          "model_module": "@jupyter-widgets/base",
          "model_name": "LayoutModel",
          "state": {
            "_view_name": "LayoutView",
            "grid_template_rows": null,
            "right": null,
            "justify_content": null,
            "_view_module": "@jupyter-widgets/base",
            "overflow": null,
            "_model_module_version": "1.2.0",
            "_view_count": null,
            "flex_flow": null,
            "width": null,
            "min_width": null,
            "border": null,
            "align_items": null,
            "bottom": null,
            "_model_module": "@jupyter-widgets/base",
            "top": null,
            "grid_column": null,
            "overflow_y": null,
            "overflow_x": null,
            "grid_auto_flow": null,
            "grid_area": null,
            "grid_template_columns": null,
            "flex": null,
            "_model_name": "LayoutModel",
            "justify_items": null,
            "grid_row": null,
            "max_height": null,
            "align_content": null,
            "visibility": null,
            "align_self": null,
            "height": null,
            "min_height": null,
            "padding": null,
            "grid_auto_rows": null,
            "grid_gap": null,
            "max_width": null,
            "order": null,
            "_view_module_version": "1.2.0",
            "grid_template_areas": null,
            "object_position": null,
            "object_fit": null,
            "grid_auto_columns": null,
            "margin": null,
            "display": null,
            "left": null
          }
        }
      }
    }
  },
  "cells": [
    {
      "cell_type": "code",
      "metadata": {
        "id": "Zwc2OBpHJFGI",
        "colab_type": "code",
        "colab": {}
      },
      "source": [
        "import torch\n",
        "import torch.utils.data\n",
        "import torch.nn as nn\n",
        "import torch.nn.functional as F\n",
        "import torchvision\n",
        "import torchvision.transforms as transforms\n",
        "\n",
        "import networkx as nx\n",
        "import math\n",
        "import random"
      ],
      "execution_count": 0,
      "outputs": []
    },
    {
      "cell_type": "code",
      "metadata": {
        "id": "ab60GHWNJb4c",
        "colab_type": "code",
        "outputId": "c23fe920-f467-4aba-98a1-da8e7d3058de",
        "colab": {
          "base_uri": "https://localhost:8080/",
          "height": 623
        }
      },
      "source": [
        "pip install hpbandster"
      ],
      "execution_count": 2,
      "outputs": [
        {
          "output_type": "stream",
          "text": [
            "Collecting hpbandster\n",
            "\u001b[?25l  Downloading https://files.pythonhosted.org/packages/13/3e/62192b0bb527d9353d222b4b6df14400b3c4f36a92a2b138f11a5eafe000/hpbandster-0.7.4.tar.gz (51kB)\n",
            "\u001b[K     |████████████████████████████████| 61kB 1.8MB/s \n",
            "\u001b[?25hCollecting Pyro4\n",
            "\u001b[?25l  Downloading https://files.pythonhosted.org/packages/c3/3c/422f6f761076c5679215178a00eca9a68aacfbbc88152c85b15928b60e25/Pyro4-4.80-py2.py3-none-any.whl (89kB)\n",
            "\u001b[K     |████████████████████████████████| 92kB 3.2MB/s \n",
            "\u001b[?25hCollecting serpent\n",
            "  Downloading https://files.pythonhosted.org/packages/b4/a1/24871492bfc34ea18aee3bf38e0cee22d8c11d8d5e765ccc921103140747/serpent-1.30.2-py3-none-any.whl\n",
            "Collecting ConfigSpace\n",
            "\u001b[?25l  Downloading https://files.pythonhosted.org/packages/73/66/c9de12ba36e7ea396684101fdba05fc22fec8c312693f0398aef96b06298/ConfigSpace-0.4.13.tar.gz (964kB)\n",
            "\u001b[K     |████████████████████████████████| 972kB 4.9MB/s \n",
            "\u001b[?25hRequirement already satisfied: numpy in /usr/local/lib/python3.6/dist-packages (from hpbandster) (1.18.4)\n",
            "Requirement already satisfied: statsmodels in /usr/local/lib/python3.6/dist-packages (from hpbandster) (0.10.2)\n",
            "Requirement already satisfied: scipy in /usr/local/lib/python3.6/dist-packages (from hpbandster) (1.4.1)\n",
            "Collecting netifaces\n",
            "  Downloading https://files.pythonhosted.org/packages/0c/9b/c4c7eb09189548d45939a3d3a6b3d53979c67d124459b27a094c365c347f/netifaces-0.10.9-cp36-cp36m-manylinux1_x86_64.whl\n",
            "Requirement already satisfied: cython in /usr/local/lib/python3.6/dist-packages (from ConfigSpace->hpbandster) (0.29.18)\n",
            "Requirement already satisfied: pyparsing in /usr/local/lib/python3.6/dist-packages (from ConfigSpace->hpbandster) (2.4.7)\n",
            "Requirement already satisfied: pandas>=0.19 in /usr/local/lib/python3.6/dist-packages (from statsmodels->hpbandster) (1.0.3)\n",
            "Requirement already satisfied: patsy>=0.4.0 in /usr/local/lib/python3.6/dist-packages (from statsmodels->hpbandster) (0.5.1)\n",
            "Requirement already satisfied: python-dateutil>=2.6.1 in /usr/local/lib/python3.6/dist-packages (from pandas>=0.19->statsmodels->hpbandster) (2.8.1)\n",
            "Requirement already satisfied: pytz>=2017.2 in /usr/local/lib/python3.6/dist-packages (from pandas>=0.19->statsmodels->hpbandster) (2018.9)\n",
            "Requirement already satisfied: six in /usr/local/lib/python3.6/dist-packages (from patsy>=0.4.0->statsmodels->hpbandster) (1.12.0)\n",
            "Building wheels for collected packages: hpbandster, ConfigSpace\n",
            "  Building wheel for hpbandster (setup.py) ... \u001b[?25l\u001b[?25hdone\n",
            "  Created wheel for hpbandster: filename=hpbandster-0.7.4-cp36-none-any.whl size=80007 sha256=6d2be387aff2aefd819d0054e44e51a38d9374454e0e65088e2fb1627cf3948e\n",
            "  Stored in directory: /root/.cache/pip/wheels/9d/57/62/6b00c8011bac96e0c404adc5be4e16964ba4544614240b4e23\n",
            "  Building wheel for ConfigSpace (setup.py) ... \u001b[?25l\u001b[?25hdone\n",
            "  Created wheel for ConfigSpace: filename=ConfigSpace-0.4.13-cp36-cp36m-linux_x86_64.whl size=2914581 sha256=b9f5fc9e85ee6233c6069534edb5e0664b0dc0848acb8139788a0c746ef1194d\n",
            "  Stored in directory: /root/.cache/pip/wheels/9e/13/67/89f852e4a5cf173e6c7da5e9d449b8e98483bc8168cf7b6e6d\n",
            "Successfully built hpbandster ConfigSpace\n",
            "Installing collected packages: serpent, Pyro4, ConfigSpace, netifaces, hpbandster\n",
            "Successfully installed ConfigSpace-0.4.13 Pyro4-4.80 hpbandster-0.7.4 netifaces-0.10.9 serpent-1.30.2\n"
          ],
          "name": "stdout"
        }
      ]
    },
    {
      "cell_type": "code",
      "metadata": {
        "id": "e_wvNbWhJFGQ",
        "colab_type": "code",
        "colab": {}
      },
      "source": [
        "import ConfigSpace as CS\n",
        "import ConfigSpace.hyperparameters as CSH\n",
        "\n",
        "from hpbandster.core.worker import Worker\n",
        "\n",
        "import logging\n",
        "logging.basicConfig(level=logging.DEBUG)"
      ],
      "execution_count": 0,
      "outputs": []
    },
    {
      "cell_type": "code",
      "metadata": {
        "id": "YuMKbdCZJFGW",
        "colab_type": "code",
        "colab": {}
      },
      "source": [
        "class PyTorchWorker(Worker):\n",
        "    def __init__(self, N_train = 8192, N_valid = 1024, **kwargs):\n",
        "            super().__init__(**kwargs)\n",
        "\n",
        "            batch_size = 64\n",
        "\n",
        "            # Load the MNIST Data here\n",
        "            train_dataset = torchvision.datasets.MNIST(root='../../data', train=True, transform=transforms.ToTensor(), download=True)\n",
        "            test_dataset = torchvision.datasets.MNIST(root='../../data', train=False, transform=transforms.ToTensor())\n",
        "\n",
        "            train_sampler = torch.utils.data.sampler.SubsetRandomSampler(range(N_train))\n",
        "            validation_sampler = torch.utils.data.sampler.SubsetRandomSampler(range(N_train, N_train+N_valid))\n",
        "\n",
        "\n",
        "            self.train_loader = torch.utils.data.DataLoader(dataset=train_dataset, batch_size=batch_size, sampler=train_sampler)\n",
        "            self.validation_loader = torch.utils.data.DataLoader(dataset=train_dataset, batch_size=1024, sampler=validation_sampler)\n",
        "\n",
        "            self.test_loader = torch.utils.data.DataLoader(dataset=test_dataset, batch_size=1024, shuffle=False)\n",
        "\n",
        "\n",
        "    def compute(self, config, budget, working_directory, *args, **kwargs):\n",
        "            \"\"\"\n",
        "            Simple example for a compute function using a feed forward network.\n",
        "            It is trained on the MNIST dataset.\n",
        "            The input parameter \"config\" (dictionary) contains the sampled configurations passed by the bohb optimizer\n",
        "            \"\"\"\n",
        "\n",
        "            # device = torch.device('cpu')\n",
        "            model = LeNet()\n",
        "            criterion = torch.nn.CrossEntropyLoss()\n",
        "            if config['optimizer'] == 'Adam':\n",
        "                    optimizer = torch.optim.Adam(model.parameters(), lr=config['lr'])\n",
        "            else:\n",
        "                    optimizer = torch.optim.SGD(model.parameters(), lr=config['lr'], momentum=config['sgd_momentum'])\n",
        "\n",
        "            for epoch in range(int(budget)):\n",
        "                    loss = 0\n",
        "                    model.train()\n",
        "                    for i, (x, y) in enumerate(self.train_loader):\n",
        "                            optimizer.zero_grad()\n",
        "                            output = model(x)\n",
        "                            loss = F.nll_loss(output, y)\n",
        "                            loss.backward()\n",
        "                            optimizer.step()\n",
        "\n",
        "            train_accuracy = self.evaluate_accuracy(model, self.train_loader)\n",
        "            validation_accuracy = self.evaluate_accuracy(model, self.validation_loader)\n",
        "            test_accuracy = self.evaluate_accuracy(model, self.test_loader)\n",
        "\n",
        "            return ({\n",
        "                    'loss': 1-validation_accuracy, # remember: HpBandSter always minimizes!\n",
        "                    'info': {       'test accuracy': test_accuracy,\n",
        "                                            'train accuracy': train_accuracy,\n",
        "                                            'validation accuracy': validation_accuracy,\n",
        "                                            'number of parameters': model.number_of_parameters(),\n",
        "                                    }\n",
        "\n",
        "            })\n",
        "\n",
        "    def evaluate_accuracy(self, model, data_loader):\n",
        "            model.eval()\n",
        "            correct=0\n",
        "            with torch.no_grad():\n",
        "                    for x, y in data_loader:\n",
        "                            output = model(x)\n",
        "                            #test_loss += F.nll_loss(output, target, reduction='sum').item() # sum up batch loss\n",
        "                            pred = output.max(1, keepdim=True)[1] # get the index of the max log-probability\n",
        "                            correct += pred.eq(y.view_as(pred)).sum().item()\n",
        "            #import pdb; pdb.set_trace()\n",
        "            accuracy = correct/len(data_loader.sampler)\n",
        "            return(accuracy)\n",
        "\n",
        "    @staticmethod\n",
        "    def get_configspace():\n",
        "            \"\"\"\n",
        "            It builds the configuration space with the needed hyperparameters.\n",
        "            It is easily possible to implement different types of hyperparameters.\n",
        "            Beside float-hyperparameters on a log scale, it is also able to handle categorical input parameter.\n",
        "            :return: ConfigurationsSpace-Object\n",
        "            \"\"\"\n",
        "            cs = CS.ConfigurationSpace()\n",
        "            \n",
        "           \n",
        "\n",
        "            cs.add_hyperparameters([learning_rate])\n",
        "\n",
        "            return cs"
      ],
      "execution_count": 0,
      "outputs": []
    },
    {
      "cell_type": "code",
      "metadata": {
        "id": "miD-HnFQotGF",
        "colab_type": "code",
        "colab": {}
      },
      "source": [
        "class LeNet(nn.Module):\n",
        "  def __init__(self):\n",
        "    super(LeNet, self).__init__()\n",
        "    self.conv1 = nn.Conv2d(1, 6, (5,5), padding=2)\n",
        "    self.conv2 = nn.Conv2d(6, 16, (5,5))\n",
        "    self.fc1   = nn.Linear(16*5*5, 120)\n",
        "    self.fc2   = nn.Linear(120, 84)\n",
        "    self.fc3   = nn.Linear(84, 10)\n",
        "  \n",
        "  def forward(self, x):\n",
        "    x = F.max_pool2d(F.relu(self.conv1(x)), (2,2))\n",
        "    x = F.max_pool2d(F.relu(self.conv2(x)), (2,2))\n",
        "    x = x.view(-1, self.num_flat_features(x))\n",
        "    x = F.relu(self.fc1(x))\n",
        "    x = F.relu(self.fc2(x))\n",
        "    x = self.fc3(x)\n",
        "    return F.log_softmax(x, dim=1)\n",
        "\n",
        "  def num_flat_features(self, x):\n",
        "    size = x.size()[1:]\n",
        "    num_features = 1\n",
        "    for s in size:\n",
        "      num_features *= s\n",
        "    return num_features\n",
        "\n",
        "  def number_of_parameters(self):\n",
        "    return(sum(p.numel() for p in self.parameters() if p.requires_grad))  \n"
      ],
      "execution_count": 0,
      "outputs": []
    },
    {
      "cell_type": "markdown",
      "metadata": {
        "id": "XNWLTQkPsaD7",
        "colab_type": "text"
      },
      "source": [
        "Setting up Graph for ACO"
      ]
    },
    {
      "cell_type": "code",
      "metadata": {
        "id": "6Ak4XxhlJnjf",
        "colab_type": "code",
        "colab": {}
      },
      "source": [
        "class Graph:\n",
        "\n",
        "    def __init__(self,num_lr):\n",
        "      self.num_lr = num_lr\n",
        "      \n",
        "    \n",
        "    def generate_graph(self):\n",
        "      G = nx.DiGraph()        #Directional graph\n",
        "      edges=[]\n",
        "      G.add_node('inp')\n",
        "      G.add_node('out')\n",
        "      for lr in range(self.num_lr):\n",
        "        learning_rate = random.uniform(1e-6, 1e-1)\n",
        "        G.add_node(lr, lr=learning_rate)\n",
        "        edge = ['inp',lr,1]                     #initial weight is 1 (pheromone value)\n",
        "        edges.append(edge)\n",
        "        edge = [lr,'out',1]\n",
        "        edges.append(edge)\n",
        "     # for dr in range(self.num_dr):\n",
        "     #  dropout_rate = random.uniform(0.0, 0.9)\n",
        "     #  G.add_node(dr+self.num_lr, dr=dropout_rate)\n",
        "     #  for lr in range(self.num_lr):\n",
        "     #    edge = [lr,dr+self.num_lr,1]\n",
        "     #    edges.append(edge)\n",
        "\n",
        "     # for nfu in range(self.num_num_fc_units): \n",
        "     #  num_fc_units = random.randint(8, 256)\n",
        "     #  G.add_node(nfu+self.num_lr+self.num_dr, nfu=num_fc_units)\n",
        "     #  edge = [nfu+self.num_lr+self.num_dr,'out',1]\n",
        "     #  edges.append(edge)\n",
        "     #  for dr in range(self.num_dr):\n",
        "     #    edge = [dr+self.num_lr,(nfu+self.num_lr+self.num_dr),1]\n",
        "     #    edges.append(edge)\n",
        "\n",
        "      G.add_weighted_edges_from(edges)\n",
        "    \n",
        "      return G\n"
      ],
      "execution_count": 0,
      "outputs": []
    },
    {
      "cell_type": "code",
      "metadata": {
        "id": "avGvf4j49W-e",
        "colab_type": "code",
        "outputId": "d835e556-9b86-470e-a0cd-85a4f197d2fd",
        "colab": {
          "base_uri": "https://localhost:8080/",
          "height": 318
        }
      },
      "source": [
        "Graphed = Graph(10)\n",
        "G = Graphed.generate_graph()\n",
        "nx.draw(G,with_labels=True,font_weight='bold')"
      ],
      "execution_count": 13,
      "outputs": [
        {
          "output_type": "display_data",
          "data": {
            "image/png": "[encoded data removed]",
            "text/plain": [
              "<Figure size 432x288 with 1 Axes>"
            ]
          },
          "metadata": {
            "tags": []
          }
        }
      ]
    },
    {
      "cell_type": "code",
      "metadata": {
        "id": "4Y7p2b_i0Ucx",
        "colab_type": "code",
        "colab": {
          "base_uri": "https://localhost:8080/",
          "height": 230
        },
        "outputId": "9fecaed4-27b3-46c2-9cef-29f8bbeae420"
      },
      "source": [
        "list(G.nodes.data())"
      ],
      "execution_count": 18,
      "outputs": [
        {
          "output_type": "execute_result",
          "data": {
            "text/plain": [
              "[('inp', {}),\n",
              " ('out', {}),\n",
              " (0, {'lr': 0.007106310445211086}),\n",
              " (1, {'lr': 0.07894674225623952}),\n",
              " (2, {'lr': 0.004876453798339075}),\n",
              " (3, {'lr': 0.003713091986089373}),\n",
              " (4, {'lr': 0.07498649007048654}),\n",
              " (5, {'lr': 0.06084660694002145}),\n",
              " (6, {'lr': 0.03989692223134097}),\n",
              " (7, {'lr': 0.04471943599099445}),\n",
              " (8, {'lr': 0.06976793093546046}),\n",
              " (9, {'lr': 0.06653462625167526})]"
            ]
          },
          "metadata": {
            "tags": []
          },
          "execution_count": 18
        }
      ]
    },
    {
      "cell_type": "code",
      "metadata": {
        "id": "rFivMaf3SHt9",
        "colab_type": "code",
        "outputId": "1e0a6471-6071-4fc7-c33b-9506b882961e",
        "colab": {
          "base_uri": "https://localhost:8080/",
          "height": 372
        }
      },
      "source": [
        "list(G.edges.data())"
      ],
      "execution_count": 14,
      "outputs": [
        {
          "output_type": "execute_result",
          "data": {
            "text/plain": [
              "[('inp', 0, {'weight': 1}),\n",
              " ('inp', 1, {'weight': 1}),\n",
              " ('inp', 2, {'weight': 1}),\n",
              " ('inp', 3, {'weight': 1}),\n",
              " ('inp', 4, {'weight': 1}),\n",
              " ('inp', 5, {'weight': 1}),\n",
              " ('inp', 6, {'weight': 1}),\n",
              " ('inp', 7, {'weight': 1}),\n",
              " ('inp', 8, {'weight': 1}),\n",
              " ('inp', 9, {'weight': 1}),\n",
              " (0, 'out', {'weight': 1}),\n",
              " (1, 'out', {'weight': 1}),\n",
              " (2, 'out', {'weight': 1}),\n",
              " (3, 'out', {'weight': 1}),\n",
              " (4, 'out', {'weight': 1}),\n",
              " (5, 'out', {'weight': 1}),\n",
              " (6, 'out', {'weight': 1}),\n",
              " (7, 'out', {'weight': 1}),\n",
              " (8, 'out', {'weight': 1}),\n",
              " (9, 'out', {'weight': 1})]"
            ]
          },
          "metadata": {
            "tags": []
          },
          "execution_count": 14
        }
      ]
    },
    {
      "cell_type": "code",
      "metadata": {
        "id": "d7MzHbSbs6XZ",
        "colab_type": "code",
        "colab": {}
      },
      "source": [
        "class ACO:\n",
        "    def __init__(self,num_ants,Graph):\n",
        "         self.num_ants = num_ants\n",
        "         self.G = Graph\n",
        "\n",
        "    def generate_ants(self): \n",
        "         best_path = []\n",
        "         best_loss = math.inf\n",
        "         for i in range(self.num_ants):\n",
        "        \n",
        "        \n",
        "           if(i==0):\n",
        "             path = self.select_random_path()\n",
        "             self.local_pheromone_update(path)\n",
        "             print(path)\n",
        "             result = self.evaluation(path) \n",
        "             if (result['loss'] < best_loss):\n",
        "              best_path = path\n",
        "              best_loss = result['loss']\n",
        "           else:\n",
        "             path = self.select_aco_path()\n",
        "             self.local_pheromone_update(path)\n",
        "             print(path)\n",
        "             result = self.evaluation(path) \n",
        "             if (result['loss'] < best_loss):\n",
        "              best_path = path\n",
        "              best_loss = result['loss']\n",
        "         return best_path\n",
        "\n",
        "    def select_random_path(self):\n",
        "        \"\"\"Randomly selects ant path from source to destination\"\"\"\n",
        "        ant_path = [] \n",
        "        current_node = 'inp' \n",
        "        ant_path.append(current_node)\n",
        "        next_node = 'inp'\n",
        "\n",
        "        while(next_node!='out'):\n",
        "         next_node = random.choice(list(G.successors(current_node)))\n",
        "         current_node = next_node\n",
        "         ant_path.append(next_node)\n",
        "        \n",
        "        return ant_path   \n",
        "\n",
        "    def select_aco_path(self):\n",
        "        \"\"\"Selects ant path from source to destination based on ACO select rule\"\"\"\n",
        "        ant_path = []\n",
        "        current_node = 'inp' \n",
        "        ant_path.append(current_node)\n",
        "        next_node = 'inp'\n",
        "\n",
        "        while(next_node!='out'):\n",
        "         next_node = self.aco_select_rule(current_node)\n",
        "         current_node = next_node\n",
        "         ant_path.append(next_node)\n",
        "        \n",
        "        return ant_path    \n",
        "\n",
        "    def aco_select_rule(self, current_node):\n",
        "        \"\"\"Selects neigbour using ACO transition rule\"\"\"\n",
        "        \n",
        "\n",
        "        probabilities = []\n",
        "        denominator = 0.0\n",
        "        greediness = 0.5\n",
        "        neighbours = list(G.successors(current_node))\n",
        "        # Calculate probability for each neighbour    (heuristics are not considered)\n",
        "        for i in range(len(neighbours)):\n",
        "            probability = self.G[current_node][neighbours[i]]['weight']    #pheromone value\n",
        "            probabilities.append(probability)\n",
        "            denominator += probability\n",
        "\n",
        "        # Try to perform greedy select: exploitation\n",
        "        random_variable = random.uniform(0, 1)\n",
        "        if random_variable <= greediness:\n",
        "            # Find max probability\n",
        "            max_probability = max(probabilities)\n",
        "            # Gather the indices of probabilities that are equal to the max probability\n",
        "            max_indices = [i for i, j in enumerate(probabilities) if j == max_probability]\n",
        "            # From those max indices select random index\n",
        "            neighbour_index = random.choice(max_indices)\n",
        "            return neighbours[neighbour_index]\n",
        "\n",
        "        # Otherwise perform select using roulette wheel: exploration\n",
        "        probabilities = [x / denominator for x in probabilities]\n",
        "        probability_sum = sum(probabilities)\n",
        "        random_threshold = random.uniform(0, probability_sum)\n",
        "        current_value = 0\n",
        "        for neighbour_index, probability in enumerate(probabilities):\n",
        "            current_value += probability\n",
        "            if current_value > random_threshold:\n",
        "                return neighbours[neighbour_index]\n",
        "\n",
        "    def local_pheromone_update(self,path):      \n",
        "        pheromone_0 = 0.1\n",
        "        decay = 0.1\n",
        "        for i in range(len(path)-1):\n",
        "          self.G[path[i]][path[i+1]]['weight'] = (1 - decay) * self.G[path[i]][path[i+1]]['weight'] + (decay * pheromone_0)\n",
        "\n",
        "    def evaluation(self,path):\n",
        "       lr = G.nodes[path[1]]['lr']\n",
        "       config = {\n",
        "           'lr': lr,\n",
        "           'optimizer': 'Adam'\n",
        "       }\n",
        "       print(config)\n",
        "       worker = PyTorchWorker(run_id='0')\n",
        "       res = worker.compute(config=config, budget=10, working_directory='.')\n",
        "       print(res)\n",
        "       return res"
      ],
      "execution_count": 0,
      "outputs": []
    },
    {
      "cell_type": "code",
      "metadata": {
        "id": "C9bemEB2v0LG",
        "colab_type": "code",
        "outputId": "fff97158-66fc-4872-86ac-3b87111ccf32",
        "colab": {
          "base_uri": "https://localhost:8080/",
          "height": 964,
          "referenced_widgets": [
            "d112e77252d34ecfbdaa909fd1bfc4d6",
            "813cd41781194e98aad14f5da2d1b67b",
            "e1043360e71e4d29b3c40777228b66c7",
            "1b695aaeca4a4cd7b692198eb8ccad4a",
            "46a61c6d02fd405194d9689346569edd",
            "ff69c58908ce422ebc145a15559effd2",
            "0fef8e5a44134852bea977120a8874bd",
            "f9abaf880e9b4cd796c61558fad4083b",
            "555d3672fb294e9bb1cb90c27a18af92",
            "3a321cc9c93d4a179bc251b7e37e8bc2",
            "2ec498f070d14b79bff5618e4f11da3e",
            "7410526ff608461ca608f10b25a38505",
            "c21458e4582c41b9bf5cff32e5e21bf5",
            "7df6b056bf23456a9a39345767a63a8c",
            "e8264498637447b9bad1b8d546fb9974",
            "eb35237b733e4566b37c7234a74ba47d",
            "c86b0a388b384f6eb83b687184292daf",
            "c0a74def27984f66b81671321f216e09",
            "8552616dfe6e493fa5c43fb17f8d804b",
            "b73a601f38874a2685f0b8842c76070b",
            "cf7e5743400e4d7badc70a16c04d08a9",
            "97175c2968164b489f5507cf23baf1c7",
            "8a4dfcc457f24cfc8ade55d5f704c60a",
            "8c215784127b4d41a48e19456bdf8658",
            "0d5b1347f28744ba8152bf9b88de22bd",
            "354d4a0dd533463ea55a795c757f7f4f",
            "c15ae9f98afe4b889e51f32814597034",
            "b270b40855754e57bef0403a8b7e9fbc",
            "398b8dda47d44504af28969d1e35e73f",
            "50e4fd01b8ea4353a4e0d1581f7fe061",
            "14dc2a71999c4a819ca7a57397b4c094",
            "4bfed7da4ac74a2c9ec00e4467c75f2a"
          ]
        }
      },
      "source": [
        "acs=ACO(10,G)\n",
        "best_path = acs.generate_ants()\n",
        "print(best_path)"
      ],
      "execution_count": 16,
      "outputs": [
        {
          "output_type": "stream",
          "text": [
            "['inp', 1, 'out']\n",
            "{'lr': 0.07894674225623952, 'optimizer': 'Adam'}\n",
            "Downloading http://yann.lecun.com/exdb/mnist/train-images-idx3-ubyte.gz to ../../data/MNIST/raw/train-images-idx3-ubyte.gz\n"
          ],
          "name": "stdout"
        },
        {
          "output_type": "display_data",
          "data": {
            "application/vnd.jupyter.widget-view+json": {
              "model_id": "d112e77252d34ecfbdaa909fd1bfc4d6",
              "version_minor": 0,
              "version_major": 2
            },
            "text/plain": [
              "HBox(children=(FloatProgress(value=1.0, bar_style='info', max=1.0), HTML(value='')))"
            ]
          },
          "metadata": {
            "tags": []
          }
        },
        {
          "output_type": "stream",
          "text": [
            "Extracting ../../data/MNIST/raw/train-images-idx3-ubyte.gz to ../../data/MNIST/raw\n",
            "Downloading http://yann.lecun.com/exdb/mnist/train-labels-idx1-ubyte.gz to ../../data/MNIST/raw/train-labels-idx1-ubyte.gz\n",
            "\n"
          ],
          "name": "stdout"
        },
        {
          "output_type": "display_data",
          "data": {
            "application/vnd.jupyter.widget-view+json": {
              "model_id": "555d3672fb294e9bb1cb90c27a18af92",
              "version_minor": 0,
              "version_major": 2
            },
            "text/plain": [
              "HBox(children=(FloatProgress(value=1.0, bar_style='info', max=1.0), HTML(value='')))"
            ]
          },
          "metadata": {
            "tags": []
          }
        },
        {
          "output_type": "stream",
          "text": [
            "Extracting ../../data/MNIST/raw/train-labels-idx1-ubyte.gz to ../../data/MNIST/raw\n",
            "Downloading http://yann.lecun.com/exdb/mnist/t10k-images-idx3-ubyte.gz to ../../data/MNIST/raw/t10k-images-idx3-ubyte.gz\n"
          ],
          "name": "stdout"
        },
        {
          "output_type": "display_data",
          "data": {
            "application/vnd.jupyter.widget-view+json": {
              "model_id": "c86b0a388b384f6eb83b687184292daf",
              "version_minor": 0,
              "version_major": 2
            },
            "text/plain": [
              "HBox(children=(FloatProgress(value=1.0, bar_style='info', max=1.0), HTML(value='')))"
            ]
          },
          "metadata": {
            "tags": []
          }
        },
        {
          "output_type": "stream",
          "text": [
            "Extracting ../../data/MNIST/raw/t10k-images-idx3-ubyte.gz to ../../data/MNIST/raw\n",
            "Downloading http://yann.lecun.com/exdb/mnist/t10k-labels-idx1-ubyte.gz to ../../data/MNIST/raw/t10k-labels-idx1-ubyte.gz\n"
          ],
          "name": "stdout"
        },
        {
          "output_type": "display_data",
          "data": {
            "application/vnd.jupyter.widget-view+json": {
              "model_id": "0d5b1347f28744ba8152bf9b88de22bd",
              "version_minor": 0,
              "version_major": 2
            },
            "text/plain": [
              "HBox(children=(FloatProgress(value=1.0, bar_style='info', max=1.0), HTML(value='')))"
            ]
          },
          "metadata": {
            "tags": []
          }
        },
        {
          "output_type": "stream",
          "text": [
            "Extracting ../../data/MNIST/raw/t10k-labels-idx1-ubyte.gz to ../../data/MNIST/raw\n",
            "Processing...\n",
            "Done!\n",
            "\n",
            "\n"
          ],
          "name": "stdout"
        },
        {
          "output_type": "stream",
          "text": [
            "/pytorch/torch/csrc/utils/tensor_numpy.cpp:141: UserWarning: The given NumPy array is not writeable, and PyTorch does not support non-writeable tensors. This means you can write to the underlying (supposedly non-writeable) NumPy array using the tensor. You may want to copy the array to protect its data or make it writeable before converting it to a tensor. This type of warning will be suppressed for the rest of this program.\n"
          ],
          "name": "stderr"
        },
        {
          "output_type": "stream",
          "text": [
            "{'loss': 0.904296875, 'info': {'test accuracy': 0.098, 'train accuracy': 0.10009765625, 'validation accuracy': 0.095703125, 'number of parameters': 61706}}\n",
            "['inp', 9, 'out']\n",
            "{'lr': 0.06653462625167526, 'optimizer': 'Adam'}\n",
            "{'loss': 0.888671875, 'info': {'test accuracy': 0.1135, 'train accuracy': 0.1136474609375, 'validation accuracy': 0.111328125, 'number of parameters': 61706}}\n",
            "['inp', 1, 'out']\n",
            "{'lr': 0.07894674225623952, 'optimizer': 'Adam'}\n",
            "{'loss': 0.8984375, 'info': {'test accuracy': 0.1028, 'train accuracy': 0.10693359375, 'validation accuracy': 0.1015625, 'number of parameters': 61706}}\n",
            "['inp', 5, 'out']\n",
            "{'lr': 0.06084660694002145, 'optimizer': 'Adam'}\n",
            "{'loss': 0.888671875, 'info': {'test accuracy': 0.1135, 'train accuracy': 0.1136474609375, 'validation accuracy': 0.111328125, 'number of parameters': 61706}}\n",
            "['inp', 4, 'out']\n",
            "{'lr': 0.07498649007048654, 'optimizer': 'Adam'}\n",
            "{'loss': 0.904296875, 'info': {'test accuracy': 0.098, 'train accuracy': 0.10009765625, 'validation accuracy': 0.095703125, 'number of parameters': 61706}}\n",
            "['inp', 8, 'out']\n",
            "{'lr': 0.06976793093546046, 'optimizer': 'Adam'}\n",
            "{'loss': 0.904296875, 'info': {'test accuracy': 0.098, 'train accuracy': 0.10009765625, 'validation accuracy': 0.095703125, 'number of parameters': 61706}}\n",
            "['inp', 3, 'out']\n",
            "{'lr': 0.003713091986089373, 'optimizer': 'Adam'}\n",
            "{'loss': 0.029296875, 'info': {'test accuracy': 0.9765, 'train accuracy': 0.995849609375, 'validation accuracy': 0.970703125, 'number of parameters': 61706}}\n",
            "['inp', 7, 'out']\n",
            "{'lr': 0.04471943599099445, 'optimizer': 'Adam'}\n",
            "{'loss': 0.8935546875, 'info': {'test accuracy': 0.0982, 'train accuracy': 0.0989990234375, 'validation accuracy': 0.1064453125, 'number of parameters': 61706}}\n",
            "['inp', 8, 'out']\n",
            "{'lr': 0.06976793093546046, 'optimizer': 'Adam'}\n",
            "{'loss': 0.89453125, 'info': {'test accuracy': 0.101, 'train accuracy': 0.1019287109375, 'validation accuracy': 0.10546875, 'number of parameters': 61706}}\n",
            "['inp', 0, 'out']\n",
            "{'lr': 0.007106310445211086, 'optimizer': 'Adam'}\n",
            "{'loss': 0.0302734375, 'info': {'test accuracy': 0.97, 'train accuracy': 0.99365234375, 'validation accuracy': 0.9697265625, 'number of parameters': 61706}}\n",
            "['inp', 3, 'out']\n"
          ],
          "name": "stdout"
        }
      ]
    },
    {
      "cell_type": "code",
      "metadata": {
        "id": "F5dY41vPINTx",
        "colab_type": "code",
        "outputId": "ffe8e070-631e-49a4-c67f-310acffc857c",
        "colab": {
          "base_uri": "https://localhost:8080/",
          "height": 372
        }
      },
      "source": [
        "list(G.edges.data())"
      ],
      "execution_count": 17,
      "outputs": [
        {
          "output_type": "execute_result",
          "data": {
            "text/plain": [
              "[('inp', 0, {'weight': 0.91}),\n",
              " ('inp', 1, {'weight': 0.8290000000000001}),\n",
              " ('inp', 2, {'weight': 1}),\n",
              " ('inp', 3, {'weight': 0.91}),\n",
              " ('inp', 4, {'weight': 0.91}),\n",
              " ('inp', 5, {'weight': 0.91}),\n",
              " ('inp', 6, {'weight': 1}),\n",
              " ('inp', 7, {'weight': 0.91}),\n",
              " ('inp', 8, {'weight': 0.8290000000000001}),\n",
              " ('inp', 9, {'weight': 0.91}),\n",
              " (0, 'out', {'weight': 0.91}),\n",
              " (1, 'out', {'weight': 0.8290000000000001}),\n",
              " (2, 'out', {'weight': 1}),\n",
              " (3, 'out', {'weight': 0.91}),\n",
              " (4, 'out', {'weight': 0.91}),\n",
              " (5, 'out', {'weight': 0.91}),\n",
              " (6, 'out', {'weight': 1}),\n",
              " (7, 'out', {'weight': 0.91}),\n",
              " (8, 'out', {'weight': 0.8290000000000001}),\n",
              " (9, 'out', {'weight': 0.91})]"
            ]
          },
          "metadata": {
            "tags": []
          },
          "execution_count": 17
        }
      ]
    },
    {
      "cell_type": "code",
      "metadata": {
        "id": "ttLCUZ9Jq1Qt",
        "colab_type": "code",
        "colab": {
          "base_uri": "https://localhost:8080/",
          "height": 34
        },
        "outputId": "f78dc2ae-1b74-4ff6-c55f-6f52d230f539"
      },
      "source": [
        "print(list(best_path))"
      ],
      "execution_count": 19,
      "outputs": [
        {
          "output_type": "stream",
          "text": [
            "['inp', 3, 'out']\n"
          ],
          "name": "stdout"
        }
      ]
    },
    {
      "cell_type": "code",
      "metadata": {
        "id": "6MjUIWmq2unF",
        "colab_type": "code",
        "colab": {}
      },
      "source": [
        ""
      ],
      "execution_count": 0,
      "outputs": []
    }
  ]
}