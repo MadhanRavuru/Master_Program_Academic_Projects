{
  "nbformat": 4,
  "nbformat_minor": 0,
  "metadata": {
    "kernelspec": {
      "display_name": "Python 3",
      "language": "python",
      "name": "python3"
    },
    "language_info": {
      "codemirror_mode": {
        "name": "ipython",
        "version": 3
      },
      "file_extension": ".py",
      "mimetype": "text/x-python",
      "name": "python",
      "nbconvert_exporter": "python",
      "pygments_lexer": "ipython3",
      "version": "3.7.4"
    },
    "colab": {
      "name": "HpBandSter_Pytorch.ipynb",
      "provenance": [],
      "collapsed_sections": []
    },
    "accelerator": "GPU"
  },
  "cells": [
    {
      "cell_type": "code",
      "metadata": {
        "id": "Zwc2OBpHJFGI",
        "colab_type": "code",
        "colab": {}
      },
      "source": [
        "import torch\n",
        "import torch.utils.data\n",
        "import torch.nn as nn\n",
        "import torch.nn.functional as F\n",
        "import torchvision\n",
        "import torchvision.transforms as transforms\n",
        "\n",
        "import networkx as nx\n",
        "import numpy as np\n",
        "import math\n",
        "import random\n",
        "from scipy.stats import loguniform"
      ],
      "execution_count": 0,
      "outputs": []
    },
    {
      "cell_type": "code",
      "metadata": {
        "id": "ab60GHWNJb4c",
        "colab_type": "code",
        "outputId": "0839125f-b6df-459a-c899-83adafbb552c",
        "colab": {
          "base_uri": "https://localhost:8080/",
          "height": 623
        }
      },
      "source": [
        "pip install hpbandster"
      ],
      "execution_count": 2,
      "outputs": [
        {
          "output_type": "stream",
          "text": [
            "Collecting hpbandster\n",
            "\u001b[?25l  Downloading https://files.pythonhosted.org/packages/13/3e/62192b0bb527d9353d222b4b6df14400b3c4f36a92a2b138f11a5eafe000/hpbandster-0.7.4.tar.gz (51kB)\n",
            "\u001b[K     |████████████████████████████████| 61kB 7.1MB/s \n",
            "\u001b[?25hCollecting Pyro4\n",
            "\u001b[?25l  Downloading https://files.pythonhosted.org/packages/c3/3c/422f6f761076c5679215178a00eca9a68aacfbbc88152c85b15928b60e25/Pyro4-4.80-py2.py3-none-any.whl (89kB)\n",
            "\u001b[K     |████████████████████████████████| 92kB 7.7MB/s \n",
            "\u001b[?25hCollecting serpent\n",
            "  Downloading https://files.pythonhosted.org/packages/b4/a1/24871492bfc34ea18aee3bf38e0cee22d8c11d8d5e765ccc921103140747/serpent-1.30.2-py3-none-any.whl\n",
            "Collecting ConfigSpace\n",
            "\u001b[?25l  Downloading https://files.pythonhosted.org/packages/73/66/c9de12ba36e7ea396684101fdba05fc22fec8c312693f0398aef96b06298/ConfigSpace-0.4.13.tar.gz (964kB)\n",
            "\u001b[K     |████████████████████████████████| 972kB 29.4MB/s \n",
            "\u001b[?25hRequirement already satisfied: numpy in /usr/local/lib/python3.6/dist-packages (from hpbandster) (1.18.5)\n",
            "Requirement already satisfied: statsmodels in /usr/local/lib/python3.6/dist-packages (from hpbandster) (0.10.2)\n",
            "Requirement already satisfied: scipy in /usr/local/lib/python3.6/dist-packages (from hpbandster) (1.4.1)\n",
            "Collecting netifaces\n",
            "  Downloading https://files.pythonhosted.org/packages/0c/9b/c4c7eb09189548d45939a3d3a6b3d53979c67d124459b27a094c365c347f/netifaces-0.10.9-cp36-cp36m-manylinux1_x86_64.whl\n",
            "Requirement already satisfied: cython in /usr/local/lib/python3.6/dist-packages (from ConfigSpace->hpbandster) (0.29.19)\n",
            "Requirement already satisfied: pyparsing in /usr/local/lib/python3.6/dist-packages (from ConfigSpace->hpbandster) (2.4.7)\n",
            "Requirement already satisfied: patsy>=0.4.0 in /usr/local/lib/python3.6/dist-packages (from statsmodels->hpbandster) (0.5.1)\n",
            "Requirement already satisfied: pandas>=0.19 in /usr/local/lib/python3.6/dist-packages (from statsmodels->hpbandster) (1.0.4)\n",
            "Requirement already satisfied: six in /usr/local/lib/python3.6/dist-packages (from patsy>=0.4.0->statsmodels->hpbandster) (1.12.0)\n",
            "Requirement already satisfied: pytz>=2017.2 in /usr/local/lib/python3.6/dist-packages (from pandas>=0.19->statsmodels->hpbandster) (2018.9)\n",
            "Requirement already satisfied: python-dateutil>=2.6.1 in /usr/local/lib/python3.6/dist-packages (from pandas>=0.19->statsmodels->hpbandster) (2.8.1)\n",
            "Building wheels for collected packages: hpbandster, ConfigSpace\n",
            "  Building wheel for hpbandster (setup.py) ... \u001b[?25l\u001b[?25hdone\n",
            "  Created wheel for hpbandster: filename=hpbandster-0.7.4-cp36-none-any.whl size=80007 sha256=9bfc24ec27bbc9dfc221c104e134e74c51b36aba02165a4a5565c4769f48122e\n",
            "  Stored in directory: /root/.cache/pip/wheels/9d/57/62/6b00c8011bac96e0c404adc5be4e16964ba4544614240b4e23\n",
            "  Building wheel for ConfigSpace (setup.py) ... \u001b[?25l\u001b[?25hdone\n",
            "  Created wheel for ConfigSpace: filename=ConfigSpace-0.4.13-cp36-cp36m-linux_x86_64.whl size=2914641 sha256=fa09c9b141c7f253ad9d1a3a7f253e98a88cd84d20d1e1e963bb3c26adfb6554\n",
            "  Stored in directory: /root/.cache/pip/wheels/9e/13/67/89f852e4a5cf173e6c7da5e9d449b8e98483bc8168cf7b6e6d\n",
            "Successfully built hpbandster ConfigSpace\n",
            "Installing collected packages: serpent, Pyro4, ConfigSpace, netifaces, hpbandster\n",
            "Successfully installed ConfigSpace-0.4.13 Pyro4-4.80 hpbandster-0.7.4 netifaces-0.10.9 serpent-1.30.2\n"
          ],
          "name": "stdout"
        }
      ]
    },
    {
      "cell_type": "code",
      "metadata": {
        "id": "e_wvNbWhJFGQ",
        "colab_type": "code",
        "colab": {}
      },
      "source": [
        "import ConfigSpace as CS\n",
        "import ConfigSpace.hyperparameters as CSH\n",
        "\n",
        "from hpbandster.core.worker import Worker\n",
        "\n",
        "import logging\n",
        "logging.basicConfig(level=logging.DEBUG)# Device configuration\n",
        "device = torch.device('cuda' if torch.cuda.is_available() else 'cpu')\n",
        "\n",
        "# Device configuration\n",
        "device = torch.device('cuda' if torch.cuda.is_available() else 'cpu')"
      ],
      "execution_count": 0,
      "outputs": []
    },
    {
      "cell_type": "code",
      "metadata": {
        "id": "YJKA_NpDlQng",
        "colab_type": "code",
        "colab": {}
      },
      "source": [
        "def set_seed(seed): \n",
        " torch.backends.cudnn.deterministic = True \n",
        " torch.backends.cudnn.benchmark = False \n",
        " torch.manual_seed(seed)\n",
        " torch.cuda.manual_seed_all(seed)\n",
        " np.random.seed(seed) \n",
        " random.seed(seed)\n",
        "\n",
        "def unset_seed():  \n",
        " np.random.seed() \n",
        " random.seed() "
      ],
      "execution_count": 0,
      "outputs": []
    },
    {
      "cell_type": "code",
      "metadata": {
        "id": "YuMKbdCZJFGW",
        "colab_type": "code",
        "colab": {}
      },
      "source": [
        "class PyTorchWorker(Worker):\n",
        "    def __init__(self, N_train = 8192, N_valid = 1024, **kwargs):\n",
        "            super().__init__(**kwargs)\n",
        "\n",
        "            batch_size = 64\n",
        "\n",
        "            # Load the MNIST Data here\n",
        "            train_dataset = torchvision.datasets.MNIST(root='../../data', train=True, transform=transforms.ToTensor(), download=True)\n",
        "            test_dataset = torchvision.datasets.MNIST(root='../../data', train=False, transform=transforms.ToTensor())\n",
        "            \n",
        "            \n",
        "            indices = list(range(N_train+N_valid))\n",
        "            set_seed(10)                       #Random generation is made deterministic, we get same performance for specific lr always\n",
        "            np.random.shuffle(indices)             \n",
        "\n",
        "            train_idx, valid_idx = indices[N_valid:], indices[:N_valid]\n",
        "            train_sampler = torch.utils.data.sampler.SubsetRandomSampler(train_idx)\n",
        "            validation_sampler = torch.utils.data.sampler.SubsetRandomSampler(valid_idx)\n",
        "\n",
        "            self.train_loader = torch.utils.data.DataLoader(dataset=train_dataset, batch_size=batch_size, sampler=train_sampler)\n",
        "            self.validation_loader = torch.utils.data.DataLoader(dataset=train_dataset, batch_size=1024, sampler=validation_sampler)\n",
        "\n",
        "            self.test_loader = torch.utils.data.DataLoader(dataset=test_dataset, batch_size=1024, shuffle=False)\n",
        "\n",
        "\n",
        "    def compute(self, config, budget, working_directory, *args, **kwargs):\n",
        "            \"\"\"\n",
        "            Simple example for a compute function using a feed forward network.\n",
        "            It is trained on the MNIST dataset.\n",
        "            The input parameter \"config\" (dictionary) contains the sampled configurations passed by the bohb optimizer\n",
        "            \"\"\"\n",
        "\n",
        "            # device = torch.device('cpu')\n",
        "            model = LeNet().to(device)\n",
        "            criterion = torch.nn.CrossEntropyLoss()\n",
        "            if config['optimizer'] == 'Adam':\n",
        "                    optimizer = torch.optim.Adam(model.parameters(), lr=config['lr'])\n",
        "            else:\n",
        "                    optimizer = torch.optim.SGD(model.parameters(), lr=config['lr'], momentum=config['sgd_momentum'])\n",
        "\n",
        "             \n",
        "            \n",
        "            for epoch in range(int(budget)):\n",
        "                    loss = 0\n",
        "                    model.train()\n",
        "                    for i, (x, y) in enumerate(self.train_loader):\n",
        "                            x = x.to(device)\n",
        "                            y = y.to(device)\n",
        "                            output = model(x)\n",
        "                            \n",
        "                            loss = criterion(output, y) \n",
        "                            \n",
        "                            optimizer.zero_grad()\n",
        "                            loss.backward()\n",
        "                            optimizer.step()\n",
        "\n",
        "            train_accuracy = self.evaluate_accuracy(model, self.train_loader)\n",
        "            validation_accuracy = self.evaluate_accuracy(model, self.validation_loader)\n",
        "            test_accuracy = self.evaluate_accuracy(model, self.test_loader)\n",
        "            num_params = model.number_of_parameters()\n",
        "\n",
        "            return ({\n",
        "                    'loss': 1-validation_accuracy, # remember: HpBandSter always minimizes!\n",
        "                    'info': {       'test accuracy': test_accuracy,\n",
        "                                            'train accuracy': train_accuracy,\n",
        "                                            'validation accuracy': validation_accuracy,\n",
        "                                            'number of parameters': num_params,\n",
        "                                    }\n",
        "\n",
        "            })\n",
        "\n",
        "    def evaluate_accuracy(self, model, data_loader):\n",
        "            model.eval()\n",
        "            correct=0\n",
        "            with torch.no_grad():\n",
        "                    for x, y in data_loader:\n",
        "                            x = x.to(device)\n",
        "                            y = y.to(device)\n",
        "                            output = model(x)\n",
        "                            pred = output.max(1, keepdim=True)[1] # get the index of the max log-probability\n",
        "                            correct += pred.eq(y.view_as(pred)).sum().item()\n",
        "           \n",
        "            accuracy = correct/len(data_loader.sampler)\n",
        "            return(accuracy)\n"
      ],
      "execution_count": 0,
      "outputs": []
    },
    {
      "cell_type": "code",
      "metadata": {
        "id": "miD-HnFQotGF",
        "colab_type": "code",
        "colab": {}
      },
      "source": [
        "class LeNet(nn.Module):\n",
        "  def __init__(self):\n",
        "    super(LeNet, self).__init__()\n",
        "    self.conv1 = nn.Conv2d(1, 6, (5,5), padding=2)\n",
        "    self.conv2 = nn.Conv2d(6, 16, (5,5))\n",
        "    self.fc1   = nn.Linear(16*5*5, 120)\n",
        "    self.fc2   = nn.Linear(120, 84)\n",
        "    self.fc3   = nn.Linear(84, 10)\n",
        "  \n",
        "  def forward(self, x):\n",
        "    x = F.max_pool2d(F.relu(self.conv1(x)), (2,2))\n",
        "    x = F.max_pool2d(F.relu(self.conv2(x)), (2,2))\n",
        "    x = x.view(-1, self.num_flat_features(x))\n",
        "    x = F.relu(self.fc1(x))\n",
        "    x = F.relu(self.fc2(x))\n",
        "    x = self.fc3(x)\n",
        "    return F.log_softmax(x, dim=1)\n",
        "\n",
        "  def num_flat_features(self, x):\n",
        "    size = x.size()[1:]\n",
        "    num_features = 1\n",
        "    for s in size:\n",
        "      num_features *= s\n",
        "    return num_features\n",
        "\n",
        "  def number_of_parameters(self):\n",
        "    return(sum(p.numel() for p in self.parameters() if p.requires_grad))  \n"
      ],
      "execution_count": 0,
      "outputs": []
    },
    {
      "cell_type": "markdown",
      "metadata": {
        "id": "XNWLTQkPsaD7",
        "colab_type": "text"
      },
      "source": [
        "Setting up Graph for ACO"
      ]
    },
    {
      "cell_type": "code",
      "metadata": {
        "id": "6Ak4XxhlJnjf",
        "colab_type": "code",
        "colab": {}
      },
      "source": [
        "class Graph:\n",
        "\n",
        "    def __init__(self,num_lr):\n",
        "      self.num_lr = num_lr\n",
        "      \n",
        "    \n",
        "    def generate_graph(self):\n",
        "      G = nx.DiGraph()        #Directional graph\n",
        "      edges=[]\n",
        "      G.add_node('inp')\n",
        "      G.add_node('out')\n",
        "\n",
        "      set_seed(10)\n",
        "\n",
        "      rvs_lr = loguniform.rvs(1e-6, 1e-1, size=self.num_lr)\n",
        "\n",
        "      for lr in range(self.num_lr):\n",
        "        #learning_rate = random.uniform(1e-6, 1e-1)\n",
        "        G.add_node(lr, lr=rvs_lr[lr])\n",
        "        edge = ['inp',lr,1]                     #initial weight is 1 (pheromone value)\n",
        "        edges.append(edge)\n",
        "        edge = [lr,'out',1]\n",
        "        edges.append(edge)\n",
        "     # for dr in range(self.num_dr):\n",
        "     #  dropout_rate = random.uniform(0.0, 0.9)\n",
        "     #  G.add_node(dr+self.num_lr, dr=dropout_rate)\n",
        "     #  for lr in range(self.num_lr):\n",
        "     #    edge = [lr,dr+self.num_lr,1]\n",
        "     #    edges.append(edge)\n",
        "\n",
        "     # for nfu in range(self.num_num_fc_units): \n",
        "     #  num_fc_units = random.randint(8, 256)\n",
        "     #  G.add_node(nfu+self.num_lr+self.num_dr, nfu=num_fc_units)\n",
        "     #  edge = [nfu+self.num_lr+self.num_dr,'out',1]\n",
        "     #  edges.append(edge)\n",
        "     #  for dr in range(self.num_dr):\n",
        "     #    edge = [dr+self.num_lr,(nfu+self.num_lr+self.num_dr),1]\n",
        "     #    edges.append(edge)\n",
        "\n",
        "      G.add_weighted_edges_from(edges)\n",
        "    \n",
        "      return G\n"
      ],
      "execution_count": 0,
      "outputs": []
    },
    {
      "cell_type": "code",
      "metadata": {
        "id": "avGvf4j49W-e",
        "colab_type": "code",
        "outputId": "54ee70f0-ab22-4825-ffa6-432736f22e92",
        "colab": {
          "base_uri": "https://localhost:8080/",
          "height": 318
        }
      },
      "source": [
        "Graphed = Graph(20)\n",
        "G = Graphed.generate_graph()\n",
        "nx.draw(G,with_labels=True,font_weight='bold')"
      ],
      "execution_count": 30,
      "outputs": [
        {
          "output_type": "display_data",
          "data": {
            "image/png": "[encoded data removed]",
            "text/plain": [
              "<Figure size 432x288 with 1 Axes>"
            ]
          },
          "metadata": {
            "tags": []
          }
        }
      ]
    },
    {
      "cell_type": "code",
      "metadata": {
        "id": "4Y7p2b_i0Ucx",
        "colab_type": "code",
        "outputId": "8765c8bf-5628-432b-aeec-ad1ac712fa6b",
        "colab": {
          "base_uri": "https://localhost:8080/",
          "height": 407
        }
      },
      "source": [
        "list(G.nodes.data())"
      ],
      "execution_count": 31,
      "outputs": [
        {
          "output_type": "execute_result",
          "data": {
            "text/plain": [
              "[('inp', {}),\n",
              " ('out', {}),\n",
              " (0, {'lr': 0.007187919693377487}),\n",
              " (1, {'lr': 1.2698714136216185e-06}),\n",
              " (2, {'lr': 0.00147313034159888}),\n",
              " (3, {'lr': 0.005546505049361993}),\n",
              " (4, {'lr': 0.00031083868392602}),\n",
              " (5, {'lr': 1.3304030371488219e-05}),\n",
              " (6, {'lr': 9.779447595326338e-06}),\n",
              " (7, {'lr': 0.006348243270946389}),\n",
              " (8, {'lr': 7.00735601561879e-06}),\n",
              " (9, {'lr': 2.765025054332624e-06}),\n",
              " (10, {'lr': 0.00267177014012544}),\n",
              " (11, {'lr': 0.05847452881552237}),\n",
              " (12, {'lr': 1.046505057794038e-06}),\n",
              " (13, {'lr': 0.0003638826232716773}),\n",
              " (14, {'lr': 0.011563912803570744}),\n",
              " (15, {'lr': 0.001155128593079558}),\n",
              " (16, {'lr': 0.004062342974817011}),\n",
              " (17, {'lr': 2.87991944958616e-05}),\n",
              " (18, {'lr': 0.03880347432921835}),\n",
              " (19, {'lr': 0.003740062993057816})]"
            ]
          },
          "metadata": {
            "tags": []
          },
          "execution_count": 31
        }
      ]
    },
    {
      "cell_type": "code",
      "metadata": {
        "id": "rFivMaf3SHt9",
        "colab_type": "code",
        "outputId": "0b373805-191a-42a9-a93b-303fdf79df50",
        "colab": {
          "base_uri": "https://localhost:8080/",
          "height": 727
        }
      },
      "source": [
        "list(G.edges.data())"
      ],
      "execution_count": 32,
      "outputs": [
        {
          "output_type": "execute_result",
          "data": {
            "text/plain": [
              "[('inp', 0, {'weight': 1}),\n",
              " ('inp', 1, {'weight': 1}),\n",
              " ('inp', 2, {'weight': 1}),\n",
              " ('inp', 3, {'weight': 1}),\n",
              " ('inp', 4, {'weight': 1}),\n",
              " ('inp', 5, {'weight': 1}),\n",
              " ('inp', 6, {'weight': 1}),\n",
              " ('inp', 7, {'weight': 1}),\n",
              " ('inp', 8, {'weight': 1}),\n",
              " ('inp', 9, {'weight': 1}),\n",
              " ('inp', 10, {'weight': 1}),\n",
              " ('inp', 11, {'weight': 1}),\n",
              " ('inp', 12, {'weight': 1}),\n",
              " ('inp', 13, {'weight': 1}),\n",
              " ('inp', 14, {'weight': 1}),\n",
              " ('inp', 15, {'weight': 1}),\n",
              " ('inp', 16, {'weight': 1}),\n",
              " ('inp', 17, {'weight': 1}),\n",
              " ('inp', 18, {'weight': 1}),\n",
              " ('inp', 19, {'weight': 1}),\n",
              " (0, 'out', {'weight': 1}),\n",
              " (1, 'out', {'weight': 1}),\n",
              " (2, 'out', {'weight': 1}),\n",
              " (3, 'out', {'weight': 1}),\n",
              " (4, 'out', {'weight': 1}),\n",
              " (5, 'out', {'weight': 1}),\n",
              " (6, 'out', {'weight': 1}),\n",
              " (7, 'out', {'weight': 1}),\n",
              " (8, 'out', {'weight': 1}),\n",
              " (9, 'out', {'weight': 1}),\n",
              " (10, 'out', {'weight': 1}),\n",
              " (11, 'out', {'weight': 1}),\n",
              " (12, 'out', {'weight': 1}),\n",
              " (13, 'out', {'weight': 1}),\n",
              " (14, 'out', {'weight': 1}),\n",
              " (15, 'out', {'weight': 1}),\n",
              " (16, 'out', {'weight': 1}),\n",
              " (17, 'out', {'weight': 1}),\n",
              " (18, 'out', {'weight': 1}),\n",
              " (19, 'out', {'weight': 1})]"
            ]
          },
          "metadata": {
            "tags": []
          },
          "execution_count": 32
        }
      ]
    },
    {
      "cell_type": "code",
      "metadata": {
        "id": "d7MzHbSbs6XZ",
        "colab_type": "code",
        "colab": {}
      },
      "source": [
        "class ACO:\n",
        "\n",
        "    def __init__(self, num_ants, Graph):\n",
        "         self.num_ants = num_ants\n",
        "         self.G = Graph\n",
        "\n",
        "    def generate_ants(self): \n",
        "         best_path = []\n",
        "         best_loss = math.inf\n",
        "\n",
        "         paths = []\n",
        "         for i in range(self.num_ants):\n",
        "             unset_seed()         #remove seed, while finding aco path\n",
        "             path = self.select_aco_path()\n",
        "             self.local_pheromone_update(path)\n",
        "             print(path)\n",
        "             paths.append(path)\n",
        "             result = self.evaluation(path) \n",
        "             if (result['loss'] < best_loss):\n",
        "              best_path = path\n",
        "              best_loss = result['loss']\n",
        "\n",
        "         print(\"Group of ants have traversed\")\n",
        "         print(paths)\n",
        "         self.global_pheromone_update(paths,best_path,best_loss)\n",
        "\n",
        "         result = {\n",
        "             \"best_path\": best_path,\n",
        "             \"best_loss\": best_loss\n",
        "         }\n",
        "         return result\n",
        "\n",
        "\n",
        "    def select_aco_path(self):\n",
        "        \"\"\"Selects ant path from source to destination based on ACO select rule\"\"\"\n",
        "        ant_path = []\n",
        "        current_node = 'inp' \n",
        "        ant_path.append(current_node)\n",
        "        next_node = 'inp'\n",
        "\n",
        "        while(next_node!='out'):\n",
        "         next_node = self.aco_select_rule(current_node)\n",
        "         current_node = next_node\n",
        "         ant_path.append(next_node)\n",
        "        \n",
        "        return ant_path    \n",
        "\n",
        "    def aco_select_rule(self, current_node):\n",
        "        \"\"\"Selects neigbour using ACO transition rule\"\"\"\n",
        "        \n",
        "\n",
        "        probabilities = []\n",
        "        denominator = 0.0\n",
        "        greediness = 0.5\n",
        "        neighbours = list(G.successors(current_node))\n",
        "        # Calculate probability for each neighbour    (heuristics are not considered)\n",
        "        for i in range(len(neighbours)):\n",
        "            probability = self.G[current_node][neighbours[i]]['weight']    #pheromone value\n",
        "            probabilities.append(probability)\n",
        "            denominator += probability\n",
        "\n",
        "        # Try to perform greedy select: exploitation\n",
        "        random_variable = random.uniform(0, 1)\n",
        "        if random_variable <= greediness:\n",
        "            # Find max probability\n",
        "            max_probability = max(probabilities)\n",
        "            # Gather the indices of probabilities that are equal to the max probability\n",
        "            max_indices = [i for i, j in enumerate(probabilities) if j == max_probability]\n",
        "            # From those max indices select random index\n",
        "            neighbour_index = random.choice(max_indices)\n",
        "            return neighbours[neighbour_index]\n",
        "\n",
        "        # Otherwise perform select using roulette wheel: exploration\n",
        "        probabilities = [x / denominator for x in probabilities]\n",
        "        probability_sum = sum(probabilities)\n",
        "        random_threshold = random.uniform(0, probability_sum)\n",
        "        current_value = 0\n",
        "        for neighbour_index, probability in enumerate(probabilities):\n",
        "            current_value += probability\n",
        "            if current_value > random_threshold:\n",
        "                return neighbours[neighbour_index]\n",
        "\n",
        "    def local_pheromone_update(self,path):      \n",
        "        pheromone_0 = 0.1\n",
        "        decay = 0.1\n",
        "        for i in range(len(path)-1):\n",
        "          self.G[path[i]][path[i+1]]['weight'] = (1 - decay) * self.G[path[i]][path[i+1]]['weight'] + (decay * pheromone_0)\n",
        "    \n",
        "    def global_pheromone_update(self, paths, best_path, best_loss):\n",
        "        evaporation = 0.1\n",
        "        added_pheromone = 1 - best_loss    #best_accuracy\n",
        "        for i in range(self.num_ants):\n",
        "          if(best_path != paths[i]):\n",
        "             for k in range(len(paths[i])-1):\n",
        "               self.G[paths[i][k]][paths[i][k+1]]['weight'] = (1 - evaporation) * self.G[paths[i][k]][paths[i][k+1]]['weight']\n",
        "\n",
        "        for i in range(len(best_path)-1):     #deposit pheromone for the best path only\n",
        "          self.G[best_path[i]][best_path[i+1]]['weight'] = (1 - evaporation) * self.G[best_path[i]][best_path[i+1]]['weight'] + (evaporation * added_pheromone)\n",
        "\n",
        "    def evaluation(self,path):\n",
        "       lr = G.nodes[path[1]]['lr']\n",
        "       config = {\n",
        "           'lr': lr,\n",
        "           'optimizer': 'Adam'\n",
        "       }\n",
        "       print(config)\n",
        "       worker = PyTorchWorker(run_id='0')\n",
        "       res = worker.compute(config=config, budget=10, working_directory='.')\n",
        "       print(res)\n",
        "       return res"
      ],
      "execution_count": 0,
      "outputs": []
    },
    {
      "cell_type": "code",
      "metadata": {
        "id": "C9bemEB2v0LG",
        "colab_type": "code",
        "outputId": "acad5052-73c9-41b2-b944-44c2ae96b502",
        "colab": {
          "base_uri": "https://localhost:8080/",
          "height": 623
        }
      },
      "source": [
        "num_of_ants = 10\n",
        "acs=ACO(num_of_ants,G)\n",
        "\n",
        "result_first_group = acs.generate_ants()\n",
        "print(result_first_group)"
      ],
      "execution_count": 34,
      "outputs": [
        {
          "output_type": "stream",
          "text": [
            "['inp', 2, 'out']\n",
            "{'lr': 0.00147313034159888, 'optimizer': 'Adam'}\n",
            "{'loss': 0.029296875, 'info': {'test accuracy': 0.9699, 'train accuracy': 0.990478515625, 'validation accuracy': 0.970703125, 'number of parameters': 61706}}\n",
            "['inp', 2, 'out']\n",
            "{'lr': 0.00147313034159888, 'optimizer': 'Adam'}\n",
            "{'loss': 0.029296875, 'info': {'test accuracy': 0.9699, 'train accuracy': 0.990478515625, 'validation accuracy': 0.970703125, 'number of parameters': 61706}}\n",
            "['inp', 12, 'out']\n",
            "{'lr': 1.046505057794038e-06, 'optimizer': 'Adam'}\n",
            "{'loss': 0.806640625, 'info': {'test accuracy': 0.1626, 'train accuracy': 0.1767578125, 'validation accuracy': 0.193359375, 'number of parameters': 61706}}\n",
            "['inp', 15, 'out']\n",
            "{'lr': 0.001155128593079558, 'optimizer': 'Adam'}\n",
            "{'loss': 0.033203125, 'info': {'test accuracy': 0.9705, 'train accuracy': 0.982666015625, 'validation accuracy': 0.966796875, 'number of parameters': 61706}}\n",
            "['inp', 6, 'out']\n",
            "{'lr': 9.779447595326338e-06, 'optimizer': 'Adam'}\n",
            "{'loss': 0.404296875, 'info': {'test accuracy': 0.5878, 'train accuracy': 0.5897216796875, 'validation accuracy': 0.595703125, 'number of parameters': 61706}}\n",
            "['inp', 4, 'out']\n",
            "{'lr': 0.00031083868392602, 'optimizer': 'Adam'}\n",
            "{'loss': 0.04296875, 'info': {'test accuracy': 0.9573, 'train accuracy': 0.9642333984375, 'validation accuracy': 0.95703125, 'number of parameters': 61706}}\n",
            "['inp', 9, 'out']\n",
            "{'lr': 2.765025054332624e-06, 'optimizer': 'Adam'}\n",
            "{'loss': 0.6494140625, 'info': {'test accuracy': 0.3146, 'train accuracy': 0.32861328125, 'validation accuracy': 0.3505859375, 'number of parameters': 61706}}\n",
            "['inp', 17, 'out']\n",
            "{'lr': 2.87991944958616e-05, 'optimizer': 'Adam'}\n",
            "{'loss': 0.169921875, 'info': {'test accuracy': 0.8427, 'train accuracy': 0.838623046875, 'validation accuracy': 0.830078125, 'number of parameters': 61706}}\n",
            "['inp', 2, 'out']\n",
            "{'lr': 0.00147313034159888, 'optimizer': 'Adam'}\n",
            "{'loss': 0.029296875, 'info': {'test accuracy': 0.9699, 'train accuracy': 0.990478515625, 'validation accuracy': 0.970703125, 'number of parameters': 61706}}\n",
            "['inp', 1, 'out']\n",
            "{'lr': 1.2698714136216185e-06, 'optimizer': 'Adam'}\n",
            "{'loss': 0.794921875, 'info': {'test accuracy': 0.1745, 'train accuracy': 0.1885986328125, 'validation accuracy': 0.205078125, 'number of parameters': 61706}}\n",
            "Group of ants have traversed\n",
            "[['inp', 2, 'out'], ['inp', 2, 'out'], ['inp', 12, 'out'], ['inp', 15, 'out'], ['inp', 6, 'out'], ['inp', 4, 'out'], ['inp', 9, 'out'], ['inp', 17, 'out'], ['inp', 2, 'out'], ['inp', 1, 'out']]\n",
            "{'best_path': ['inp', 2, 'out'], 'best_loss': 0.029296875}\n"
          ],
          "name": "stdout"
        }
      ]
    },
    {
      "cell_type": "code",
      "metadata": {
        "id": "F5dY41vPINTx",
        "colab_type": "code",
        "outputId": "ce029b56-7671-4679-e14d-afab99721a75",
        "colab": {
          "base_uri": "https://localhost:8080/",
          "height": 727
        }
      },
      "source": [
        "list(G.edges.data())"
      ],
      "execution_count": 35,
      "outputs": [
        {
          "output_type": "execute_result",
          "data": {
            "text/plain": [
              "[('inp', 0, {'weight': 1}),\n",
              " ('inp', 1, {'weight': 0.8190000000000001}),\n",
              " ('inp', 2, {'weight': 0.7775603125000001}),\n",
              " ('inp', 3, {'weight': 1}),\n",
              " ('inp', 4, {'weight': 0.8190000000000001}),\n",
              " ('inp', 5, {'weight': 1}),\n",
              " ('inp', 6, {'weight': 0.8190000000000001}),\n",
              " ('inp', 7, {'weight': 1}),\n",
              " ('inp', 8, {'weight': 1}),\n",
              " ('inp', 9, {'weight': 0.8190000000000001}),\n",
              " ('inp', 10, {'weight': 1}),\n",
              " ('inp', 11, {'weight': 1}),\n",
              " ('inp', 12, {'weight': 0.8190000000000001}),\n",
              " ('inp', 13, {'weight': 1}),\n",
              " ('inp', 14, {'weight': 1}),\n",
              " ('inp', 15, {'weight': 0.8190000000000001}),\n",
              " ('inp', 16, {'weight': 1}),\n",
              " ('inp', 17, {'weight': 0.8190000000000001}),\n",
              " ('inp', 18, {'weight': 1}),\n",
              " ('inp', 19, {'weight': 1}),\n",
              " (0, 'out', {'weight': 1}),\n",
              " (1, 'out', {'weight': 0.8190000000000001}),\n",
              " (2, 'out', {'weight': 0.7775603125000001}),\n",
              " (3, 'out', {'weight': 1}),\n",
              " (4, 'out', {'weight': 0.8190000000000001}),\n",
              " (5, 'out', {'weight': 1}),\n",
              " (6, 'out', {'weight': 0.8190000000000001}),\n",
              " (7, 'out', {'weight': 1}),\n",
              " (8, 'out', {'weight': 1}),\n",
              " (9, 'out', {'weight': 0.8190000000000001}),\n",
              " (10, 'out', {'weight': 1}),\n",
              " (11, 'out', {'weight': 1}),\n",
              " (12, 'out', {'weight': 0.8190000000000001}),\n",
              " (13, 'out', {'weight': 1}),\n",
              " (14, 'out', {'weight': 1}),\n",
              " (15, 'out', {'weight': 0.8190000000000001}),\n",
              " (16, 'out', {'weight': 1}),\n",
              " (17, 'out', {'weight': 0.8190000000000001}),\n",
              " (18, 'out', {'weight': 1}),\n",
              " (19, 'out', {'weight': 1})]"
            ]
          },
          "metadata": {
            "tags": []
          },
          "execution_count": 35
        }
      ]
    },
    {
      "cell_type": "code",
      "metadata": {
        "id": "6MjUIWmq2unF",
        "colab_type": "code",
        "outputId": "6bc4c177-59f4-40b9-e4de-8d59aa85ca3a",
        "colab": {
          "base_uri": "https://localhost:8080/",
          "height": 623
        }
      },
      "source": [
        "result_second_group = acs.generate_ants()\n",
        "print(result_second_group)"
      ],
      "execution_count": 36,
      "outputs": [
        {
          "output_type": "stream",
          "text": [
            "['inp', 18, 'out']\n",
            "{'lr': 0.03880347432921835, 'optimizer': 'Adam'}\n",
            "{'loss': 0.8916015625, 'info': {'test accuracy': 0.0958, 'train accuracy': 0.1005859375, 'validation accuracy': 0.1083984375, 'number of parameters': 61706}}\n",
            "['inp', 13, 'out']\n",
            "{'lr': 0.0003638826232716773, 'optimizer': 'Adam'}\n",
            "{'loss': 0.0400390625, 'info': {'test accuracy': 0.9618, 'train accuracy': 0.9683837890625, 'validation accuracy': 0.9599609375, 'number of parameters': 61706}}\n",
            "['inp', 13, 'out']\n",
            "{'lr': 0.0003638826232716773, 'optimizer': 'Adam'}\n",
            "{'loss': 0.0400390625, 'info': {'test accuracy': 0.9618, 'train accuracy': 0.9683837890625, 'validation accuracy': 0.9599609375, 'number of parameters': 61706}}\n",
            "['inp', 5, 'out']\n",
            "{'lr': 1.3304030371488219e-05, 'optimizer': 'Adam'}\n",
            "{'loss': 0.3046875, 'info': {'test accuracy': 0.692, 'train accuracy': 0.6962890625, 'validation accuracy': 0.6953125, 'number of parameters': 61706}}\n",
            "['inp', 5, 'out']\n",
            "{'lr': 1.3304030371488219e-05, 'optimizer': 'Adam'}\n",
            "{'loss': 0.3046875, 'info': {'test accuracy': 0.692, 'train accuracy': 0.6962890625, 'validation accuracy': 0.6953125, 'number of parameters': 61706}}\n",
            "['inp', 8, 'out']\n",
            "{'lr': 7.00735601561879e-06, 'optimizer': 'Adam'}\n",
            "{'loss': 0.453125, 'info': {'test accuracy': 0.5503, 'train accuracy': 0.5399169921875, 'validation accuracy': 0.546875, 'number of parameters': 61706}}\n",
            "['inp', 17, 'out']\n",
            "{'lr': 2.87991944958616e-05, 'optimizer': 'Adam'}\n",
            "{'loss': 0.169921875, 'info': {'test accuracy': 0.8427, 'train accuracy': 0.838623046875, 'validation accuracy': 0.830078125, 'number of parameters': 61706}}\n",
            "['inp', 9, 'out']\n",
            "{'lr': 2.765025054332624e-06, 'optimizer': 'Adam'}\n",
            "{'loss': 0.6494140625, 'info': {'test accuracy': 0.3146, 'train accuracy': 0.32861328125, 'validation accuracy': 0.3505859375, 'number of parameters': 61706}}\n",
            "['inp', 5, 'out']\n",
            "{'lr': 1.3304030371488219e-05, 'optimizer': 'Adam'}\n",
            "{'loss': 0.3046875, 'info': {'test accuracy': 0.692, 'train accuracy': 0.6962890625, 'validation accuracy': 0.6953125, 'number of parameters': 61706}}\n",
            "['inp', 3, 'out']\n",
            "{'lr': 0.005546505049361993, 'optimizer': 'Adam'}\n",
            "{'loss': 0.025390625, 'info': {'test accuracy': 0.975, 'train accuracy': 0.9920654296875, 'validation accuracy': 0.974609375, 'number of parameters': 61706}}\n",
            "Group of ants have traversed\n",
            "[['inp', 18, 'out'], ['inp', 13, 'out'], ['inp', 13, 'out'], ['inp', 5, 'out'], ['inp', 5, 'out'], ['inp', 8, 'out'], ['inp', 17, 'out'], ['inp', 9, 'out'], ['inp', 5, 'out'], ['inp', 3, 'out']]\n",
            "{'best_path': ['inp', 3, 'out'], 'best_loss': 0.025390625}\n"
          ],
          "name": "stdout"
        }
      ]
    },
    {
      "cell_type": "code",
      "metadata": {
        "id": "yrD7N3enxbNR",
        "colab_type": "code",
        "outputId": "5129c901-c728-48d7-db8a-d41a39c6d153",
        "colab": {
          "base_uri": "https://localhost:8080/",
          "height": 727
        }
      },
      "source": [
        "list(G.edges.data())"
      ],
      "execution_count": 37,
      "outputs": [
        {
          "output_type": "execute_result",
          "data": {
            "text/plain": [
              "[('inp', 0, {'weight': 1}),\n",
              " ('inp', 1, {'weight': 0.8190000000000001}),\n",
              " ('inp', 2, {'weight': 0.7775603125000001}),\n",
              " ('inp', 3, {'weight': 0.9164609375000001}),\n",
              " ('inp', 4, {'weight': 0.8190000000000001}),\n",
              " ('inp', 5, {'weight': 0.5511969000000001}),\n",
              " ('inp', 6, {'weight': 0.8190000000000001}),\n",
              " ('inp', 7, {'weight': 1}),\n",
              " ('inp', 8, {'weight': 0.8190000000000001}),\n",
              " ('inp', 9, {'weight': 0.6723900000000002}),\n",
              " ('inp', 10, {'weight': 1}),\n",
              " ('inp', 11, {'weight': 1}),\n",
              " ('inp', 12, {'weight': 0.8190000000000001}),\n",
              " ('inp', 13, {'weight': 0.6714900000000001}),\n",
              " ('inp', 14, {'weight': 1}),\n",
              " ('inp', 15, {'weight': 0.8190000000000001}),\n",
              " ('inp', 16, {'weight': 1}),\n",
              " ('inp', 17, {'weight': 0.6723900000000002}),\n",
              " ('inp', 18, {'weight': 0.8190000000000001}),\n",
              " ('inp', 19, {'weight': 1}),\n",
              " (0, 'out', {'weight': 1}),\n",
              " (1, 'out', {'weight': 0.8190000000000001}),\n",
              " (2, 'out', {'weight': 0.7775603125000001}),\n",
              " (3, 'out', {'weight': 0.9164609375000001}),\n",
              " (4, 'out', {'weight': 0.8190000000000001}),\n",
              " (5, 'out', {'weight': 0.5511969000000001}),\n",
              " (6, 'out', {'weight': 0.8190000000000001}),\n",
              " (7, 'out', {'weight': 1}),\n",
              " (8, 'out', {'weight': 0.8190000000000001}),\n",
              " (9, 'out', {'weight': 0.6723900000000002}),\n",
              " (10, 'out', {'weight': 1}),\n",
              " (11, 'out', {'weight': 1}),\n",
              " (12, 'out', {'weight': 0.8190000000000001}),\n",
              " (13, 'out', {'weight': 0.6714900000000001}),\n",
              " (14, 'out', {'weight': 1}),\n",
              " (15, 'out', {'weight': 0.8190000000000001}),\n",
              " (16, 'out', {'weight': 1}),\n",
              " (17, 'out', {'weight': 0.6723900000000002}),\n",
              " (18, 'out', {'weight': 0.8190000000000001}),\n",
              " (19, 'out', {'weight': 1})]"
            ]
          },
          "metadata": {
            "tags": []
          },
          "execution_count": 37
        }
      ]
    },
    {
      "cell_type": "code",
      "metadata": {
        "id": "fWUKVZ-c3FYh",
        "colab_type": "code",
        "outputId": "d80954e7-e76d-4cfa-d3ff-d07977d61ad4",
        "colab": {
          "base_uri": "https://localhost:8080/",
          "height": 623
        }
      },
      "source": [
        "result_third_group = acs.generate_ants()\n",
        "print(result_third_group)"
      ],
      "execution_count": 38,
      "outputs": [
        {
          "output_type": "stream",
          "text": [
            "['inp', 9, 'out']\n",
            "{'lr': 2.765025054332624e-06, 'optimizer': 'Adam'}\n",
            "{'loss': 0.6494140625, 'info': {'test accuracy': 0.3146, 'train accuracy': 0.32861328125, 'validation accuracy': 0.3505859375, 'number of parameters': 61706}}\n",
            "['inp', 14, 'out']\n",
            "{'lr': 0.011563912803570744, 'optimizer': 'Adam'}\n",
            "{'loss': 0.03125, 'info': {'test accuracy': 0.957, 'train accuracy': 0.98388671875, 'validation accuracy': 0.96875, 'number of parameters': 61706}}\n",
            "['inp', 7, 'out']\n",
            "{'lr': 0.006348243270946389, 'optimizer': 'Adam'}\n",
            "{'loss': 0.0263671875, 'info': {'test accuracy': 0.9724, 'train accuracy': 0.992919921875, 'validation accuracy': 0.9736328125, 'number of parameters': 61706}}\n",
            "['inp', 11, 'out']\n",
            "{'lr': 0.05847452881552237, 'optimizer': 'Adam'}\n",
            "{'loss': 0.8916015625, 'info': {'test accuracy': 0.0958, 'train accuracy': 0.1005859375, 'validation accuracy': 0.1083984375, 'number of parameters': 61706}}\n",
            "['inp', 11, 'out']\n",
            "{'lr': 0.05847452881552237, 'optimizer': 'Adam'}\n",
            "{'loss': 0.8916015625, 'info': {'test accuracy': 0.0958, 'train accuracy': 0.1005859375, 'validation accuracy': 0.1083984375, 'number of parameters': 61706}}\n",
            "['inp', 0, 'out']\n",
            "{'lr': 0.007187919693377487, 'optimizer': 'Adam'}\n",
            "{'loss': 0.0341796875, 'info': {'test accuracy': 0.9706, 'train accuracy': 0.9912109375, 'validation accuracy': 0.9658203125, 'number of parameters': 61706}}\n",
            "['inp', 2, 'out']\n",
            "{'lr': 0.00147313034159888, 'optimizer': 'Adam'}\n",
            "{'loss': 0.029296875, 'info': {'test accuracy': 0.9699, 'train accuracy': 0.990478515625, 'validation accuracy': 0.970703125, 'number of parameters': 61706}}\n",
            "['inp', 16, 'out']\n",
            "{'lr': 0.004062342974817011, 'optimizer': 'Adam'}\n",
            "{'loss': 0.0205078125, 'info': {'test accuracy': 0.9742, 'train accuracy': 0.99609375, 'validation accuracy': 0.9794921875, 'number of parameters': 61706}}\n",
            "['inp', 1, 'out']\n",
            "{'lr': 1.2698714136216185e-06, 'optimizer': 'Adam'}\n",
            "{'loss': 0.794921875, 'info': {'test accuracy': 0.1745, 'train accuracy': 0.1885986328125, 'validation accuracy': 0.205078125, 'number of parameters': 61706}}\n",
            "['inp', 10, 'out']\n",
            "{'lr': 0.00267177014012544, 'optimizer': 'Adam'}\n",
            "{'loss': 0.03125, 'info': {'test accuracy': 0.9723, 'train accuracy': 0.98828125, 'validation accuracy': 0.96875, 'number of parameters': 61706}}\n",
            "Group of ants have traversed\n",
            "[['inp', 9, 'out'], ['inp', 14, 'out'], ['inp', 7, 'out'], ['inp', 11, 'out'], ['inp', 11, 'out'], ['inp', 0, 'out'], ['inp', 2, 'out'], ['inp', 16, 'out'], ['inp', 1, 'out'], ['inp', 10, 'out']]\n",
            "{'best_path': ['inp', 16, 'out'], 'best_loss': 0.0205078125}\n"
          ],
          "name": "stdout"
        }
      ]
    },
    {
      "cell_type": "code",
      "metadata": {
        "id": "XfV7JZt-3Rn-",
        "colab_type": "code",
        "outputId": "44df7124-f1f6-438c-ee39-758cbe95ac81",
        "colab": {
          "base_uri": "https://localhost:8080/",
          "height": 727
        }
      },
      "source": [
        "list(G.edges.data())"
      ],
      "execution_count": 39,
      "outputs": [
        {
          "output_type": "execute_result",
          "data": {
            "text/plain": [
              "[('inp', 0, {'weight': 0.8190000000000001}),\n",
              " ('inp', 1, {'weight': 0.6723900000000002}),\n",
              " ('inp', 2, {'weight': 0.6388238531250001}),\n",
              " ('inp', 3, {'weight': 0.9164609375000001}),\n",
              " ('inp', 4, {'weight': 0.8190000000000001}),\n",
              " ('inp', 5, {'weight': 0.5511969000000001}),\n",
              " ('inp', 6, {'weight': 0.8190000000000001}),\n",
              " ('inp', 7, {'weight': 0.8190000000000001}),\n",
              " ('inp', 8, {'weight': 0.8190000000000001}),\n",
              " ('inp', 9, {'weight': 0.5536359000000001}),\n",
              " ('inp', 10, {'weight': 0.8190000000000001}),\n",
              " ('inp', 11, {'weight': 0.6714900000000001}),\n",
              " ('inp', 12, {'weight': 0.8190000000000001}),\n",
              " ('inp', 13, {'weight': 0.6714900000000001}),\n",
              " ('inp', 14, {'weight': 0.8190000000000001}),\n",
              " ('inp', 15, {'weight': 0.8190000000000001}),\n",
              " ('inp', 16, {'weight': 0.9169492187500001}),\n",
              " ('inp', 17, {'weight': 0.6723900000000002}),\n",
              " ('inp', 18, {'weight': 0.8190000000000001}),\n",
              " ('inp', 19, {'weight': 1}),\n",
              " (0, 'out', {'weight': 0.8190000000000001}),\n",
              " (1, 'out', {'weight': 0.6723900000000002}),\n",
              " (2, 'out', {'weight': 0.6388238531250001}),\n",
              " (3, 'out', {'weight': 0.9164609375000001}),\n",
              " (4, 'out', {'weight': 0.8190000000000001}),\n",
              " (5, 'out', {'weight': 0.5511969000000001}),\n",
              " (6, 'out', {'weight': 0.8190000000000001}),\n",
              " (7, 'out', {'weight': 0.8190000000000001}),\n",
              " (8, 'out', {'weight': 0.8190000000000001}),\n",
              " (9, 'out', {'weight': 0.5536359000000001}),\n",
              " (10, 'out', {'weight': 0.8190000000000001}),\n",
              " (11, 'out', {'weight': 0.6714900000000001}),\n",
              " (12, 'out', {'weight': 0.8190000000000001}),\n",
              " (13, 'out', {'weight': 0.6714900000000001}),\n",
              " (14, 'out', {'weight': 0.8190000000000001}),\n",
              " (15, 'out', {'weight': 0.8190000000000001}),\n",
              " (16, 'out', {'weight': 0.9169492187500001}),\n",
              " (17, 'out', {'weight': 0.6723900000000002}),\n",
              " (18, 'out', {'weight': 0.8190000000000001}),\n",
              " (19, 'out', {'weight': 1})]"
            ]
          },
          "metadata": {
            "tags": []
          },
          "execution_count": 39
        }
      ]
    },
    {
      "cell_type": "code",
      "metadata": {
        "id": "x4XZbpKV4sUb",
        "colab_type": "code",
        "outputId": "11949861-0c44-49d4-ce92-d615470337fc",
        "colab": {
          "base_uri": "https://localhost:8080/",
          "height": 70
        }
      },
      "source": [
        "print(result_first_group)\n",
        "print(result_second_group)\n",
        "print(result_third_group)"
      ],
      "execution_count": 40,
      "outputs": [
        {
          "output_type": "stream",
          "text": [
            "{'best_path': ['inp', 2, 'out'], 'best_loss': 0.029296875}\n",
            "{'best_path': ['inp', 3, 'out'], 'best_loss': 0.025390625}\n",
            "{'best_path': ['inp', 16, 'out'], 'best_loss': 0.0205078125}\n"
          ],
          "name": "stdout"
        }
      ]
    },
    {
      "cell_type": "code",
      "metadata": {
        "id": "artcKEhwnOra",
        "colab_type": "code",
        "colab": {
          "base_uri": "https://localhost:8080/",
          "height": 123
        },
        "outputId": "80b63dc1-adec-46cf-d119-3408d9343503"
      },
      "source": [
        "for key, value in result_first_group.items():\n",
        " if key == 'best_loss':\n",
        "   min_best_loss = min(value,result_second_group[key],result_third_group[key])\n",
        "\n",
        "if(result_first_group['best_loss']==min_best_loss):\n",
        "   overall_best_path = result_first_group['best_path']\n",
        "\n",
        "elif(result_second_group['best_loss']==min_best_loss):\n",
        "   overall_best_path = result_second_group['best_path']   \n",
        "\n",
        "elif(result_third_group['best_loss']==min_best_loss):\n",
        "   overall_best_path = result_third_group['best_path']   \n",
        "\n",
        "print(\"Best path among the groups\")\n",
        "print(overall_best_path)\n",
        "print(\"Best Learning rate\")\n",
        "print(G.nodes[overall_best_path[1]]['lr'])\n",
        "print(\"Best validation Accuracy\")\n",
        "print(1-min_best_loss)"
      ],
      "execution_count": 41,
      "outputs": [
        {
          "output_type": "stream",
          "text": [
            "Best path among the groups\n",
            "['inp', 16, 'out']\n",
            "Best Learning rate\n",
            "0.004062342974817011\n",
            "Best validation Accuracy\n",
            "0.9794921875\n"
          ],
          "name": "stdout"
        }
      ]
    }
  ]
}